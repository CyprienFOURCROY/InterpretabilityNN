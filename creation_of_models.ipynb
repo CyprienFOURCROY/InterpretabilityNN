{
 "cells": [
  {
   "cell_type": "code",
   "execution_count": 1,
   "metadata": {},
   "outputs": [],
   "source": [
    "from models import LeNet5"
   ]
  },
  {
   "cell_type": "code",
   "execution_count": null,
   "metadata": {},
   "outputs": [],
   "source": [
    "import torch\n",
    "import random\n",
    "import numpy as np\n",
    "from scripts import MNISTCSV\n",
    "from torch.utils.data import DataLoader\n",
    "\n",
    "seed = 42\n",
    "torch.manual_seed(seed)\n",
    "random.seed(seed)\n",
    "np.random.seed(seed)\n",
    "\n",
    "\n",
    "if torch.cuda.is_available():\n",
    "    torch.cuda.manual_seed(seed)\n",
    "    torch.cuda.manual_seed_all(seed) \n",
    "\n",
    "batch_size = 64\n",
    "\n",
    "train_csv_path = \"data/MNIST/mnist_train.csv\"\n",
    "test_csv_path = \"data/MNIST/mnist_test.csv\"\n",
    "\n",
    "train_dataset = MNISTCSV(train_csv_path)\n",
    "test_dataset = MNISTCSV(test_csv_path)\n",
    "\n",
    "train_loader = DataLoader(train_dataset, batch_size=batch_size, shuffle=True)\n",
    "test_loader = DataLoader(test_dataset, batch_size=batch_size, shuffle=False)"
   ]
  },
  {
   "cell_type": "code",
   "execution_count": 3,
   "metadata": {},
   "outputs": [
    {
     "name": "stdout",
     "output_type": "stream",
     "text": [
      "torch.Size([64, 1, 28, 28])\n"
     ]
    }
   ],
   "source": [
    "for batch in train_loader :\n",
    "    print(batch[0].shape)\n",
    "    break"
   ]
  },
  {
   "cell_type": "code",
   "execution_count": 4,
   "metadata": {},
   "outputs": [
    {
     "name": "stdout",
     "output_type": "stream",
     "text": [
      "Min pixel value: 0.0, Max pixel value: 1.0\n"
     ]
    }
   ],
   "source": [
    "for batch in train_loader:\n",
    "    print(f\"Min pixel value: {batch[0].min()}, Max pixel value: {batch[0].max()}\")\n",
    "    break"
   ]
  },
  {
   "cell_type": "code",
   "execution_count": 5,
   "metadata": {},
   "outputs": [],
   "source": [
    "model = LeNet5()"
   ]
  },
  {
   "cell_type": "code",
   "execution_count": null,
   "metadata": {},
   "outputs": [
    {
     "name": "stdout",
     "output_type": "stream",
     "text": [
      "Nombre total de combinaisons : 200\n",
      "Combinaison 1 : {'optimizer': <class 'torch.optim.sgd.SGD'>, 'lr': 5.5, 'epochs': 1}\n",
      "Combinaison 2 : {'optimizer': <class 'torch.optim.sgd.SGD'>, 'lr': 5.49, 'epochs': 1}\n",
      "Combinaison 3 : {'optimizer': <class 'torch.optim.sgd.SGD'>, 'lr': 5.48, 'epochs': 1}\n",
      "Combinaison 4 : {'optimizer': <class 'torch.optim.sgd.SGD'>, 'lr': 5.47, 'epochs': 1}\n",
      "Combinaison 5 : {'optimizer': <class 'torch.optim.sgd.SGD'>, 'lr': 5.46, 'epochs': 1}\n",
      "Combinaison 6 : {'optimizer': <class 'torch.optim.sgd.SGD'>, 'lr': 5.45, 'epochs': 1}\n",
      "Combinaison 7 : {'optimizer': <class 'torch.optim.sgd.SGD'>, 'lr': 5.44, 'epochs': 1}\n",
      "Combinaison 8 : {'optimizer': <class 'torch.optim.sgd.SGD'>, 'lr': 5.43, 'epochs': 1}\n",
      "Combinaison 9 : {'optimizer': <class 'torch.optim.sgd.SGD'>, 'lr': 5.42, 'epochs': 1}\n",
      "Combinaison 10 : {'optimizer': <class 'torch.optim.sgd.SGD'>, 'lr': 5.41, 'epochs': 1}\n",
      "Combinaison 11 : {'optimizer': <class 'torch.optim.sgd.SGD'>, 'lr': 5.4, 'epochs': 1}\n",
      "Combinaison 12 : {'optimizer': <class 'torch.optim.sgd.SGD'>, 'lr': 5.39, 'epochs': 1}\n",
      "Combinaison 13 : {'optimizer': <class 'torch.optim.sgd.SGD'>, 'lr': 5.38, 'epochs': 1}\n",
      "Combinaison 14 : {'optimizer': <class 'torch.optim.sgd.SGD'>, 'lr': 5.37, 'epochs': 1}\n",
      "Combinaison 15 : {'optimizer': <class 'torch.optim.sgd.SGD'>, 'lr': 5.36, 'epochs': 1}\n"
     ]
    }
   ],
   "source": [
    "import torch.optim as optim\n",
    "import itertools\n",
    "\n",
    "optimizers = [optim.SGD]\n",
    "\n",
    "\n",
    "lr_ranges = [\n",
    "    [round(x/100, 100) for x in list(range(550,450, -1))],\n",
    "     # 0.5, 0.45, ..., 0.15\n",
    "]\n",
    "lrs = list(itertools.chain(*lr_ranges))  \n",
    "\n",
    "\n",
    "epochs = [1, 2]\n",
    "\n",
    "\n",
    "hyperparameters = [\n",
    "    {\"optimizer\": opt, \"lr\": lr, \"epochs\": ep}\n",
    "    for ep in epochs\n",
    "    for lr in lrs\n",
    "    for opt in optimizers\n",
    "]\n",
    "\n",
    "\n",
    "print(f\"Nombre total de combinaisons : {len(hyperparameters)}\")\n",
    "for i, hp in enumerate(hyperparameters[:15]):  \n",
    "    print(f\"Combinaison {i + 1} : {hp}\")"
   ]
  },
  {
   "cell_type": "code",
   "execution_count": 25,
   "metadata": {},
   "outputs": [
    {
     "name": "stdout",
     "output_type": "stream",
     "text": [
      "\n",
      "--- Training Model 1 ---\n",
      "\n",
      "params :  {'optimizer': <class 'torch.optim.sgd.SGD'>, 'lr': 5.5, 'epochs': 1}\n",
      "Epoch 1/1, Loss: 1.9265892987947728\n",
      "Model saved to models\\saved_models\\model_f98a7d95-290a-4020-95dd-6d5f089d523c.pth\n",
      "Metadata saved to models\\saved_models_metadata\\metadata_f98a7d95-290a-4020-95dd-6d5f089d523c.json\n",
      "\n",
      "--- Training Model 2 ---\n",
      "\n",
      "params :  {'optimizer': <class 'torch.optim.sgd.SGD'>, 'lr': 5.49, 'epochs': 1}\n",
      "Epoch 1/1, Loss: 2.2155249328501445\n",
      "Model saved to models\\saved_models\\model_ede26001-c15d-44b5-a58a-7d63e5fb0f97.pth\n",
      "Metadata saved to models\\saved_models_metadata\\metadata_ede26001-c15d-44b5-a58a-7d63e5fb0f97.json\n",
      "\n",
      "--- Training Model 3 ---\n",
      "\n",
      "params :  {'optimizer': <class 'torch.optim.sgd.SGD'>, 'lr': 5.48, 'epochs': 1}\n",
      "Epoch 1/1, Loss: 1.798635933063686\n",
      "Model saved to models\\saved_models\\model_8a44e29b-4023-46eb-9d01-7c89f8a3c684.pth\n",
      "Metadata saved to models\\saved_models_metadata\\metadata_8a44e29b-4023-46eb-9d01-7c89f8a3c684.json\n",
      "\n",
      "--- Training Model 4 ---\n",
      "\n",
      "params :  {'optimizer': <class 'torch.optim.sgd.SGD'>, 'lr': 5.47, 'epochs': 1}\n",
      "Epoch 1/1, Loss: 1.8503013258295526\n",
      "Model saved to models\\saved_models\\model_496a1144-6a21-4768-ab12-3eddf9d5bb8a.pth\n",
      "Metadata saved to models\\saved_models_metadata\\metadata_496a1144-6a21-4768-ab12-3eddf9d5bb8a.json\n",
      "\n",
      "--- Training Model 5 ---\n",
      "\n",
      "params :  {'optimizer': <class 'torch.optim.sgd.SGD'>, 'lr': 5.46, 'epochs': 1}\n",
      "Epoch 1/1, Loss: 2.096637802083355\n",
      "Model saved to models\\saved_models\\model_e49bc0da-d559-4a46-a514-381af92af8ca.pth\n",
      "Metadata saved to models\\saved_models_metadata\\metadata_e49bc0da-d559-4a46-a514-381af92af8ca.json\n",
      "\n",
      "--- Training Model 6 ---\n",
      "\n",
      "params :  {'optimizer': <class 'torch.optim.sgd.SGD'>, 'lr': 5.45, 'epochs': 1}\n",
      "Epoch 1/1, Loss: 2.0215538958115364\n",
      "Model saved to models\\saved_models\\model_fcbf9851-13b5-4043-9181-dd9e51ba18c5.pth\n",
      "Metadata saved to models\\saved_models_metadata\\metadata_fcbf9851-13b5-4043-9181-dd9e51ba18c5.json\n",
      "\n",
      "--- Training Model 7 ---\n",
      "\n",
      "params :  {'optimizer': <class 'torch.optim.sgd.SGD'>, 'lr': 5.44, 'epochs': 1}\n",
      "Epoch 1/1, Loss: 1.8331222748324307\n",
      "Model saved to models\\saved_models\\model_70d18906-a99e-48b5-96e3-b59c3313485b.pth\n",
      "Metadata saved to models\\saved_models_metadata\\metadata_70d18906-a99e-48b5-96e3-b59c3313485b.json\n",
      "\n",
      "--- Training Model 8 ---\n",
      "\n",
      "params :  {'optimizer': <class 'torch.optim.sgd.SGD'>, 'lr': 5.43, 'epochs': 1}\n",
      "Epoch 1/1, Loss: 1.9579589711323475\n",
      "Model saved to models\\saved_models\\model_6b19f58e-1950-4c27-9921-09945ada1de6.pth\n",
      "Metadata saved to models\\saved_models_metadata\\metadata_6b19f58e-1950-4c27-9921-09945ada1de6.json\n",
      "\n",
      "--- Training Model 9 ---\n",
      "\n",
      "params :  {'optimizer': <class 'torch.optim.sgd.SGD'>, 'lr': 5.42, 'epochs': 1}\n",
      "Epoch 1/1, Loss: 1.6381176002244198\n",
      "Model saved to models\\saved_models\\model_53609c93-529d-40a1-acbf-1f084f72f6fb.pth\n",
      "Metadata saved to models\\saved_models_metadata\\metadata_53609c93-529d-40a1-acbf-1f084f72f6fb.json\n",
      "\n",
      "--- Training Model 10 ---\n",
      "\n",
      "params :  {'optimizer': <class 'torch.optim.sgd.SGD'>, 'lr': 5.41, 'epochs': 1}\n",
      "Epoch 1/1, Loss: 1.6256676132617982\n",
      "Model saved to models\\saved_models\\model_49b46246-16ea-46d8-9ba3-f313ccd2bc38.pth\n",
      "Metadata saved to models\\saved_models_metadata\\metadata_49b46246-16ea-46d8-9ba3-f313ccd2bc38.json\n",
      "\n",
      "--- Training Model 11 ---\n",
      "\n",
      "params :  {'optimizer': <class 'torch.optim.sgd.SGD'>, 'lr': 5.4, 'epochs': 1}\n",
      "Epoch 1/1, Loss: 2.1399576160063876\n",
      "Model saved to models\\saved_models\\model_fe3fdc73-81f7-4fb8-b1bb-84a8b713aa1d.pth\n",
      "Metadata saved to models\\saved_models_metadata\\metadata_fe3fdc73-81f7-4fb8-b1bb-84a8b713aa1d.json\n",
      "\n",
      "--- Training Model 12 ---\n",
      "\n",
      "params :  {'optimizer': <class 'torch.optim.sgd.SGD'>, 'lr': 5.39, 'epochs': 1}\n",
      "Epoch 1/1, Loss: 1.9745585943844273\n",
      "Model saved to models\\saved_models\\model_da8f416c-8963-41f2-812a-d5999fd38000.pth\n",
      "Metadata saved to models\\saved_models_metadata\\metadata_da8f416c-8963-41f2-812a-d5999fd38000.json\n",
      "\n",
      "--- Training Model 13 ---\n",
      "\n",
      "params :  {'optimizer': <class 'torch.optim.sgd.SGD'>, 'lr': 5.38, 'epochs': 1}\n",
      "Epoch 1/1, Loss: 1.8895725750211458\n",
      "Model saved to models\\saved_models\\model_7e6e175d-6668-4f78-88f9-37db96603bbe.pth\n",
      "Metadata saved to models\\saved_models_metadata\\metadata_7e6e175d-6668-4f78-88f9-37db96603bbe.json\n",
      "\n",
      "--- Training Model 14 ---\n",
      "\n",
      "params :  {'optimizer': <class 'torch.optim.sgd.SGD'>, 'lr': 5.37, 'epochs': 1}\n",
      "Epoch 1/1, Loss: 2.2028097908125757\n",
      "Model saved to models\\saved_models\\model_1eb45321-d07e-49ef-b3b6-626da870e3d5.pth\n",
      "Metadata saved to models\\saved_models_metadata\\metadata_1eb45321-d07e-49ef-b3b6-626da870e3d5.json\n",
      "\n",
      "--- Training Model 15 ---\n",
      "\n",
      "params :  {'optimizer': <class 'torch.optim.sgd.SGD'>, 'lr': 5.36, 'epochs': 1}\n",
      "Epoch 1/1, Loss: 1.8307328132042753\n",
      "Model saved to models\\saved_models\\model_77985a66-dba6-41d5-9972-bfb0ce1786b2.pth\n",
      "Metadata saved to models\\saved_models_metadata\\metadata_77985a66-dba6-41d5-9972-bfb0ce1786b2.json\n",
      "\n",
      "--- Training Model 16 ---\n",
      "\n",
      "params :  {'optimizer': <class 'torch.optim.sgd.SGD'>, 'lr': 5.35, 'epochs': 1}\n",
      "Epoch 1/1, Loss: 1.7456832503332005\n",
      "Model saved to models\\saved_models\\model_c3673672-9de8-40c8-bcab-ddf1e4a75a95.pth\n",
      "Metadata saved to models\\saved_models_metadata\\metadata_c3673672-9de8-40c8-bcab-ddf1e4a75a95.json\n",
      "\n",
      "--- Training Model 17 ---\n",
      "\n",
      "params :  {'optimizer': <class 'torch.optim.sgd.SGD'>, 'lr': 5.34, 'epochs': 1}\n",
      "Epoch 1/1, Loss: 1.858538196920586\n",
      "Model saved to models\\saved_models\\model_fd910e44-d3d2-4d5c-bd29-15a2e35c3831.pth\n",
      "Metadata saved to models\\saved_models_metadata\\metadata_fd910e44-d3d2-4d5c-bd29-15a2e35c3831.json\n",
      "\n",
      "--- Training Model 18 ---\n",
      "\n",
      "params :  {'optimizer': <class 'torch.optim.sgd.SGD'>, 'lr': 5.33, 'epochs': 1}\n",
      "Epoch 1/1, Loss: 1.8381427244019153\n",
      "Model saved to models\\saved_models\\model_997bb9bb-908d-40fe-b1ee-7f6a9d22378b.pth\n",
      "Metadata saved to models\\saved_models_metadata\\metadata_997bb9bb-908d-40fe-b1ee-7f6a9d22378b.json\n",
      "\n",
      "--- Training Model 19 ---\n",
      "\n",
      "params :  {'optimizer': <class 'torch.optim.sgd.SGD'>, 'lr': 5.32, 'epochs': 1}\n",
      "Epoch 1/1, Loss: 2.1921529964343316\n",
      "Model saved to models\\saved_models\\model_48bb666c-541d-4543-b0e8-00be76447ed1.pth\n",
      "Metadata saved to models\\saved_models_metadata\\metadata_48bb666c-541d-4543-b0e8-00be76447ed1.json\n",
      "\n",
      "--- Training Model 20 ---\n",
      "\n",
      "params :  {'optimizer': <class 'torch.optim.sgd.SGD'>, 'lr': 5.31, 'epochs': 1}\n",
      "Epoch 1/1, Loss: 2.2458396468843733\n",
      "Model saved to models\\saved_models\\model_e46e8b1e-72ce-48eb-8ca1-fcd266120a10.pth\n",
      "Metadata saved to models\\saved_models_metadata\\metadata_e46e8b1e-72ce-48eb-8ca1-fcd266120a10.json\n",
      "\n",
      "--- Training Model 21 ---\n",
      "\n",
      "params :  {'optimizer': <class 'torch.optim.sgd.SGD'>, 'lr': 5.3, 'epochs': 1}\n",
      "Epoch 1/1, Loss: 1.6032833196461074\n",
      "Model saved to models\\saved_models\\model_4a4b8b3b-25da-4dc8-821e-4b24def71785.pth\n",
      "Metadata saved to models\\saved_models_metadata\\metadata_4a4b8b3b-25da-4dc8-821e-4b24def71785.json\n",
      "\n",
      "--- Training Model 22 ---\n",
      "\n",
      "params :  {'optimizer': <class 'torch.optim.sgd.SGD'>, 'lr': 5.29, 'epochs': 1}\n",
      "Epoch 1/1, Loss: 1.956435582022677\n",
      "Model saved to models\\saved_models\\model_305b7129-3a6e-422b-a768-ed8d80975ad4.pth\n",
      "Metadata saved to models\\saved_models_metadata\\metadata_305b7129-3a6e-422b-a768-ed8d80975ad4.json\n",
      "\n",
      "--- Training Model 23 ---\n",
      "\n",
      "params :  {'optimizer': <class 'torch.optim.sgd.SGD'>, 'lr': 5.28, 'epochs': 1}\n",
      "Epoch 1/1, Loss: 2.1256385571412695\n",
      "Model saved to models\\saved_models\\model_f3bc6f5a-dd19-4feb-baa5-0879f56af039.pth\n",
      "Metadata saved to models\\saved_models_metadata\\metadata_f3bc6f5a-dd19-4feb-baa5-0879f56af039.json\n",
      "\n",
      "--- Training Model 24 ---\n",
      "\n",
      "params :  {'optimizer': <class 'torch.optim.sgd.SGD'>, 'lr': 5.27, 'epochs': 1}\n",
      "Epoch 1/1, Loss: 1.8726181281146719\n",
      "Model saved to models\\saved_models\\model_2a95752f-9ad9-4dab-a44d-ae86752c06dc.pth\n",
      "Metadata saved to models\\saved_models_metadata\\metadata_2a95752f-9ad9-4dab-a44d-ae86752c06dc.json\n",
      "\n",
      "--- Training Model 25 ---\n",
      "\n",
      "params :  {'optimizer': <class 'torch.optim.sgd.SGD'>, 'lr': 5.26, 'epochs': 1}\n",
      "Epoch 1/1, Loss: 2.1758006879769916\n",
      "Model saved to models\\saved_models\\model_19207455-2cd0-4b4f-a116-883ffc324d4f.pth\n",
      "Metadata saved to models\\saved_models_metadata\\metadata_19207455-2cd0-4b4f-a116-883ffc324d4f.json\n",
      "\n",
      "--- Training Model 26 ---\n",
      "\n",
      "params :  {'optimizer': <class 'torch.optim.sgd.SGD'>, 'lr': 5.25, 'epochs': 1}\n",
      "Epoch 1/1, Loss: 1.8858277657901301\n",
      "Model saved to models\\saved_models\\model_580b2060-25df-44cf-ab7d-98664ae74aaa.pth\n",
      "Metadata saved to models\\saved_models_metadata\\metadata_580b2060-25df-44cf-ab7d-98664ae74aaa.json\n",
      "\n",
      "--- Training Model 27 ---\n",
      "\n",
      "params :  {'optimizer': <class 'torch.optim.sgd.SGD'>, 'lr': 5.24, 'epochs': 1}\n",
      "Epoch 1/1, Loss: 1.672988407838065\n",
      "Model saved to models\\saved_models\\model_d645e6ca-aa9d-458e-b7f3-4170a3c25008.pth\n",
      "Metadata saved to models\\saved_models_metadata\\metadata_d645e6ca-aa9d-458e-b7f3-4170a3c25008.json\n",
      "\n",
      "--- Training Model 28 ---\n",
      "\n",
      "params :  {'optimizer': <class 'torch.optim.sgd.SGD'>, 'lr': 5.23, 'epochs': 1}\n",
      "Epoch 1/1, Loss: 1.8544050835724324\n",
      "Model saved to models\\saved_models\\model_6f1d97a7-7215-4254-be8e-70d32768abc7.pth\n",
      "Metadata saved to models\\saved_models_metadata\\metadata_6f1d97a7-7215-4254-be8e-70d32768abc7.json\n",
      "\n",
      "--- Training Model 29 ---\n",
      "\n",
      "params :  {'optimizer': <class 'torch.optim.sgd.SGD'>, 'lr': 5.22, 'epochs': 1}\n",
      "Epoch 1/1, Loss: 2.168578316916281\n",
      "Model saved to models\\saved_models\\model_516870b7-a7fe-405b-b51d-1132976c7fa0.pth\n",
      "Metadata saved to models\\saved_models_metadata\\metadata_516870b7-a7fe-405b-b51d-1132976c7fa0.json\n",
      "\n",
      "--- Training Model 30 ---\n",
      "\n",
      "params :  {'optimizer': <class 'torch.optim.sgd.SGD'>, 'lr': 5.21, 'epochs': 1}\n",
      "Epoch 1/1, Loss: 1.978212252036849\n",
      "Model saved to models\\saved_models\\model_2298a35d-25b1-4e3f-8629-75f97c401504.pth\n",
      "Metadata saved to models\\saved_models_metadata\\metadata_2298a35d-25b1-4e3f-8629-75f97c401504.json\n",
      "\n",
      "--- Training Model 31 ---\n",
      "\n",
      "params :  {'optimizer': <class 'torch.optim.sgd.SGD'>, 'lr': 5.2, 'epochs': 1}\n",
      "Epoch 1/1, Loss: 2.0417956531937445\n",
      "Model saved to models\\saved_models\\model_0c248dc1-3da7-4829-ba64-9441bcbde5d3.pth\n",
      "Metadata saved to models\\saved_models_metadata\\metadata_0c248dc1-3da7-4829-ba64-9441bcbde5d3.json\n",
      "\n",
      "--- Training Model 32 ---\n",
      "\n",
      "params :  {'optimizer': <class 'torch.optim.sgd.SGD'>, 'lr': 5.19, 'epochs': 1}\n",
      "Epoch 1/1, Loss: 1.8045619907918007\n",
      "Model saved to models\\saved_models\\model_8fa49a81-a774-49df-b41a-7f543bc28628.pth\n",
      "Metadata saved to models\\saved_models_metadata\\metadata_8fa49a81-a774-49df-b41a-7f543bc28628.json\n",
      "\n",
      "--- Training Model 33 ---\n",
      "\n",
      "params :  {'optimizer': <class 'torch.optim.sgd.SGD'>, 'lr': 5.18, 'epochs': 1}\n",
      "Epoch 1/1, Loss: 1.8332577250850226\n",
      "Model saved to models\\saved_models\\model_d67dde3b-1980-43fb-8fde-f53096caa6ec.pth\n",
      "Metadata saved to models\\saved_models_metadata\\metadata_d67dde3b-1980-43fb-8fde-f53096caa6ec.json\n",
      "\n",
      "--- Training Model 34 ---\n",
      "\n",
      "params :  {'optimizer': <class 'torch.optim.sgd.SGD'>, 'lr': 5.17, 'epochs': 1}\n",
      "Epoch 1/1, Loss: 1.9405504031730358\n",
      "Model saved to models\\saved_models\\model_276dd856-cfda-4cb3-9f09-9f1fe7362203.pth\n",
      "Metadata saved to models\\saved_models_metadata\\metadata_276dd856-cfda-4cb3-9f09-9f1fe7362203.json\n",
      "\n",
      "--- Training Model 35 ---\n",
      "\n",
      "params :  {'optimizer': <class 'torch.optim.sgd.SGD'>, 'lr': 5.16, 'epochs': 1}\n",
      "Epoch 1/1, Loss: 2.217392672226627\n",
      "Model saved to models\\saved_models\\model_c7463455-2511-40b3-ba7c-9f8f725ab392.pth\n",
      "Metadata saved to models\\saved_models_metadata\\metadata_c7463455-2511-40b3-ba7c-9f8f725ab392.json\n",
      "\n",
      "--- Training Model 36 ---\n",
      "\n",
      "params :  {'optimizer': <class 'torch.optim.sgd.SGD'>, 'lr': 5.15, 'epochs': 1}\n",
      "Epoch 1/1, Loss: 1.6516272313813412\n",
      "Model saved to models\\saved_models\\model_c9f47afc-b33c-4cc1-914c-17434d6e0802.pth\n",
      "Metadata saved to models\\saved_models_metadata\\metadata_c9f47afc-b33c-4cc1-914c-17434d6e0802.json\n",
      "\n",
      "--- Training Model 37 ---\n",
      "\n",
      "params :  {'optimizer': <class 'torch.optim.sgd.SGD'>, 'lr': 5.14, 'epochs': 1}\n",
      "Epoch 1/1, Loss: 1.8733111328280556\n",
      "Model saved to models\\saved_models\\model_69dc601e-dfbf-4e86-aa71-74130689a07b.pth\n",
      "Metadata saved to models\\saved_models_metadata\\metadata_69dc601e-dfbf-4e86-aa71-74130689a07b.json\n",
      "\n",
      "--- Training Model 38 ---\n",
      "\n",
      "params :  {'optimizer': <class 'torch.optim.sgd.SGD'>, 'lr': 5.13, 'epochs': 1}\n",
      "Epoch 1/1, Loss: 1.980780257916908\n",
      "Model saved to models\\saved_models\\model_42043206-219d-4cae-81f2-12011567b520.pth\n",
      "Metadata saved to models\\saved_models_metadata\\metadata_42043206-219d-4cae-81f2-12011567b520.json\n",
      "\n",
      "--- Training Model 39 ---\n",
      "\n",
      "params :  {'optimizer': <class 'torch.optim.sgd.SGD'>, 'lr': 5.12, 'epochs': 1}\n",
      "Epoch 1/1, Loss: 1.853820872268697\n",
      "Model saved to models\\saved_models\\model_3d993893-463c-4b62-b213-250badc6b526.pth\n",
      "Metadata saved to models\\saved_models_metadata\\metadata_3d993893-463c-4b62-b213-250badc6b526.json\n",
      "\n",
      "--- Training Model 40 ---\n",
      "\n",
      "params :  {'optimizer': <class 'torch.optim.sgd.SGD'>, 'lr': 5.11, 'epochs': 1}\n",
      "Epoch 1/1, Loss: 2.151255839160765\n",
      "Model saved to models\\saved_models\\model_89c13b81-d057-4822-bd74-4e23403c7ef8.pth\n",
      "Metadata saved to models\\saved_models_metadata\\metadata_89c13b81-d057-4822-bd74-4e23403c7ef8.json\n",
      "\n",
      "--- Training Model 41 ---\n",
      "\n",
      "params :  {'optimizer': <class 'torch.optim.sgd.SGD'>, 'lr': 5.1, 'epochs': 1}\n",
      "Epoch 1/1, Loss: 2.074200347288331\n",
      "Model saved to models\\saved_models\\model_847736e4-640a-498f-849a-e2432aeb60ad.pth\n",
      "Metadata saved to models\\saved_models_metadata\\metadata_847736e4-640a-498f-849a-e2432aeb60ad.json\n",
      "\n",
      "--- Training Model 42 ---\n",
      "\n",
      "params :  {'optimizer': <class 'torch.optim.sgd.SGD'>, 'lr': 5.09, 'epochs': 1}\n",
      "Epoch 1/1, Loss: 2.0648969616462933\n",
      "Model saved to models\\saved_models\\model_4b18ea9b-80e8-4227-86d7-c453d84a4bc9.pth\n",
      "Metadata saved to models\\saved_models_metadata\\metadata_4b18ea9b-80e8-4227-86d7-c453d84a4bc9.json\n",
      "\n",
      "--- Training Model 43 ---\n",
      "\n",
      "params :  {'optimizer': <class 'torch.optim.sgd.SGD'>, 'lr': 5.08, 'epochs': 1}\n",
      "Epoch 1/1, Loss: 1.947173327970098\n",
      "Model saved to models\\saved_models\\model_919def8e-59df-43a1-a0de-e3b149bab311.pth\n",
      "Metadata saved to models\\saved_models_metadata\\metadata_919def8e-59df-43a1-a0de-e3b149bab311.json\n",
      "\n",
      "--- Training Model 44 ---\n",
      "\n",
      "params :  {'optimizer': <class 'torch.optim.sgd.SGD'>, 'lr': 5.07, 'epochs': 1}\n",
      "Epoch 1/1, Loss: 2.0036406378502023\n",
      "Model saved to models\\saved_models\\model_50ff780c-94e7-4cde-9bd2-63543f4cfff8.pth\n",
      "Metadata saved to models\\saved_models_metadata\\metadata_50ff780c-94e7-4cde-9bd2-63543f4cfff8.json\n",
      "\n",
      "--- Training Model 45 ---\n",
      "\n",
      "params :  {'optimizer': <class 'torch.optim.sgd.SGD'>, 'lr': 5.06, 'epochs': 1}\n",
      "Epoch 1/1, Loss: 2.1391699744948447\n",
      "Model saved to models\\saved_models\\model_24ab8791-fa15-4dac-8fd0-44f0f657650a.pth\n",
      "Metadata saved to models\\saved_models_metadata\\metadata_24ab8791-fa15-4dac-8fd0-44f0f657650a.json\n",
      "\n",
      "--- Training Model 46 ---\n",
      "\n",
      "params :  {'optimizer': <class 'torch.optim.sgd.SGD'>, 'lr': 5.05, 'epochs': 1}\n",
      "Epoch 1/1, Loss: 2.024475816978829\n",
      "Model saved to models\\saved_models\\model_8141efff-703d-4a12-aec5-9832b1d4533d.pth\n",
      "Metadata saved to models\\saved_models_metadata\\metadata_8141efff-703d-4a12-aec5-9832b1d4533d.json\n",
      "\n",
      "--- Training Model 47 ---\n",
      "\n",
      "params :  {'optimizer': <class 'torch.optim.sgd.SGD'>, 'lr': 5.04, 'epochs': 1}\n",
      "Epoch 1/1, Loss: 2.0520744702455076\n",
      "Model saved to models\\saved_models\\model_fc80bef4-d64f-4594-9198-48ad85477dcd.pth\n",
      "Metadata saved to models\\saved_models_metadata\\metadata_fc80bef4-d64f-4594-9198-48ad85477dcd.json\n",
      "\n",
      "--- Training Model 48 ---\n",
      "\n",
      "params :  {'optimizer': <class 'torch.optim.sgd.SGD'>, 'lr': 5.03, 'epochs': 1}\n",
      "Epoch 1/1, Loss: 2.1715423277954558\n",
      "Model saved to models\\saved_models\\model_2ddc60db-19ea-49bf-b53a-eb62b62cd256.pth\n",
      "Metadata saved to models\\saved_models_metadata\\metadata_2ddc60db-19ea-49bf-b53a-eb62b62cd256.json\n",
      "\n",
      "--- Training Model 49 ---\n",
      "\n",
      "params :  {'optimizer': <class 'torch.optim.sgd.SGD'>, 'lr': 5.02, 'epochs': 1}\n",
      "Epoch 1/1, Loss: 1.9800278670243872\n",
      "Model saved to models\\saved_models\\model_3d2c24b3-8076-4a66-b7f6-779de6b8816a.pth\n",
      "Metadata saved to models\\saved_models_metadata\\metadata_3d2c24b3-8076-4a66-b7f6-779de6b8816a.json\n",
      "\n",
      "--- Training Model 50 ---\n",
      "\n",
      "params :  {'optimizer': <class 'torch.optim.sgd.SGD'>, 'lr': 5.01, 'epochs': 1}\n",
      "Epoch 1/1, Loss: 1.7794355790116894\n",
      "Model saved to models\\saved_models\\model_917179fe-9ef3-42e1-a38e-5c01d4399855.pth\n",
      "Metadata saved to models\\saved_models_metadata\\metadata_917179fe-9ef3-42e1-a38e-5c01d4399855.json\n",
      "\n",
      "--- Training Model 51 ---\n",
      "\n",
      "params :  {'optimizer': <class 'torch.optim.sgd.SGD'>, 'lr': 5.0, 'epochs': 1}\n",
      "Epoch 1/1, Loss: 1.8240524216501444\n",
      "Model saved to models\\saved_models\\model_05dddc24-d983-470c-8a72-9547e8b82619.pth\n",
      "Metadata saved to models\\saved_models_metadata\\metadata_05dddc24-d983-470c-8a72-9547e8b82619.json\n",
      "\n",
      "--- Training Model 52 ---\n",
      "\n",
      "params :  {'optimizer': <class 'torch.optim.sgd.SGD'>, 'lr': 4.99, 'epochs': 1}\n",
      "Epoch 1/1, Loss: 1.6708307707868915\n",
      "Model saved to models\\saved_models\\model_ef54718f-b941-4da2-95e3-ed8275013822.pth\n",
      "Metadata saved to models\\saved_models_metadata\\metadata_ef54718f-b941-4da2-95e3-ed8275013822.json\n",
      "\n",
      "--- Training Model 53 ---\n",
      "\n",
      "params :  {'optimizer': <class 'torch.optim.sgd.SGD'>, 'lr': 4.98, 'epochs': 1}\n",
      "Epoch 1/1, Loss: 1.5878069583159775\n",
      "Model saved to models\\saved_models\\model_f953fdf0-7370-4c45-a81e-644919f2c59a.pth\n",
      "Metadata saved to models\\saved_models_metadata\\metadata_f953fdf0-7370-4c45-a81e-644919f2c59a.json\n",
      "\n",
      "--- Training Model 54 ---\n",
      "\n",
      "params :  {'optimizer': <class 'torch.optim.sgd.SGD'>, 'lr': 4.97, 'epochs': 1}\n",
      "Epoch 1/1, Loss: 2.096271461261107\n",
      "Model saved to models\\saved_models\\model_efa0792d-f3fe-437e-99c3-07a9adf682ba.pth\n",
      "Metadata saved to models\\saved_models_metadata\\metadata_efa0792d-f3fe-437e-99c3-07a9adf682ba.json\n",
      "\n",
      "--- Training Model 55 ---\n",
      "\n",
      "params :  {'optimizer': <class 'torch.optim.sgd.SGD'>, 'lr': 4.96, 'epochs': 1}\n",
      "Epoch 1/1, Loss: 1.8548921131884366\n",
      "Model saved to models\\saved_models\\model_e643031e-f235-426a-8564-367c110e9246.pth\n",
      "Metadata saved to models\\saved_models_metadata\\metadata_e643031e-f235-426a-8564-367c110e9246.json\n",
      "\n",
      "--- Training Model 56 ---\n",
      "\n",
      "params :  {'optimizer': <class 'torch.optim.sgd.SGD'>, 'lr': 4.95, 'epochs': 1}\n",
      "Epoch 1/1, Loss: 1.9789579680352323\n",
      "Model saved to models\\saved_models\\model_29fab385-1fcc-4287-99d5-a9b7f311188b.pth\n",
      "Metadata saved to models\\saved_models_metadata\\metadata_29fab385-1fcc-4287-99d5-a9b7f311188b.json\n",
      "\n",
      "--- Training Model 57 ---\n",
      "\n",
      "params :  {'optimizer': <class 'torch.optim.sgd.SGD'>, 'lr': 4.94, 'epochs': 1}\n",
      "Epoch 1/1, Loss: 2.1725864088230296\n",
      "Model saved to models\\saved_models\\model_8ab4b23c-beb7-47d9-97db-a0b1609d241c.pth\n",
      "Metadata saved to models\\saved_models_metadata\\metadata_8ab4b23c-beb7-47d9-97db-a0b1609d241c.json\n",
      "\n",
      "--- Training Model 58 ---\n",
      "\n",
      "params :  {'optimizer': <class 'torch.optim.sgd.SGD'>, 'lr': 4.93, 'epochs': 1}\n",
      "Epoch 1/1, Loss: 0.44104617180676065\n",
      "Model saved to models\\saved_models\\model_58497704-abcf-4acc-8800-2f1424c20861.pth\n",
      "Metadata saved to models\\saved_models_metadata\\metadata_58497704-abcf-4acc-8800-2f1424c20861.json\n",
      "\n",
      "--- Training Model 59 ---\n",
      "\n",
      "params :  {'optimizer': <class 'torch.optim.sgd.SGD'>, 'lr': 4.92, 'epochs': 1}\n",
      "Epoch 1/1, Loss: 2.0001336891196178\n",
      "Model saved to models\\saved_models\\model_960705fe-cd17-4dfa-b2e1-245246af88b8.pth\n",
      "Metadata saved to models\\saved_models_metadata\\metadata_960705fe-cd17-4dfa-b2e1-245246af88b8.json\n",
      "\n",
      "--- Training Model 60 ---\n",
      "\n",
      "params :  {'optimizer': <class 'torch.optim.sgd.SGD'>, 'lr': 4.91, 'epochs': 1}\n",
      "Epoch 1/1, Loss: 1.8156468324951018\n",
      "Model saved to models\\saved_models\\model_a745dfcb-cb77-4992-8f0a-f732f23f0178.pth\n",
      "Metadata saved to models\\saved_models_metadata\\metadata_a745dfcb-cb77-4992-8f0a-f732f23f0178.json\n",
      "\n",
      "--- Training Model 61 ---\n",
      "\n",
      "params :  {'optimizer': <class 'torch.optim.sgd.SGD'>, 'lr': 4.9, 'epochs': 1}\n",
      "Epoch 1/1, Loss: 1.938063792582514\n",
      "Model saved to models\\saved_models\\model_ded20469-9489-48d6-8116-645aef4906d8.pth\n",
      "Metadata saved to models\\saved_models_metadata\\metadata_ded20469-9489-48d6-8116-645aef4906d8.json\n",
      "\n",
      "--- Training Model 62 ---\n",
      "\n",
      "params :  {'optimizer': <class 'torch.optim.sgd.SGD'>, 'lr': 4.89, 'epochs': 1}\n",
      "Epoch 1/1, Loss: 2.321846095737872\n",
      "Model saved to models\\saved_models\\model_53c37eb7-3350-4cd8-8bc5-3c13e8cd58fc.pth\n",
      "Metadata saved to models\\saved_models_metadata\\metadata_53c37eb7-3350-4cd8-8bc5-3c13e8cd58fc.json\n",
      "\n",
      "--- Training Model 63 ---\n",
      "\n",
      "params :  {'optimizer': <class 'torch.optim.sgd.SGD'>, 'lr': 4.88, 'epochs': 1}\n",
      "Epoch 1/1, Loss: 1.7893004069196137\n",
      "Model saved to models\\saved_models\\model_66dd58c7-73bf-47e3-b327-de15a639c70d.pth\n",
      "Metadata saved to models\\saved_models_metadata\\metadata_66dd58c7-73bf-47e3-b327-de15a639c70d.json\n",
      "\n",
      "--- Training Model 64 ---\n",
      "\n",
      "params :  {'optimizer': <class 'torch.optim.sgd.SGD'>, 'lr': 4.87, 'epochs': 1}\n",
      "Epoch 1/1, Loss: 1.723788994525287\n",
      "Model saved to models\\saved_models\\model_33fc7376-3705-45d0-9f9c-5a306b7d16eb.pth\n",
      "Metadata saved to models\\saved_models_metadata\\metadata_33fc7376-3705-45d0-9f9c-5a306b7d16eb.json\n",
      "\n",
      "--- Training Model 65 ---\n",
      "\n",
      "params :  {'optimizer': <class 'torch.optim.sgd.SGD'>, 'lr': 4.86, 'epochs': 1}\n",
      "Epoch 1/1, Loss: 1.5728880802491136\n",
      "Model saved to models\\saved_models\\model_3fae2606-c26e-4c6a-92da-e700686f2726.pth\n",
      "Metadata saved to models\\saved_models_metadata\\metadata_3fae2606-c26e-4c6a-92da-e700686f2726.json\n",
      "\n",
      "--- Training Model 66 ---\n",
      "\n",
      "params :  {'optimizer': <class 'torch.optim.sgd.SGD'>, 'lr': 4.85, 'epochs': 1}\n",
      "Epoch 1/1, Loss: 1.4717794245859581\n",
      "Model saved to models\\saved_models\\model_16178b70-6409-4f4d-9061-fc228e87aacc.pth\n",
      "Metadata saved to models\\saved_models_metadata\\metadata_16178b70-6409-4f4d-9061-fc228e87aacc.json\n",
      "\n",
      "--- Training Model 67 ---\n",
      "\n",
      "params :  {'optimizer': <class 'torch.optim.sgd.SGD'>, 'lr': 4.84, 'epochs': 1}\n",
      "Epoch 1/1, Loss: 0.3572014273540961\n",
      "Model saved to models\\saved_models\\model_ae4cf82b-456e-4964-8c20-b12d32f41844.pth\n",
      "Metadata saved to models\\saved_models_metadata\\metadata_ae4cf82b-456e-4964-8c20-b12d32f41844.json\n",
      "\n",
      "--- Training Model 68 ---\n",
      "\n",
      "params :  {'optimizer': <class 'torch.optim.sgd.SGD'>, 'lr': 4.83, 'epochs': 1}\n",
      "Epoch 1/1, Loss: 1.364505039222205\n",
      "Model saved to models\\saved_models\\model_7c396fc5-29db-4822-9270-864bf579123c.pth\n",
      "Metadata saved to models\\saved_models_metadata\\metadata_7c396fc5-29db-4822-9270-864bf579123c.json\n",
      "\n",
      "--- Training Model 69 ---\n",
      "\n",
      "params :  {'optimizer': <class 'torch.optim.sgd.SGD'>, 'lr': 4.82, 'epochs': 1}\n",
      "Epoch 1/1, Loss: 1.8690252543004082\n",
      "Model saved to models\\saved_models\\model_b77adef7-8ab3-4f29-8df9-6e9a8d8e8537.pth\n",
      "Metadata saved to models\\saved_models_metadata\\metadata_b77adef7-8ab3-4f29-8df9-6e9a8d8e8537.json\n",
      "\n",
      "--- Training Model 70 ---\n",
      "\n",
      "params :  {'optimizer': <class 'torch.optim.sgd.SGD'>, 'lr': 4.81, 'epochs': 1}\n",
      "Epoch 1/1, Loss: 2.165521305634269\n",
      "Model saved to models\\saved_models\\model_126b0c46-8e9d-4ccb-9f06-a2040cb417d3.pth\n",
      "Metadata saved to models\\saved_models_metadata\\metadata_126b0c46-8e9d-4ccb-9f06-a2040cb417d3.json\n",
      "\n",
      "--- Training Model 71 ---\n",
      "\n",
      "params :  {'optimizer': <class 'torch.optim.sgd.SGD'>, 'lr': 4.8, 'epochs': 1}\n",
      "Epoch 1/1, Loss: 0.3861150606942456\n",
      "Model saved to models\\saved_models\\model_ed0fd7fd-15e5-45b5-bc3c-3b477fb65843.pth\n",
      "Metadata saved to models\\saved_models_metadata\\metadata_ed0fd7fd-15e5-45b5-bc3c-3b477fb65843.json\n",
      "\n",
      "--- Training Model 72 ---\n",
      "\n",
      "params :  {'optimizer': <class 'torch.optim.sgd.SGD'>, 'lr': 4.79, 'epochs': 1}\n",
      "Epoch 1/1, Loss: 2.0209187781378657\n",
      "Model saved to models\\saved_models\\model_c7b7e3b1-5376-4c20-a291-0f070f773388.pth\n",
      "Metadata saved to models\\saved_models_metadata\\metadata_c7b7e3b1-5376-4c20-a291-0f070f773388.json\n",
      "\n",
      "--- Training Model 73 ---\n",
      "\n",
      "params :  {'optimizer': <class 'torch.optim.sgd.SGD'>, 'lr': 4.78, 'epochs': 1}\n",
      "Epoch 1/1, Loss: 1.9007333381725018\n",
      "Model saved to models\\saved_models\\model_95810283-2945-409c-90f6-d373a00c98b6.pth\n",
      "Metadata saved to models\\saved_models_metadata\\metadata_95810283-2945-409c-90f6-d373a00c98b6.json\n",
      "\n",
      "--- Training Model 74 ---\n",
      "\n",
      "params :  {'optimizer': <class 'torch.optim.sgd.SGD'>, 'lr': 4.77, 'epochs': 1}\n",
      "Epoch 1/1, Loss: 0.666993439609586\n",
      "Model saved to models\\saved_models\\model_4b53075d-5107-48be-b4e5-d8d36c1f2fc7.pth\n",
      "Metadata saved to models\\saved_models_metadata\\metadata_4b53075d-5107-48be-b4e5-d8d36c1f2fc7.json\n",
      "\n",
      "--- Training Model 75 ---\n",
      "\n",
      "params :  {'optimizer': <class 'torch.optim.sgd.SGD'>, 'lr': 4.76, 'epochs': 1}\n",
      "Epoch 1/1, Loss: 0.36328007116703304\n",
      "Model saved to models\\saved_models\\model_52a114e0-68c0-45a0-9769-c161e1089595.pth\n",
      "Metadata saved to models\\saved_models_metadata\\metadata_52a114e0-68c0-45a0-9769-c161e1089595.json\n",
      "\n",
      "--- Training Model 76 ---\n",
      "\n",
      "params :  {'optimizer': <class 'torch.optim.sgd.SGD'>, 'lr': 4.75, 'epochs': 1}\n",
      "Epoch 1/1, Loss: 1.8048583449903073\n",
      "Model saved to models\\saved_models\\model_1beff6c4-d065-4112-9e71-e13db3ec1832.pth\n",
      "Metadata saved to models\\saved_models_metadata\\metadata_1beff6c4-d065-4112-9e71-e13db3ec1832.json\n",
      "\n",
      "--- Training Model 77 ---\n",
      "\n",
      "params :  {'optimizer': <class 'torch.optim.sgd.SGD'>, 'lr': 4.74, 'epochs': 1}\n",
      "Epoch 1/1, Loss: 1.492590843495339\n",
      "Model saved to models\\saved_models\\model_accd9d82-503f-498f-8e30-2579d7d9f25b.pth\n",
      "Metadata saved to models\\saved_models_metadata\\metadata_accd9d82-503f-498f-8e30-2579d7d9f25b.json\n",
      "\n",
      "--- Training Model 78 ---\n",
      "\n",
      "params :  {'optimizer': <class 'torch.optim.sgd.SGD'>, 'lr': 4.73, 'epochs': 1}\n",
      "Epoch 1/1, Loss: 1.9262081127304005\n",
      "Model saved to models\\saved_models\\model_7560f74f-2bb5-4e04-a115-92c719c3dab4.pth\n",
      "Metadata saved to models\\saved_models_metadata\\metadata_7560f74f-2bb5-4e04-a115-92c719c3dab4.json\n",
      "\n",
      "--- Training Model 79 ---\n",
      "\n",
      "params :  {'optimizer': <class 'torch.optim.sgd.SGD'>, 'lr': 4.72, 'epochs': 1}\n",
      "Epoch 1/1, Loss: 0.34006404092034964\n",
      "Model saved to models\\saved_models\\model_fe042a81-38d8-4a18-8e64-3cdb8b0a87fc.pth\n",
      "Metadata saved to models\\saved_models_metadata\\metadata_fe042a81-38d8-4a18-8e64-3cdb8b0a87fc.json\n",
      "\n",
      "--- Training Model 80 ---\n",
      "\n",
      "params :  {'optimizer': <class 'torch.optim.sgd.SGD'>, 'lr': 4.71, 'epochs': 1}\n",
      "Epoch 1/1, Loss: 1.345609979290984\n",
      "Model saved to models\\saved_models\\model_8243dbc7-3fe0-49da-afc5-4d3b6b4b8e0b.pth\n",
      "Metadata saved to models\\saved_models_metadata\\metadata_8243dbc7-3fe0-49da-afc5-4d3b6b4b8e0b.json\n",
      "\n",
      "--- Training Model 81 ---\n",
      "\n",
      "params :  {'optimizer': <class 'torch.optim.sgd.SGD'>, 'lr': 4.7, 'epochs': 1}\n",
      "Epoch 1/1, Loss: 0.2894735707700856\n",
      "Model saved to models\\saved_models\\model_d090002d-f533-4c91-9a15-d1f7e279ea4c.pth\n",
      "Metadata saved to models\\saved_models_metadata\\metadata_d090002d-f533-4c91-9a15-d1f7e279ea4c.json\n",
      "\n",
      "--- Training Model 82 ---\n",
      "\n",
      "params :  {'optimizer': <class 'torch.optim.sgd.SGD'>, 'lr': 4.69, 'epochs': 1}\n",
      "Epoch 1/1, Loss: 1.5107022601086448\n",
      "Model saved to models\\saved_models\\model_5a8cf82b-6858-4ff3-ab45-f82ee25388c7.pth\n",
      "Metadata saved to models\\saved_models_metadata\\metadata_5a8cf82b-6858-4ff3-ab45-f82ee25388c7.json\n",
      "\n",
      "--- Training Model 83 ---\n",
      "\n",
      "params :  {'optimizer': <class 'torch.optim.sgd.SGD'>, 'lr': 4.68, 'epochs': 1}\n",
      "Epoch 1/1, Loss: 0.6178772312128293\n",
      "Model saved to models\\saved_models\\model_8d44be1e-3a21-464b-9e15-7680da41f6b4.pth\n",
      "Metadata saved to models\\saved_models_metadata\\metadata_8d44be1e-3a21-464b-9e15-7680da41f6b4.json\n",
      "\n",
      "--- Training Model 84 ---\n",
      "\n",
      "params :  {'optimizer': <class 'torch.optim.sgd.SGD'>, 'lr': 4.67, 'epochs': 1}\n",
      "Epoch 1/1, Loss: 1.51912894037995\n",
      "Model saved to models\\saved_models\\model_0ada2e6e-1206-4188-b1ad-70c87659e6e8.pth\n",
      "Metadata saved to models\\saved_models_metadata\\metadata_0ada2e6e-1206-4188-b1ad-70c87659e6e8.json\n",
      "\n",
      "--- Training Model 85 ---\n",
      "\n",
      "params :  {'optimizer': <class 'torch.optim.sgd.SGD'>, 'lr': 4.66, 'epochs': 1}\n",
      "Epoch 1/1, Loss: 0.34899583332556317\n",
      "Model saved to models\\saved_models\\model_e7e7fd49-1d97-4a53-926f-c36da5ce4a2d.pth\n",
      "Metadata saved to models\\saved_models_metadata\\metadata_e7e7fd49-1d97-4a53-926f-c36da5ce4a2d.json\n",
      "\n",
      "--- Training Model 86 ---\n",
      "\n",
      "params :  {'optimizer': <class 'torch.optim.sgd.SGD'>, 'lr': 4.65, 'epochs': 1}\n",
      "Epoch 1/1, Loss: 0.33583301969536783\n",
      "Model saved to models\\saved_models\\model_a5aa7ed4-f5ee-4123-85bf-81326e93cb38.pth\n",
      "Metadata saved to models\\saved_models_metadata\\metadata_a5aa7ed4-f5ee-4123-85bf-81326e93cb38.json\n",
      "\n",
      "--- Training Model 87 ---\n",
      "\n",
      "params :  {'optimizer': <class 'torch.optim.sgd.SGD'>, 'lr': 4.64, 'epochs': 1}\n",
      "Epoch 1/1, Loss: 0.3379455083814352\n",
      "Model saved to models\\saved_models\\model_6a036ad1-1c3e-47da-8595-3b2dada3e135.pth\n",
      "Metadata saved to models\\saved_models_metadata\\metadata_6a036ad1-1c3e-47da-8595-3b2dada3e135.json\n",
      "\n",
      "--- Training Model 88 ---\n",
      "\n",
      "params :  {'optimizer': <class 'torch.optim.sgd.SGD'>, 'lr': 4.63, 'epochs': 1}\n",
      "Epoch 1/1, Loss: 1.7236627457317895\n",
      "Model saved to models\\saved_models\\model_6f6e55d8-d3b6-4290-9004-852efe21b482.pth\n",
      "Metadata saved to models\\saved_models_metadata\\metadata_6f6e55d8-d3b6-4290-9004-852efe21b482.json\n",
      "\n",
      "--- Training Model 89 ---\n",
      "\n",
      "params :  {'optimizer': <class 'torch.optim.sgd.SGD'>, 'lr': 4.62, 'epochs': 1}\n",
      "Epoch 1/1, Loss: 0.2890336190795661\n",
      "Model saved to models\\saved_models\\model_2885b66f-0748-4dee-af8e-9babc36c945c.pth\n",
      "Metadata saved to models\\saved_models_metadata\\metadata_2885b66f-0748-4dee-af8e-9babc36c945c.json\n",
      "\n",
      "--- Training Model 90 ---\n",
      "\n",
      "params :  {'optimizer': <class 'torch.optim.sgd.SGD'>, 'lr': 4.61, 'epochs': 1}\n",
      "Epoch 1/1, Loss: 0.2367014888232685\n",
      "Model saved to models\\saved_models\\model_fc830981-7c8c-4c1f-8565-c25a61e3bcf2.pth\n",
      "Metadata saved to models\\saved_models_metadata\\metadata_fc830981-7c8c-4c1f-8565-c25a61e3bcf2.json\n",
      "\n",
      "--- Training Model 91 ---\n",
      "\n",
      "params :  {'optimizer': <class 'torch.optim.sgd.SGD'>, 'lr': 4.6, 'epochs': 1}\n",
      "Epoch 1/1, Loss: 0.4442255832920117\n",
      "Model saved to models\\saved_models\\model_0eb59e64-6df9-405b-8d5e-4fa88e7e86ef.pth\n",
      "Metadata saved to models\\saved_models_metadata\\metadata_0eb59e64-6df9-405b-8d5e-4fa88e7e86ef.json\n",
      "\n",
      "--- Training Model 92 ---\n",
      "\n",
      "params :  {'optimizer': <class 'torch.optim.sgd.SGD'>, 'lr': 4.59, 'epochs': 1}\n",
      "Epoch 1/1, Loss: 0.26299702867131824\n",
      "Model saved to models\\saved_models\\model_812c78e8-23e5-4700-9e3f-213a98f036ad.pth\n",
      "Metadata saved to models\\saved_models_metadata\\metadata_812c78e8-23e5-4700-9e3f-213a98f036ad.json\n",
      "\n",
      "--- Training Model 93 ---\n",
      "\n",
      "params :  {'optimizer': <class 'torch.optim.sgd.SGD'>, 'lr': 4.58, 'epochs': 1}\n",
      "Epoch 1/1, Loss: 0.3016733800553516\n",
      "Model saved to models\\saved_models\\model_e228b4be-804f-42ea-bd75-e064f6a15b18.pth\n",
      "Metadata saved to models\\saved_models_metadata\\metadata_e228b4be-804f-42ea-bd75-e064f6a15b18.json\n",
      "\n",
      "--- Training Model 94 ---\n",
      "\n",
      "params :  {'optimizer': <class 'torch.optim.sgd.SGD'>, 'lr': 4.57, 'epochs': 1}\n",
      "Epoch 1/1, Loss: 0.4014803417590953\n",
      "Model saved to models\\saved_models\\model_8e51cb5a-8499-4aa2-b48c-bdd8f4e6f257.pth\n",
      "Metadata saved to models\\saved_models_metadata\\metadata_8e51cb5a-8499-4aa2-b48c-bdd8f4e6f257.json\n",
      "\n",
      "--- Training Model 95 ---\n",
      "\n",
      "params :  {'optimizer': <class 'torch.optim.sgd.SGD'>, 'lr': 4.56, 'epochs': 1}\n",
      "Epoch 1/1, Loss: 0.3110993442806735\n",
      "Model saved to models\\saved_models\\model_68f0a567-93d5-4a31-995f-b456f59d68d7.pth\n",
      "Metadata saved to models\\saved_models_metadata\\metadata_68f0a567-93d5-4a31-995f-b456f59d68d7.json\n",
      "\n",
      "--- Training Model 96 ---\n",
      "\n",
      "params :  {'optimizer': <class 'torch.optim.sgd.SGD'>, 'lr': 4.55, 'epochs': 1}\n",
      "Epoch 1/1, Loss: 2.1444461237011687\n",
      "Model saved to models\\saved_models\\model_a624ddfe-96c8-440f-a044-f0a4aa7d25e2.pth\n",
      "Metadata saved to models\\saved_models_metadata\\metadata_a624ddfe-96c8-440f-a044-f0a4aa7d25e2.json\n",
      "\n",
      "--- Training Model 97 ---\n",
      "\n",
      "params :  {'optimizer': <class 'torch.optim.sgd.SGD'>, 'lr': 4.54, 'epochs': 1}\n",
      "Epoch 1/1, Loss: 0.2737125805956421\n",
      "Model saved to models\\saved_models\\model_97f2264f-d4f9-4e62-b317-a5c26007a03f.pth\n",
      "Metadata saved to models\\saved_models_metadata\\metadata_97f2264f-d4f9-4e62-b317-a5c26007a03f.json\n",
      "\n",
      "--- Training Model 98 ---\n",
      "\n",
      "params :  {'optimizer': <class 'torch.optim.sgd.SGD'>, 'lr': 4.53, 'epochs': 1}\n",
      "Epoch 1/1, Loss: 0.36301633057796134\n",
      "Model saved to models\\saved_models\\model_4072993a-4c07-4394-8783-c57682a5d62e.pth\n",
      "Metadata saved to models\\saved_models_metadata\\metadata_4072993a-4c07-4394-8783-c57682a5d62e.json\n",
      "\n",
      "--- Training Model 99 ---\n",
      "\n",
      "params :  {'optimizer': <class 'torch.optim.sgd.SGD'>, 'lr': 4.52, 'epochs': 1}\n",
      "Epoch 1/1, Loss: 1.8891467284768628\n",
      "Model saved to models\\saved_models\\model_045437a3-b858-443d-bf9c-267762217d6d.pth\n",
      "Metadata saved to models\\saved_models_metadata\\metadata_045437a3-b858-443d-bf9c-267762217d6d.json\n",
      "\n",
      "--- Training Model 100 ---\n",
      "\n",
      "params :  {'optimizer': <class 'torch.optim.sgd.SGD'>, 'lr': 4.51, 'epochs': 1}\n",
      "Epoch 1/1, Loss: 0.3349573372551468\n",
      "Model saved to models\\saved_models\\model_79331455-4b8f-4589-9ba0-5378d6ab3f75.pth\n",
      "Metadata saved to models\\saved_models_metadata\\metadata_79331455-4b8f-4589-9ba0-5378d6ab3f75.json\n",
      "\n",
      "--- Training Model 101 ---\n",
      "\n",
      "params :  {'optimizer': <class 'torch.optim.sgd.SGD'>, 'lr': 5.5, 'epochs': 2}\n",
      "Epoch 1/2, Loss: 1.8057355597329292\n",
      "Epoch 2/2, Loss: 2.1415747264300835\n",
      "Model saved to models\\saved_models\\model_7d4660dd-2b2c-4af9-b984-462613de7522.pth\n",
      "Metadata saved to models\\saved_models_metadata\\metadata_7d4660dd-2b2c-4af9-b984-462613de7522.json\n",
      "\n",
      "--- Training Model 102 ---\n",
      "\n",
      "params :  {'optimizer': <class 'torch.optim.sgd.SGD'>, 'lr': 5.49, 'epochs': 2}\n",
      "Epoch 1/2, Loss: 2.3376575737619705\n",
      "Epoch 2/2, Loss: 2.328844402136325\n",
      "Model saved to models\\saved_models\\model_32a6af25-51a2-4f41-bd1b-666fe3a85683.pth\n",
      "Metadata saved to models\\saved_models_metadata\\metadata_32a6af25-51a2-4f41-bd1b-666fe3a85683.json\n",
      "\n",
      "--- Training Model 103 ---\n",
      "\n",
      "params :  {'optimizer': <class 'torch.optim.sgd.SGD'>, 'lr': 5.48, 'epochs': 2}\n",
      "Epoch 1/2, Loss: 2.1700769714963464\n",
      "Epoch 2/2, Loss: 2.0779228050317338\n",
      "Model saved to models\\saved_models\\model_5a50e920-f75f-4b78-8e44-7809c460c2d6.pth\n",
      "Metadata saved to models\\saved_models_metadata\\metadata_5a50e920-f75f-4b78-8e44-7809c460c2d6.json\n",
      "\n",
      "--- Training Model 104 ---\n",
      "\n",
      "params :  {'optimizer': <class 'torch.optim.sgd.SGD'>, 'lr': 5.47, 'epochs': 2}\n",
      "Epoch 1/2, Loss: 2.0233150119466314\n",
      "Epoch 2/2, Loss: 2.3293706305753954\n",
      "Model saved to models\\saved_models\\model_f8f76cee-4590-46d5-86d2-8e0fb317fcd7.pth\n",
      "Metadata saved to models\\saved_models_metadata\\metadata_f8f76cee-4590-46d5-86d2-8e0fb317fcd7.json\n",
      "\n",
      "--- Training Model 105 ---\n",
      "\n",
      "params :  {'optimizer': <class 'torch.optim.sgd.SGD'>, 'lr': 5.46, 'epochs': 2}\n",
      "Epoch 1/2, Loss: 1.8986987094762229\n",
      "Epoch 2/2, Loss: 2.0826481141007025\n",
      "Model saved to models\\saved_models\\model_6297d37d-82d5-4f61-aa15-43cf00ed1202.pth\n",
      "Metadata saved to models\\saved_models_metadata\\metadata_6297d37d-82d5-4f61-aa15-43cf00ed1202.json\n",
      "\n",
      "--- Training Model 106 ---\n",
      "\n",
      "params :  {'optimizer': <class 'torch.optim.sgd.SGD'>, 'lr': 5.45, 'epochs': 2}\n",
      "Epoch 1/2, Loss: 1.7697172492806084\n",
      "Epoch 2/2, Loss: 2.0955936156356256\n",
      "Model saved to models\\saved_models\\model_fd75b41a-4097-4f80-a1c0-69e1f12ce263.pth\n",
      "Metadata saved to models\\saved_models_metadata\\metadata_fd75b41a-4097-4f80-a1c0-69e1f12ce263.json\n",
      "\n",
      "--- Training Model 107 ---\n",
      "\n",
      "params :  {'optimizer': <class 'torch.optim.sgd.SGD'>, 'lr': 5.44, 'epochs': 2}\n",
      "Epoch 1/2, Loss: 1.9446944914647002\n",
      "Epoch 2/2, Loss: 2.009357518224574\n",
      "Model saved to models\\saved_models\\model_fd86cadc-a704-45bc-b5b7-40b631e4ba20.pth\n",
      "Metadata saved to models\\saved_models_metadata\\metadata_fd86cadc-a704-45bc-b5b7-40b631e4ba20.json\n",
      "\n",
      "--- Training Model 108 ---\n",
      "\n",
      "params :  {'optimizer': <class 'torch.optim.sgd.SGD'>, 'lr': 5.43, 'epochs': 2}\n",
      "Epoch 1/2, Loss: 2.061363921744991\n",
      "Epoch 2/2, Loss: 2.3279862125545168\n",
      "Model saved to models\\saved_models\\model_198575ca-450e-455f-ad50-635262b5be83.pth\n",
      "Metadata saved to models\\saved_models_metadata\\metadata_198575ca-450e-455f-ad50-635262b5be83.json\n",
      "\n",
      "--- Training Model 109 ---\n",
      "\n",
      "params :  {'optimizer': <class 'torch.optim.sgd.SGD'>, 'lr': 5.42, 'epochs': 2}\n",
      "Epoch 1/2, Loss: 2.0650043552364115\n",
      "Epoch 2/2, Loss: 2.3115376202282367\n",
      "Model saved to models\\saved_models\\model_8d4ea673-143e-4bc4-8fd4-eb24ffc1356a.pth\n",
      "Metadata saved to models\\saved_models_metadata\\metadata_8d4ea673-143e-4bc4-8fd4-eb24ffc1356a.json\n",
      "\n",
      "--- Training Model 110 ---\n",
      "\n",
      "params :  {'optimizer': <class 'torch.optim.sgd.SGD'>, 'lr': 5.41, 'epochs': 2}\n",
      "Epoch 1/2, Loss: 1.8343964999418523\n",
      "Epoch 2/2, Loss: 2.0040245372603445\n",
      "Model saved to models\\saved_models\\model_d181bf96-2236-4095-9599-b655d8252357.pth\n",
      "Metadata saved to models\\saved_models_metadata\\metadata_d181bf96-2236-4095-9599-b655d8252357.json\n",
      "\n",
      "--- Training Model 111 ---\n",
      "\n",
      "params :  {'optimizer': <class 'torch.optim.sgd.SGD'>, 'lr': 5.4, 'epochs': 2}\n",
      "Epoch 1/2, Loss: 2.118157948003903\n",
      "Epoch 2/2, Loss: 2.3272855291996937\n",
      "Model saved to models\\saved_models\\model_87f8f4e0-1d04-4d87-a663-4eca9564648f.pth\n",
      "Metadata saved to models\\saved_models_metadata\\metadata_87f8f4e0-1d04-4d87-a663-4eca9564648f.json\n",
      "\n",
      "--- Training Model 112 ---\n",
      "\n",
      "params :  {'optimizer': <class 'torch.optim.sgd.SGD'>, 'lr': 5.39, 'epochs': 2}\n",
      "Epoch 1/2, Loss: 2.0633105314108353\n",
      "Epoch 2/2, Loss: 2.280587593756759\n",
      "Model saved to models\\saved_models\\model_15d0af9d-82e9-40cc-ab31-2306952eb5bf.pth\n",
      "Metadata saved to models\\saved_models_metadata\\metadata_15d0af9d-82e9-40cc-ab31-2306952eb5bf.json\n",
      "\n",
      "--- Training Model 113 ---\n",
      "\n",
      "params :  {'optimizer': <class 'torch.optim.sgd.SGD'>, 'lr': 5.38, 'epochs': 2}\n",
      "Epoch 1/2, Loss: 1.7274412322146044\n",
      "Epoch 2/2, Loss: 2.2637811277720976\n",
      "Model saved to models\\saved_models\\model_edeb9f33-67e3-4045-a497-b5ada52b9acf.pth\n",
      "Metadata saved to models\\saved_models_metadata\\metadata_edeb9f33-67e3-4045-a497-b5ada52b9acf.json\n",
      "\n",
      "--- Training Model 114 ---\n",
      "\n",
      "params :  {'optimizer': <class 'torch.optim.sgd.SGD'>, 'lr': 5.37, 'epochs': 2}\n",
      "Epoch 1/2, Loss: 1.7290315846009041\n",
      "Epoch 2/2, Loss: 2.2246299379670034\n",
      "Model saved to models\\saved_models\\model_8e899077-0485-4076-bbe4-9577eb27d795.pth\n",
      "Metadata saved to models\\saved_models_metadata\\metadata_8e899077-0485-4076-bbe4-9577eb27d795.json\n",
      "\n",
      "--- Training Model 115 ---\n",
      "\n",
      "params :  {'optimizer': <class 'torch.optim.sgd.SGD'>, 'lr': 5.36, 'epochs': 2}\n",
      "Epoch 1/2, Loss: 2.0446740310075184\n",
      "Epoch 2/2, Loss: 2.102224628681313\n",
      "Model saved to models\\saved_models\\model_0412b831-f1ed-4eca-a38c-46c4d88ef6b7.pth\n",
      "Metadata saved to models\\saved_models_metadata\\metadata_0412b831-f1ed-4eca-a38c-46c4d88ef6b7.json\n",
      "\n",
      "--- Training Model 116 ---\n",
      "\n",
      "params :  {'optimizer': <class 'torch.optim.sgd.SGD'>, 'lr': 5.35, 'epochs': 2}\n",
      "Epoch 1/2, Loss: 1.932108592948934\n",
      "Epoch 2/2, Loss: 2.227220400182931\n",
      "Model saved to models\\saved_models\\model_9ba980b0-28e6-4900-b1e3-9578fdb46707.pth\n",
      "Metadata saved to models\\saved_models_metadata\\metadata_9ba980b0-28e6-4900-b1e3-9578fdb46707.json\n",
      "\n",
      "--- Training Model 117 ---\n",
      "\n",
      "params :  {'optimizer': <class 'torch.optim.sgd.SGD'>, 'lr': 5.34, 'epochs': 2}\n",
      "Epoch 1/2, Loss: 1.8818522272333662\n",
      "Epoch 2/2, Loss: 2.06037088129312\n",
      "Model saved to models\\saved_models\\model_2184b282-cff5-4e1f-a812-3f56eb886eda.pth\n",
      "Metadata saved to models\\saved_models_metadata\\metadata_2184b282-cff5-4e1f-a812-3f56eb886eda.json\n",
      "\n",
      "--- Training Model 118 ---\n",
      "\n",
      "params :  {'optimizer': <class 'torch.optim.sgd.SGD'>, 'lr': 5.33, 'epochs': 2}\n",
      "Epoch 1/2, Loss: 2.068996859511841\n",
      "Epoch 2/2, Loss: 2.081092578134557\n",
      "Model saved to models\\saved_models\\model_11c9b479-9d2a-4b17-8beb-b6b48605c490.pth\n",
      "Metadata saved to models\\saved_models_metadata\\metadata_11c9b479-9d2a-4b17-8beb-b6b48605c490.json\n",
      "\n",
      "--- Training Model 119 ---\n",
      "\n",
      "params :  {'optimizer': <class 'torch.optim.sgd.SGD'>, 'lr': 5.32, 'epochs': 2}\n",
      "Epoch 1/2, Loss: 1.9830468428541603\n",
      "Epoch 2/2, Loss: 2.036938607946896\n",
      "Model saved to models\\saved_models\\model_3bdc34c9-de3c-4ffa-b9f7-708e26e1701e.pth\n",
      "Metadata saved to models\\saved_models_metadata\\metadata_3bdc34c9-de3c-4ffa-b9f7-708e26e1701e.json\n",
      "\n",
      "--- Training Model 120 ---\n",
      "\n",
      "params :  {'optimizer': <class 'torch.optim.sgd.SGD'>, 'lr': 5.31, 'epochs': 2}\n",
      "Epoch 1/2, Loss: 2.1136895695856133\n",
      "Epoch 2/2, Loss: 2.046526842279983\n",
      "Model saved to models\\saved_models\\model_46f14d03-9bb0-436d-807e-f6b9936a4025.pth\n",
      "Metadata saved to models\\saved_models_metadata\\metadata_46f14d03-9bb0-436d-807e-f6b9936a4025.json\n",
      "\n",
      "--- Training Model 121 ---\n",
      "\n",
      "params :  {'optimizer': <class 'torch.optim.sgd.SGD'>, 'lr': 5.3, 'epochs': 2}\n",
      "Epoch 1/2, Loss: 2.123192957596484\n",
      "Epoch 2/2, Loss: 2.2960276488047926\n",
      "Model saved to models\\saved_models\\model_bf0db4f7-b459-4beb-9731-4f273f623a7d.pth\n",
      "Metadata saved to models\\saved_models_metadata\\metadata_bf0db4f7-b459-4beb-9731-4f273f623a7d.json\n",
      "\n",
      "--- Training Model 122 ---\n",
      "\n",
      "params :  {'optimizer': <class 'torch.optim.sgd.SGD'>, 'lr': 5.29, 'epochs': 2}\n",
      "Epoch 1/2, Loss: 2.192922280541361\n",
      "Epoch 2/2, Loss: 2.326627394537936\n",
      "Model saved to models\\saved_models\\model_7514e4f8-1ca3-42ea-9da4-6c311a2f4702.pth\n",
      "Metadata saved to models\\saved_models_metadata\\metadata_7514e4f8-1ca3-42ea-9da4-6c311a2f4702.json\n",
      "\n",
      "--- Training Model 123 ---\n",
      "\n",
      "params :  {'optimizer': <class 'torch.optim.sgd.SGD'>, 'lr': 5.28, 'epochs': 2}\n",
      "Epoch 1/2, Loss: 2.012334979927616\n",
      "Epoch 2/2, Loss: 2.140343005342016\n",
      "Model saved to models\\saved_models\\model_eacc3e1b-2afc-45aa-9ecb-36d0c0c98141.pth\n",
      "Metadata saved to models\\saved_models_metadata\\metadata_eacc3e1b-2afc-45aa-9ecb-36d0c0c98141.json\n",
      "\n",
      "--- Training Model 124 ---\n",
      "\n",
      "params :  {'optimizer': <class 'torch.optim.sgd.SGD'>, 'lr': 5.27, 'epochs': 2}\n",
      "Epoch 1/2, Loss: 1.9197555091589498\n",
      "Epoch 2/2, Loss: 2.082809426382915\n",
      "Model saved to models\\saved_models\\model_291f8817-a68b-47b8-9382-8c3c9b7d3e0b.pth\n",
      "Metadata saved to models\\saved_models_metadata\\metadata_291f8817-a68b-47b8-9382-8c3c9b7d3e0b.json\n",
      "\n",
      "--- Training Model 125 ---\n",
      "\n",
      "params :  {'optimizer': <class 'torch.optim.sgd.SGD'>, 'lr': 5.26, 'epochs': 2}\n",
      "Epoch 1/2, Loss: 1.781956473774493\n",
      "Epoch 2/2, Loss: 1.9017597652955858\n",
      "Model saved to models\\saved_models\\model_ab7ca24b-92a3-4ab8-984d-bac6fe5a8b3d.pth\n",
      "Metadata saved to models\\saved_models_metadata\\metadata_ab7ca24b-92a3-4ab8-984d-bac6fe5a8b3d.json\n",
      "\n",
      "--- Training Model 126 ---\n",
      "\n",
      "params :  {'optimizer': <class 'torch.optim.sgd.SGD'>, 'lr': 5.25, 'epochs': 2}\n",
      "Epoch 1/2, Loss: 1.8587666563769139\n",
      "Epoch 2/2, Loss: 2.170427239398712\n",
      "Model saved to models\\saved_models\\model_3c18329a-9f1f-4a5b-b6b1-f688b65801d9.pth\n",
      "Metadata saved to models\\saved_models_metadata\\metadata_3c18329a-9f1f-4a5b-b6b1-f688b65801d9.json\n",
      "\n",
      "--- Training Model 127 ---\n",
      "\n",
      "params :  {'optimizer': <class 'torch.optim.sgd.SGD'>, 'lr': 5.24, 'epochs': 2}\n",
      "Epoch 1/2, Loss: 1.8182831303651399\n",
      "Epoch 2/2, Loss: 2.16127376210715\n",
      "Model saved to models\\saved_models\\model_93190a92-b054-4f77-a672-a4afce643e1a.pth\n",
      "Metadata saved to models\\saved_models_metadata\\metadata_93190a92-b054-4f77-a672-a4afce643e1a.json\n",
      "\n",
      "--- Training Model 128 ---\n",
      "\n",
      "params :  {'optimizer': <class 'torch.optim.sgd.SGD'>, 'lr': 5.23, 'epochs': 2}\n",
      "Epoch 1/2, Loss: 1.7923652250756588\n",
      "Epoch 2/2, Loss: 2.2582837869363552\n",
      "Model saved to models\\saved_models\\model_4436a22b-0c13-4dfa-a33d-db09855e39ae.pth\n",
      "Metadata saved to models\\saved_models_metadata\\metadata_4436a22b-0c13-4dfa-a33d-db09855e39ae.json\n",
      "\n",
      "--- Training Model 129 ---\n",
      "\n",
      "params :  {'optimizer': <class 'torch.optim.sgd.SGD'>, 'lr': 5.22, 'epochs': 2}\n",
      "Epoch 1/2, Loss: 1.7113049202350412\n",
      "Epoch 2/2, Loss: 1.9778211665814365\n",
      "Model saved to models\\saved_models\\model_fc464854-d0ee-42c4-8aed-89bc2e77f92c.pth\n",
      "Metadata saved to models\\saved_models_metadata\\metadata_fc464854-d0ee-42c4-8aed-89bc2e77f92c.json\n",
      "\n",
      "--- Training Model 130 ---\n",
      "\n",
      "params :  {'optimizer': <class 'torch.optim.sgd.SGD'>, 'lr': 5.21, 'epochs': 2}\n",
      "Epoch 1/2, Loss: 2.0898736322612397\n",
      "Epoch 2/2, Loss: 2.230440073430157\n",
      "Model saved to models\\saved_models\\model_b5228f9d-6f8f-40c7-811e-618176f43712.pth\n",
      "Metadata saved to models\\saved_models_metadata\\metadata_b5228f9d-6f8f-40c7-811e-618176f43712.json\n",
      "\n",
      "--- Training Model 131 ---\n",
      "\n",
      "params :  {'optimizer': <class 'torch.optim.sgd.SGD'>, 'lr': 5.2, 'epochs': 2}\n",
      "Epoch 1/2, Loss: 1.7968080964551043\n",
      "Epoch 2/2, Loss: 1.9636237848796316\n",
      "Model saved to models\\saved_models\\model_87dbec1c-0131-4a4c-b28e-03770b980ce6.pth\n",
      "Metadata saved to models\\saved_models_metadata\\metadata_87dbec1c-0131-4a4c-b28e-03770b980ce6.json\n",
      "\n",
      "--- Training Model 132 ---\n",
      "\n",
      "params :  {'optimizer': <class 'torch.optim.sgd.SGD'>, 'lr': 5.19, 'epochs': 2}\n",
      "Epoch 1/2, Loss: 1.8231917668634385\n",
      "Epoch 2/2, Loss: 1.9773528448808422\n",
      "Model saved to models\\saved_models\\model_a54314ad-5e6c-4a76-b5d7-151ada7ae1e4.pth\n",
      "Metadata saved to models\\saved_models_metadata\\metadata_a54314ad-5e6c-4a76-b5d7-151ada7ae1e4.json\n",
      "\n",
      "--- Training Model 133 ---\n",
      "\n",
      "params :  {'optimizer': <class 'torch.optim.sgd.SGD'>, 'lr': 5.18, 'epochs': 2}\n",
      "Epoch 1/2, Loss: 1.8135371306684733\n",
      "Epoch 2/2, Loss: 2.0099307221136113\n",
      "Model saved to models\\saved_models\\model_41801082-03b6-462e-8c88-0aca307729e5.pth\n",
      "Metadata saved to models\\saved_models_metadata\\metadata_41801082-03b6-462e-8c88-0aca307729e5.json\n",
      "\n",
      "--- Training Model 134 ---\n",
      "\n",
      "params :  {'optimizer': <class 'torch.optim.sgd.SGD'>, 'lr': 5.17, 'epochs': 2}\n",
      "Epoch 1/2, Loss: 2.175366747989329\n",
      "Epoch 2/2, Loss: 2.0995586689855497\n",
      "Model saved to models\\saved_models\\model_d40e1ad1-54d4-495d-a6b4-7f955bb63f91.pth\n",
      "Metadata saved to models\\saved_models_metadata\\metadata_d40e1ad1-54d4-495d-a6b4-7f955bb63f91.json\n",
      "\n",
      "--- Training Model 135 ---\n",
      "\n",
      "params :  {'optimizer': <class 'torch.optim.sgd.SGD'>, 'lr': 5.16, 'epochs': 2}\n",
      "Epoch 1/2, Loss: 2.17847403623402\n",
      "Epoch 2/2, Loss: 2.3261664666092474\n",
      "Model saved to models\\saved_models\\model_aa57c49b-85e8-4859-ac2c-9ff68e92a018.pth\n",
      "Metadata saved to models\\saved_models_metadata\\metadata_aa57c49b-85e8-4859-ac2c-9ff68e92a018.json\n",
      "\n",
      "--- Training Model 136 ---\n",
      "\n",
      "params :  {'optimizer': <class 'torch.optim.sgd.SGD'>, 'lr': 5.15, 'epochs': 2}\n",
      "Epoch 1/2, Loss: 1.645438927513704\n",
      "Epoch 2/2, Loss: 2.003724981091424\n",
      "Model saved to models\\saved_models\\model_f5476637-8eac-4655-9798-37a7ef624eea.pth\n",
      "Metadata saved to models\\saved_models_metadata\\metadata_f5476637-8eac-4655-9798-37a7ef624eea.json\n",
      "\n",
      "--- Training Model 137 ---\n",
      "\n",
      "params :  {'optimizer': <class 'torch.optim.sgd.SGD'>, 'lr': 5.14, 'epochs': 2}\n",
      "Epoch 1/2, Loss: 1.514439901976443\n",
      "Epoch 2/2, Loss: 2.2602092703776573\n",
      "Model saved to models\\saved_models\\model_49fa8a57-437d-457d-ba65-f2c97eee7157.pth\n",
      "Metadata saved to models\\saved_models_metadata\\metadata_49fa8a57-437d-457d-ba65-f2c97eee7157.json\n",
      "\n",
      "--- Training Model 138 ---\n",
      "\n",
      "params :  {'optimizer': <class 'torch.optim.sgd.SGD'>, 'lr': 5.13, 'epochs': 2}\n",
      "Epoch 1/2, Loss: 2.0721292639973323\n",
      "Epoch 2/2, Loss: 2.058587556963028\n",
      "Model saved to models\\saved_models\\model_c45272d0-f11a-46c6-839a-f225ab716648.pth\n",
      "Metadata saved to models\\saved_models_metadata\\metadata_c45272d0-f11a-46c6-839a-f225ab716648.json\n",
      "\n",
      "--- Training Model 139 ---\n",
      "\n",
      "params :  {'optimizer': <class 'torch.optim.sgd.SGD'>, 'lr': 5.12, 'epochs': 2}\n",
      "Epoch 1/2, Loss: 1.8868860141681965\n",
      "Epoch 2/2, Loss: 2.126628985282963\n",
      "Model saved to models\\saved_models\\model_81332f39-bc01-4a8d-9508-de0ec0390daa.pth\n",
      "Metadata saved to models\\saved_models_metadata\\metadata_81332f39-bc01-4a8d-9508-de0ec0390daa.json\n",
      "\n",
      "--- Training Model 140 ---\n",
      "\n",
      "params :  {'optimizer': <class 'torch.optim.sgd.SGD'>, 'lr': 5.11, 'epochs': 2}\n",
      "Epoch 1/2, Loss: 1.9473198657986452\n",
      "Epoch 2/2, Loss: 1.971517755405735\n",
      "Model saved to models\\saved_models\\model_2e36c710-aae4-4c66-a71d-1e279de792e2.pth\n",
      "Metadata saved to models\\saved_models_metadata\\metadata_2e36c710-aae4-4c66-a71d-1e279de792e2.json\n",
      "\n",
      "--- Training Model 141 ---\n",
      "\n",
      "params :  {'optimizer': <class 'torch.optim.sgd.SGD'>, 'lr': 5.1, 'epochs': 2}\n",
      "Epoch 1/2, Loss: 1.4078334138464572\n",
      "Epoch 2/2, Loss: 1.8885430476304566\n",
      "Model saved to models\\saved_models\\model_a3923627-00b3-44a0-8448-41f79b890155.pth\n",
      "Metadata saved to models\\saved_models_metadata\\metadata_a3923627-00b3-44a0-8448-41f79b890155.json\n",
      "\n",
      "--- Training Model 142 ---\n",
      "\n",
      "params :  {'optimizer': <class 'torch.optim.sgd.SGD'>, 'lr': 5.09, 'epochs': 2}\n",
      "Epoch 1/2, Loss: 1.9462029435105923\n",
      "Epoch 2/2, Loss: 2.1836951988846507\n",
      "Model saved to models\\saved_models\\model_eb1b7ed3-f072-4629-8e31-7e5f1b6efa6f.pth\n",
      "Metadata saved to models\\saved_models_metadata\\metadata_eb1b7ed3-f072-4629-8e31-7e5f1b6efa6f.json\n",
      "\n",
      "--- Training Model 143 ---\n",
      "\n",
      "params :  {'optimizer': <class 'torch.optim.sgd.SGD'>, 'lr': 5.08, 'epochs': 2}\n",
      "Epoch 1/2, Loss: 2.1183147210556306\n",
      "Epoch 2/2, Loss: 2.32236845648365\n",
      "Model saved to models\\saved_models\\model_20c8dfd4-5ff0-4ecd-a1e6-0affdafb7e33.pth\n",
      "Metadata saved to models\\saved_models_metadata\\metadata_20c8dfd4-5ff0-4ecd-a1e6-0affdafb7e33.json\n",
      "\n",
      "--- Training Model 144 ---\n",
      "\n",
      "params :  {'optimizer': <class 'torch.optim.sgd.SGD'>, 'lr': 5.07, 'epochs': 2}\n",
      "Epoch 1/2, Loss: 1.9912859447348092\n",
      "Epoch 2/2, Loss: 1.9927068889013995\n",
      "Model saved to models\\saved_models\\model_23cb5334-23cb-4fcc-92f5-4c3442cf14c7.pth\n",
      "Metadata saved to models\\saved_models_metadata\\metadata_23cb5334-23cb-4fcc-92f5-4c3442cf14c7.json\n",
      "\n",
      "--- Training Model 145 ---\n",
      "\n",
      "params :  {'optimizer': <class 'torch.optim.sgd.SGD'>, 'lr': 5.06, 'epochs': 2}\n",
      "Epoch 1/2, Loss: 0.3920128627328762\n",
      "Epoch 2/2, Loss: 0.11243340551981261\n",
      "Model saved to models\\saved_models\\model_b94e7bf0-38fc-4424-bb67-2bece74c5903.pth\n",
      "Metadata saved to models\\saved_models_metadata\\metadata_b94e7bf0-38fc-4424-bb67-2bece74c5903.json\n",
      "\n",
      "--- Training Model 146 ---\n",
      "\n",
      "params :  {'optimizer': <class 'torch.optim.sgd.SGD'>, 'lr': 5.05, 'epochs': 2}\n",
      "Epoch 1/2, Loss: 1.9304318555446067\n",
      "Epoch 2/2, Loss: 2.090687909995569\n",
      "Model saved to models\\saved_models\\model_472bde2c-4dec-46e3-a8c9-b264e95f0718.pth\n",
      "Metadata saved to models\\saved_models_metadata\\metadata_472bde2c-4dec-46e3-a8c9-b264e95f0718.json\n",
      "\n",
      "--- Training Model 147 ---\n",
      "\n",
      "params :  {'optimizer': <class 'torch.optim.sgd.SGD'>, 'lr': 5.04, 'epochs': 2}\n",
      "Epoch 1/2, Loss: 1.6222195553500007\n",
      "Epoch 2/2, Loss: 1.8200207099731542\n",
      "Model saved to models\\saved_models\\model_cc637e2b-e65c-47de-a9b7-5b33d21ec0a9.pth\n",
      "Metadata saved to models\\saved_models_metadata\\metadata_cc637e2b-e65c-47de-a9b7-5b33d21ec0a9.json\n",
      "\n",
      "--- Training Model 148 ---\n",
      "\n",
      "params :  {'optimizer': <class 'torch.optim.sgd.SGD'>, 'lr': 5.03, 'epochs': 2}\n",
      "Epoch 1/2, Loss: 1.4922783303696083\n",
      "Epoch 2/2, Loss: 1.9798032350377488\n",
      "Model saved to models\\saved_models\\model_9192a060-2d55-462a-8a7c-19bf3d54b9ab.pth\n",
      "Metadata saved to models\\saved_models_metadata\\metadata_9192a060-2d55-462a-8a7c-19bf3d54b9ab.json\n",
      "\n",
      "--- Training Model 149 ---\n",
      "\n",
      "params :  {'optimizer': <class 'torch.optim.sgd.SGD'>, 'lr': 5.02, 'epochs': 2}\n",
      "Epoch 1/2, Loss: 1.281538932693443\n",
      "Epoch 2/2, Loss: 1.9138079426690204\n",
      "Model saved to models\\saved_models\\model_f6eea63e-f126-4d21-9003-9fd6f318df4a.pth\n",
      "Metadata saved to models\\saved_models_metadata\\metadata_f6eea63e-f126-4d21-9003-9fd6f318df4a.json\n",
      "\n",
      "--- Training Model 150 ---\n",
      "\n",
      "params :  {'optimizer': <class 'torch.optim.sgd.SGD'>, 'lr': 5.01, 'epochs': 2}\n",
      "Epoch 1/2, Loss: 1.4609174363807576\n",
      "Epoch 2/2, Loss: 2.014586344456622\n",
      "Model saved to models\\saved_models\\model_2619b411-9741-4a13-99ee-67b31b0bb5a3.pth\n",
      "Metadata saved to models\\saved_models_metadata\\metadata_2619b411-9741-4a13-99ee-67b31b0bb5a3.json\n",
      "\n",
      "--- Training Model 151 ---\n",
      "\n",
      "params :  {'optimizer': <class 'torch.optim.sgd.SGD'>, 'lr': 5.0, 'epochs': 2}\n",
      "Epoch 1/2, Loss: 1.825150313471426\n",
      "Epoch 2/2, Loss: 2.1645150512520437\n",
      "Model saved to models\\saved_models\\model_6206daa6-e665-40c3-89b1-73b1e087da78.pth\n",
      "Metadata saved to models\\saved_models_metadata\\metadata_6206daa6-e665-40c3-89b1-73b1e087da78.json\n",
      "\n",
      "--- Training Model 152 ---\n",
      "\n",
      "params :  {'optimizer': <class 'torch.optim.sgd.SGD'>, 'lr': 4.99, 'epochs': 2}\n",
      "Epoch 1/2, Loss: 1.1432804022885874\n",
      "Epoch 2/2, Loss: 1.9159209096609657\n",
      "Model saved to models\\saved_models\\model_6e02e2c9-2d04-427a-bc6e-59ff1d70de98.pth\n",
      "Metadata saved to models\\saved_models_metadata\\metadata_6e02e2c9-2d04-427a-bc6e-59ff1d70de98.json\n",
      "\n",
      "--- Training Model 153 ---\n",
      "\n",
      "params :  {'optimizer': <class 'torch.optim.sgd.SGD'>, 'lr': 4.98, 'epochs': 2}\n",
      "Epoch 1/2, Loss: 2.0145833465590406\n",
      "Epoch 2/2, Loss: 2.0410234549406496\n",
      "Model saved to models\\saved_models\\model_bb2047ad-d1e3-49e6-b4c5-fb54d07fcc0e.pth\n",
      "Metadata saved to models\\saved_models_metadata\\metadata_bb2047ad-d1e3-49e6-b4c5-fb54d07fcc0e.json\n",
      "\n",
      "--- Training Model 154 ---\n",
      "\n",
      "params :  {'optimizer': <class 'torch.optim.sgd.SGD'>, 'lr': 4.97, 'epochs': 2}\n",
      "Epoch 1/2, Loss: 1.8263504506428359\n",
      "Epoch 2/2, Loss: 1.8628556036999993\n",
      "Model saved to models\\saved_models\\model_64802d28-45aa-48ce-9f36-7ce3e8d26944.pth\n",
      "Metadata saved to models\\saved_models_metadata\\metadata_64802d28-45aa-48ce-9f36-7ce3e8d26944.json\n",
      "\n",
      "--- Training Model 155 ---\n",
      "\n",
      "params :  {'optimizer': <class 'torch.optim.sgd.SGD'>, 'lr': 4.96, 'epochs': 2}\n",
      "Epoch 1/2, Loss: 2.1350634980684657\n",
      "Epoch 2/2, Loss: 2.225620843072944\n",
      "Model saved to models\\saved_models\\model_d34d3efe-0195-43dc-926a-0ebf03fad5c0.pth\n",
      "Metadata saved to models\\saved_models_metadata\\metadata_d34d3efe-0195-43dc-926a-0ebf03fad5c0.json\n",
      "\n",
      "--- Training Model 156 ---\n",
      "\n",
      "params :  {'optimizer': <class 'torch.optim.sgd.SGD'>, 'lr': 4.95, 'epochs': 2}\n",
      "Epoch 1/2, Loss: 2.20739624927293\n",
      "Epoch 2/2, Loss: 2.2648067939510224\n",
      "Model saved to models\\saved_models\\model_d5ff7c51-a3f4-4b2a-a671-9209ae5abb4a.pth\n",
      "Metadata saved to models\\saved_models_metadata\\metadata_d5ff7c51-a3f4-4b2a-a671-9209ae5abb4a.json\n",
      "\n",
      "--- Training Model 157 ---\n",
      "\n",
      "params :  {'optimizer': <class 'torch.optim.sgd.SGD'>, 'lr': 4.94, 'epochs': 2}\n",
      "Epoch 1/2, Loss: 1.863611237072487\n",
      "Epoch 2/2, Loss: 1.9067062204326395\n",
      "Model saved to models\\saved_models\\model_34a04209-7332-43f2-9257-fbcdea3525c5.pth\n",
      "Metadata saved to models\\saved_models_metadata\\metadata_34a04209-7332-43f2-9257-fbcdea3525c5.json\n",
      "\n",
      "--- Training Model 158 ---\n",
      "\n",
      "params :  {'optimizer': <class 'torch.optim.sgd.SGD'>, 'lr': 4.93, 'epochs': 2}\n",
      "Epoch 1/2, Loss: 0.3369530203949803\n",
      "Epoch 2/2, Loss: 0.09727458005102955\n",
      "Model saved to models\\saved_models\\model_d869ebaa-f50a-4725-91a3-c08a3b124981.pth\n",
      "Metadata saved to models\\saved_models_metadata\\metadata_d869ebaa-f50a-4725-91a3-c08a3b124981.json\n",
      "\n",
      "--- Training Model 159 ---\n",
      "\n",
      "params :  {'optimizer': <class 'torch.optim.sgd.SGD'>, 'lr': 4.92, 'epochs': 2}\n",
      "Epoch 1/2, Loss: 1.9611979071011167\n",
      "Epoch 2/2, Loss: 1.9784309639097022\n",
      "Model saved to models\\saved_models\\model_2322612b-6284-417f-b573-ade3f099ceba.pth\n",
      "Metadata saved to models\\saved_models_metadata\\metadata_2322612b-6284-417f-b573-ade3f099ceba.json\n",
      "\n",
      "--- Training Model 160 ---\n",
      "\n",
      "params :  {'optimizer': <class 'torch.optim.sgd.SGD'>, 'lr': 4.91, 'epochs': 2}\n",
      "Epoch 1/2, Loss: 2.254045256800743\n",
      "Epoch 2/2, Loss: 2.324412568037444\n",
      "Model saved to models\\saved_models\\model_febd0af1-a3f8-4b4f-a9a3-48586f32d7f5.pth\n",
      "Metadata saved to models\\saved_models_metadata\\metadata_febd0af1-a3f8-4b4f-a9a3-48586f32d7f5.json\n",
      "\n",
      "--- Training Model 161 ---\n",
      "\n",
      "params :  {'optimizer': <class 'torch.optim.sgd.SGD'>, 'lr': 4.9, 'epochs': 2}\n",
      "Epoch 1/2, Loss: 1.949562241559598\n",
      "Epoch 2/2, Loss: 2.006208313045217\n",
      "Model saved to models\\saved_models\\model_f72ddd09-703b-45fd-a82a-5ec1ce430c7e.pth\n",
      "Metadata saved to models\\saved_models_metadata\\metadata_f72ddd09-703b-45fd-a82a-5ec1ce430c7e.json\n",
      "\n",
      "--- Training Model 162 ---\n",
      "\n",
      "params :  {'optimizer': <class 'torch.optim.sgd.SGD'>, 'lr': 4.89, 'epochs': 2}\n",
      "Epoch 1/2, Loss: 0.30773129981052855\n",
      "Epoch 2/2, Loss: 0.09872627614869246\n",
      "Model saved to models\\saved_models\\model_dc86709f-bd9d-4081-bb17-c3e36b3e5cee.pth\n",
      "Metadata saved to models\\saved_models_metadata\\metadata_dc86709f-bd9d-4081-bb17-c3e36b3e5cee.json\n",
      "\n",
      "--- Training Model 163 ---\n",
      "\n",
      "params :  {'optimizer': <class 'torch.optim.sgd.SGD'>, 'lr': 4.88, 'epochs': 2}\n",
      "Epoch 1/2, Loss: 1.54748145046074\n",
      "Epoch 2/2, Loss: 1.876820084509819\n",
      "Model saved to models\\saved_models\\model_1ebed4b2-a941-4dae-a100-e9383a86d17c.pth\n",
      "Metadata saved to models\\saved_models_metadata\\metadata_1ebed4b2-a941-4dae-a100-e9383a86d17c.json\n",
      "\n",
      "--- Training Model 164 ---\n",
      "\n",
      "params :  {'optimizer': <class 'torch.optim.sgd.SGD'>, 'lr': 4.87, 'epochs': 2}\n",
      "Epoch 1/2, Loss: 1.8979927018634293\n",
      "Epoch 2/2, Loss: 2.0360106332724026\n",
      "Model saved to models\\saved_models\\model_6f13a75a-cd85-453d-95b5-0bc7ca0e6569.pth\n",
      "Metadata saved to models\\saved_models_metadata\\metadata_6f13a75a-cd85-453d-95b5-0bc7ca0e6569.json\n",
      "\n",
      "--- Training Model 165 ---\n",
      "\n",
      "params :  {'optimizer': <class 'torch.optim.sgd.SGD'>, 'lr': 4.86, 'epochs': 2}\n",
      "Epoch 1/2, Loss: 1.941477570833682\n",
      "Epoch 2/2, Loss: 2.277375124283691\n",
      "Model saved to models\\saved_models\\model_65597ea1-78e1-4a2f-82d2-d4a90b8f3ec2.pth\n",
      "Metadata saved to models\\saved_models_metadata\\metadata_65597ea1-78e1-4a2f-82d2-d4a90b8f3ec2.json\n",
      "\n",
      "--- Training Model 166 ---\n",
      "\n",
      "params :  {'optimizer': <class 'torch.optim.sgd.SGD'>, 'lr': 4.85, 'epochs': 2}\n",
      "Epoch 1/2, Loss: 0.46269934970502263\n",
      "Epoch 2/2, Loss: 0.11806526429486275\n",
      "Model saved to models\\saved_models\\model_a543e76a-108a-44b0-a5eb-176d943ea3d9.pth\n",
      "Metadata saved to models\\saved_models_metadata\\metadata_a543e76a-108a-44b0-a5eb-176d943ea3d9.json\n",
      "\n",
      "--- Training Model 167 ---\n",
      "\n",
      "params :  {'optimizer': <class 'torch.optim.sgd.SGD'>, 'lr': 4.84, 'epochs': 2}\n",
      "Epoch 1/2, Loss: 1.830639402940075\n",
      "Epoch 2/2, Loss: 2.1908796199603375\n",
      "Model saved to models\\saved_models\\model_3bb71a28-2116-4f87-98e5-1b9ea3bbf089.pth\n",
      "Metadata saved to models\\saved_models_metadata\\metadata_3bb71a28-2116-4f87-98e5-1b9ea3bbf089.json\n",
      "\n",
      "--- Training Model 168 ---\n",
      "\n",
      "params :  {'optimizer': <class 'torch.optim.sgd.SGD'>, 'lr': 4.83, 'epochs': 2}\n",
      "Epoch 1/2, Loss: 0.29696426624263417\n",
      "Epoch 2/2, Loss: 0.10263266331138415\n",
      "Model saved to models\\saved_models\\model_8355a5ac-09cb-4d82-b8c2-76b321aca771.pth\n",
      "Metadata saved to models\\saved_models_metadata\\metadata_8355a5ac-09cb-4d82-b8c2-76b321aca771.json\n",
      "\n",
      "--- Training Model 169 ---\n",
      "\n",
      "params :  {'optimizer': <class 'torch.optim.sgd.SGD'>, 'lr': 4.82, 'epochs': 2}\n",
      "Epoch 1/2, Loss: 1.9724279677689964\n",
      "Epoch 2/2, Loss: 2.2270345338372026\n",
      "Model saved to models\\saved_models\\model_4273bb09-66dd-4c5a-a5a3-a05c800171fc.pth\n",
      "Metadata saved to models\\saved_models_metadata\\metadata_4273bb09-66dd-4c5a-a5a3-a05c800171fc.json\n",
      "\n",
      "--- Training Model 170 ---\n",
      "\n",
      "params :  {'optimizer': <class 'torch.optim.sgd.SGD'>, 'lr': 4.81, 'epochs': 2}\n",
      "Epoch 1/2, Loss: 0.98527104346586\n",
      "Epoch 2/2, Loss: 2.3228637973891137\n",
      "Model saved to models\\saved_models\\model_e0546f02-de5e-448f-911b-c7f45508a4c2.pth\n",
      "Metadata saved to models\\saved_models_metadata\\metadata_e0546f02-de5e-448f-911b-c7f45508a4c2.json\n",
      "\n",
      "--- Training Model 171 ---\n",
      "\n",
      "params :  {'optimizer': <class 'torch.optim.sgd.SGD'>, 'lr': 4.8, 'epochs': 2}\n",
      "Epoch 1/2, Loss: 0.2862731641131654\n",
      "Epoch 2/2, Loss: 0.09566888358019023\n",
      "Model saved to models\\saved_models\\model_c1a944b8-fea3-43df-9dd8-1f624a8e4fc2.pth\n",
      "Metadata saved to models\\saved_models_metadata\\metadata_c1a944b8-fea3-43df-9dd8-1f624a8e4fc2.json\n",
      "\n",
      "--- Training Model 172 ---\n",
      "\n",
      "params :  {'optimizer': <class 'torch.optim.sgd.SGD'>, 'lr': 4.79, 'epochs': 2}\n",
      "Epoch 1/2, Loss: 1.6908363152795762\n",
      "Epoch 2/2, Loss: 1.8328541834979677\n",
      "Model saved to models\\saved_models\\model_53362071-d3c3-4892-a1ac-2a0ab859eb25.pth\n",
      "Metadata saved to models\\saved_models_metadata\\metadata_53362071-d3c3-4892-a1ac-2a0ab859eb25.json\n",
      "\n",
      "--- Training Model 173 ---\n",
      "\n",
      "params :  {'optimizer': <class 'torch.optim.sgd.SGD'>, 'lr': 4.78, 'epochs': 2}\n",
      "Epoch 1/2, Loss: 1.9043262964372696\n",
      "Epoch 2/2, Loss: 2.315032521163477\n",
      "Model saved to models\\saved_models\\model_49fe0a59-f61b-47da-af71-1037e56bbcfe.pth\n",
      "Metadata saved to models\\saved_models_metadata\\metadata_49fe0a59-f61b-47da-af71-1037e56bbcfe.json\n",
      "\n",
      "--- Training Model 174 ---\n",
      "\n",
      "params :  {'optimizer': <class 'torch.optim.sgd.SGD'>, 'lr': 4.77, 'epochs': 2}\n",
      "Epoch 1/2, Loss: 1.9333959335584376\n",
      "Epoch 2/2, Loss: 2.0067522154688073\n",
      "Model saved to models\\saved_models\\model_664655a5-e3c7-40fb-a453-54b4e772e57b.pth\n",
      "Metadata saved to models\\saved_models_metadata\\metadata_664655a5-e3c7-40fb-a453-54b4e772e57b.json\n",
      "\n",
      "--- Training Model 175 ---\n",
      "\n",
      "params :  {'optimizer': <class 'torch.optim.sgd.SGD'>, 'lr': 4.76, 'epochs': 2}\n",
      "Epoch 1/2, Loss: 1.8108817797416308\n",
      "Epoch 2/2, Loss: 1.815098946536782\n",
      "Model saved to models\\saved_models\\model_bc1f3d60-2de1-426e-9784-23051119f651.pth\n",
      "Metadata saved to models\\saved_models_metadata\\metadata_bc1f3d60-2de1-426e-9784-23051119f651.json\n",
      "\n",
      "--- Training Model 176 ---\n",
      "\n",
      "params :  {'optimizer': <class 'torch.optim.sgd.SGD'>, 'lr': 4.75, 'epochs': 2}\n",
      "Epoch 1/2, Loss: 1.982221783796099\n",
      "Epoch 2/2, Loss: 2.0503792526371187\n",
      "Model saved to models\\saved_models\\model_06cd6b01-1c15-451b-a5bb-6ed5bc6c8466.pth\n",
      "Metadata saved to models\\saved_models_metadata\\metadata_06cd6b01-1c15-451b-a5bb-6ed5bc6c8466.json\n",
      "\n",
      "--- Training Model 177 ---\n",
      "\n",
      "params :  {'optimizer': <class 'torch.optim.sgd.SGD'>, 'lr': 4.74, 'epochs': 2}\n",
      "Epoch 1/2, Loss: 1.895382283688354\n",
      "Epoch 2/2, Loss: 2.3047605505121798\n",
      "Model saved to models\\saved_models\\model_854a6013-e6ae-4a75-aa89-793a09fd7841.pth\n",
      "Metadata saved to models\\saved_models_metadata\\metadata_854a6013-e6ae-4a75-aa89-793a09fd7841.json\n",
      "\n",
      "--- Training Model 178 ---\n",
      "\n",
      "params :  {'optimizer': <class 'torch.optim.sgd.SGD'>, 'lr': 4.73, 'epochs': 2}\n",
      "Epoch 1/2, Loss: 0.33932129957396456\n",
      "Epoch 2/2, Loss: 0.09703721872171951\n",
      "Model saved to models\\saved_models\\model_ede57716-1034-4438-896a-241e0e97090c.pth\n",
      "Metadata saved to models\\saved_models_metadata\\metadata_ede57716-1034-4438-896a-241e0e97090c.json\n",
      "\n",
      "--- Training Model 179 ---\n",
      "\n",
      "params :  {'optimizer': <class 'torch.optim.sgd.SGD'>, 'lr': 4.72, 'epochs': 2}\n",
      "Epoch 1/2, Loss: 0.27382484767466847\n",
      "Epoch 2/2, Loss: 0.08884604562913924\n",
      "Model saved to models\\saved_models\\model_6de6060d-d035-4f0a-ac53-92e622002bc5.pth\n",
      "Metadata saved to models\\saved_models_metadata\\metadata_6de6060d-d035-4f0a-ac53-92e622002bc5.json\n",
      "\n",
      "--- Training Model 180 ---\n",
      "\n",
      "params :  {'optimizer': <class 'torch.optim.sgd.SGD'>, 'lr': 4.71, 'epochs': 2}\n",
      "Epoch 1/2, Loss: 0.33490334586031845\n",
      "Epoch 2/2, Loss: 0.10224719404099958\n",
      "Model saved to models\\saved_models\\model_14ec9a82-4a98-43bc-93af-da6ede0ded18.pth\n",
      "Metadata saved to models\\saved_models_metadata\\metadata_14ec9a82-4a98-43bc-93af-da6ede0ded18.json\n",
      "\n",
      "--- Training Model 181 ---\n",
      "\n",
      "params :  {'optimizer': <class 'torch.optim.sgd.SGD'>, 'lr': 4.7, 'epochs': 2}\n",
      "Epoch 1/2, Loss: 0.33127626777712954\n",
      "Epoch 2/2, Loss: 0.09968417196168201\n",
      "Model saved to models\\saved_models\\model_7c827c92-be16-49a6-a830-40d7369b2cd5.pth\n",
      "Metadata saved to models\\saved_models_metadata\\metadata_7c827c92-be16-49a6-a830-40d7369b2cd5.json\n",
      "\n",
      "--- Training Model 182 ---\n",
      "\n",
      "params :  {'optimizer': <class 'torch.optim.sgd.SGD'>, 'lr': 4.69, 'epochs': 2}\n",
      "Epoch 1/2, Loss: 2.191192906612018\n",
      "Epoch 2/2, Loss: 2.1342562435786605\n",
      "Model saved to models\\saved_models\\model_7e466157-d2e5-461d-8175-c68850c8cc6a.pth\n",
      "Metadata saved to models\\saved_models_metadata\\metadata_7e466157-d2e5-461d-8175-c68850c8cc6a.json\n",
      "\n",
      "--- Training Model 183 ---\n",
      "\n",
      "params :  {'optimizer': <class 'torch.optim.sgd.SGD'>, 'lr': 4.68, 'epochs': 2}\n",
      "Epoch 1/2, Loss: 2.010501916347536\n",
      "Epoch 2/2, Loss: 2.316004185788413\n",
      "Model saved to models\\saved_models\\model_a85a5771-a0da-4973-bd18-c1ddb12f7bbd.pth\n",
      "Metadata saved to models\\saved_models_metadata\\metadata_a85a5771-a0da-4973-bd18-c1ddb12f7bbd.json\n",
      "\n",
      "--- Training Model 184 ---\n",
      "\n",
      "params :  {'optimizer': <class 'torch.optim.sgd.SGD'>, 'lr': 4.67, 'epochs': 2}\n",
      "Epoch 1/2, Loss: 1.6843878735007762\n",
      "Epoch 2/2, Loss: 2.109588125621332\n",
      "Model saved to models\\saved_models\\model_6450f237-3e20-45e0-a2e0-90611a990fd2.pth\n",
      "Metadata saved to models\\saved_models_metadata\\metadata_6450f237-3e20-45e0-a2e0-90611a990fd2.json\n",
      "\n",
      "--- Training Model 185 ---\n",
      "\n",
      "params :  {'optimizer': <class 'torch.optim.sgd.SGD'>, 'lr': 4.66, 'epochs': 2}\n",
      "Epoch 1/2, Loss: 2.1331349826062413\n",
      "Epoch 2/2, Loss: 2.313824599994017\n",
      "Model saved to models\\saved_models\\model_02c4e111-5995-45df-8d6a-165cc07ed7d0.pth\n",
      "Metadata saved to models\\saved_models_metadata\\metadata_02c4e111-5995-45df-8d6a-165cc07ed7d0.json\n",
      "\n",
      "--- Training Model 186 ---\n",
      "\n",
      "params :  {'optimizer': <class 'torch.optim.sgd.SGD'>, 'lr': 4.65, 'epochs': 2}\n",
      "Epoch 1/2, Loss: 1.6451882803236753\n",
      "Epoch 2/2, Loss: 1.993901306632231\n",
      "Model saved to models\\saved_models\\model_1cd2967d-6d0f-4aba-af38-34dffdf8eb4e.pth\n",
      "Metadata saved to models\\saved_models_metadata\\metadata_1cd2967d-6d0f-4aba-af38-34dffdf8eb4e.json\n",
      "\n",
      "--- Training Model 187 ---\n",
      "\n",
      "params :  {'optimizer': <class 'torch.optim.sgd.SGD'>, 'lr': 4.64, 'epochs': 2}\n",
      "Epoch 1/2, Loss: 2.320457585584889\n",
      "Epoch 2/2, Loss: 2.32281763467199\n",
      "Model saved to models\\saved_models\\model_d5f6303d-4c19-4ef7-a121-ac65b9648d81.pth\n",
      "Metadata saved to models\\saved_models_metadata\\metadata_d5f6303d-4c19-4ef7-a121-ac65b9648d81.json\n",
      "\n",
      "--- Training Model 188 ---\n",
      "\n",
      "params :  {'optimizer': <class 'torch.optim.sgd.SGD'>, 'lr': 4.63, 'epochs': 2}\n",
      "Epoch 1/2, Loss: 1.7091182234889664\n",
      "Epoch 2/2, Loss: 2.085355813188085\n",
      "Model saved to models\\saved_models\\model_400247f8-23d7-4872-bccc-caf1a9517ac5.pth\n",
      "Metadata saved to models\\saved_models_metadata\\metadata_400247f8-23d7-4872-bccc-caf1a9517ac5.json\n",
      "\n",
      "--- Training Model 189 ---\n",
      "\n",
      "params :  {'optimizer': <class 'torch.optim.sgd.SGD'>, 'lr': 4.62, 'epochs': 2}\n",
      "Epoch 1/2, Loss: 0.2984164489928617\n",
      "Epoch 2/2, Loss: 0.0921034253701798\n",
      "Model saved to models\\saved_models\\model_76827416-84c4-4bfc-a551-45d56ce721b3.pth\n",
      "Metadata saved to models\\saved_models_metadata\\metadata_76827416-84c4-4bfc-a551-45d56ce721b3.json\n",
      "\n",
      "--- Training Model 190 ---\n",
      "\n",
      "params :  {'optimizer': <class 'torch.optim.sgd.SGD'>, 'lr': 4.61, 'epochs': 2}\n",
      "Epoch 1/2, Loss: 1.7140641371324372\n",
      "Epoch 2/2, Loss: 1.8793938466226623\n",
      "Model saved to models\\saved_models\\model_48cd9521-2d08-45a0-b394-0b08158f59ae.pth\n",
      "Metadata saved to models\\saved_models_metadata\\metadata_48cd9521-2d08-45a0-b394-0b08158f59ae.json\n",
      "\n",
      "--- Training Model 191 ---\n",
      "\n",
      "params :  {'optimizer': <class 'torch.optim.sgd.SGD'>, 'lr': 4.6, 'epochs': 2}\n",
      "Epoch 1/2, Loss: 1.7967040961358085\n",
      "Epoch 2/2, Loss: 1.7513157600787148\n",
      "Model saved to models\\saved_models\\model_78a3ac76-2aad-4b15-a8ee-53a3a415abe7.pth\n",
      "Metadata saved to models\\saved_models_metadata\\metadata_78a3ac76-2aad-4b15-a8ee-53a3a415abe7.json\n",
      "\n",
      "--- Training Model 192 ---\n",
      "\n",
      "params :  {'optimizer': <class 'torch.optim.sgd.SGD'>, 'lr': 4.59, 'epochs': 2}\n",
      "Epoch 1/2, Loss: 0.24389422769551036\n",
      "Epoch 2/2, Loss: 0.08858768528468583\n",
      "Model saved to models\\saved_models\\model_6d3face7-3550-43af-9d17-6644c090ecea.pth\n",
      "Metadata saved to models\\saved_models_metadata\\metadata_6d3face7-3550-43af-9d17-6644c090ecea.json\n",
      "\n",
      "--- Training Model 193 ---\n",
      "\n",
      "params :  {'optimizer': <class 'torch.optim.sgd.SGD'>, 'lr': 4.58, 'epochs': 2}\n",
      "Epoch 1/2, Loss: 0.3444823288023154\n",
      "Epoch 2/2, Loss: 0.10469451779698226\n",
      "Model saved to models\\saved_models\\model_7401aa23-e1b8-4673-9eb5-81987e7adefe.pth\n",
      "Metadata saved to models\\saved_models_metadata\\metadata_7401aa23-e1b8-4673-9eb5-81987e7adefe.json\n",
      "\n",
      "--- Training Model 194 ---\n",
      "\n",
      "params :  {'optimizer': <class 'torch.optim.sgd.SGD'>, 'lr': 4.57, 'epochs': 2}\n",
      "Epoch 1/2, Loss: 0.3394853083567241\n",
      "Epoch 2/2, Loss: 0.10129168383374529\n",
      "Model saved to models\\saved_models\\model_97300587-779d-490b-90c8-b1f91a8550bd.pth\n",
      "Metadata saved to models\\saved_models_metadata\\metadata_97300587-779d-490b-90c8-b1f91a8550bd.json\n",
      "\n",
      "--- Training Model 195 ---\n",
      "\n",
      "params :  {'optimizer': <class 'torch.optim.sgd.SGD'>, 'lr': 4.56, 'epochs': 2}\n",
      "Epoch 1/2, Loss: 0.27586345917175165\n",
      "Epoch 2/2, Loss: 0.09201709375302715\n",
      "Model saved to models\\saved_models\\model_8b9db4d7-359a-4bc7-84ae-b39ed3d16848.pth\n",
      "Metadata saved to models\\saved_models_metadata\\metadata_8b9db4d7-359a-4bc7-84ae-b39ed3d16848.json\n",
      "\n",
      "--- Training Model 196 ---\n",
      "\n",
      "params :  {'optimizer': <class 'torch.optim.sgd.SGD'>, 'lr': 4.55, 'epochs': 2}\n",
      "Epoch 1/2, Loss: 0.4345180454101962\n",
      "Epoch 2/2, Loss: 0.12498431226639732\n",
      "Model saved to models\\saved_models\\model_5e9ec5f8-bd59-4705-90f6-e73e8fe03818.pth\n",
      "Metadata saved to models\\saved_models_metadata\\metadata_5e9ec5f8-bd59-4705-90f6-e73e8fe03818.json\n",
      "\n",
      "--- Training Model 197 ---\n",
      "\n",
      "params :  {'optimizer': <class 'torch.optim.sgd.SGD'>, 'lr': 4.54, 'epochs': 2}\n",
      "Epoch 1/2, Loss: 0.28790981698369705\n",
      "Epoch 2/2, Loss: 0.09071579381157316\n",
      "Model saved to models\\saved_models\\model_375e2af8-f46b-47a7-ad05-8cbae0d7c4a0.pth\n",
      "Metadata saved to models\\saved_models_metadata\\metadata_375e2af8-f46b-47a7-ad05-8cbae0d7c4a0.json\n",
      "\n",
      "--- Training Model 198 ---\n",
      "\n",
      "params :  {'optimizer': <class 'torch.optim.sgd.SGD'>, 'lr': 4.53, 'epochs': 2}\n",
      "Epoch 1/2, Loss: 0.3547155778484741\n",
      "Epoch 2/2, Loss: 0.10097854888872869\n",
      "Model saved to models\\saved_models\\model_2a351b29-c843-4e3d-a26e-c7fb386b34b6.pth\n",
      "Metadata saved to models\\saved_models_metadata\\metadata_2a351b29-c843-4e3d-a26e-c7fb386b34b6.json\n",
      "\n",
      "--- Training Model 199 ---\n",
      "\n",
      "params :  {'optimizer': <class 'torch.optim.sgd.SGD'>, 'lr': 4.52, 'epochs': 2}\n",
      "Epoch 1/2, Loss: 0.2762405563628416\n",
      "Epoch 2/2, Loss: 0.08728941979305223\n",
      "Model saved to models\\saved_models\\model_94295d5c-f900-4837-a25f-cc09f2ca8244.pth\n",
      "Metadata saved to models\\saved_models_metadata\\metadata_94295d5c-f900-4837-a25f-cc09f2ca8244.json\n",
      "\n",
      "--- Training Model 200 ---\n",
      "\n",
      "params :  {'optimizer': <class 'torch.optim.sgd.SGD'>, 'lr': 4.51, 'epochs': 2}\n",
      "Epoch 1/2, Loss: 1.9643392778917161\n",
      "Epoch 2/2, Loss: 1.8648281734762415\n",
      "Model saved to models\\saved_models\\model_25c845dc-7cc4-4456-ba5f-ceed39c2097e.pth\n",
      "Metadata saved to models\\saved_models_metadata\\metadata_25c845dc-7cc4-4456-ba5f-ceed39c2097e.json\n"
     ]
    }
   ],
   "source": [
    "\n",
    "import torch.nn as nn\n",
    "import torch.optim as optim\n",
    "from scripts import train_model_and_save\n",
    "\n",
    "\n",
    "\n",
    "for i, params in enumerate(hyperparameters):\n",
    "    print(f\"\\n--- Training Model {i + 1} ---\\n\")\n",
    "    print(\"params : \", params)\n",
    "\n",
    "    \n",
    "    model = LeNet5()\n",
    "\n",
    "    \n",
    "    optimizer = params[\"optimizer\"](model.parameters(), lr=params[\"lr\"])\n",
    "\n",
    "    \n",
    "    criterion = nn.CrossEntropyLoss()\n",
    "\n",
    "    \n",
    "    train_model_and_save(model, train_loader, criterion, optimizer, params[\"epochs\"], learning_rate=params[\"lr\"])"
   ]
  },
  {
   "cell_type": "code",
   "execution_count": 4,
   "metadata": {},
   "outputs": [],
   "source": [
    "\n",
    "import re \n",
    "\n",
    "def find_uuid(file_name :str ) -> str:\n",
    "    pattern = r\"model_([a-f0-9\\-]+)\\.pth\"\n",
    "    match = re.search(pattern, file_name)\n",
    "    if match:\n",
    "        extracted_string = match.group(1)  \n",
    "        return extracted_string\n",
    "    else:\n",
    "        None"
   ]
  },
  {
   "cell_type": "code",
   "execution_count": 7,
   "metadata": {},
   "outputs": [
    {
     "name": "stdout",
     "output_type": "stream",
     "text": [
      "Files in the folder:\n",
      "Model 02c4e111-5995-45df-8d6a-165cc07ed7d0 :\n",
      "\n",
      "Final Loss: 2.313824599994017\n",
      "Learning Rate: 4.66\n",
      "Optimizer: SGD\n",
      "Epochs: 2\n"
     ]
    },
    {
     "name": "stderr",
     "output_type": "stream",
     "text": [
      "c:\\Users\\cypri\\OneDrive - CentraleSupelec\\Bureau\\Non_Linear_Systems\\scripts\\utils.py:53: FutureWarning: You are using `torch.load` with `weights_only=False` (the current default value), which uses the default pickle module implicitly. It is possible to construct malicious pickle data which will execute arbitrary code during unpickling (See https://github.com/pytorch/pytorch/blob/main/SECURITY.md#untrusted-models for more details). In a future release, the default value for `weights_only` will be flipped to `True`. This limits the functions that could be executed during unpickling. Arbitrary objects will no longer be allowed to be loaded via this mode unless they are explicitly allowlisted by the user via `torch.serialization.add_safe_globals`. We recommend you start setting `weights_only=True` for any use case where you don't have full control of the loaded file. Please open an issue on GitHub for any issues related to this experimental feature.\n",
      "  model.load_state_dict(torch.load(model_path))\n",
      "c:\\Users\\cypri\\anaconda3\\envs\\Torch_Intro_ML\\Lib\\site-packages\\sklearn\\metrics\\_classification.py:1531: UndefinedMetricWarning: Precision is ill-defined and being set to 0.0 in labels with no predicted samples. Use `zero_division` parameter to control this behavior.\n",
      "  _warn_prf(average, modifier, f\"{metric.capitalize()} is\", len(result))\n",
      "c:\\Users\\cypri\\OneDrive - CentraleSupelec\\Bureau\\Non_Linear_Systems\\scripts\\utils.py:53: FutureWarning: You are using `torch.load` with `weights_only=False` (the current default value), which uses the default pickle module implicitly. It is possible to construct malicious pickle data which will execute arbitrary code during unpickling (See https://github.com/pytorch/pytorch/blob/main/SECURITY.md#untrusted-models for more details). In a future release, the default value for `weights_only` will be flipped to `True`. This limits the functions that could be executed during unpickling. Arbitrary objects will no longer be allowed to be loaded via this mode unless they are explicitly allowlisted by the user via `torch.serialization.add_safe_globals`. We recommend you start setting `weights_only=True` for any use case where you don't have full control of the loaded file. Please open an issue on GitHub for any issues related to this experimental feature.\n",
      "  model.load_state_dict(torch.load(model_path))\n"
     ]
    },
    {
     "name": "stdout",
     "output_type": "stream",
     "text": [
      "Accuracy: 0.10\n",
      "Precision: 0.01\n",
      "Recall: 0.10\n",
      "F1-Score: 0.02\n",
      "Model 0412b831-f1ed-4eca-a38c-46c4d88ef6b7 :\n",
      "\n",
      "Final Loss: 2.102224628681313\n",
      "Learning Rate: 5.36\n",
      "Optimizer: SGD\n",
      "Epochs: 2\n"
     ]
    },
    {
     "name": "stderr",
     "output_type": "stream",
     "text": [
      "c:\\Users\\cypri\\anaconda3\\envs\\Torch_Intro_ML\\Lib\\site-packages\\sklearn\\metrics\\_classification.py:1531: UndefinedMetricWarning: Precision is ill-defined and being set to 0.0 in labels with no predicted samples. Use `zero_division` parameter to control this behavior.\n",
      "  _warn_prf(average, modifier, f\"{metric.capitalize()} is\", len(result))\n",
      "c:\\Users\\cypri\\OneDrive - CentraleSupelec\\Bureau\\Non_Linear_Systems\\scripts\\utils.py:53: FutureWarning: You are using `torch.load` with `weights_only=False` (the current default value), which uses the default pickle module implicitly. It is possible to construct malicious pickle data which will execute arbitrary code during unpickling (See https://github.com/pytorch/pytorch/blob/main/SECURITY.md#untrusted-models for more details). In a future release, the default value for `weights_only` will be flipped to `True`. This limits the functions that could be executed during unpickling. Arbitrary objects will no longer be allowed to be loaded via this mode unless they are explicitly allowlisted by the user via `torch.serialization.add_safe_globals`. We recommend you start setting `weights_only=True` for any use case where you don't have full control of the loaded file. Please open an issue on GitHub for any issues related to this experimental feature.\n",
      "  model.load_state_dict(torch.load(model_path))\n"
     ]
    },
    {
     "name": "stdout",
     "output_type": "stream",
     "text": [
      "Accuracy: 0.10\n",
      "Precision: 0.01\n",
      "Recall: 0.10\n",
      "F1-Score: 0.02\n",
      "Model 045437a3-b858-443d-bf9c-267762217d6d :\n",
      "\n",
      "Final Loss: 1.8891467284768628\n",
      "Learning Rate: 4.52\n",
      "Optimizer: SGD\n",
      "Epochs: 1\n"
     ]
    },
    {
     "name": "stderr",
     "output_type": "stream",
     "text": [
      "c:\\Users\\cypri\\anaconda3\\envs\\Torch_Intro_ML\\Lib\\site-packages\\sklearn\\metrics\\_classification.py:1531: UndefinedMetricWarning: Precision is ill-defined and being set to 0.0 in labels with no predicted samples. Use `zero_division` parameter to control this behavior.\n",
      "  _warn_prf(average, modifier, f\"{metric.capitalize()} is\", len(result))\n",
      "c:\\Users\\cypri\\OneDrive - CentraleSupelec\\Bureau\\Non_Linear_Systems\\scripts\\utils.py:53: FutureWarning: You are using `torch.load` with `weights_only=False` (the current default value), which uses the default pickle module implicitly. It is possible to construct malicious pickle data which will execute arbitrary code during unpickling (See https://github.com/pytorch/pytorch/blob/main/SECURITY.md#untrusted-models for more details). In a future release, the default value for `weights_only` will be flipped to `True`. This limits the functions that could be executed during unpickling. Arbitrary objects will no longer be allowed to be loaded via this mode unless they are explicitly allowlisted by the user via `torch.serialization.add_safe_globals`. We recommend you start setting `weights_only=True` for any use case where you don't have full control of the loaded file. Please open an issue on GitHub for any issues related to this experimental feature.\n",
      "  model.load_state_dict(torch.load(model_path))\n"
     ]
    },
    {
     "name": "stdout",
     "output_type": "stream",
     "text": [
      "Accuracy: 0.41\n",
      "Precision: 0.33\n",
      "Recall: 0.39\n",
      "F1-Score: 0.31\n",
      "Model 05dddc24-d983-470c-8a72-9547e8b82619 :\n",
      "\n",
      "Final Loss: 1.8240524216501444\n",
      "Learning Rate: 5.0\n",
      "Optimizer: SGD\n",
      "Epochs: 1\n"
     ]
    },
    {
     "name": "stderr",
     "output_type": "stream",
     "text": [
      "c:\\Users\\cypri\\anaconda3\\envs\\Torch_Intro_ML\\Lib\\site-packages\\sklearn\\metrics\\_classification.py:1531: UndefinedMetricWarning: Precision is ill-defined and being set to 0.0 in labels with no predicted samples. Use `zero_division` parameter to control this behavior.\n",
      "  _warn_prf(average, modifier, f\"{metric.capitalize()} is\", len(result))\n",
      "c:\\Users\\cypri\\OneDrive - CentraleSupelec\\Bureau\\Non_Linear_Systems\\scripts\\utils.py:53: FutureWarning: You are using `torch.load` with `weights_only=False` (the current default value), which uses the default pickle module implicitly. It is possible to construct malicious pickle data which will execute arbitrary code during unpickling (See https://github.com/pytorch/pytorch/blob/main/SECURITY.md#untrusted-models for more details). In a future release, the default value for `weights_only` will be flipped to `True`. This limits the functions that could be executed during unpickling. Arbitrary objects will no longer be allowed to be loaded via this mode unless they are explicitly allowlisted by the user via `torch.serialization.add_safe_globals`. We recommend you start setting `weights_only=True` for any use case where you don't have full control of the loaded file. Please open an issue on GitHub for any issues related to this experimental feature.\n",
      "  model.load_state_dict(torch.load(model_path))\n"
     ]
    },
    {
     "name": "stdout",
     "output_type": "stream",
     "text": [
      "Accuracy: 0.32\n",
      "Precision: 0.31\n",
      "Recall: 0.31\n",
      "F1-Score: 0.25\n",
      "Model 06cd6b01-1c15-451b-a5bb-6ed5bc6c8466 :\n",
      "\n",
      "Final Loss: 2.0503792526371187\n",
      "Learning Rate: 4.75\n",
      "Optimizer: SGD\n",
      "Epochs: 2\n"
     ]
    },
    {
     "name": "stderr",
     "output_type": "stream",
     "text": [
      "c:\\Users\\cypri\\anaconda3\\envs\\Torch_Intro_ML\\Lib\\site-packages\\sklearn\\metrics\\_classification.py:1531: UndefinedMetricWarning: Precision is ill-defined and being set to 0.0 in labels with no predicted samples. Use `zero_division` parameter to control this behavior.\n",
      "  _warn_prf(average, modifier, f\"{metric.capitalize()} is\", len(result))\n",
      "c:\\Users\\cypri\\OneDrive - CentraleSupelec\\Bureau\\Non_Linear_Systems\\scripts\\utils.py:53: FutureWarning: You are using `torch.load` with `weights_only=False` (the current default value), which uses the default pickle module implicitly. It is possible to construct malicious pickle data which will execute arbitrary code during unpickling (See https://github.com/pytorch/pytorch/blob/main/SECURITY.md#untrusted-models for more details). In a future release, the default value for `weights_only` will be flipped to `True`. This limits the functions that could be executed during unpickling. Arbitrary objects will no longer be allowed to be loaded via this mode unless they are explicitly allowlisted by the user via `torch.serialization.add_safe_globals`. We recommend you start setting `weights_only=True` for any use case where you don't have full control of the loaded file. Please open an issue on GitHub for any issues related to this experimental feature.\n",
      "  model.load_state_dict(torch.load(model_path))\n"
     ]
    },
    {
     "name": "stdout",
     "output_type": "stream",
     "text": [
      "Accuracy: 0.21\n",
      "Precision: 0.11\n",
      "Recall: 0.20\n",
      "F1-Score: 0.12\n",
      "Model 0ada2e6e-1206-4188-b1ad-70c87659e6e8 :\n",
      "\n",
      "Final Loss: 1.51912894037995\n",
      "Learning Rate: 4.67\n",
      "Optimizer: SGD\n",
      "Epochs: 1\n"
     ]
    },
    {
     "name": "stderr",
     "output_type": "stream",
     "text": [
      "c:\\Users\\cypri\\anaconda3\\envs\\Torch_Intro_ML\\Lib\\site-packages\\sklearn\\metrics\\_classification.py:1531: UndefinedMetricWarning: Precision is ill-defined and being set to 0.0 in labels with no predicted samples. Use `zero_division` parameter to control this behavior.\n",
      "  _warn_prf(average, modifier, f\"{metric.capitalize()} is\", len(result))\n",
      "c:\\Users\\cypri\\OneDrive - CentraleSupelec\\Bureau\\Non_Linear_Systems\\scripts\\utils.py:53: FutureWarning: You are using `torch.load` with `weights_only=False` (the current default value), which uses the default pickle module implicitly. It is possible to construct malicious pickle data which will execute arbitrary code during unpickling (See https://github.com/pytorch/pytorch/blob/main/SECURITY.md#untrusted-models for more details). In a future release, the default value for `weights_only` will be flipped to `True`. This limits the functions that could be executed during unpickling. Arbitrary objects will no longer be allowed to be loaded via this mode unless they are explicitly allowlisted by the user via `torch.serialization.add_safe_globals`. We recommend you start setting `weights_only=True` for any use case where you don't have full control of the loaded file. Please open an issue on GitHub for any issues related to this experimental feature.\n",
      "  model.load_state_dict(torch.load(model_path))\n"
     ]
    },
    {
     "name": "stdout",
     "output_type": "stream",
     "text": [
      "Accuracy: 0.21\n",
      "Precision: 0.13\n",
      "Recall: 0.20\n",
      "F1-Score: 0.12\n",
      "Model 0c248dc1-3da7-4829-ba64-9441bcbde5d3 :\n",
      "\n",
      "Final Loss: 2.0417956531937445\n",
      "Learning Rate: 5.2\n",
      "Optimizer: SGD\n",
      "Epochs: 1\n"
     ]
    },
    {
     "name": "stderr",
     "output_type": "stream",
     "text": [
      "c:\\Users\\cypri\\anaconda3\\envs\\Torch_Intro_ML\\Lib\\site-packages\\sklearn\\metrics\\_classification.py:1531: UndefinedMetricWarning: Precision is ill-defined and being set to 0.0 in labels with no predicted samples. Use `zero_division` parameter to control this behavior.\n",
      "  _warn_prf(average, modifier, f\"{metric.capitalize()} is\", len(result))\n",
      "c:\\Users\\cypri\\OneDrive - CentraleSupelec\\Bureau\\Non_Linear_Systems\\scripts\\utils.py:53: FutureWarning: You are using `torch.load` with `weights_only=False` (the current default value), which uses the default pickle module implicitly. It is possible to construct malicious pickle data which will execute arbitrary code during unpickling (See https://github.com/pytorch/pytorch/blob/main/SECURITY.md#untrusted-models for more details). In a future release, the default value for `weights_only` will be flipped to `True`. This limits the functions that could be executed during unpickling. Arbitrary objects will no longer be allowed to be loaded via this mode unless they are explicitly allowlisted by the user via `torch.serialization.add_safe_globals`. We recommend you start setting `weights_only=True` for any use case where you don't have full control of the loaded file. Please open an issue on GitHub for any issues related to this experimental feature.\n",
      "  model.load_state_dict(torch.load(model_path))\n"
     ]
    },
    {
     "name": "stdout",
     "output_type": "stream",
     "text": [
      "Accuracy: 0.27\n",
      "Precision: 0.23\n",
      "Recall: 0.27\n",
      "F1-Score: 0.21\n",
      "Model 0eb59e64-6df9-405b-8d5e-4fa88e7e86ef :\n",
      "\n",
      "Final Loss: 0.4442255832920117\n",
      "Learning Rate: 4.6\n",
      "Optimizer: SGD\n",
      "Epochs: 1\n",
      "Accuracy: 0.97\n",
      "Precision: 0.97\n",
      "Recall: 0.97\n",
      "F1-Score: 0.97\n",
      "Model 11c9b479-9d2a-4b17-8beb-b6b48605c490 :\n",
      "\n",
      "Final Loss: 2.081092578134557\n",
      "Learning Rate: 5.33\n",
      "Optimizer: SGD\n",
      "Epochs: 2\n"
     ]
    },
    {
     "name": "stderr",
     "output_type": "stream",
     "text": [
      "c:\\Users\\cypri\\OneDrive - CentraleSupelec\\Bureau\\Non_Linear_Systems\\scripts\\utils.py:53: FutureWarning: You are using `torch.load` with `weights_only=False` (the current default value), which uses the default pickle module implicitly. It is possible to construct malicious pickle data which will execute arbitrary code during unpickling (See https://github.com/pytorch/pytorch/blob/main/SECURITY.md#untrusted-models for more details). In a future release, the default value for `weights_only` will be flipped to `True`. This limits the functions that could be executed during unpickling. Arbitrary objects will no longer be allowed to be loaded via this mode unless they are explicitly allowlisted by the user via `torch.serialization.add_safe_globals`. We recommend you start setting `weights_only=True` for any use case where you don't have full control of the loaded file. Please open an issue on GitHub for any issues related to this experimental feature.\n",
      "  model.load_state_dict(torch.load(model_path))\n",
      "c:\\Users\\cypri\\anaconda3\\envs\\Torch_Intro_ML\\Lib\\site-packages\\sklearn\\metrics\\_classification.py:1531: UndefinedMetricWarning: Precision is ill-defined and being set to 0.0 in labels with no predicted samples. Use `zero_division` parameter to control this behavior.\n",
      "  _warn_prf(average, modifier, f\"{metric.capitalize()} is\", len(result))\n",
      "c:\\Users\\cypri\\OneDrive - CentraleSupelec\\Bureau\\Non_Linear_Systems\\scripts\\utils.py:53: FutureWarning: You are using `torch.load` with `weights_only=False` (the current default value), which uses the default pickle module implicitly. It is possible to construct malicious pickle data which will execute arbitrary code during unpickling (See https://github.com/pytorch/pytorch/blob/main/SECURITY.md#untrusted-models for more details). In a future release, the default value for `weights_only` will be flipped to `True`. This limits the functions that could be executed during unpickling. Arbitrary objects will no longer be allowed to be loaded via this mode unless they are explicitly allowlisted by the user via `torch.serialization.add_safe_globals`. We recommend you start setting `weights_only=True` for any use case where you don't have full control of the loaded file. Please open an issue on GitHub for any issues related to this experimental feature.\n",
      "  model.load_state_dict(torch.load(model_path))\n"
     ]
    },
    {
     "name": "stdout",
     "output_type": "stream",
     "text": [
      "Accuracy: 0.22\n",
      "Precision: 0.16\n",
      "Recall: 0.21\n",
      "F1-Score: 0.14\n",
      "Model 126b0c46-8e9d-4ccb-9f06-a2040cb417d3 :\n",
      "\n",
      "Final Loss: 2.165521305634269\n",
      "Learning Rate: 4.81\n",
      "Optimizer: SGD\n",
      "Epochs: 1\n"
     ]
    },
    {
     "name": "stderr",
     "output_type": "stream",
     "text": [
      "c:\\Users\\cypri\\anaconda3\\envs\\Torch_Intro_ML\\Lib\\site-packages\\sklearn\\metrics\\_classification.py:1531: UndefinedMetricWarning: Precision is ill-defined and being set to 0.0 in labels with no predicted samples. Use `zero_division` parameter to control this behavior.\n",
      "  _warn_prf(average, modifier, f\"{metric.capitalize()} is\", len(result))\n",
      "c:\\Users\\cypri\\OneDrive - CentraleSupelec\\Bureau\\Non_Linear_Systems\\scripts\\utils.py:53: FutureWarning: You are using `torch.load` with `weights_only=False` (the current default value), which uses the default pickle module implicitly. It is possible to construct malicious pickle data which will execute arbitrary code during unpickling (See https://github.com/pytorch/pytorch/blob/main/SECURITY.md#untrusted-models for more details). In a future release, the default value for `weights_only` will be flipped to `True`. This limits the functions that could be executed during unpickling. Arbitrary objects will no longer be allowed to be loaded via this mode unless they are explicitly allowlisted by the user via `torch.serialization.add_safe_globals`. We recommend you start setting `weights_only=True` for any use case where you don't have full control of the loaded file. Please open an issue on GitHub for any issues related to this experimental feature.\n",
      "  model.load_state_dict(torch.load(model_path))\n"
     ]
    },
    {
     "name": "stdout",
     "output_type": "stream",
     "text": [
      "Accuracy: 0.10\n",
      "Precision: 0.01\n",
      "Recall: 0.10\n",
      "F1-Score: 0.02\n",
      "Model 14ec9a82-4a98-43bc-93af-da6ede0ded18 :\n",
      "\n",
      "Final Loss: 0.10224719404099958\n",
      "Learning Rate: 4.71\n",
      "Optimizer: SGD\n",
      "Epochs: 2\n",
      "Accuracy: 0.99\n",
      "Precision: 0.99\n",
      "Recall: 0.99\n",
      "F1-Score: 0.99\n",
      "Model 15d0af9d-82e9-40cc-ab31-2306952eb5bf :\n",
      "\n",
      "Final Loss: 2.280587593756759\n",
      "Learning Rate: 5.39\n",
      "Optimizer: SGD\n",
      "Epochs: 2\n"
     ]
    },
    {
     "name": "stderr",
     "output_type": "stream",
     "text": [
      "c:\\Users\\cypri\\OneDrive - CentraleSupelec\\Bureau\\Non_Linear_Systems\\scripts\\utils.py:53: FutureWarning: You are using `torch.load` with `weights_only=False` (the current default value), which uses the default pickle module implicitly. It is possible to construct malicious pickle data which will execute arbitrary code during unpickling (See https://github.com/pytorch/pytorch/blob/main/SECURITY.md#untrusted-models for more details). In a future release, the default value for `weights_only` will be flipped to `True`. This limits the functions that could be executed during unpickling. Arbitrary objects will no longer be allowed to be loaded via this mode unless they are explicitly allowlisted by the user via `torch.serialization.add_safe_globals`. We recommend you start setting `weights_only=True` for any use case where you don't have full control of the loaded file. Please open an issue on GitHub for any issues related to this experimental feature.\n",
      "  model.load_state_dict(torch.load(model_path))\n",
      "c:\\Users\\cypri\\anaconda3\\envs\\Torch_Intro_ML\\Lib\\site-packages\\sklearn\\metrics\\_classification.py:1531: UndefinedMetricWarning: Precision is ill-defined and being set to 0.0 in labels with no predicted samples. Use `zero_division` parameter to control this behavior.\n",
      "  _warn_prf(average, modifier, f\"{metric.capitalize()} is\", len(result))\n",
      "c:\\Users\\cypri\\OneDrive - CentraleSupelec\\Bureau\\Non_Linear_Systems\\scripts\\utils.py:53: FutureWarning: You are using `torch.load` with `weights_only=False` (the current default value), which uses the default pickle module implicitly. It is possible to construct malicious pickle data which will execute arbitrary code during unpickling (See https://github.com/pytorch/pytorch/blob/main/SECURITY.md#untrusted-models for more details). In a future release, the default value for `weights_only` will be flipped to `True`. This limits the functions that could be executed during unpickling. Arbitrary objects will no longer be allowed to be loaded via this mode unless they are explicitly allowlisted by the user via `torch.serialization.add_safe_globals`. We recommend you start setting `weights_only=True` for any use case where you don't have full control of the loaded file. Please open an issue on GitHub for any issues related to this experimental feature.\n",
      "  model.load_state_dict(torch.load(model_path))\n"
     ]
    },
    {
     "name": "stdout",
     "output_type": "stream",
     "text": [
      "Accuracy: 0.10\n",
      "Precision: 0.01\n",
      "Recall: 0.10\n",
      "F1-Score: 0.02\n",
      "Model 16178b70-6409-4f4d-9061-fc228e87aacc :\n",
      "\n",
      "Final Loss: 1.4717794245859581\n",
      "Learning Rate: 4.85\n",
      "Optimizer: SGD\n",
      "Epochs: 1\n"
     ]
    },
    {
     "name": "stderr",
     "output_type": "stream",
     "text": [
      "c:\\Users\\cypri\\anaconda3\\envs\\Torch_Intro_ML\\Lib\\site-packages\\sklearn\\metrics\\_classification.py:1531: UndefinedMetricWarning: Precision is ill-defined and being set to 0.0 in labels with no predicted samples. Use `zero_division` parameter to control this behavior.\n",
      "  _warn_prf(average, modifier, f\"{metric.capitalize()} is\", len(result))\n",
      "c:\\Users\\cypri\\OneDrive - CentraleSupelec\\Bureau\\Non_Linear_Systems\\scripts\\utils.py:53: FutureWarning: You are using `torch.load` with `weights_only=False` (the current default value), which uses the default pickle module implicitly. It is possible to construct malicious pickle data which will execute arbitrary code during unpickling (See https://github.com/pytorch/pytorch/blob/main/SECURITY.md#untrusted-models for more details). In a future release, the default value for `weights_only` will be flipped to `True`. This limits the functions that could be executed during unpickling. Arbitrary objects will no longer be allowed to be loaded via this mode unless they are explicitly allowlisted by the user via `torch.serialization.add_safe_globals`. We recommend you start setting `weights_only=True` for any use case where you don't have full control of the loaded file. Please open an issue on GitHub for any issues related to this experimental feature.\n",
      "  model.load_state_dict(torch.load(model_path))\n"
     ]
    },
    {
     "name": "stdout",
     "output_type": "stream",
     "text": [
      "Accuracy: 0.27\n",
      "Precision: 0.23\n",
      "Recall: 0.26\n",
      "F1-Score: 0.20\n",
      "Model 19207455-2cd0-4b4f-a116-883ffc324d4f :\n",
      "\n",
      "Final Loss: 2.1758006879769916\n",
      "Learning Rate: 5.26\n",
      "Optimizer: SGD\n",
      "Epochs: 1\n"
     ]
    },
    {
     "name": "stderr",
     "output_type": "stream",
     "text": [
      "c:\\Users\\cypri\\anaconda3\\envs\\Torch_Intro_ML\\Lib\\site-packages\\sklearn\\metrics\\_classification.py:1531: UndefinedMetricWarning: Precision is ill-defined and being set to 0.0 in labels with no predicted samples. Use `zero_division` parameter to control this behavior.\n",
      "  _warn_prf(average, modifier, f\"{metric.capitalize()} is\", len(result))\n",
      "c:\\Users\\cypri\\OneDrive - CentraleSupelec\\Bureau\\Non_Linear_Systems\\scripts\\utils.py:53: FutureWarning: You are using `torch.load` with `weights_only=False` (the current default value), which uses the default pickle module implicitly. It is possible to construct malicious pickle data which will execute arbitrary code during unpickling (See https://github.com/pytorch/pytorch/blob/main/SECURITY.md#untrusted-models for more details). In a future release, the default value for `weights_only` will be flipped to `True`. This limits the functions that could be executed during unpickling. Arbitrary objects will no longer be allowed to be loaded via this mode unless they are explicitly allowlisted by the user via `torch.serialization.add_safe_globals`. We recommend you start setting `weights_only=True` for any use case where you don't have full control of the loaded file. Please open an issue on GitHub for any issues related to this experimental feature.\n",
      "  model.load_state_dict(torch.load(model_path))\n"
     ]
    },
    {
     "name": "stdout",
     "output_type": "stream",
     "text": [
      "Accuracy: 0.10\n",
      "Precision: 0.01\n",
      "Recall: 0.10\n",
      "F1-Score: 0.02\n",
      "Model 198575ca-450e-455f-ad50-635262b5be83 :\n",
      "\n",
      "Final Loss: 2.3279862125545168\n",
      "Learning Rate: 5.43\n",
      "Optimizer: SGD\n",
      "Epochs: 2\n"
     ]
    },
    {
     "name": "stderr",
     "output_type": "stream",
     "text": [
      "c:\\Users\\cypri\\anaconda3\\envs\\Torch_Intro_ML\\Lib\\site-packages\\sklearn\\metrics\\_classification.py:1531: UndefinedMetricWarning: Precision is ill-defined and being set to 0.0 in labels with no predicted samples. Use `zero_division` parameter to control this behavior.\n",
      "  _warn_prf(average, modifier, f\"{metric.capitalize()} is\", len(result))\n",
      "c:\\Users\\cypri\\OneDrive - CentraleSupelec\\Bureau\\Non_Linear_Systems\\scripts\\utils.py:53: FutureWarning: You are using `torch.load` with `weights_only=False` (the current default value), which uses the default pickle module implicitly. It is possible to construct malicious pickle data which will execute arbitrary code during unpickling (See https://github.com/pytorch/pytorch/blob/main/SECURITY.md#untrusted-models for more details). In a future release, the default value for `weights_only` will be flipped to `True`. This limits the functions that could be executed during unpickling. Arbitrary objects will no longer be allowed to be loaded via this mode unless they are explicitly allowlisted by the user via `torch.serialization.add_safe_globals`. We recommend you start setting `weights_only=True` for any use case where you don't have full control of the loaded file. Please open an issue on GitHub for any issues related to this experimental feature.\n",
      "  model.load_state_dict(torch.load(model_path))\n"
     ]
    },
    {
     "name": "stdout",
     "output_type": "stream",
     "text": [
      "Accuracy: 0.10\n",
      "Precision: 0.01\n",
      "Recall: 0.10\n",
      "F1-Score: 0.02\n",
      "Model 1beff6c4-d065-4112-9e71-e13db3ec1832 :\n",
      "\n",
      "Final Loss: 1.8048583449903073\n",
      "Learning Rate: 4.75\n",
      "Optimizer: SGD\n",
      "Epochs: 1\n"
     ]
    },
    {
     "name": "stderr",
     "output_type": "stream",
     "text": [
      "c:\\Users\\cypri\\anaconda3\\envs\\Torch_Intro_ML\\Lib\\site-packages\\sklearn\\metrics\\_classification.py:1531: UndefinedMetricWarning: Precision is ill-defined and being set to 0.0 in labels with no predicted samples. Use `zero_division` parameter to control this behavior.\n",
      "  _warn_prf(average, modifier, f\"{metric.capitalize()} is\", len(result))\n",
      "c:\\Users\\cypri\\OneDrive - CentraleSupelec\\Bureau\\Non_Linear_Systems\\scripts\\utils.py:53: FutureWarning: You are using `torch.load` with `weights_only=False` (the current default value), which uses the default pickle module implicitly. It is possible to construct malicious pickle data which will execute arbitrary code during unpickling (See https://github.com/pytorch/pytorch/blob/main/SECURITY.md#untrusted-models for more details). In a future release, the default value for `weights_only` will be flipped to `True`. This limits the functions that could be executed during unpickling. Arbitrary objects will no longer be allowed to be loaded via this mode unless they are explicitly allowlisted by the user via `torch.serialization.add_safe_globals`. We recommend you start setting `weights_only=True` for any use case where you don't have full control of the loaded file. Please open an issue on GitHub for any issues related to this experimental feature.\n",
      "  model.load_state_dict(torch.load(model_path))\n"
     ]
    },
    {
     "name": "stdout",
     "output_type": "stream",
     "text": [
      "Accuracy: 0.20\n",
      "Precision: 0.11\n",
      "Recall: 0.19\n",
      "F1-Score: 0.11\n",
      "Model 1cd2967d-6d0f-4aba-af38-34dffdf8eb4e :\n",
      "\n",
      "Final Loss: 1.993901306632231\n",
      "Learning Rate: 4.65\n",
      "Optimizer: SGD\n",
      "Epochs: 2\n"
     ]
    },
    {
     "name": "stderr",
     "output_type": "stream",
     "text": [
      "c:\\Users\\cypri\\anaconda3\\envs\\Torch_Intro_ML\\Lib\\site-packages\\sklearn\\metrics\\_classification.py:1531: UndefinedMetricWarning: Precision is ill-defined and being set to 0.0 in labels with no predicted samples. Use `zero_division` parameter to control this behavior.\n",
      "  _warn_prf(average, modifier, f\"{metric.capitalize()} is\", len(result))\n",
      "c:\\Users\\cypri\\OneDrive - CentraleSupelec\\Bureau\\Non_Linear_Systems\\scripts\\utils.py:53: FutureWarning: You are using `torch.load` with `weights_only=False` (the current default value), which uses the default pickle module implicitly. It is possible to construct malicious pickle data which will execute arbitrary code during unpickling (See https://github.com/pytorch/pytorch/blob/main/SECURITY.md#untrusted-models for more details). In a future release, the default value for `weights_only` will be flipped to `True`. This limits the functions that could be executed during unpickling. Arbitrary objects will no longer be allowed to be loaded via this mode unless they are explicitly allowlisted by the user via `torch.serialization.add_safe_globals`. We recommend you start setting `weights_only=True` for any use case where you don't have full control of the loaded file. Please open an issue on GitHub for any issues related to this experimental feature.\n",
      "  model.load_state_dict(torch.load(model_path))\n"
     ]
    },
    {
     "name": "stdout",
     "output_type": "stream",
     "text": [
      "Accuracy: 0.19\n",
      "Precision: 0.11\n",
      "Recall: 0.19\n",
      "F1-Score: 0.11\n",
      "Model 1eb45321-d07e-49ef-b3b6-626da870e3d5 :\n",
      "\n",
      "Final Loss: 2.2028097908125757\n",
      "Learning Rate: 5.37\n",
      "Optimizer: SGD\n",
      "Epochs: 1\n"
     ]
    },
    {
     "name": "stderr",
     "output_type": "stream",
     "text": [
      "c:\\Users\\cypri\\anaconda3\\envs\\Torch_Intro_ML\\Lib\\site-packages\\sklearn\\metrics\\_classification.py:1531: UndefinedMetricWarning: Precision is ill-defined and being set to 0.0 in labels with no predicted samples. Use `zero_division` parameter to control this behavior.\n",
      "  _warn_prf(average, modifier, f\"{metric.capitalize()} is\", len(result))\n",
      "c:\\Users\\cypri\\OneDrive - CentraleSupelec\\Bureau\\Non_Linear_Systems\\scripts\\utils.py:53: FutureWarning: You are using `torch.load` with `weights_only=False` (the current default value), which uses the default pickle module implicitly. It is possible to construct malicious pickle data which will execute arbitrary code during unpickling (See https://github.com/pytorch/pytorch/blob/main/SECURITY.md#untrusted-models for more details). In a future release, the default value for `weights_only` will be flipped to `True`. This limits the functions that could be executed during unpickling. Arbitrary objects will no longer be allowed to be loaded via this mode unless they are explicitly allowlisted by the user via `torch.serialization.add_safe_globals`. We recommend you start setting `weights_only=True` for any use case where you don't have full control of the loaded file. Please open an issue on GitHub for any issues related to this experimental feature.\n",
      "  model.load_state_dict(torch.load(model_path))\n"
     ]
    },
    {
     "name": "stdout",
     "output_type": "stream",
     "text": [
      "Accuracy: 0.10\n",
      "Precision: 0.01\n",
      "Recall: 0.10\n",
      "F1-Score: 0.02\n",
      "Model 1ebed4b2-a941-4dae-a100-e9383a86d17c :\n",
      "\n",
      "Final Loss: 1.876820084509819\n",
      "Learning Rate: 4.88\n",
      "Optimizer: SGD\n",
      "Epochs: 2\n"
     ]
    },
    {
     "name": "stderr",
     "output_type": "stream",
     "text": [
      "c:\\Users\\cypri\\anaconda3\\envs\\Torch_Intro_ML\\Lib\\site-packages\\sklearn\\metrics\\_classification.py:1531: UndefinedMetricWarning: Precision is ill-defined and being set to 0.0 in labels with no predicted samples. Use `zero_division` parameter to control this behavior.\n",
      "  _warn_prf(average, modifier, f\"{metric.capitalize()} is\", len(result))\n",
      "c:\\Users\\cypri\\OneDrive - CentraleSupelec\\Bureau\\Non_Linear_Systems\\scripts\\utils.py:53: FutureWarning: You are using `torch.load` with `weights_only=False` (the current default value), which uses the default pickle module implicitly. It is possible to construct malicious pickle data which will execute arbitrary code during unpickling (See https://github.com/pytorch/pytorch/blob/main/SECURITY.md#untrusted-models for more details). In a future release, the default value for `weights_only` will be flipped to `True`. This limits the functions that could be executed during unpickling. Arbitrary objects will no longer be allowed to be loaded via this mode unless they are explicitly allowlisted by the user via `torch.serialization.add_safe_globals`. We recommend you start setting `weights_only=True` for any use case where you don't have full control of the loaded file. Please open an issue on GitHub for any issues related to this experimental feature.\n",
      "  model.load_state_dict(torch.load(model_path))\n"
     ]
    },
    {
     "name": "stdout",
     "output_type": "stream",
     "text": [
      "Accuracy: 0.30\n",
      "Precision: 0.23\n",
      "Recall: 0.29\n",
      "F1-Score: 0.22\n",
      "Model 20c8dfd4-5ff0-4ecd-a1e6-0affdafb7e33 :\n",
      "\n",
      "Final Loss: 2.32236845648365\n",
      "Learning Rate: 5.08\n",
      "Optimizer: SGD\n",
      "Epochs: 2\n"
     ]
    },
    {
     "name": "stderr",
     "output_type": "stream",
     "text": [
      "c:\\Users\\cypri\\anaconda3\\envs\\Torch_Intro_ML\\Lib\\site-packages\\sklearn\\metrics\\_classification.py:1531: UndefinedMetricWarning: Precision is ill-defined and being set to 0.0 in labels with no predicted samples. Use `zero_division` parameter to control this behavior.\n",
      "  _warn_prf(average, modifier, f\"{metric.capitalize()} is\", len(result))\n",
      "c:\\Users\\cypri\\OneDrive - CentraleSupelec\\Bureau\\Non_Linear_Systems\\scripts\\utils.py:53: FutureWarning: You are using `torch.load` with `weights_only=False` (the current default value), which uses the default pickle module implicitly. It is possible to construct malicious pickle data which will execute arbitrary code during unpickling (See https://github.com/pytorch/pytorch/blob/main/SECURITY.md#untrusted-models for more details). In a future release, the default value for `weights_only` will be flipped to `True`. This limits the functions that could be executed during unpickling. Arbitrary objects will no longer be allowed to be loaded via this mode unless they are explicitly allowlisted by the user via `torch.serialization.add_safe_globals`. We recommend you start setting `weights_only=True` for any use case where you don't have full control of the loaded file. Please open an issue on GitHub for any issues related to this experimental feature.\n",
      "  model.load_state_dict(torch.load(model_path))\n"
     ]
    },
    {
     "name": "stdout",
     "output_type": "stream",
     "text": [
      "Accuracy: 0.11\n",
      "Precision: 0.01\n",
      "Recall: 0.10\n",
      "F1-Score: 0.02\n",
      "Model 2184b282-cff5-4e1f-a812-3f56eb886eda :\n",
      "\n",
      "Final Loss: 2.06037088129312\n",
      "Learning Rate: 5.34\n",
      "Optimizer: SGD\n",
      "Epochs: 2\n"
     ]
    },
    {
     "name": "stderr",
     "output_type": "stream",
     "text": [
      "c:\\Users\\cypri\\anaconda3\\envs\\Torch_Intro_ML\\Lib\\site-packages\\sklearn\\metrics\\_classification.py:1531: UndefinedMetricWarning: Precision is ill-defined and being set to 0.0 in labels with no predicted samples. Use `zero_division` parameter to control this behavior.\n",
      "  _warn_prf(average, modifier, f\"{metric.capitalize()} is\", len(result))\n",
      "c:\\Users\\cypri\\OneDrive - CentraleSupelec\\Bureau\\Non_Linear_Systems\\scripts\\utils.py:53: FutureWarning: You are using `torch.load` with `weights_only=False` (the current default value), which uses the default pickle module implicitly. It is possible to construct malicious pickle data which will execute arbitrary code during unpickling (See https://github.com/pytorch/pytorch/blob/main/SECURITY.md#untrusted-models for more details). In a future release, the default value for `weights_only` will be flipped to `True`. This limits the functions that could be executed during unpickling. Arbitrary objects will no longer be allowed to be loaded via this mode unless they are explicitly allowlisted by the user via `torch.serialization.add_safe_globals`. We recommend you start setting `weights_only=True` for any use case where you don't have full control of the loaded file. Please open an issue on GitHub for any issues related to this experimental feature.\n",
      "  model.load_state_dict(torch.load(model_path))\n"
     ]
    },
    {
     "name": "stdout",
     "output_type": "stream",
     "text": [
      "Accuracy: 0.20\n",
      "Precision: 0.14\n",
      "Recall: 0.20\n",
      "F1-Score: 0.12\n",
      "Model 2298a35d-25b1-4e3f-8629-75f97c401504 :\n",
      "\n",
      "Final Loss: 1.978212252036849\n",
      "Learning Rate: 5.21\n",
      "Optimizer: SGD\n",
      "Epochs: 1\n"
     ]
    },
    {
     "name": "stderr",
     "output_type": "stream",
     "text": [
      "c:\\Users\\cypri\\anaconda3\\envs\\Torch_Intro_ML\\Lib\\site-packages\\sklearn\\metrics\\_classification.py:1531: UndefinedMetricWarning: Precision is ill-defined and being set to 0.0 in labels with no predicted samples. Use `zero_division` parameter to control this behavior.\n",
      "  _warn_prf(average, modifier, f\"{metric.capitalize()} is\", len(result))\n",
      "c:\\Users\\cypri\\OneDrive - CentraleSupelec\\Bureau\\Non_Linear_Systems\\scripts\\utils.py:53: FutureWarning: You are using `torch.load` with `weights_only=False` (the current default value), which uses the default pickle module implicitly. It is possible to construct malicious pickle data which will execute arbitrary code during unpickling (See https://github.com/pytorch/pytorch/blob/main/SECURITY.md#untrusted-models for more details). In a future release, the default value for `weights_only` will be flipped to `True`. This limits the functions that could be executed during unpickling. Arbitrary objects will no longer be allowed to be loaded via this mode unless they are explicitly allowlisted by the user via `torch.serialization.add_safe_globals`. We recommend you start setting `weights_only=True` for any use case where you don't have full control of the loaded file. Please open an issue on GitHub for any issues related to this experimental feature.\n",
      "  model.load_state_dict(torch.load(model_path))\n"
     ]
    },
    {
     "name": "stdout",
     "output_type": "stream",
     "text": [
      "Accuracy: 0.21\n",
      "Precision: 0.11\n",
      "Recall: 0.19\n",
      "F1-Score: 0.12\n",
      "Model 2322612b-6284-417f-b573-ade3f099ceba :\n",
      "\n",
      "Final Loss: 1.9784309639097022\n",
      "Learning Rate: 4.92\n",
      "Optimizer: SGD\n",
      "Epochs: 2\n"
     ]
    },
    {
     "name": "stderr",
     "output_type": "stream",
     "text": [
      "c:\\Users\\cypri\\anaconda3\\envs\\Torch_Intro_ML\\Lib\\site-packages\\sklearn\\metrics\\_classification.py:1531: UndefinedMetricWarning: Precision is ill-defined and being set to 0.0 in labels with no predicted samples. Use `zero_division` parameter to control this behavior.\n",
      "  _warn_prf(average, modifier, f\"{metric.capitalize()} is\", len(result))\n",
      "c:\\Users\\cypri\\OneDrive - CentraleSupelec\\Bureau\\Non_Linear_Systems\\scripts\\utils.py:53: FutureWarning: You are using `torch.load` with `weights_only=False` (the current default value), which uses the default pickle module implicitly. It is possible to construct malicious pickle data which will execute arbitrary code during unpickling (See https://github.com/pytorch/pytorch/blob/main/SECURITY.md#untrusted-models for more details). In a future release, the default value for `weights_only` will be flipped to `True`. This limits the functions that could be executed during unpickling. Arbitrary objects will no longer be allowed to be loaded via this mode unless they are explicitly allowlisted by the user via `torch.serialization.add_safe_globals`. We recommend you start setting `weights_only=True` for any use case where you don't have full control of the loaded file. Please open an issue on GitHub for any issues related to this experimental feature.\n",
      "  model.load_state_dict(torch.load(model_path))\n"
     ]
    },
    {
     "name": "stdout",
     "output_type": "stream",
     "text": [
      "Accuracy: 0.21\n",
      "Precision: 0.13\n",
      "Recall: 0.20\n",
      "F1-Score: 0.12\n",
      "Model 23cb5334-23cb-4fcc-92f5-4c3442cf14c7 :\n",
      "\n",
      "Final Loss: 1.9927068889013995\n",
      "Learning Rate: 5.07\n",
      "Optimizer: SGD\n",
      "Epochs: 2\n"
     ]
    },
    {
     "name": "stderr",
     "output_type": "stream",
     "text": [
      "c:\\Users\\cypri\\anaconda3\\envs\\Torch_Intro_ML\\Lib\\site-packages\\sklearn\\metrics\\_classification.py:1531: UndefinedMetricWarning: Precision is ill-defined and being set to 0.0 in labels with no predicted samples. Use `zero_division` parameter to control this behavior.\n",
      "  _warn_prf(average, modifier, f\"{metric.capitalize()} is\", len(result))\n",
      "c:\\Users\\cypri\\OneDrive - CentraleSupelec\\Bureau\\Non_Linear_Systems\\scripts\\utils.py:53: FutureWarning: You are using `torch.load` with `weights_only=False` (the current default value), which uses the default pickle module implicitly. It is possible to construct malicious pickle data which will execute arbitrary code during unpickling (See https://github.com/pytorch/pytorch/blob/main/SECURITY.md#untrusted-models for more details). In a future release, the default value for `weights_only` will be flipped to `True`. This limits the functions that could be executed during unpickling. Arbitrary objects will no longer be allowed to be loaded via this mode unless they are explicitly allowlisted by the user via `torch.serialization.add_safe_globals`. We recommend you start setting `weights_only=True` for any use case where you don't have full control of the loaded file. Please open an issue on GitHub for any issues related to this experimental feature.\n",
      "  model.load_state_dict(torch.load(model_path))\n"
     ]
    },
    {
     "name": "stdout",
     "output_type": "stream",
     "text": [
      "Accuracy: 0.21\n",
      "Precision: 0.11\n",
      "Recall: 0.19\n",
      "F1-Score: 0.12\n",
      "Model 24ab8791-fa15-4dac-8fd0-44f0f657650a :\n",
      "\n",
      "Final Loss: 2.1391699744948447\n",
      "Learning Rate: 5.06\n",
      "Optimizer: SGD\n",
      "Epochs: 1\n"
     ]
    },
    {
     "name": "stderr",
     "output_type": "stream",
     "text": [
      "c:\\Users\\cypri\\anaconda3\\envs\\Torch_Intro_ML\\Lib\\site-packages\\sklearn\\metrics\\_classification.py:1531: UndefinedMetricWarning: Precision is ill-defined and being set to 0.0 in labels with no predicted samples. Use `zero_division` parameter to control this behavior.\n",
      "  _warn_prf(average, modifier, f\"{metric.capitalize()} is\", len(result))\n",
      "c:\\Users\\cypri\\OneDrive - CentraleSupelec\\Bureau\\Non_Linear_Systems\\scripts\\utils.py:53: FutureWarning: You are using `torch.load` with `weights_only=False` (the current default value), which uses the default pickle module implicitly. It is possible to construct malicious pickle data which will execute arbitrary code during unpickling (See https://github.com/pytorch/pytorch/blob/main/SECURITY.md#untrusted-models for more details). In a future release, the default value for `weights_only` will be flipped to `True`. This limits the functions that could be executed during unpickling. Arbitrary objects will no longer be allowed to be loaded via this mode unless they are explicitly allowlisted by the user via `torch.serialization.add_safe_globals`. We recommend you start setting `weights_only=True` for any use case where you don't have full control of the loaded file. Please open an issue on GitHub for any issues related to this experimental feature.\n",
      "  model.load_state_dict(torch.load(model_path))\n"
     ]
    },
    {
     "name": "stdout",
     "output_type": "stream",
     "text": [
      "Accuracy: 0.10\n",
      "Precision: 0.01\n",
      "Recall: 0.10\n",
      "F1-Score: 0.02\n",
      "Model 25c845dc-7cc4-4456-ba5f-ceed39c2097e :\n",
      "\n",
      "Final Loss: 1.8648281734762415\n",
      "Learning Rate: 4.51\n",
      "Optimizer: SGD\n",
      "Epochs: 2\n"
     ]
    },
    {
     "name": "stderr",
     "output_type": "stream",
     "text": [
      "c:\\Users\\cypri\\anaconda3\\envs\\Torch_Intro_ML\\Lib\\site-packages\\sklearn\\metrics\\_classification.py:1531: UndefinedMetricWarning: Precision is ill-defined and being set to 0.0 in labels with no predicted samples. Use `zero_division` parameter to control this behavior.\n",
      "  _warn_prf(average, modifier, f\"{metric.capitalize()} is\", len(result))\n",
      "c:\\Users\\cypri\\OneDrive - CentraleSupelec\\Bureau\\Non_Linear_Systems\\scripts\\utils.py:53: FutureWarning: You are using `torch.load` with `weights_only=False` (the current default value), which uses the default pickle module implicitly. It is possible to construct malicious pickle data which will execute arbitrary code during unpickling (See https://github.com/pytorch/pytorch/blob/main/SECURITY.md#untrusted-models for more details). In a future release, the default value for `weights_only` will be flipped to `True`. This limits the functions that could be executed during unpickling. Arbitrary objects will no longer be allowed to be loaded via this mode unless they are explicitly allowlisted by the user via `torch.serialization.add_safe_globals`. We recommend you start setting `weights_only=True` for any use case where you don't have full control of the loaded file. Please open an issue on GitHub for any issues related to this experimental feature.\n",
      "  model.load_state_dict(torch.load(model_path))\n"
     ]
    },
    {
     "name": "stdout",
     "output_type": "stream",
     "text": [
      "Accuracy: 0.20\n",
      "Precision: 0.11\n",
      "Recall: 0.20\n",
      "F1-Score: 0.12\n",
      "Model 2619b411-9741-4a13-99ee-67b31b0bb5a3 :\n",
      "\n",
      "Final Loss: 2.014586344456622\n",
      "Learning Rate: 5.01\n",
      "Optimizer: SGD\n",
      "Epochs: 2\n"
     ]
    },
    {
     "name": "stderr",
     "output_type": "stream",
     "text": [
      "c:\\Users\\cypri\\anaconda3\\envs\\Torch_Intro_ML\\Lib\\site-packages\\sklearn\\metrics\\_classification.py:1531: UndefinedMetricWarning: Precision is ill-defined and being set to 0.0 in labels with no predicted samples. Use `zero_division` parameter to control this behavior.\n",
      "  _warn_prf(average, modifier, f\"{metric.capitalize()} is\", len(result))\n",
      "c:\\Users\\cypri\\OneDrive - CentraleSupelec\\Bureau\\Non_Linear_Systems\\scripts\\utils.py:53: FutureWarning: You are using `torch.load` with `weights_only=False` (the current default value), which uses the default pickle module implicitly. It is possible to construct malicious pickle data which will execute arbitrary code during unpickling (See https://github.com/pytorch/pytorch/blob/main/SECURITY.md#untrusted-models for more details). In a future release, the default value for `weights_only` will be flipped to `True`. This limits the functions that could be executed during unpickling. Arbitrary objects will no longer be allowed to be loaded via this mode unless they are explicitly allowlisted by the user via `torch.serialization.add_safe_globals`. We recommend you start setting `weights_only=True` for any use case where you don't have full control of the loaded file. Please open an issue on GitHub for any issues related to this experimental feature.\n",
      "  model.load_state_dict(torch.load(model_path))\n"
     ]
    },
    {
     "name": "stdout",
     "output_type": "stream",
     "text": [
      "Accuracy: 0.10\n",
      "Precision: 0.01\n",
      "Recall: 0.10\n",
      "F1-Score: 0.02\n",
      "Model 276dd856-cfda-4cb3-9f09-9f1fe7362203 :\n",
      "\n",
      "Final Loss: 1.9405504031730358\n",
      "Learning Rate: 5.17\n",
      "Optimizer: SGD\n",
      "Epochs: 1\n"
     ]
    },
    {
     "name": "stderr",
     "output_type": "stream",
     "text": [
      "c:\\Users\\cypri\\anaconda3\\envs\\Torch_Intro_ML\\Lib\\site-packages\\sklearn\\metrics\\_classification.py:1531: UndefinedMetricWarning: Precision is ill-defined and being set to 0.0 in labels with no predicted samples. Use `zero_division` parameter to control this behavior.\n",
      "  _warn_prf(average, modifier, f\"{metric.capitalize()} is\", len(result))\n",
      "c:\\Users\\cypri\\OneDrive - CentraleSupelec\\Bureau\\Non_Linear_Systems\\scripts\\utils.py:53: FutureWarning: You are using `torch.load` with `weights_only=False` (the current default value), which uses the default pickle module implicitly. It is possible to construct malicious pickle data which will execute arbitrary code during unpickling (See https://github.com/pytorch/pytorch/blob/main/SECURITY.md#untrusted-models for more details). In a future release, the default value for `weights_only` will be flipped to `True`. This limits the functions that could be executed during unpickling. Arbitrary objects will no longer be allowed to be loaded via this mode unless they are explicitly allowlisted by the user via `torch.serialization.add_safe_globals`. We recommend you start setting `weights_only=True` for any use case where you don't have full control of the loaded file. Please open an issue on GitHub for any issues related to this experimental feature.\n",
      "  model.load_state_dict(torch.load(model_path))\n"
     ]
    },
    {
     "name": "stdout",
     "output_type": "stream",
     "text": [
      "Accuracy: 0.30\n",
      "Precision: 0.22\n",
      "Recall: 0.29\n",
      "F1-Score: 0.22\n",
      "Model 2885b66f-0748-4dee-af8e-9babc36c945c :\n",
      "\n",
      "Final Loss: 0.2890336190795661\n",
      "Learning Rate: 4.62\n",
      "Optimizer: SGD\n",
      "Epochs: 1\n",
      "Accuracy: 0.97\n",
      "Precision: 0.97\n",
      "Recall: 0.97\n",
      "F1-Score: 0.97\n",
      "Model 291f8817-a68b-47b8-9382-8c3c9b7d3e0b :\n",
      "\n",
      "Final Loss: 2.082809426382915\n",
      "Learning Rate: 5.27\n",
      "Optimizer: SGD\n",
      "Epochs: 2\n"
     ]
    },
    {
     "name": "stderr",
     "output_type": "stream",
     "text": [
      "c:\\Users\\cypri\\OneDrive - CentraleSupelec\\Bureau\\Non_Linear_Systems\\scripts\\utils.py:53: FutureWarning: You are using `torch.load` with `weights_only=False` (the current default value), which uses the default pickle module implicitly. It is possible to construct malicious pickle data which will execute arbitrary code during unpickling (See https://github.com/pytorch/pytorch/blob/main/SECURITY.md#untrusted-models for more details). In a future release, the default value for `weights_only` will be flipped to `True`. This limits the functions that could be executed during unpickling. Arbitrary objects will no longer be allowed to be loaded via this mode unless they are explicitly allowlisted by the user via `torch.serialization.add_safe_globals`. We recommend you start setting `weights_only=True` for any use case where you don't have full control of the loaded file. Please open an issue on GitHub for any issues related to this experimental feature.\n",
      "  model.load_state_dict(torch.load(model_path))\n",
      "c:\\Users\\cypri\\anaconda3\\envs\\Torch_Intro_ML\\Lib\\site-packages\\sklearn\\metrics\\_classification.py:1531: UndefinedMetricWarning: Precision is ill-defined and being set to 0.0 in labels with no predicted samples. Use `zero_division` parameter to control this behavior.\n",
      "  _warn_prf(average, modifier, f\"{metric.capitalize()} is\", len(result))\n",
      "c:\\Users\\cypri\\OneDrive - CentraleSupelec\\Bureau\\Non_Linear_Systems\\scripts\\utils.py:53: FutureWarning: You are using `torch.load` with `weights_only=False` (the current default value), which uses the default pickle module implicitly. It is possible to construct malicious pickle data which will execute arbitrary code during unpickling (See https://github.com/pytorch/pytorch/blob/main/SECURITY.md#untrusted-models for more details). In a future release, the default value for `weights_only` will be flipped to `True`. This limits the functions that could be executed during unpickling. Arbitrary objects will no longer be allowed to be loaded via this mode unless they are explicitly allowlisted by the user via `torch.serialization.add_safe_globals`. We recommend you start setting `weights_only=True` for any use case where you don't have full control of the loaded file. Please open an issue on GitHub for any issues related to this experimental feature.\n",
      "  model.load_state_dict(torch.load(model_path))\n"
     ]
    },
    {
     "name": "stdout",
     "output_type": "stream",
     "text": [
      "Accuracy: 0.10\n",
      "Precision: 0.01\n",
      "Recall: 0.10\n",
      "F1-Score: 0.02\n",
      "Model 29fab385-1fcc-4287-99d5-a9b7f311188b :\n",
      "\n",
      "Final Loss: 1.9789579680352323\n",
      "Learning Rate: 4.95\n",
      "Optimizer: SGD\n",
      "Epochs: 1\n"
     ]
    },
    {
     "name": "stderr",
     "output_type": "stream",
     "text": [
      "c:\\Users\\cypri\\anaconda3\\envs\\Torch_Intro_ML\\Lib\\site-packages\\sklearn\\metrics\\_classification.py:1531: UndefinedMetricWarning: Precision is ill-defined and being set to 0.0 in labels with no predicted samples. Use `zero_division` parameter to control this behavior.\n",
      "  _warn_prf(average, modifier, f\"{metric.capitalize()} is\", len(result))\n",
      "c:\\Users\\cypri\\OneDrive - CentraleSupelec\\Bureau\\Non_Linear_Systems\\scripts\\utils.py:53: FutureWarning: You are using `torch.load` with `weights_only=False` (the current default value), which uses the default pickle module implicitly. It is possible to construct malicious pickle data which will execute arbitrary code during unpickling (See https://github.com/pytorch/pytorch/blob/main/SECURITY.md#untrusted-models for more details). In a future release, the default value for `weights_only` will be flipped to `True`. This limits the functions that could be executed during unpickling. Arbitrary objects will no longer be allowed to be loaded via this mode unless they are explicitly allowlisted by the user via `torch.serialization.add_safe_globals`. We recommend you start setting `weights_only=True` for any use case where you don't have full control of the loaded file. Please open an issue on GitHub for any issues related to this experimental feature.\n",
      "  model.load_state_dict(torch.load(model_path))\n"
     ]
    },
    {
     "name": "stdout",
     "output_type": "stream",
     "text": [
      "Accuracy: 0.22\n",
      "Precision: 0.15\n",
      "Recall: 0.20\n",
      "F1-Score: 0.12\n",
      "Model 2a351b29-c843-4e3d-a26e-c7fb386b34b6 :\n",
      "\n",
      "Final Loss: 0.10097854888872869\n",
      "Learning Rate: 4.53\n",
      "Optimizer: SGD\n",
      "Epochs: 2\n",
      "Accuracy: 0.99\n",
      "Precision: 0.99\n",
      "Recall: 0.99\n",
      "F1-Score: 0.99\n",
      "Model 2a95752f-9ad9-4dab-a44d-ae86752c06dc :\n",
      "\n",
      "Final Loss: 1.8726181281146719\n",
      "Learning Rate: 5.27\n",
      "Optimizer: SGD\n",
      "Epochs: 1\n"
     ]
    },
    {
     "name": "stderr",
     "output_type": "stream",
     "text": [
      "c:\\Users\\cypri\\OneDrive - CentraleSupelec\\Bureau\\Non_Linear_Systems\\scripts\\utils.py:53: FutureWarning: You are using `torch.load` with `weights_only=False` (the current default value), which uses the default pickle module implicitly. It is possible to construct malicious pickle data which will execute arbitrary code during unpickling (See https://github.com/pytorch/pytorch/blob/main/SECURITY.md#untrusted-models for more details). In a future release, the default value for `weights_only` will be flipped to `True`. This limits the functions that could be executed during unpickling. Arbitrary objects will no longer be allowed to be loaded via this mode unless they are explicitly allowlisted by the user via `torch.serialization.add_safe_globals`. We recommend you start setting `weights_only=True` for any use case where you don't have full control of the loaded file. Please open an issue on GitHub for any issues related to this experimental feature.\n",
      "  model.load_state_dict(torch.load(model_path))\n",
      "c:\\Users\\cypri\\anaconda3\\envs\\Torch_Intro_ML\\Lib\\site-packages\\sklearn\\metrics\\_classification.py:1531: UndefinedMetricWarning: Precision is ill-defined and being set to 0.0 in labels with no predicted samples. Use `zero_division` parameter to control this behavior.\n",
      "  _warn_prf(average, modifier, f\"{metric.capitalize()} is\", len(result))\n",
      "c:\\Users\\cypri\\OneDrive - CentraleSupelec\\Bureau\\Non_Linear_Systems\\scripts\\utils.py:53: FutureWarning: You are using `torch.load` with `weights_only=False` (the current default value), which uses the default pickle module implicitly. It is possible to construct malicious pickle data which will execute arbitrary code during unpickling (See https://github.com/pytorch/pytorch/blob/main/SECURITY.md#untrusted-models for more details). In a future release, the default value for `weights_only` will be flipped to `True`. This limits the functions that could be executed during unpickling. Arbitrary objects will no longer be allowed to be loaded via this mode unless they are explicitly allowlisted by the user via `torch.serialization.add_safe_globals`. We recommend you start setting `weights_only=True` for any use case where you don't have full control of the loaded file. Please open an issue on GitHub for any issues related to this experimental feature.\n",
      "  model.load_state_dict(torch.load(model_path))\n"
     ]
    },
    {
     "name": "stdout",
     "output_type": "stream",
     "text": [
      "Accuracy: 0.31\n",
      "Precision: 0.21\n",
      "Recall: 0.30\n",
      "F1-Score: 0.19\n",
      "Model 2ddc60db-19ea-49bf-b53a-eb62b62cd256 :\n",
      "\n",
      "Final Loss: 2.1715423277954558\n",
      "Learning Rate: 5.03\n",
      "Optimizer: SGD\n",
      "Epochs: 1\n"
     ]
    },
    {
     "name": "stderr",
     "output_type": "stream",
     "text": [
      "c:\\Users\\cypri\\anaconda3\\envs\\Torch_Intro_ML\\Lib\\site-packages\\sklearn\\metrics\\_classification.py:1531: UndefinedMetricWarning: Precision is ill-defined and being set to 0.0 in labels with no predicted samples. Use `zero_division` parameter to control this behavior.\n",
      "  _warn_prf(average, modifier, f\"{metric.capitalize()} is\", len(result))\n",
      "c:\\Users\\cypri\\OneDrive - CentraleSupelec\\Bureau\\Non_Linear_Systems\\scripts\\utils.py:53: FutureWarning: You are using `torch.load` with `weights_only=False` (the current default value), which uses the default pickle module implicitly. It is possible to construct malicious pickle data which will execute arbitrary code during unpickling (See https://github.com/pytorch/pytorch/blob/main/SECURITY.md#untrusted-models for more details). In a future release, the default value for `weights_only` will be flipped to `True`. This limits the functions that could be executed during unpickling. Arbitrary objects will no longer be allowed to be loaded via this mode unless they are explicitly allowlisted by the user via `torch.serialization.add_safe_globals`. We recommend you start setting `weights_only=True` for any use case where you don't have full control of the loaded file. Please open an issue on GitHub for any issues related to this experimental feature.\n",
      "  model.load_state_dict(torch.load(model_path))\n"
     ]
    },
    {
     "name": "stdout",
     "output_type": "stream",
     "text": [
      "Accuracy: 0.09\n",
      "Precision: 0.01\n",
      "Recall: 0.10\n",
      "F1-Score: 0.02\n",
      "Model 2e36c710-aae4-4c66-a71d-1e279de792e2 :\n",
      "\n",
      "Final Loss: 1.971517755405735\n",
      "Learning Rate: 5.11\n",
      "Optimizer: SGD\n",
      "Epochs: 2\n"
     ]
    },
    {
     "name": "stderr",
     "output_type": "stream",
     "text": [
      "c:\\Users\\cypri\\anaconda3\\envs\\Torch_Intro_ML\\Lib\\site-packages\\sklearn\\metrics\\_classification.py:1531: UndefinedMetricWarning: Precision is ill-defined and being set to 0.0 in labels with no predicted samples. Use `zero_division` parameter to control this behavior.\n",
      "  _warn_prf(average, modifier, f\"{metric.capitalize()} is\", len(result))\n",
      "c:\\Users\\cypri\\OneDrive - CentraleSupelec\\Bureau\\Non_Linear_Systems\\scripts\\utils.py:53: FutureWarning: You are using `torch.load` with `weights_only=False` (the current default value), which uses the default pickle module implicitly. It is possible to construct malicious pickle data which will execute arbitrary code during unpickling (See https://github.com/pytorch/pytorch/blob/main/SECURITY.md#untrusted-models for more details). In a future release, the default value for `weights_only` will be flipped to `True`. This limits the functions that could be executed during unpickling. Arbitrary objects will no longer be allowed to be loaded via this mode unless they are explicitly allowlisted by the user via `torch.serialization.add_safe_globals`. We recommend you start setting `weights_only=True` for any use case where you don't have full control of the loaded file. Please open an issue on GitHub for any issues related to this experimental feature.\n",
      "  model.load_state_dict(torch.load(model_path))\n"
     ]
    },
    {
     "name": "stdout",
     "output_type": "stream",
     "text": [
      "Accuracy: 0.21\n",
      "Precision: 0.11\n",
      "Recall: 0.20\n",
      "F1-Score: 0.12\n",
      "Model 305b7129-3a6e-422b-a768-ed8d80975ad4 :\n",
      "\n",
      "Final Loss: 1.956435582022677\n",
      "Learning Rate: 5.29\n",
      "Optimizer: SGD\n",
      "Epochs: 1\n"
     ]
    },
    {
     "name": "stderr",
     "output_type": "stream",
     "text": [
      "c:\\Users\\cypri\\anaconda3\\envs\\Torch_Intro_ML\\Lib\\site-packages\\sklearn\\metrics\\_classification.py:1531: UndefinedMetricWarning: Precision is ill-defined and being set to 0.0 in labels with no predicted samples. Use `zero_division` parameter to control this behavior.\n",
      "  _warn_prf(average, modifier, f\"{metric.capitalize()} is\", len(result))\n",
      "c:\\Users\\cypri\\OneDrive - CentraleSupelec\\Bureau\\Non_Linear_Systems\\scripts\\utils.py:53: FutureWarning: You are using `torch.load` with `weights_only=False` (the current default value), which uses the default pickle module implicitly. It is possible to construct malicious pickle data which will execute arbitrary code during unpickling (See https://github.com/pytorch/pytorch/blob/main/SECURITY.md#untrusted-models for more details). In a future release, the default value for `weights_only` will be flipped to `True`. This limits the functions that could be executed during unpickling. Arbitrary objects will no longer be allowed to be loaded via this mode unless they are explicitly allowlisted by the user via `torch.serialization.add_safe_globals`. We recommend you start setting `weights_only=True` for any use case where you don't have full control of the loaded file. Please open an issue on GitHub for any issues related to this experimental feature.\n",
      "  model.load_state_dict(torch.load(model_path))\n"
     ]
    },
    {
     "name": "stdout",
     "output_type": "stream",
     "text": [
      "Accuracy: 0.19\n",
      "Precision: 0.13\n",
      "Recall: 0.19\n",
      "F1-Score: 0.12\n",
      "Model 32a6af25-51a2-4f41-bd1b-666fe3a85683 :\n",
      "\n",
      "Final Loss: 2.328844402136325\n",
      "Learning Rate: 5.49\n",
      "Optimizer: SGD\n",
      "Epochs: 2\n"
     ]
    },
    {
     "name": "stderr",
     "output_type": "stream",
     "text": [
      "c:\\Users\\cypri\\anaconda3\\envs\\Torch_Intro_ML\\Lib\\site-packages\\sklearn\\metrics\\_classification.py:1531: UndefinedMetricWarning: Precision is ill-defined and being set to 0.0 in labels with no predicted samples. Use `zero_division` parameter to control this behavior.\n",
      "  _warn_prf(average, modifier, f\"{metric.capitalize()} is\", len(result))\n",
      "c:\\Users\\cypri\\OneDrive - CentraleSupelec\\Bureau\\Non_Linear_Systems\\scripts\\utils.py:53: FutureWarning: You are using `torch.load` with `weights_only=False` (the current default value), which uses the default pickle module implicitly. It is possible to construct malicious pickle data which will execute arbitrary code during unpickling (See https://github.com/pytorch/pytorch/blob/main/SECURITY.md#untrusted-models for more details). In a future release, the default value for `weights_only` will be flipped to `True`. This limits the functions that could be executed during unpickling. Arbitrary objects will no longer be allowed to be loaded via this mode unless they are explicitly allowlisted by the user via `torch.serialization.add_safe_globals`. We recommend you start setting `weights_only=True` for any use case where you don't have full control of the loaded file. Please open an issue on GitHub for any issues related to this experimental feature.\n",
      "  model.load_state_dict(torch.load(model_path))\n"
     ]
    },
    {
     "name": "stdout",
     "output_type": "stream",
     "text": [
      "Accuracy: 0.10\n",
      "Precision: 0.01\n",
      "Recall: 0.10\n",
      "F1-Score: 0.02\n",
      "Model 33fc7376-3705-45d0-9f9c-5a306b7d16eb :\n",
      "\n",
      "Final Loss: 1.723788994525287\n",
      "Learning Rate: 4.87\n",
      "Optimizer: SGD\n",
      "Epochs: 1\n"
     ]
    },
    {
     "name": "stderr",
     "output_type": "stream",
     "text": [
      "c:\\Users\\cypri\\anaconda3\\envs\\Torch_Intro_ML\\Lib\\site-packages\\sklearn\\metrics\\_classification.py:1531: UndefinedMetricWarning: Precision is ill-defined and being set to 0.0 in labels with no predicted samples. Use `zero_division` parameter to control this behavior.\n",
      "  _warn_prf(average, modifier, f\"{metric.capitalize()} is\", len(result))\n",
      "c:\\Users\\cypri\\OneDrive - CentraleSupelec\\Bureau\\Non_Linear_Systems\\scripts\\utils.py:53: FutureWarning: You are using `torch.load` with `weights_only=False` (the current default value), which uses the default pickle module implicitly. It is possible to construct malicious pickle data which will execute arbitrary code during unpickling (See https://github.com/pytorch/pytorch/blob/main/SECURITY.md#untrusted-models for more details). In a future release, the default value for `weights_only` will be flipped to `True`. This limits the functions that could be executed during unpickling. Arbitrary objects will no longer be allowed to be loaded via this mode unless they are explicitly allowlisted by the user via `torch.serialization.add_safe_globals`. We recommend you start setting `weights_only=True` for any use case where you don't have full control of the loaded file. Please open an issue on GitHub for any issues related to this experimental feature.\n",
      "  model.load_state_dict(torch.load(model_path))\n"
     ]
    },
    {
     "name": "stdout",
     "output_type": "stream",
     "text": [
      "Accuracy: 0.11\n",
      "Precision: 0.01\n",
      "Recall: 0.10\n",
      "F1-Score: 0.02\n",
      "Model 34a04209-7332-43f2-9257-fbcdea3525c5 :\n",
      "\n",
      "Final Loss: 1.9067062204326395\n",
      "Learning Rate: 4.94\n",
      "Optimizer: SGD\n",
      "Epochs: 2\n"
     ]
    },
    {
     "name": "stderr",
     "output_type": "stream",
     "text": [
      "c:\\Users\\cypri\\anaconda3\\envs\\Torch_Intro_ML\\Lib\\site-packages\\sklearn\\metrics\\_classification.py:1531: UndefinedMetricWarning: Precision is ill-defined and being set to 0.0 in labels with no predicted samples. Use `zero_division` parameter to control this behavior.\n",
      "  _warn_prf(average, modifier, f\"{metric.capitalize()} is\", len(result))\n",
      "c:\\Users\\cypri\\OneDrive - CentraleSupelec\\Bureau\\Non_Linear_Systems\\scripts\\utils.py:53: FutureWarning: You are using `torch.load` with `weights_only=False` (the current default value), which uses the default pickle module implicitly. It is possible to construct malicious pickle data which will execute arbitrary code during unpickling (See https://github.com/pytorch/pytorch/blob/main/SECURITY.md#untrusted-models for more details). In a future release, the default value for `weights_only` will be flipped to `True`. This limits the functions that could be executed during unpickling. Arbitrary objects will no longer be allowed to be loaded via this mode unless they are explicitly allowlisted by the user via `torch.serialization.add_safe_globals`. We recommend you start setting `weights_only=True` for any use case where you don't have full control of the loaded file. Please open an issue on GitHub for any issues related to this experimental feature.\n",
      "  model.load_state_dict(torch.load(model_path))\n"
     ]
    },
    {
     "name": "stdout",
     "output_type": "stream",
     "text": [
      "Accuracy: 0.29\n",
      "Precision: 0.21\n",
      "Recall: 0.29\n",
      "F1-Score: 0.22\n",
      "Model 375e2af8-f46b-47a7-ad05-8cbae0d7c4a0 :\n",
      "\n",
      "Final Loss: 0.09071579381157316\n",
      "Learning Rate: 4.54\n",
      "Optimizer: SGD\n",
      "Epochs: 2\n",
      "Accuracy: 0.98\n",
      "Precision: 0.98\n",
      "Recall: 0.98\n",
      "F1-Score: 0.98\n",
      "Model 3bb71a28-2116-4f87-98e5-1b9ea3bbf089 :\n",
      "\n",
      "Final Loss: 2.1908796199603375\n",
      "Learning Rate: 4.84\n",
      "Optimizer: SGD\n",
      "Epochs: 2\n"
     ]
    },
    {
     "name": "stderr",
     "output_type": "stream",
     "text": [
      "c:\\Users\\cypri\\OneDrive - CentraleSupelec\\Bureau\\Non_Linear_Systems\\scripts\\utils.py:53: FutureWarning: You are using `torch.load` with `weights_only=False` (the current default value), which uses the default pickle module implicitly. It is possible to construct malicious pickle data which will execute arbitrary code during unpickling (See https://github.com/pytorch/pytorch/blob/main/SECURITY.md#untrusted-models for more details). In a future release, the default value for `weights_only` will be flipped to `True`. This limits the functions that could be executed during unpickling. Arbitrary objects will no longer be allowed to be loaded via this mode unless they are explicitly allowlisted by the user via `torch.serialization.add_safe_globals`. We recommend you start setting `weights_only=True` for any use case where you don't have full control of the loaded file. Please open an issue on GitHub for any issues related to this experimental feature.\n",
      "  model.load_state_dict(torch.load(model_path))\n",
      "c:\\Users\\cypri\\anaconda3\\envs\\Torch_Intro_ML\\Lib\\site-packages\\sklearn\\metrics\\_classification.py:1531: UndefinedMetricWarning: Precision is ill-defined and being set to 0.0 in labels with no predicted samples. Use `zero_division` parameter to control this behavior.\n",
      "  _warn_prf(average, modifier, f\"{metric.capitalize()} is\", len(result))\n",
      "c:\\Users\\cypri\\OneDrive - CentraleSupelec\\Bureau\\Non_Linear_Systems\\scripts\\utils.py:53: FutureWarning: You are using `torch.load` with `weights_only=False` (the current default value), which uses the default pickle module implicitly. It is possible to construct malicious pickle data which will execute arbitrary code during unpickling (See https://github.com/pytorch/pytorch/blob/main/SECURITY.md#untrusted-models for more details). In a future release, the default value for `weights_only` will be flipped to `True`. This limits the functions that could be executed during unpickling. Arbitrary objects will no longer be allowed to be loaded via this mode unless they are explicitly allowlisted by the user via `torch.serialization.add_safe_globals`. We recommend you start setting `weights_only=True` for any use case where you don't have full control of the loaded file. Please open an issue on GitHub for any issues related to this experimental feature.\n",
      "  model.load_state_dict(torch.load(model_path))\n"
     ]
    },
    {
     "name": "stdout",
     "output_type": "stream",
     "text": [
      "Accuracy: 0.18\n",
      "Precision: 0.11\n",
      "Recall: 0.18\n",
      "F1-Score: 0.11\n",
      "Model 3bdc34c9-de3c-4ffa-b9f7-708e26e1701e :\n",
      "\n",
      "Final Loss: 2.036938607946896\n",
      "Learning Rate: 5.32\n",
      "Optimizer: SGD\n",
      "Epochs: 2\n"
     ]
    },
    {
     "name": "stderr",
     "output_type": "stream",
     "text": [
      "c:\\Users\\cypri\\anaconda3\\envs\\Torch_Intro_ML\\Lib\\site-packages\\sklearn\\metrics\\_classification.py:1531: UndefinedMetricWarning: Precision is ill-defined and being set to 0.0 in labels with no predicted samples. Use `zero_division` parameter to control this behavior.\n",
      "  _warn_prf(average, modifier, f\"{metric.capitalize()} is\", len(result))\n",
      "c:\\Users\\cypri\\OneDrive - CentraleSupelec\\Bureau\\Non_Linear_Systems\\scripts\\utils.py:53: FutureWarning: You are using `torch.load` with `weights_only=False` (the current default value), which uses the default pickle module implicitly. It is possible to construct malicious pickle data which will execute arbitrary code during unpickling (See https://github.com/pytorch/pytorch/blob/main/SECURITY.md#untrusted-models for more details). In a future release, the default value for `weights_only` will be flipped to `True`. This limits the functions that could be executed during unpickling. Arbitrary objects will no longer be allowed to be loaded via this mode unless they are explicitly allowlisted by the user via `torch.serialization.add_safe_globals`. We recommend you start setting `weights_only=True` for any use case where you don't have full control of the loaded file. Please open an issue on GitHub for any issues related to this experimental feature.\n",
      "  model.load_state_dict(torch.load(model_path))\n"
     ]
    },
    {
     "name": "stdout",
     "output_type": "stream",
     "text": [
      "Accuracy: 0.21\n",
      "Precision: 0.11\n",
      "Recall: 0.20\n",
      "F1-Score: 0.12\n",
      "Model 3c18329a-9f1f-4a5b-b6b1-f688b65801d9 :\n",
      "\n",
      "Final Loss: 2.170427239398712\n",
      "Learning Rate: 5.25\n",
      "Optimizer: SGD\n",
      "Epochs: 2\n"
     ]
    },
    {
     "name": "stderr",
     "output_type": "stream",
     "text": [
      "c:\\Users\\cypri\\anaconda3\\envs\\Torch_Intro_ML\\Lib\\site-packages\\sklearn\\metrics\\_classification.py:1531: UndefinedMetricWarning: Precision is ill-defined and being set to 0.0 in labels with no predicted samples. Use `zero_division` parameter to control this behavior.\n",
      "  _warn_prf(average, modifier, f\"{metric.capitalize()} is\", len(result))\n",
      "c:\\Users\\cypri\\OneDrive - CentraleSupelec\\Bureau\\Non_Linear_Systems\\scripts\\utils.py:53: FutureWarning: You are using `torch.load` with `weights_only=False` (the current default value), which uses the default pickle module implicitly. It is possible to construct malicious pickle data which will execute arbitrary code during unpickling (See https://github.com/pytorch/pytorch/blob/main/SECURITY.md#untrusted-models for more details). In a future release, the default value for `weights_only` will be flipped to `True`. This limits the functions that could be executed during unpickling. Arbitrary objects will no longer be allowed to be loaded via this mode unless they are explicitly allowlisted by the user via `torch.serialization.add_safe_globals`. We recommend you start setting `weights_only=True` for any use case where you don't have full control of the loaded file. Please open an issue on GitHub for any issues related to this experimental feature.\n",
      "  model.load_state_dict(torch.load(model_path))\n"
     ]
    },
    {
     "name": "stdout",
     "output_type": "stream",
     "text": [
      "Accuracy: 0.21\n",
      "Precision: 0.12\n",
      "Recall: 0.20\n",
      "F1-Score: 0.12\n",
      "Model 3d2c24b3-8076-4a66-b7f6-779de6b8816a :\n",
      "\n",
      "Final Loss: 1.9800278670243872\n",
      "Learning Rate: 5.02\n",
      "Optimizer: SGD\n",
      "Epochs: 1\n"
     ]
    },
    {
     "name": "stderr",
     "output_type": "stream",
     "text": [
      "c:\\Users\\cypri\\anaconda3\\envs\\Torch_Intro_ML\\Lib\\site-packages\\sklearn\\metrics\\_classification.py:1531: UndefinedMetricWarning: Precision is ill-defined and being set to 0.0 in labels with no predicted samples. Use `zero_division` parameter to control this behavior.\n",
      "  _warn_prf(average, modifier, f\"{metric.capitalize()} is\", len(result))\n",
      "c:\\Users\\cypri\\OneDrive - CentraleSupelec\\Bureau\\Non_Linear_Systems\\scripts\\utils.py:53: FutureWarning: You are using `torch.load` with `weights_only=False` (the current default value), which uses the default pickle module implicitly. It is possible to construct malicious pickle data which will execute arbitrary code during unpickling (See https://github.com/pytorch/pytorch/blob/main/SECURITY.md#untrusted-models for more details). In a future release, the default value for `weights_only` will be flipped to `True`. This limits the functions that could be executed during unpickling. Arbitrary objects will no longer be allowed to be loaded via this mode unless they are explicitly allowlisted by the user via `torch.serialization.add_safe_globals`. We recommend you start setting `weights_only=True` for any use case where you don't have full control of the loaded file. Please open an issue on GitHub for any issues related to this experimental feature.\n",
      "  model.load_state_dict(torch.load(model_path))\n"
     ]
    },
    {
     "name": "stdout",
     "output_type": "stream",
     "text": [
      "Accuracy: 0.28\n",
      "Precision: 0.22\n",
      "Recall: 0.28\n",
      "F1-Score: 0.21\n",
      "Model 3d993893-463c-4b62-b213-250badc6b526 :\n",
      "\n",
      "Final Loss: 1.853820872268697\n",
      "Learning Rate: 5.12\n",
      "Optimizer: SGD\n",
      "Epochs: 1\n"
     ]
    },
    {
     "name": "stderr",
     "output_type": "stream",
     "text": [
      "c:\\Users\\cypri\\anaconda3\\envs\\Torch_Intro_ML\\Lib\\site-packages\\sklearn\\metrics\\_classification.py:1531: UndefinedMetricWarning: Precision is ill-defined and being set to 0.0 in labels with no predicted samples. Use `zero_division` parameter to control this behavior.\n",
      "  _warn_prf(average, modifier, f\"{metric.capitalize()} is\", len(result))\n",
      "c:\\Users\\cypri\\OneDrive - CentraleSupelec\\Bureau\\Non_Linear_Systems\\scripts\\utils.py:53: FutureWarning: You are using `torch.load` with `weights_only=False` (the current default value), which uses the default pickle module implicitly. It is possible to construct malicious pickle data which will execute arbitrary code during unpickling (See https://github.com/pytorch/pytorch/blob/main/SECURITY.md#untrusted-models for more details). In a future release, the default value for `weights_only` will be flipped to `True`. This limits the functions that could be executed during unpickling. Arbitrary objects will no longer be allowed to be loaded via this mode unless they are explicitly allowlisted by the user via `torch.serialization.add_safe_globals`. We recommend you start setting `weights_only=True` for any use case where you don't have full control of the loaded file. Please open an issue on GitHub for any issues related to this experimental feature.\n",
      "  model.load_state_dict(torch.load(model_path))\n"
     ]
    },
    {
     "name": "stdout",
     "output_type": "stream",
     "text": [
      "Accuracy: 0.21\n",
      "Precision: 0.11\n",
      "Recall: 0.20\n",
      "F1-Score: 0.12\n",
      "Model 3fae2606-c26e-4c6a-92da-e700686f2726 :\n",
      "\n",
      "Final Loss: 1.5728880802491136\n",
      "Learning Rate: 4.86\n",
      "Optimizer: SGD\n",
      "Epochs: 1\n"
     ]
    },
    {
     "name": "stderr",
     "output_type": "stream",
     "text": [
      "c:\\Users\\cypri\\anaconda3\\envs\\Torch_Intro_ML\\Lib\\site-packages\\sklearn\\metrics\\_classification.py:1531: UndefinedMetricWarning: Precision is ill-defined and being set to 0.0 in labels with no predicted samples. Use `zero_division` parameter to control this behavior.\n",
      "  _warn_prf(average, modifier, f\"{metric.capitalize()} is\", len(result))\n",
      "c:\\Users\\cypri\\OneDrive - CentraleSupelec\\Bureau\\Non_Linear_Systems\\scripts\\utils.py:53: FutureWarning: You are using `torch.load` with `weights_only=False` (the current default value), which uses the default pickle module implicitly. It is possible to construct malicious pickle data which will execute arbitrary code during unpickling (See https://github.com/pytorch/pytorch/blob/main/SECURITY.md#untrusted-models for more details). In a future release, the default value for `weights_only` will be flipped to `True`. This limits the functions that could be executed during unpickling. Arbitrary objects will no longer be allowed to be loaded via this mode unless they are explicitly allowlisted by the user via `torch.serialization.add_safe_globals`. We recommend you start setting `weights_only=True` for any use case where you don't have full control of the loaded file. Please open an issue on GitHub for any issues related to this experimental feature.\n",
      "  model.load_state_dict(torch.load(model_path))\n"
     ]
    },
    {
     "name": "stdout",
     "output_type": "stream",
     "text": [
      "Accuracy: 0.10\n",
      "Precision: 0.01\n",
      "Recall: 0.10\n",
      "F1-Score: 0.02\n",
      "Model 400247f8-23d7-4872-bccc-caf1a9517ac5 :\n",
      "\n",
      "Final Loss: 2.085355813188085\n",
      "Learning Rate: 4.63\n",
      "Optimizer: SGD\n",
      "Epochs: 2\n"
     ]
    },
    {
     "name": "stderr",
     "output_type": "stream",
     "text": [
      "c:\\Users\\cypri\\anaconda3\\envs\\Torch_Intro_ML\\Lib\\site-packages\\sklearn\\metrics\\_classification.py:1531: UndefinedMetricWarning: Precision is ill-defined and being set to 0.0 in labels with no predicted samples. Use `zero_division` parameter to control this behavior.\n",
      "  _warn_prf(average, modifier, f\"{metric.capitalize()} is\", len(result))\n",
      "c:\\Users\\cypri\\OneDrive - CentraleSupelec\\Bureau\\Non_Linear_Systems\\scripts\\utils.py:53: FutureWarning: You are using `torch.load` with `weights_only=False` (the current default value), which uses the default pickle module implicitly. It is possible to construct malicious pickle data which will execute arbitrary code during unpickling (See https://github.com/pytorch/pytorch/blob/main/SECURITY.md#untrusted-models for more details). In a future release, the default value for `weights_only` will be flipped to `True`. This limits the functions that could be executed during unpickling. Arbitrary objects will no longer be allowed to be loaded via this mode unless they are explicitly allowlisted by the user via `torch.serialization.add_safe_globals`. We recommend you start setting `weights_only=True` for any use case where you don't have full control of the loaded file. Please open an issue on GitHub for any issues related to this experimental feature.\n",
      "  model.load_state_dict(torch.load(model_path))\n"
     ]
    },
    {
     "name": "stdout",
     "output_type": "stream",
     "text": [
      "Accuracy: 0.10\n",
      "Precision: 0.01\n",
      "Recall: 0.10\n",
      "F1-Score: 0.02\n",
      "Model 4072993a-4c07-4394-8783-c57682a5d62e :\n",
      "\n",
      "Final Loss: 0.36301633057796134\n",
      "Learning Rate: 4.53\n",
      "Optimizer: SGD\n",
      "Epochs: 1\n",
      "Accuracy: 0.97\n",
      "Precision: 0.97\n",
      "Recall: 0.97\n",
      "F1-Score: 0.97\n",
      "Model 41801082-03b6-462e-8c88-0aca307729e5 :\n",
      "\n",
      "Final Loss: 2.0099307221136113\n",
      "Learning Rate: 5.18\n",
      "Optimizer: SGD\n",
      "Epochs: 2\n"
     ]
    },
    {
     "name": "stderr",
     "output_type": "stream",
     "text": [
      "c:\\Users\\cypri\\OneDrive - CentraleSupelec\\Bureau\\Non_Linear_Systems\\scripts\\utils.py:53: FutureWarning: You are using `torch.load` with `weights_only=False` (the current default value), which uses the default pickle module implicitly. It is possible to construct malicious pickle data which will execute arbitrary code during unpickling (See https://github.com/pytorch/pytorch/blob/main/SECURITY.md#untrusted-models for more details). In a future release, the default value for `weights_only` will be flipped to `True`. This limits the functions that could be executed during unpickling. Arbitrary objects will no longer be allowed to be loaded via this mode unless they are explicitly allowlisted by the user via `torch.serialization.add_safe_globals`. We recommend you start setting `weights_only=True` for any use case where you don't have full control of the loaded file. Please open an issue on GitHub for any issues related to this experimental feature.\n",
      "  model.load_state_dict(torch.load(model_path))\n",
      "c:\\Users\\cypri\\anaconda3\\envs\\Torch_Intro_ML\\Lib\\site-packages\\sklearn\\metrics\\_classification.py:1531: UndefinedMetricWarning: Precision is ill-defined and being set to 0.0 in labels with no predicted samples. Use `zero_division` parameter to control this behavior.\n",
      "  _warn_prf(average, modifier, f\"{metric.capitalize()} is\", len(result))\n",
      "c:\\Users\\cypri\\OneDrive - CentraleSupelec\\Bureau\\Non_Linear_Systems\\scripts\\utils.py:53: FutureWarning: You are using `torch.load` with `weights_only=False` (the current default value), which uses the default pickle module implicitly. It is possible to construct malicious pickle data which will execute arbitrary code during unpickling (See https://github.com/pytorch/pytorch/blob/main/SECURITY.md#untrusted-models for more details). In a future release, the default value for `weights_only` will be flipped to `True`. This limits the functions that could be executed during unpickling. Arbitrary objects will no longer be allowed to be loaded via this mode unless they are explicitly allowlisted by the user via `torch.serialization.add_safe_globals`. We recommend you start setting `weights_only=True` for any use case where you don't have full control of the loaded file. Please open an issue on GitHub for any issues related to this experimental feature.\n",
      "  model.load_state_dict(torch.load(model_path))\n"
     ]
    },
    {
     "name": "stdout",
     "output_type": "stream",
     "text": [
      "Accuracy: 0.21\n",
      "Precision: 0.12\n",
      "Recall: 0.20\n",
      "F1-Score: 0.12\n",
      "Model 42043206-219d-4cae-81f2-12011567b520 :\n",
      "\n",
      "Final Loss: 1.980780257916908\n",
      "Learning Rate: 5.13\n",
      "Optimizer: SGD\n",
      "Epochs: 1\n"
     ]
    },
    {
     "name": "stderr",
     "output_type": "stream",
     "text": [
      "c:\\Users\\cypri\\anaconda3\\envs\\Torch_Intro_ML\\Lib\\site-packages\\sklearn\\metrics\\_classification.py:1531: UndefinedMetricWarning: Precision is ill-defined and being set to 0.0 in labels with no predicted samples. Use `zero_division` parameter to control this behavior.\n",
      "  _warn_prf(average, modifier, f\"{metric.capitalize()} is\", len(result))\n",
      "c:\\Users\\cypri\\OneDrive - CentraleSupelec\\Bureau\\Non_Linear_Systems\\scripts\\utils.py:53: FutureWarning: You are using `torch.load` with `weights_only=False` (the current default value), which uses the default pickle module implicitly. It is possible to construct malicious pickle data which will execute arbitrary code during unpickling (See https://github.com/pytorch/pytorch/blob/main/SECURITY.md#untrusted-models for more details). In a future release, the default value for `weights_only` will be flipped to `True`. This limits the functions that could be executed during unpickling. Arbitrary objects will no longer be allowed to be loaded via this mode unless they are explicitly allowlisted by the user via `torch.serialization.add_safe_globals`. We recommend you start setting `weights_only=True` for any use case where you don't have full control of the loaded file. Please open an issue on GitHub for any issues related to this experimental feature.\n",
      "  model.load_state_dict(torch.load(model_path))\n"
     ]
    },
    {
     "name": "stdout",
     "output_type": "stream",
     "text": [
      "Accuracy: 0.21\n",
      "Precision: 0.11\n",
      "Recall: 0.20\n",
      "F1-Score: 0.12\n",
      "Model 4273bb09-66dd-4c5a-a5a3-a05c800171fc :\n",
      "\n",
      "Final Loss: 2.2270345338372026\n",
      "Learning Rate: 4.82\n",
      "Optimizer: SGD\n",
      "Epochs: 2\n"
     ]
    },
    {
     "name": "stderr",
     "output_type": "stream",
     "text": [
      "c:\\Users\\cypri\\anaconda3\\envs\\Torch_Intro_ML\\Lib\\site-packages\\sklearn\\metrics\\_classification.py:1531: UndefinedMetricWarning: Precision is ill-defined and being set to 0.0 in labels with no predicted samples. Use `zero_division` parameter to control this behavior.\n",
      "  _warn_prf(average, modifier, f\"{metric.capitalize()} is\", len(result))\n",
      "c:\\Users\\cypri\\OneDrive - CentraleSupelec\\Bureau\\Non_Linear_Systems\\scripts\\utils.py:53: FutureWarning: You are using `torch.load` with `weights_only=False` (the current default value), which uses the default pickle module implicitly. It is possible to construct malicious pickle data which will execute arbitrary code during unpickling (See https://github.com/pytorch/pytorch/blob/main/SECURITY.md#untrusted-models for more details). In a future release, the default value for `weights_only` will be flipped to `True`. This limits the functions that could be executed during unpickling. Arbitrary objects will no longer be allowed to be loaded via this mode unless they are explicitly allowlisted by the user via `torch.serialization.add_safe_globals`. We recommend you start setting `weights_only=True` for any use case where you don't have full control of the loaded file. Please open an issue on GitHub for any issues related to this experimental feature.\n",
      "  model.load_state_dict(torch.load(model_path))\n"
     ]
    },
    {
     "name": "stdout",
     "output_type": "stream",
     "text": [
      "Accuracy: 0.10\n",
      "Precision: 0.01\n",
      "Recall: 0.10\n",
      "F1-Score: 0.02\n",
      "Model 4436a22b-0c13-4dfa-a33d-db09855e39ae :\n",
      "\n",
      "Final Loss: 2.2582837869363552\n",
      "Learning Rate: 5.23\n",
      "Optimizer: SGD\n",
      "Epochs: 2\n"
     ]
    },
    {
     "name": "stderr",
     "output_type": "stream",
     "text": [
      "c:\\Users\\cypri\\anaconda3\\envs\\Torch_Intro_ML\\Lib\\site-packages\\sklearn\\metrics\\_classification.py:1531: UndefinedMetricWarning: Precision is ill-defined and being set to 0.0 in labels with no predicted samples. Use `zero_division` parameter to control this behavior.\n",
      "  _warn_prf(average, modifier, f\"{metric.capitalize()} is\", len(result))\n",
      "c:\\Users\\cypri\\OneDrive - CentraleSupelec\\Bureau\\Non_Linear_Systems\\scripts\\utils.py:53: FutureWarning: You are using `torch.load` with `weights_only=False` (the current default value), which uses the default pickle module implicitly. It is possible to construct malicious pickle data which will execute arbitrary code during unpickling (See https://github.com/pytorch/pytorch/blob/main/SECURITY.md#untrusted-models for more details). In a future release, the default value for `weights_only` will be flipped to `True`. This limits the functions that could be executed during unpickling. Arbitrary objects will no longer be allowed to be loaded via this mode unless they are explicitly allowlisted by the user via `torch.serialization.add_safe_globals`. We recommend you start setting `weights_only=True` for any use case where you don't have full control of the loaded file. Please open an issue on GitHub for any issues related to this experimental feature.\n",
      "  model.load_state_dict(torch.load(model_path))\n"
     ]
    },
    {
     "name": "stdout",
     "output_type": "stream",
     "text": [
      "Accuracy: 0.10\n",
      "Precision: 0.01\n",
      "Recall: 0.10\n",
      "F1-Score: 0.02\n",
      "Model 46f14d03-9bb0-436d-807e-f6b9936a4025 :\n",
      "\n",
      "Final Loss: 2.046526842279983\n",
      "Learning Rate: 5.31\n",
      "Optimizer: SGD\n",
      "Epochs: 2\n"
     ]
    },
    {
     "name": "stderr",
     "output_type": "stream",
     "text": [
      "c:\\Users\\cypri\\anaconda3\\envs\\Torch_Intro_ML\\Lib\\site-packages\\sklearn\\metrics\\_classification.py:1531: UndefinedMetricWarning: Precision is ill-defined and being set to 0.0 in labels with no predicted samples. Use `zero_division` parameter to control this behavior.\n",
      "  _warn_prf(average, modifier, f\"{metric.capitalize()} is\", len(result))\n",
      "c:\\Users\\cypri\\OneDrive - CentraleSupelec\\Bureau\\Non_Linear_Systems\\scripts\\utils.py:53: FutureWarning: You are using `torch.load` with `weights_only=False` (the current default value), which uses the default pickle module implicitly. It is possible to construct malicious pickle data which will execute arbitrary code during unpickling (See https://github.com/pytorch/pytorch/blob/main/SECURITY.md#untrusted-models for more details). In a future release, the default value for `weights_only` will be flipped to `True`. This limits the functions that could be executed during unpickling. Arbitrary objects will no longer be allowed to be loaded via this mode unless they are explicitly allowlisted by the user via `torch.serialization.add_safe_globals`. We recommend you start setting `weights_only=True` for any use case where you don't have full control of the loaded file. Please open an issue on GitHub for any issues related to this experimental feature.\n",
      "  model.load_state_dict(torch.load(model_path))\n"
     ]
    },
    {
     "name": "stdout",
     "output_type": "stream",
     "text": [
      "Accuracy: 0.19\n",
      "Precision: 0.11\n",
      "Recall: 0.20\n",
      "F1-Score: 0.12\n",
      "Model 472bde2c-4dec-46e3-a8c9-b264e95f0718 :\n",
      "\n",
      "Final Loss: 2.090687909995569\n",
      "Learning Rate: 5.05\n",
      "Optimizer: SGD\n",
      "Epochs: 2\n"
     ]
    },
    {
     "name": "stderr",
     "output_type": "stream",
     "text": [
      "c:\\Users\\cypri\\anaconda3\\envs\\Torch_Intro_ML\\Lib\\site-packages\\sklearn\\metrics\\_classification.py:1531: UndefinedMetricWarning: Precision is ill-defined and being set to 0.0 in labels with no predicted samples. Use `zero_division` parameter to control this behavior.\n",
      "  _warn_prf(average, modifier, f\"{metric.capitalize()} is\", len(result))\n",
      "c:\\Users\\cypri\\OneDrive - CentraleSupelec\\Bureau\\Non_Linear_Systems\\scripts\\utils.py:53: FutureWarning: You are using `torch.load` with `weights_only=False` (the current default value), which uses the default pickle module implicitly. It is possible to construct malicious pickle data which will execute arbitrary code during unpickling (See https://github.com/pytorch/pytorch/blob/main/SECURITY.md#untrusted-models for more details). In a future release, the default value for `weights_only` will be flipped to `True`. This limits the functions that could be executed during unpickling. Arbitrary objects will no longer be allowed to be loaded via this mode unless they are explicitly allowlisted by the user via `torch.serialization.add_safe_globals`. We recommend you start setting `weights_only=True` for any use case where you don't have full control of the loaded file. Please open an issue on GitHub for any issues related to this experimental feature.\n",
      "  model.load_state_dict(torch.load(model_path))\n"
     ]
    },
    {
     "name": "stdout",
     "output_type": "stream",
     "text": [
      "Accuracy: 0.22\n",
      "Precision: 0.17\n",
      "Recall: 0.21\n",
      "F1-Score: 0.13\n",
      "Model 48bb666c-541d-4543-b0e8-00be76447ed1 :\n",
      "\n",
      "Final Loss: 2.1921529964343316\n",
      "Learning Rate: 5.32\n",
      "Optimizer: SGD\n",
      "Epochs: 1\n"
     ]
    },
    {
     "name": "stderr",
     "output_type": "stream",
     "text": [
      "c:\\Users\\cypri\\anaconda3\\envs\\Torch_Intro_ML\\Lib\\site-packages\\sklearn\\metrics\\_classification.py:1531: UndefinedMetricWarning: Precision is ill-defined and being set to 0.0 in labels with no predicted samples. Use `zero_division` parameter to control this behavior.\n",
      "  _warn_prf(average, modifier, f\"{metric.capitalize()} is\", len(result))\n",
      "c:\\Users\\cypri\\OneDrive - CentraleSupelec\\Bureau\\Non_Linear_Systems\\scripts\\utils.py:53: FutureWarning: You are using `torch.load` with `weights_only=False` (the current default value), which uses the default pickle module implicitly. It is possible to construct malicious pickle data which will execute arbitrary code during unpickling (See https://github.com/pytorch/pytorch/blob/main/SECURITY.md#untrusted-models for more details). In a future release, the default value for `weights_only` will be flipped to `True`. This limits the functions that could be executed during unpickling. Arbitrary objects will no longer be allowed to be loaded via this mode unless they are explicitly allowlisted by the user via `torch.serialization.add_safe_globals`. We recommend you start setting `weights_only=True` for any use case where you don't have full control of the loaded file. Please open an issue on GitHub for any issues related to this experimental feature.\n",
      "  model.load_state_dict(torch.load(model_path))\n"
     ]
    },
    {
     "name": "stdout",
     "output_type": "stream",
     "text": [
      "Accuracy: 0.09\n",
      "Precision: 0.01\n",
      "Recall: 0.10\n",
      "F1-Score: 0.02\n",
      "Model 48cd9521-2d08-45a0-b394-0b08158f59ae :\n",
      "\n",
      "Final Loss: 1.8793938466226623\n",
      "Learning Rate: 4.61\n",
      "Optimizer: SGD\n",
      "Epochs: 2\n"
     ]
    },
    {
     "name": "stderr",
     "output_type": "stream",
     "text": [
      "c:\\Users\\cypri\\anaconda3\\envs\\Torch_Intro_ML\\Lib\\site-packages\\sklearn\\metrics\\_classification.py:1531: UndefinedMetricWarning: Precision is ill-defined and being set to 0.0 in labels with no predicted samples. Use `zero_division` parameter to control this behavior.\n",
      "  _warn_prf(average, modifier, f\"{metric.capitalize()} is\", len(result))\n",
      "c:\\Users\\cypri\\OneDrive - CentraleSupelec\\Bureau\\Non_Linear_Systems\\scripts\\utils.py:53: FutureWarning: You are using `torch.load` with `weights_only=False` (the current default value), which uses the default pickle module implicitly. It is possible to construct malicious pickle data which will execute arbitrary code during unpickling (See https://github.com/pytorch/pytorch/blob/main/SECURITY.md#untrusted-models for more details). In a future release, the default value for `weights_only` will be flipped to `True`. This limits the functions that could be executed during unpickling. Arbitrary objects will no longer be allowed to be loaded via this mode unless they are explicitly allowlisted by the user via `torch.serialization.add_safe_globals`. We recommend you start setting `weights_only=True` for any use case where you don't have full control of the loaded file. Please open an issue on GitHub for any issues related to this experimental feature.\n",
      "  model.load_state_dict(torch.load(model_path))\n"
     ]
    },
    {
     "name": "stdout",
     "output_type": "stream",
     "text": [
      "Accuracy: 0.24\n",
      "Precision: 0.18\n",
      "Recall: 0.23\n",
      "F1-Score: 0.15\n",
      "Model 496a1144-6a21-4768-ab12-3eddf9d5bb8a :\n",
      "\n",
      "Final Loss: 1.8503013258295526\n",
      "Learning Rate: 5.47\n",
      "Optimizer: SGD\n",
      "Epochs: 1\n"
     ]
    },
    {
     "name": "stderr",
     "output_type": "stream",
     "text": [
      "c:\\Users\\cypri\\anaconda3\\envs\\Torch_Intro_ML\\Lib\\site-packages\\sklearn\\metrics\\_classification.py:1531: UndefinedMetricWarning: Precision is ill-defined and being set to 0.0 in labels with no predicted samples. Use `zero_division` parameter to control this behavior.\n",
      "  _warn_prf(average, modifier, f\"{metric.capitalize()} is\", len(result))\n",
      "c:\\Users\\cypri\\OneDrive - CentraleSupelec\\Bureau\\Non_Linear_Systems\\scripts\\utils.py:53: FutureWarning: You are using `torch.load` with `weights_only=False` (the current default value), which uses the default pickle module implicitly. It is possible to construct malicious pickle data which will execute arbitrary code during unpickling (See https://github.com/pytorch/pytorch/blob/main/SECURITY.md#untrusted-models for more details). In a future release, the default value for `weights_only` will be flipped to `True`. This limits the functions that could be executed during unpickling. Arbitrary objects will no longer be allowed to be loaded via this mode unless they are explicitly allowlisted by the user via `torch.serialization.add_safe_globals`. We recommend you start setting `weights_only=True` for any use case where you don't have full control of the loaded file. Please open an issue on GitHub for any issues related to this experimental feature.\n",
      "  model.load_state_dict(torch.load(model_path))\n"
     ]
    },
    {
     "name": "stdout",
     "output_type": "stream",
     "text": [
      "Accuracy: 0.35\n",
      "Precision: 0.30\n",
      "Recall: 0.34\n",
      "F1-Score: 0.28\n",
      "Model 49b46246-16ea-46d8-9ba3-f313ccd2bc38 :\n",
      "\n",
      "Final Loss: 1.6256676132617982\n",
      "Learning Rate: 5.41\n",
      "Optimizer: SGD\n",
      "Epochs: 1\n"
     ]
    },
    {
     "name": "stderr",
     "output_type": "stream",
     "text": [
      "c:\\Users\\cypri\\anaconda3\\envs\\Torch_Intro_ML\\Lib\\site-packages\\sklearn\\metrics\\_classification.py:1531: UndefinedMetricWarning: Precision is ill-defined and being set to 0.0 in labels with no predicted samples. Use `zero_division` parameter to control this behavior.\n",
      "  _warn_prf(average, modifier, f\"{metric.capitalize()} is\", len(result))\n",
      "c:\\Users\\cypri\\OneDrive - CentraleSupelec\\Bureau\\Non_Linear_Systems\\scripts\\utils.py:53: FutureWarning: You are using `torch.load` with `weights_only=False` (the current default value), which uses the default pickle module implicitly. It is possible to construct malicious pickle data which will execute arbitrary code during unpickling (See https://github.com/pytorch/pytorch/blob/main/SECURITY.md#untrusted-models for more details). In a future release, the default value for `weights_only` will be flipped to `True`. This limits the functions that could be executed during unpickling. Arbitrary objects will no longer be allowed to be loaded via this mode unless they are explicitly allowlisted by the user via `torch.serialization.add_safe_globals`. We recommend you start setting `weights_only=True` for any use case where you don't have full control of the loaded file. Please open an issue on GitHub for any issues related to this experimental feature.\n",
      "  model.load_state_dict(torch.load(model_path))\n"
     ]
    },
    {
     "name": "stdout",
     "output_type": "stream",
     "text": [
      "Accuracy: 0.39\n",
      "Precision: 0.28\n",
      "Recall: 0.38\n",
      "F1-Score: 0.30\n",
      "Model 49fa8a57-437d-457d-ba65-f2c97eee7157 :\n",
      "\n",
      "Final Loss: 2.2602092703776573\n",
      "Learning Rate: 5.14\n",
      "Optimizer: SGD\n",
      "Epochs: 2\n"
     ]
    },
    {
     "name": "stderr",
     "output_type": "stream",
     "text": [
      "c:\\Users\\cypri\\anaconda3\\envs\\Torch_Intro_ML\\Lib\\site-packages\\sklearn\\metrics\\_classification.py:1531: UndefinedMetricWarning: Precision is ill-defined and being set to 0.0 in labels with no predicted samples. Use `zero_division` parameter to control this behavior.\n",
      "  _warn_prf(average, modifier, f\"{metric.capitalize()} is\", len(result))\n",
      "c:\\Users\\cypri\\OneDrive - CentraleSupelec\\Bureau\\Non_Linear_Systems\\scripts\\utils.py:53: FutureWarning: You are using `torch.load` with `weights_only=False` (the current default value), which uses the default pickle module implicitly. It is possible to construct malicious pickle data which will execute arbitrary code during unpickling (See https://github.com/pytorch/pytorch/blob/main/SECURITY.md#untrusted-models for more details). In a future release, the default value for `weights_only` will be flipped to `True`. This limits the functions that could be executed during unpickling. Arbitrary objects will no longer be allowed to be loaded via this mode unless they are explicitly allowlisted by the user via `torch.serialization.add_safe_globals`. We recommend you start setting `weights_only=True` for any use case where you don't have full control of the loaded file. Please open an issue on GitHub for any issues related to this experimental feature.\n",
      "  model.load_state_dict(torch.load(model_path))\n"
     ]
    },
    {
     "name": "stdout",
     "output_type": "stream",
     "text": [
      "Accuracy: 0.10\n",
      "Precision: 0.01\n",
      "Recall: 0.10\n",
      "F1-Score: 0.02\n",
      "Model 49fe0a59-f61b-47da-af71-1037e56bbcfe :\n",
      "\n",
      "Final Loss: 2.315032521163477\n",
      "Learning Rate: 4.78\n",
      "Optimizer: SGD\n",
      "Epochs: 2\n"
     ]
    },
    {
     "name": "stderr",
     "output_type": "stream",
     "text": [
      "c:\\Users\\cypri\\anaconda3\\envs\\Torch_Intro_ML\\Lib\\site-packages\\sklearn\\metrics\\_classification.py:1531: UndefinedMetricWarning: Precision is ill-defined and being set to 0.0 in labels with no predicted samples. Use `zero_division` parameter to control this behavior.\n",
      "  _warn_prf(average, modifier, f\"{metric.capitalize()} is\", len(result))\n",
      "c:\\Users\\cypri\\OneDrive - CentraleSupelec\\Bureau\\Non_Linear_Systems\\scripts\\utils.py:53: FutureWarning: You are using `torch.load` with `weights_only=False` (the current default value), which uses the default pickle module implicitly. It is possible to construct malicious pickle data which will execute arbitrary code during unpickling (See https://github.com/pytorch/pytorch/blob/main/SECURITY.md#untrusted-models for more details). In a future release, the default value for `weights_only` will be flipped to `True`. This limits the functions that could be executed during unpickling. Arbitrary objects will no longer be allowed to be loaded via this mode unless they are explicitly allowlisted by the user via `torch.serialization.add_safe_globals`. We recommend you start setting `weights_only=True` for any use case where you don't have full control of the loaded file. Please open an issue on GitHub for any issues related to this experimental feature.\n",
      "  model.load_state_dict(torch.load(model_path))\n"
     ]
    },
    {
     "name": "stdout",
     "output_type": "stream",
     "text": [
      "Accuracy: 0.10\n",
      "Precision: 0.01\n",
      "Recall: 0.10\n",
      "F1-Score: 0.02\n",
      "Model 4a4b8b3b-25da-4dc8-821e-4b24def71785 :\n",
      "\n",
      "Final Loss: 1.6032833196461074\n",
      "Learning Rate: 5.3\n",
      "Optimizer: SGD\n",
      "Epochs: 1\n"
     ]
    },
    {
     "name": "stderr",
     "output_type": "stream",
     "text": [
      "c:\\Users\\cypri\\anaconda3\\envs\\Torch_Intro_ML\\Lib\\site-packages\\sklearn\\metrics\\_classification.py:1531: UndefinedMetricWarning: Precision is ill-defined and being set to 0.0 in labels with no predicted samples. Use `zero_division` parameter to control this behavior.\n",
      "  _warn_prf(average, modifier, f\"{metric.capitalize()} is\", len(result))\n",
      "c:\\Users\\cypri\\OneDrive - CentraleSupelec\\Bureau\\Non_Linear_Systems\\scripts\\utils.py:53: FutureWarning: You are using `torch.load` with `weights_only=False` (the current default value), which uses the default pickle module implicitly. It is possible to construct malicious pickle data which will execute arbitrary code during unpickling (See https://github.com/pytorch/pytorch/blob/main/SECURITY.md#untrusted-models for more details). In a future release, the default value for `weights_only` will be flipped to `True`. This limits the functions that could be executed during unpickling. Arbitrary objects will no longer be allowed to be loaded via this mode unless they are explicitly allowlisted by the user via `torch.serialization.add_safe_globals`. We recommend you start setting `weights_only=True` for any use case where you don't have full control of the loaded file. Please open an issue on GitHub for any issues related to this experimental feature.\n",
      "  model.load_state_dict(torch.load(model_path))\n"
     ]
    },
    {
     "name": "stdout",
     "output_type": "stream",
     "text": [
      "Accuracy: 0.36\n",
      "Precision: 0.35\n",
      "Recall: 0.37\n",
      "F1-Score: 0.31\n",
      "Model 4b18ea9b-80e8-4227-86d7-c453d84a4bc9 :\n",
      "\n",
      "Final Loss: 2.0648969616462933\n",
      "Learning Rate: 5.09\n",
      "Optimizer: SGD\n",
      "Epochs: 1\n"
     ]
    },
    {
     "name": "stderr",
     "output_type": "stream",
     "text": [
      "c:\\Users\\cypri\\anaconda3\\envs\\Torch_Intro_ML\\Lib\\site-packages\\sklearn\\metrics\\_classification.py:1531: UndefinedMetricWarning: Precision is ill-defined and being set to 0.0 in labels with no predicted samples. Use `zero_division` parameter to control this behavior.\n",
      "  _warn_prf(average, modifier, f\"{metric.capitalize()} is\", len(result))\n",
      "c:\\Users\\cypri\\OneDrive - CentraleSupelec\\Bureau\\Non_Linear_Systems\\scripts\\utils.py:53: FutureWarning: You are using `torch.load` with `weights_only=False` (the current default value), which uses the default pickle module implicitly. It is possible to construct malicious pickle data which will execute arbitrary code during unpickling (See https://github.com/pytorch/pytorch/blob/main/SECURITY.md#untrusted-models for more details). In a future release, the default value for `weights_only` will be flipped to `True`. This limits the functions that could be executed during unpickling. Arbitrary objects will no longer be allowed to be loaded via this mode unless they are explicitly allowlisted by the user via `torch.serialization.add_safe_globals`. We recommend you start setting `weights_only=True` for any use case where you don't have full control of the loaded file. Please open an issue on GitHub for any issues related to this experimental feature.\n",
      "  model.load_state_dict(torch.load(model_path))\n"
     ]
    },
    {
     "name": "stdout",
     "output_type": "stream",
     "text": [
      "Accuracy: 0.10\n",
      "Precision: 0.01\n",
      "Recall: 0.10\n",
      "F1-Score: 0.02\n",
      "Model 4b53075d-5107-48be-b4e5-d8d36c1f2fc7 :\n",
      "\n",
      "Final Loss: 0.666993439609586\n",
      "Learning Rate: 4.77\n",
      "Optimizer: SGD\n",
      "Epochs: 1\n"
     ]
    },
    {
     "name": "stderr",
     "output_type": "stream",
     "text": [
      "c:\\Users\\cypri\\anaconda3\\envs\\Torch_Intro_ML\\Lib\\site-packages\\sklearn\\metrics\\_classification.py:1531: UndefinedMetricWarning: Precision is ill-defined and being set to 0.0 in labels with no predicted samples. Use `zero_division` parameter to control this behavior.\n",
      "  _warn_prf(average, modifier, f\"{metric.capitalize()} is\", len(result))\n",
      "c:\\Users\\cypri\\OneDrive - CentraleSupelec\\Bureau\\Non_Linear_Systems\\scripts\\utils.py:53: FutureWarning: You are using `torch.load` with `weights_only=False` (the current default value), which uses the default pickle module implicitly. It is possible to construct malicious pickle data which will execute arbitrary code during unpickling (See https://github.com/pytorch/pytorch/blob/main/SECURITY.md#untrusted-models for more details). In a future release, the default value for `weights_only` will be flipped to `True`. This limits the functions that could be executed during unpickling. Arbitrary objects will no longer be allowed to be loaded via this mode unless they are explicitly allowlisted by the user via `torch.serialization.add_safe_globals`. We recommend you start setting `weights_only=True` for any use case where you don't have full control of the loaded file. Please open an issue on GitHub for any issues related to this experimental feature.\n",
      "  model.load_state_dict(torch.load(model_path))\n"
     ]
    },
    {
     "name": "stdout",
     "output_type": "stream",
     "text": [
      "Accuracy: 0.30\n",
      "Precision: 0.23\n",
      "Recall: 0.29\n",
      "F1-Score: 0.22\n",
      "Model 50ff780c-94e7-4cde-9bd2-63543f4cfff8 :\n",
      "\n",
      "Final Loss: 2.0036406378502023\n",
      "Learning Rate: 5.07\n",
      "Optimizer: SGD\n",
      "Epochs: 1\n"
     ]
    },
    {
     "name": "stderr",
     "output_type": "stream",
     "text": [
      "c:\\Users\\cypri\\anaconda3\\envs\\Torch_Intro_ML\\Lib\\site-packages\\sklearn\\metrics\\_classification.py:1531: UndefinedMetricWarning: Precision is ill-defined and being set to 0.0 in labels with no predicted samples. Use `zero_division` parameter to control this behavior.\n",
      "  _warn_prf(average, modifier, f\"{metric.capitalize()} is\", len(result))\n",
      "c:\\Users\\cypri\\OneDrive - CentraleSupelec\\Bureau\\Non_Linear_Systems\\scripts\\utils.py:53: FutureWarning: You are using `torch.load` with `weights_only=False` (the current default value), which uses the default pickle module implicitly. It is possible to construct malicious pickle data which will execute arbitrary code during unpickling (See https://github.com/pytorch/pytorch/blob/main/SECURITY.md#untrusted-models for more details). In a future release, the default value for `weights_only` will be flipped to `True`. This limits the functions that could be executed during unpickling. Arbitrary objects will no longer be allowed to be loaded via this mode unless they are explicitly allowlisted by the user via `torch.serialization.add_safe_globals`. We recommend you start setting `weights_only=True` for any use case where you don't have full control of the loaded file. Please open an issue on GitHub for any issues related to this experimental feature.\n",
      "  model.load_state_dict(torch.load(model_path))\n"
     ]
    },
    {
     "name": "stdout",
     "output_type": "stream",
     "text": [
      "Accuracy: 0.21\n",
      "Precision: 0.12\n",
      "Recall: 0.20\n",
      "F1-Score: 0.12\n",
      "Model 516870b7-a7fe-405b-b51d-1132976c7fa0 :\n",
      "\n",
      "Final Loss: 2.168578316916281\n",
      "Learning Rate: 5.22\n",
      "Optimizer: SGD\n",
      "Epochs: 1\n"
     ]
    },
    {
     "name": "stderr",
     "output_type": "stream",
     "text": [
      "c:\\Users\\cypri\\anaconda3\\envs\\Torch_Intro_ML\\Lib\\site-packages\\sklearn\\metrics\\_classification.py:1531: UndefinedMetricWarning: Precision is ill-defined and being set to 0.0 in labels with no predicted samples. Use `zero_division` parameter to control this behavior.\n",
      "  _warn_prf(average, modifier, f\"{metric.capitalize()} is\", len(result))\n",
      "c:\\Users\\cypri\\OneDrive - CentraleSupelec\\Bureau\\Non_Linear_Systems\\scripts\\utils.py:53: FutureWarning: You are using `torch.load` with `weights_only=False` (the current default value), which uses the default pickle module implicitly. It is possible to construct malicious pickle data which will execute arbitrary code during unpickling (See https://github.com/pytorch/pytorch/blob/main/SECURITY.md#untrusted-models for more details). In a future release, the default value for `weights_only` will be flipped to `True`. This limits the functions that could be executed during unpickling. Arbitrary objects will no longer be allowed to be loaded via this mode unless they are explicitly allowlisted by the user via `torch.serialization.add_safe_globals`. We recommend you start setting `weights_only=True` for any use case where you don't have full control of the loaded file. Please open an issue on GitHub for any issues related to this experimental feature.\n",
      "  model.load_state_dict(torch.load(model_path))\n"
     ]
    },
    {
     "name": "stdout",
     "output_type": "stream",
     "text": [
      "Accuracy: 0.29\n",
      "Precision: 0.22\n",
      "Recall: 0.29\n",
      "F1-Score: 0.21\n",
      "Model 52a114e0-68c0-45a0-9769-c161e1089595 :\n",
      "\n",
      "Final Loss: 0.36328007116703304\n",
      "Learning Rate: 4.76\n",
      "Optimizer: SGD\n",
      "Epochs: 1\n",
      "Accuracy: 0.95\n",
      "Precision: 0.96\n",
      "Recall: 0.95\n",
      "F1-Score: 0.95\n",
      "Model 53362071-d3c3-4892-a1ac-2a0ab859eb25 :\n",
      "\n",
      "Final Loss: 1.8328541834979677\n",
      "Learning Rate: 4.79\n",
      "Optimizer: SGD\n",
      "Epochs: 2\n"
     ]
    },
    {
     "name": "stderr",
     "output_type": "stream",
     "text": [
      "c:\\Users\\cypri\\OneDrive - CentraleSupelec\\Bureau\\Non_Linear_Systems\\scripts\\utils.py:53: FutureWarning: You are using `torch.load` with `weights_only=False` (the current default value), which uses the default pickle module implicitly. It is possible to construct malicious pickle data which will execute arbitrary code during unpickling (See https://github.com/pytorch/pytorch/blob/main/SECURITY.md#untrusted-models for more details). In a future release, the default value for `weights_only` will be flipped to `True`. This limits the functions that could be executed during unpickling. Arbitrary objects will no longer be allowed to be loaded via this mode unless they are explicitly allowlisted by the user via `torch.serialization.add_safe_globals`. We recommend you start setting `weights_only=True` for any use case where you don't have full control of the loaded file. Please open an issue on GitHub for any issues related to this experimental feature.\n",
      "  model.load_state_dict(torch.load(model_path))\n",
      "c:\\Users\\cypri\\anaconda3\\envs\\Torch_Intro_ML\\Lib\\site-packages\\sklearn\\metrics\\_classification.py:1531: UndefinedMetricWarning: Precision is ill-defined and being set to 0.0 in labels with no predicted samples. Use `zero_division` parameter to control this behavior.\n",
      "  _warn_prf(average, modifier, f\"{metric.capitalize()} is\", len(result))\n",
      "c:\\Users\\cypri\\OneDrive - CentraleSupelec\\Bureau\\Non_Linear_Systems\\scripts\\utils.py:53: FutureWarning: You are using `torch.load` with `weights_only=False` (the current default value), which uses the default pickle module implicitly. It is possible to construct malicious pickle data which will execute arbitrary code during unpickling (See https://github.com/pytorch/pytorch/blob/main/SECURITY.md#untrusted-models for more details). In a future release, the default value for `weights_only` will be flipped to `True`. This limits the functions that could be executed during unpickling. Arbitrary objects will no longer be allowed to be loaded via this mode unless they are explicitly allowlisted by the user via `torch.serialization.add_safe_globals`. We recommend you start setting `weights_only=True` for any use case where you don't have full control of the loaded file. Please open an issue on GitHub for any issues related to this experimental feature.\n",
      "  model.load_state_dict(torch.load(model_path))\n"
     ]
    },
    {
     "name": "stdout",
     "output_type": "stream",
     "text": [
      "Accuracy: 0.20\n",
      "Precision: 0.12\n",
      "Recall: 0.20\n",
      "F1-Score: 0.12\n",
      "Model 53609c93-529d-40a1-acbf-1f084f72f6fb :\n",
      "\n",
      "Final Loss: 1.6381176002244198\n",
      "Learning Rate: 5.42\n",
      "Optimizer: SGD\n",
      "Epochs: 1\n"
     ]
    },
    {
     "name": "stderr",
     "output_type": "stream",
     "text": [
      "c:\\Users\\cypri\\anaconda3\\envs\\Torch_Intro_ML\\Lib\\site-packages\\sklearn\\metrics\\_classification.py:1531: UndefinedMetricWarning: Precision is ill-defined and being set to 0.0 in labels with no predicted samples. Use `zero_division` parameter to control this behavior.\n",
      "  _warn_prf(average, modifier, f\"{metric.capitalize()} is\", len(result))\n",
      "c:\\Users\\cypri\\OneDrive - CentraleSupelec\\Bureau\\Non_Linear_Systems\\scripts\\utils.py:53: FutureWarning: You are using `torch.load` with `weights_only=False` (the current default value), which uses the default pickle module implicitly. It is possible to construct malicious pickle data which will execute arbitrary code during unpickling (See https://github.com/pytorch/pytorch/blob/main/SECURITY.md#untrusted-models for more details). In a future release, the default value for `weights_only` will be flipped to `True`. This limits the functions that could be executed during unpickling. Arbitrary objects will no longer be allowed to be loaded via this mode unless they are explicitly allowlisted by the user via `torch.serialization.add_safe_globals`. We recommend you start setting `weights_only=True` for any use case where you don't have full control of the loaded file. Please open an issue on GitHub for any issues related to this experimental feature.\n",
      "  model.load_state_dict(torch.load(model_path))\n"
     ]
    },
    {
     "name": "stdout",
     "output_type": "stream",
     "text": [
      "Accuracy: 0.27\n",
      "Precision: 0.21\n",
      "Recall: 0.25\n",
      "F1-Score: 0.19\n",
      "Model 53c37eb7-3350-4cd8-8bc5-3c13e8cd58fc :\n",
      "\n",
      "Final Loss: 2.321846095737872\n",
      "Learning Rate: 4.89\n",
      "Optimizer: SGD\n",
      "Epochs: 1\n"
     ]
    },
    {
     "name": "stderr",
     "output_type": "stream",
     "text": [
      "c:\\Users\\cypri\\anaconda3\\envs\\Torch_Intro_ML\\Lib\\site-packages\\sklearn\\metrics\\_classification.py:1531: UndefinedMetricWarning: Precision is ill-defined and being set to 0.0 in labels with no predicted samples. Use `zero_division` parameter to control this behavior.\n",
      "  _warn_prf(average, modifier, f\"{metric.capitalize()} is\", len(result))\n",
      "c:\\Users\\cypri\\OneDrive - CentraleSupelec\\Bureau\\Non_Linear_Systems\\scripts\\utils.py:53: FutureWarning: You are using `torch.load` with `weights_only=False` (the current default value), which uses the default pickle module implicitly. It is possible to construct malicious pickle data which will execute arbitrary code during unpickling (See https://github.com/pytorch/pytorch/blob/main/SECURITY.md#untrusted-models for more details). In a future release, the default value for `weights_only` will be flipped to `True`. This limits the functions that could be executed during unpickling. Arbitrary objects will no longer be allowed to be loaded via this mode unless they are explicitly allowlisted by the user via `torch.serialization.add_safe_globals`. We recommend you start setting `weights_only=True` for any use case where you don't have full control of the loaded file. Please open an issue on GitHub for any issues related to this experimental feature.\n",
      "  model.load_state_dict(torch.load(model_path))\n"
     ]
    },
    {
     "name": "stdout",
     "output_type": "stream",
     "text": [
      "Accuracy: 0.10\n",
      "Precision: 0.01\n",
      "Recall: 0.10\n",
      "F1-Score: 0.02\n",
      "Model 580b2060-25df-44cf-ab7d-98664ae74aaa :\n",
      "\n",
      "Final Loss: 1.8858277657901301\n",
      "Learning Rate: 5.25\n",
      "Optimizer: SGD\n",
      "Epochs: 1\n"
     ]
    },
    {
     "name": "stderr",
     "output_type": "stream",
     "text": [
      "c:\\Users\\cypri\\anaconda3\\envs\\Torch_Intro_ML\\Lib\\site-packages\\sklearn\\metrics\\_classification.py:1531: UndefinedMetricWarning: Precision is ill-defined and being set to 0.0 in labels with no predicted samples. Use `zero_division` parameter to control this behavior.\n",
      "  _warn_prf(average, modifier, f\"{metric.capitalize()} is\", len(result))\n",
      "c:\\Users\\cypri\\OneDrive - CentraleSupelec\\Bureau\\Non_Linear_Systems\\scripts\\utils.py:53: FutureWarning: You are using `torch.load` with `weights_only=False` (the current default value), which uses the default pickle module implicitly. It is possible to construct malicious pickle data which will execute arbitrary code during unpickling (See https://github.com/pytorch/pytorch/blob/main/SECURITY.md#untrusted-models for more details). In a future release, the default value for `weights_only` will be flipped to `True`. This limits the functions that could be executed during unpickling. Arbitrary objects will no longer be allowed to be loaded via this mode unless they are explicitly allowlisted by the user via `torch.serialization.add_safe_globals`. We recommend you start setting `weights_only=True` for any use case where you don't have full control of the loaded file. Please open an issue on GitHub for any issues related to this experimental feature.\n",
      "  model.load_state_dict(torch.load(model_path))\n"
     ]
    },
    {
     "name": "stdout",
     "output_type": "stream",
     "text": [
      "Accuracy: 0.19\n",
      "Precision: 0.11\n",
      "Recall: 0.19\n",
      "F1-Score: 0.12\n",
      "Model 58497704-abcf-4acc-8800-2f1424c20861 :\n",
      "\n",
      "Final Loss: 0.44104617180676065\n",
      "Learning Rate: 4.93\n",
      "Optimizer: SGD\n",
      "Epochs: 1\n",
      "Accuracy: 0.96\n",
      "Precision: 0.96\n",
      "Recall: 0.96\n",
      "F1-Score: 0.96\n",
      "Model 5a50e920-f75f-4b78-8e44-7809c460c2d6 :\n",
      "\n",
      "Final Loss: 2.0779228050317338\n",
      "Learning Rate: 5.48\n",
      "Optimizer: SGD\n",
      "Epochs: 2\n"
     ]
    },
    {
     "name": "stderr",
     "output_type": "stream",
     "text": [
      "c:\\Users\\cypri\\OneDrive - CentraleSupelec\\Bureau\\Non_Linear_Systems\\scripts\\utils.py:53: FutureWarning: You are using `torch.load` with `weights_only=False` (the current default value), which uses the default pickle module implicitly. It is possible to construct malicious pickle data which will execute arbitrary code during unpickling (See https://github.com/pytorch/pytorch/blob/main/SECURITY.md#untrusted-models for more details). In a future release, the default value for `weights_only` will be flipped to `True`. This limits the functions that could be executed during unpickling. Arbitrary objects will no longer be allowed to be loaded via this mode unless they are explicitly allowlisted by the user via `torch.serialization.add_safe_globals`. We recommend you start setting `weights_only=True` for any use case where you don't have full control of the loaded file. Please open an issue on GitHub for any issues related to this experimental feature.\n",
      "  model.load_state_dict(torch.load(model_path))\n",
      "c:\\Users\\cypri\\anaconda3\\envs\\Torch_Intro_ML\\Lib\\site-packages\\sklearn\\metrics\\_classification.py:1531: UndefinedMetricWarning: Precision is ill-defined and being set to 0.0 in labels with no predicted samples. Use `zero_division` parameter to control this behavior.\n",
      "  _warn_prf(average, modifier, f\"{metric.capitalize()} is\", len(result))\n",
      "c:\\Users\\cypri\\OneDrive - CentraleSupelec\\Bureau\\Non_Linear_Systems\\scripts\\utils.py:53: FutureWarning: You are using `torch.load` with `weights_only=False` (the current default value), which uses the default pickle module implicitly. It is possible to construct malicious pickle data which will execute arbitrary code during unpickling (See https://github.com/pytorch/pytorch/blob/main/SECURITY.md#untrusted-models for more details). In a future release, the default value for `weights_only` will be flipped to `True`. This limits the functions that could be executed during unpickling. Arbitrary objects will no longer be allowed to be loaded via this mode unless they are explicitly allowlisted by the user via `torch.serialization.add_safe_globals`. We recommend you start setting `weights_only=True` for any use case where you don't have full control of the loaded file. Please open an issue on GitHub for any issues related to this experimental feature.\n",
      "  model.load_state_dict(torch.load(model_path))\n"
     ]
    },
    {
     "name": "stdout",
     "output_type": "stream",
     "text": [
      "Accuracy: 0.14\n",
      "Precision: 0.11\n",
      "Recall: 0.15\n",
      "F1-Score: 0.08\n",
      "Model 5a8cf82b-6858-4ff3-ab45-f82ee25388c7 :\n",
      "\n",
      "Final Loss: 1.5107022601086448\n",
      "Learning Rate: 4.69\n",
      "Optimizer: SGD\n",
      "Epochs: 1\n"
     ]
    },
    {
     "name": "stderr",
     "output_type": "stream",
     "text": [
      "c:\\Users\\cypri\\anaconda3\\envs\\Torch_Intro_ML\\Lib\\site-packages\\sklearn\\metrics\\_classification.py:1531: UndefinedMetricWarning: Precision is ill-defined and being set to 0.0 in labels with no predicted samples. Use `zero_division` parameter to control this behavior.\n",
      "  _warn_prf(average, modifier, f\"{metric.capitalize()} is\", len(result))\n",
      "c:\\Users\\cypri\\OneDrive - CentraleSupelec\\Bureau\\Non_Linear_Systems\\scripts\\utils.py:53: FutureWarning: You are using `torch.load` with `weights_only=False` (the current default value), which uses the default pickle module implicitly. It is possible to construct malicious pickle data which will execute arbitrary code during unpickling (See https://github.com/pytorch/pytorch/blob/main/SECURITY.md#untrusted-models for more details). In a future release, the default value for `weights_only` will be flipped to `True`. This limits the functions that could be executed during unpickling. Arbitrary objects will no longer be allowed to be loaded via this mode unless they are explicitly allowlisted by the user via `torch.serialization.add_safe_globals`. We recommend you start setting `weights_only=True` for any use case where you don't have full control of the loaded file. Please open an issue on GitHub for any issues related to this experimental feature.\n",
      "  model.load_state_dict(torch.load(model_path))\n"
     ]
    },
    {
     "name": "stdout",
     "output_type": "stream",
     "text": [
      "Accuracy: 0.37\n",
      "Precision: 0.35\n",
      "Recall: 0.36\n",
      "F1-Score: 0.30\n",
      "Model 5e9ec5f8-bd59-4705-90f6-e73e8fe03818 :\n",
      "\n",
      "Final Loss: 0.12498431226639732\n",
      "Learning Rate: 4.55\n",
      "Optimizer: SGD\n",
      "Epochs: 2\n",
      "Accuracy: 0.98\n",
      "Precision: 0.98\n",
      "Recall: 0.98\n",
      "F1-Score: 0.98\n",
      "Model 6206daa6-e665-40c3-89b1-73b1e087da78 :\n",
      "\n",
      "Final Loss: 2.1645150512520437\n",
      "Learning Rate: 5.0\n",
      "Optimizer: SGD\n",
      "Epochs: 2\n"
     ]
    },
    {
     "name": "stderr",
     "output_type": "stream",
     "text": [
      "c:\\Users\\cypri\\OneDrive - CentraleSupelec\\Bureau\\Non_Linear_Systems\\scripts\\utils.py:53: FutureWarning: You are using `torch.load` with `weights_only=False` (the current default value), which uses the default pickle module implicitly. It is possible to construct malicious pickle data which will execute arbitrary code during unpickling (See https://github.com/pytorch/pytorch/blob/main/SECURITY.md#untrusted-models for more details). In a future release, the default value for `weights_only` will be flipped to `True`. This limits the functions that could be executed during unpickling. Arbitrary objects will no longer be allowed to be loaded via this mode unless they are explicitly allowlisted by the user via `torch.serialization.add_safe_globals`. We recommend you start setting `weights_only=True` for any use case where you don't have full control of the loaded file. Please open an issue on GitHub for any issues related to this experimental feature.\n",
      "  model.load_state_dict(torch.load(model_path))\n",
      "c:\\Users\\cypri\\anaconda3\\envs\\Torch_Intro_ML\\Lib\\site-packages\\sklearn\\metrics\\_classification.py:1531: UndefinedMetricWarning: Precision is ill-defined and being set to 0.0 in labels with no predicted samples. Use `zero_division` parameter to control this behavior.\n",
      "  _warn_prf(average, modifier, f\"{metric.capitalize()} is\", len(result))\n",
      "c:\\Users\\cypri\\OneDrive - CentraleSupelec\\Bureau\\Non_Linear_Systems\\scripts\\utils.py:53: FutureWarning: You are using `torch.load` with `weights_only=False` (the current default value), which uses the default pickle module implicitly. It is possible to construct malicious pickle data which will execute arbitrary code during unpickling (See https://github.com/pytorch/pytorch/blob/main/SECURITY.md#untrusted-models for more details). In a future release, the default value for `weights_only` will be flipped to `True`. This limits the functions that could be executed during unpickling. Arbitrary objects will no longer be allowed to be loaded via this mode unless they are explicitly allowlisted by the user via `torch.serialization.add_safe_globals`. We recommend you start setting `weights_only=True` for any use case where you don't have full control of the loaded file. Please open an issue on GitHub for any issues related to this experimental feature.\n",
      "  model.load_state_dict(torch.load(model_path))\n"
     ]
    },
    {
     "name": "stdout",
     "output_type": "stream",
     "text": [
      "Accuracy: 0.10\n",
      "Precision: 0.01\n",
      "Recall: 0.10\n",
      "F1-Score: 0.02\n",
      "Model 6297d37d-82d5-4f61-aa15-43cf00ed1202 :\n",
      "\n",
      "Final Loss: 2.0826481141007025\n",
      "Learning Rate: 5.46\n",
      "Optimizer: SGD\n",
      "Epochs: 2\n"
     ]
    },
    {
     "name": "stderr",
     "output_type": "stream",
     "text": [
      "c:\\Users\\cypri\\anaconda3\\envs\\Torch_Intro_ML\\Lib\\site-packages\\sklearn\\metrics\\_classification.py:1531: UndefinedMetricWarning: Precision is ill-defined and being set to 0.0 in labels with no predicted samples. Use `zero_division` parameter to control this behavior.\n",
      "  _warn_prf(average, modifier, f\"{metric.capitalize()} is\", len(result))\n",
      "c:\\Users\\cypri\\OneDrive - CentraleSupelec\\Bureau\\Non_Linear_Systems\\scripts\\utils.py:53: FutureWarning: You are using `torch.load` with `weights_only=False` (the current default value), which uses the default pickle module implicitly. It is possible to construct malicious pickle data which will execute arbitrary code during unpickling (See https://github.com/pytorch/pytorch/blob/main/SECURITY.md#untrusted-models for more details). In a future release, the default value for `weights_only` will be flipped to `True`. This limits the functions that could be executed during unpickling. Arbitrary objects will no longer be allowed to be loaded via this mode unless they are explicitly allowlisted by the user via `torch.serialization.add_safe_globals`. We recommend you start setting `weights_only=True` for any use case where you don't have full control of the loaded file. Please open an issue on GitHub for any issues related to this experimental feature.\n",
      "  model.load_state_dict(torch.load(model_path))\n"
     ]
    },
    {
     "name": "stdout",
     "output_type": "stream",
     "text": [
      "Accuracy: 0.21\n",
      "Precision: 0.10\n",
      "Recall: 0.20\n",
      "F1-Score: 0.12\n",
      "Model 6450f237-3e20-45e0-a2e0-90611a990fd2 :\n",
      "\n",
      "Final Loss: 2.109588125621332\n",
      "Learning Rate: 4.67\n",
      "Optimizer: SGD\n",
      "Epochs: 2\n"
     ]
    },
    {
     "name": "stderr",
     "output_type": "stream",
     "text": [
      "c:\\Users\\cypri\\anaconda3\\envs\\Torch_Intro_ML\\Lib\\site-packages\\sklearn\\metrics\\_classification.py:1531: UndefinedMetricWarning: Precision is ill-defined and being set to 0.0 in labels with no predicted samples. Use `zero_division` parameter to control this behavior.\n",
      "  _warn_prf(average, modifier, f\"{metric.capitalize()} is\", len(result))\n",
      "c:\\Users\\cypri\\OneDrive - CentraleSupelec\\Bureau\\Non_Linear_Systems\\scripts\\utils.py:53: FutureWarning: You are using `torch.load` with `weights_only=False` (the current default value), which uses the default pickle module implicitly. It is possible to construct malicious pickle data which will execute arbitrary code during unpickling (See https://github.com/pytorch/pytorch/blob/main/SECURITY.md#untrusted-models for more details). In a future release, the default value for `weights_only` will be flipped to `True`. This limits the functions that could be executed during unpickling. Arbitrary objects will no longer be allowed to be loaded via this mode unless they are explicitly allowlisted by the user via `torch.serialization.add_safe_globals`. We recommend you start setting `weights_only=True` for any use case where you don't have full control of the loaded file. Please open an issue on GitHub for any issues related to this experimental feature.\n",
      "  model.load_state_dict(torch.load(model_path))\n"
     ]
    },
    {
     "name": "stdout",
     "output_type": "stream",
     "text": [
      "Accuracy: 0.21\n",
      "Precision: 0.12\n",
      "Recall: 0.20\n",
      "F1-Score: 0.12\n",
      "Model 64802d28-45aa-48ce-9f36-7ce3e8d26944 :\n",
      "\n",
      "Final Loss: 1.8628556036999993\n",
      "Learning Rate: 4.97\n",
      "Optimizer: SGD\n",
      "Epochs: 2\n"
     ]
    },
    {
     "name": "stderr",
     "output_type": "stream",
     "text": [
      "c:\\Users\\cypri\\anaconda3\\envs\\Torch_Intro_ML\\Lib\\site-packages\\sklearn\\metrics\\_classification.py:1531: UndefinedMetricWarning: Precision is ill-defined and being set to 0.0 in labels with no predicted samples. Use `zero_division` parameter to control this behavior.\n",
      "  _warn_prf(average, modifier, f\"{metric.capitalize()} is\", len(result))\n",
      "c:\\Users\\cypri\\OneDrive - CentraleSupelec\\Bureau\\Non_Linear_Systems\\scripts\\utils.py:53: FutureWarning: You are using `torch.load` with `weights_only=False` (the current default value), which uses the default pickle module implicitly. It is possible to construct malicious pickle data which will execute arbitrary code during unpickling (See https://github.com/pytorch/pytorch/blob/main/SECURITY.md#untrusted-models for more details). In a future release, the default value for `weights_only` will be flipped to `True`. This limits the functions that could be executed during unpickling. Arbitrary objects will no longer be allowed to be loaded via this mode unless they are explicitly allowlisted by the user via `torch.serialization.add_safe_globals`. We recommend you start setting `weights_only=True` for any use case where you don't have full control of the loaded file. Please open an issue on GitHub for any issues related to this experimental feature.\n",
      "  model.load_state_dict(torch.load(model_path))\n"
     ]
    },
    {
     "name": "stdout",
     "output_type": "stream",
     "text": [
      "Accuracy: 0.30\n",
      "Precision: 0.21\n",
      "Recall: 0.30\n",
      "F1-Score: 0.22\n",
      "Model 65597ea1-78e1-4a2f-82d2-d4a90b8f3ec2 :\n",
      "\n",
      "Final Loss: 2.277375124283691\n",
      "Learning Rate: 4.86\n",
      "Optimizer: SGD\n",
      "Epochs: 2\n"
     ]
    },
    {
     "name": "stderr",
     "output_type": "stream",
     "text": [
      "c:\\Users\\cypri\\anaconda3\\envs\\Torch_Intro_ML\\Lib\\site-packages\\sklearn\\metrics\\_classification.py:1531: UndefinedMetricWarning: Precision is ill-defined and being set to 0.0 in labels with no predicted samples. Use `zero_division` parameter to control this behavior.\n",
      "  _warn_prf(average, modifier, f\"{metric.capitalize()} is\", len(result))\n",
      "c:\\Users\\cypri\\OneDrive - CentraleSupelec\\Bureau\\Non_Linear_Systems\\scripts\\utils.py:53: FutureWarning: You are using `torch.load` with `weights_only=False` (the current default value), which uses the default pickle module implicitly. It is possible to construct malicious pickle data which will execute arbitrary code during unpickling (See https://github.com/pytorch/pytorch/blob/main/SECURITY.md#untrusted-models for more details). In a future release, the default value for `weights_only` will be flipped to `True`. This limits the functions that could be executed during unpickling. Arbitrary objects will no longer be allowed to be loaded via this mode unless they are explicitly allowlisted by the user via `torch.serialization.add_safe_globals`. We recommend you start setting `weights_only=True` for any use case where you don't have full control of the loaded file. Please open an issue on GitHub for any issues related to this experimental feature.\n",
      "  model.load_state_dict(torch.load(model_path))\n"
     ]
    },
    {
     "name": "stdout",
     "output_type": "stream",
     "text": [
      "Accuracy: 0.10\n",
      "Precision: 0.01\n",
      "Recall: 0.10\n",
      "F1-Score: 0.02\n",
      "Model 664655a5-e3c7-40fb-a453-54b4e772e57b :\n",
      "\n",
      "Final Loss: 2.0067522154688073\n",
      "Learning Rate: 4.77\n",
      "Optimizer: SGD\n",
      "Epochs: 2\n"
     ]
    },
    {
     "name": "stderr",
     "output_type": "stream",
     "text": [
      "c:\\Users\\cypri\\anaconda3\\envs\\Torch_Intro_ML\\Lib\\site-packages\\sklearn\\metrics\\_classification.py:1531: UndefinedMetricWarning: Precision is ill-defined and being set to 0.0 in labels with no predicted samples. Use `zero_division` parameter to control this behavior.\n",
      "  _warn_prf(average, modifier, f\"{metric.capitalize()} is\", len(result))\n",
      "c:\\Users\\cypri\\OneDrive - CentraleSupelec\\Bureau\\Non_Linear_Systems\\scripts\\utils.py:53: FutureWarning: You are using `torch.load` with `weights_only=False` (the current default value), which uses the default pickle module implicitly. It is possible to construct malicious pickle data which will execute arbitrary code during unpickling (See https://github.com/pytorch/pytorch/blob/main/SECURITY.md#untrusted-models for more details). In a future release, the default value for `weights_only` will be flipped to `True`. This limits the functions that could be executed during unpickling. Arbitrary objects will no longer be allowed to be loaded via this mode unless they are explicitly allowlisted by the user via `torch.serialization.add_safe_globals`. We recommend you start setting `weights_only=True` for any use case where you don't have full control of the loaded file. Please open an issue on GitHub for any issues related to this experimental feature.\n",
      "  model.load_state_dict(torch.load(model_path))\n"
     ]
    },
    {
     "name": "stdout",
     "output_type": "stream",
     "text": [
      "Accuracy: 0.21\n",
      "Precision: 0.13\n",
      "Recall: 0.20\n",
      "F1-Score: 0.12\n",
      "Model 66dd58c7-73bf-47e3-b327-de15a639c70d :\n",
      "\n",
      "Final Loss: 1.7893004069196137\n",
      "Learning Rate: 4.88\n",
      "Optimizer: SGD\n",
      "Epochs: 1\n"
     ]
    },
    {
     "name": "stderr",
     "output_type": "stream",
     "text": [
      "c:\\Users\\cypri\\anaconda3\\envs\\Torch_Intro_ML\\Lib\\site-packages\\sklearn\\metrics\\_classification.py:1531: UndefinedMetricWarning: Precision is ill-defined and being set to 0.0 in labels with no predicted samples. Use `zero_division` parameter to control this behavior.\n",
      "  _warn_prf(average, modifier, f\"{metric.capitalize()} is\", len(result))\n",
      "c:\\Users\\cypri\\OneDrive - CentraleSupelec\\Bureau\\Non_Linear_Systems\\scripts\\utils.py:53: FutureWarning: You are using `torch.load` with `weights_only=False` (the current default value), which uses the default pickle module implicitly. It is possible to construct malicious pickle data which will execute arbitrary code during unpickling (See https://github.com/pytorch/pytorch/blob/main/SECURITY.md#untrusted-models for more details). In a future release, the default value for `weights_only` will be flipped to `True`. This limits the functions that could be executed during unpickling. Arbitrary objects will no longer be allowed to be loaded via this mode unless they are explicitly allowlisted by the user via `torch.serialization.add_safe_globals`. We recommend you start setting `weights_only=True` for any use case where you don't have full control of the loaded file. Please open an issue on GitHub for any issues related to this experimental feature.\n",
      "  model.load_state_dict(torch.load(model_path))\n"
     ]
    },
    {
     "name": "stdout",
     "output_type": "stream",
     "text": [
      "Accuracy: 0.29\n",
      "Precision: 0.23\n",
      "Recall: 0.28\n",
      "F1-Score: 0.21\n",
      "Model 68f0a567-93d5-4a31-995f-b456f59d68d7 :\n",
      "\n",
      "Final Loss: 0.3110993442806735\n",
      "Learning Rate: 4.56\n",
      "Optimizer: SGD\n",
      "Epochs: 1\n",
      "Accuracy: 0.96\n",
      "Precision: 0.96\n",
      "Recall: 0.96\n",
      "F1-Score: 0.96\n",
      "Model 69dc601e-dfbf-4e86-aa71-74130689a07b :\n",
      "\n",
      "Final Loss: 1.8733111328280556\n",
      "Learning Rate: 5.14\n",
      "Optimizer: SGD\n",
      "Epochs: 1\n"
     ]
    },
    {
     "name": "stderr",
     "output_type": "stream",
     "text": [
      "c:\\Users\\cypri\\OneDrive - CentraleSupelec\\Bureau\\Non_Linear_Systems\\scripts\\utils.py:53: FutureWarning: You are using `torch.load` with `weights_only=False` (the current default value), which uses the default pickle module implicitly. It is possible to construct malicious pickle data which will execute arbitrary code during unpickling (See https://github.com/pytorch/pytorch/blob/main/SECURITY.md#untrusted-models for more details). In a future release, the default value for `weights_only` will be flipped to `True`. This limits the functions that could be executed during unpickling. Arbitrary objects will no longer be allowed to be loaded via this mode unless they are explicitly allowlisted by the user via `torch.serialization.add_safe_globals`. We recommend you start setting `weights_only=True` for any use case where you don't have full control of the loaded file. Please open an issue on GitHub for any issues related to this experimental feature.\n",
      "  model.load_state_dict(torch.load(model_path))\n",
      "c:\\Users\\cypri\\anaconda3\\envs\\Torch_Intro_ML\\Lib\\site-packages\\sklearn\\metrics\\_classification.py:1531: UndefinedMetricWarning: Precision is ill-defined and being set to 0.0 in labels with no predicted samples. Use `zero_division` parameter to control this behavior.\n",
      "  _warn_prf(average, modifier, f\"{metric.capitalize()} is\", len(result))\n",
      "c:\\Users\\cypri\\OneDrive - CentraleSupelec\\Bureau\\Non_Linear_Systems\\scripts\\utils.py:53: FutureWarning: You are using `torch.load` with `weights_only=False` (the current default value), which uses the default pickle module implicitly. It is possible to construct malicious pickle data which will execute arbitrary code during unpickling (See https://github.com/pytorch/pytorch/blob/main/SECURITY.md#untrusted-models for more details). In a future release, the default value for `weights_only` will be flipped to `True`. This limits the functions that could be executed during unpickling. Arbitrary objects will no longer be allowed to be loaded via this mode unless they are explicitly allowlisted by the user via `torch.serialization.add_safe_globals`. We recommend you start setting `weights_only=True` for any use case where you don't have full control of the loaded file. Please open an issue on GitHub for any issues related to this experimental feature.\n",
      "  model.load_state_dict(torch.load(model_path))\n"
     ]
    },
    {
     "name": "stdout",
     "output_type": "stream",
     "text": [
      "Accuracy: 0.19\n",
      "Precision: 0.11\n",
      "Recall: 0.19\n",
      "F1-Score: 0.11\n",
      "Model 6a036ad1-1c3e-47da-8595-3b2dada3e135 :\n",
      "\n",
      "Final Loss: 0.3379455083814352\n",
      "Learning Rate: 4.64\n",
      "Optimizer: SGD\n",
      "Epochs: 1\n",
      "Accuracy: 0.91\n",
      "Precision: 0.93\n",
      "Recall: 0.91\n",
      "F1-Score: 0.91\n",
      "Model 6b19f58e-1950-4c27-9921-09945ada1de6 :\n",
      "\n",
      "Final Loss: 1.9579589711323475\n",
      "Learning Rate: 5.43\n",
      "Optimizer: SGD\n",
      "Epochs: 1\n"
     ]
    },
    {
     "name": "stderr",
     "output_type": "stream",
     "text": [
      "c:\\Users\\cypri\\OneDrive - CentraleSupelec\\Bureau\\Non_Linear_Systems\\scripts\\utils.py:53: FutureWarning: You are using `torch.load` with `weights_only=False` (the current default value), which uses the default pickle module implicitly. It is possible to construct malicious pickle data which will execute arbitrary code during unpickling (See https://github.com/pytorch/pytorch/blob/main/SECURITY.md#untrusted-models for more details). In a future release, the default value for `weights_only` will be flipped to `True`. This limits the functions that could be executed during unpickling. Arbitrary objects will no longer be allowed to be loaded via this mode unless they are explicitly allowlisted by the user via `torch.serialization.add_safe_globals`. We recommend you start setting `weights_only=True` for any use case where you don't have full control of the loaded file. Please open an issue on GitHub for any issues related to this experimental feature.\n",
      "  model.load_state_dict(torch.load(model_path))\n",
      "c:\\Users\\cypri\\anaconda3\\envs\\Torch_Intro_ML\\Lib\\site-packages\\sklearn\\metrics\\_classification.py:1531: UndefinedMetricWarning: Precision is ill-defined and being set to 0.0 in labels with no predicted samples. Use `zero_division` parameter to control this behavior.\n",
      "  _warn_prf(average, modifier, f\"{metric.capitalize()} is\", len(result))\n",
      "c:\\Users\\cypri\\OneDrive - CentraleSupelec\\Bureau\\Non_Linear_Systems\\scripts\\utils.py:53: FutureWarning: You are using `torch.load` with `weights_only=False` (the current default value), which uses the default pickle module implicitly. It is possible to construct malicious pickle data which will execute arbitrary code during unpickling (See https://github.com/pytorch/pytorch/blob/main/SECURITY.md#untrusted-models for more details). In a future release, the default value for `weights_only` will be flipped to `True`. This limits the functions that could be executed during unpickling. Arbitrary objects will no longer be allowed to be loaded via this mode unless they are explicitly allowlisted by the user via `torch.serialization.add_safe_globals`. We recommend you start setting `weights_only=True` for any use case where you don't have full control of the loaded file. Please open an issue on GitHub for any issues related to this experimental feature.\n",
      "  model.load_state_dict(torch.load(model_path))\n"
     ]
    },
    {
     "name": "stdout",
     "output_type": "stream",
     "text": [
      "Accuracy: 0.31\n",
      "Precision: 0.23\n",
      "Recall: 0.29\n",
      "F1-Score: 0.22\n",
      "Model 6d3face7-3550-43af-9d17-6644c090ecea :\n",
      "\n",
      "Final Loss: 0.08858768528468583\n",
      "Learning Rate: 4.59\n",
      "Optimizer: SGD\n",
      "Epochs: 2\n",
      "Accuracy: 0.99\n",
      "Precision: 0.99\n",
      "Recall: 0.99\n",
      "F1-Score: 0.99\n",
      "Model 6de6060d-d035-4f0a-ac53-92e622002bc5 :\n",
      "\n",
      "Final Loss: 0.08884604562913924\n",
      "Learning Rate: 4.72\n",
      "Optimizer: SGD\n",
      "Epochs: 2\n"
     ]
    },
    {
     "name": "stderr",
     "output_type": "stream",
     "text": [
      "c:\\Users\\cypri\\OneDrive - CentraleSupelec\\Bureau\\Non_Linear_Systems\\scripts\\utils.py:53: FutureWarning: You are using `torch.load` with `weights_only=False` (the current default value), which uses the default pickle module implicitly. It is possible to construct malicious pickle data which will execute arbitrary code during unpickling (See https://github.com/pytorch/pytorch/blob/main/SECURITY.md#untrusted-models for more details). In a future release, the default value for `weights_only` will be flipped to `True`. This limits the functions that could be executed during unpickling. Arbitrary objects will no longer be allowed to be loaded via this mode unless they are explicitly allowlisted by the user via `torch.serialization.add_safe_globals`. We recommend you start setting `weights_only=True` for any use case where you don't have full control of the loaded file. Please open an issue on GitHub for any issues related to this experimental feature.\n",
      "  model.load_state_dict(torch.load(model_path))\n"
     ]
    },
    {
     "name": "stdout",
     "output_type": "stream",
     "text": [
      "Accuracy: 0.97\n",
      "Precision: 0.98\n",
      "Recall: 0.98\n",
      "F1-Score: 0.97\n",
      "Model 6e02e2c9-2d04-427a-bc6e-59ff1d70de98 :\n",
      "\n",
      "Final Loss: 1.9159209096609657\n",
      "Learning Rate: 4.99\n",
      "Optimizer: SGD\n",
      "Epochs: 2\n"
     ]
    },
    {
     "name": "stderr",
     "output_type": "stream",
     "text": [
      "c:\\Users\\cypri\\OneDrive - CentraleSupelec\\Bureau\\Non_Linear_Systems\\scripts\\utils.py:53: FutureWarning: You are using `torch.load` with `weights_only=False` (the current default value), which uses the default pickle module implicitly. It is possible to construct malicious pickle data which will execute arbitrary code during unpickling (See https://github.com/pytorch/pytorch/blob/main/SECURITY.md#untrusted-models for more details). In a future release, the default value for `weights_only` will be flipped to `True`. This limits the functions that could be executed during unpickling. Arbitrary objects will no longer be allowed to be loaded via this mode unless they are explicitly allowlisted by the user via `torch.serialization.add_safe_globals`. We recommend you start setting `weights_only=True` for any use case where you don't have full control of the loaded file. Please open an issue on GitHub for any issues related to this experimental feature.\n",
      "  model.load_state_dict(torch.load(model_path))\n",
      "c:\\Users\\cypri\\anaconda3\\envs\\Torch_Intro_ML\\Lib\\site-packages\\sklearn\\metrics\\_classification.py:1531: UndefinedMetricWarning: Precision is ill-defined and being set to 0.0 in labels with no predicted samples. Use `zero_division` parameter to control this behavior.\n",
      "  _warn_prf(average, modifier, f\"{metric.capitalize()} is\", len(result))\n",
      "c:\\Users\\cypri\\OneDrive - CentraleSupelec\\Bureau\\Non_Linear_Systems\\scripts\\utils.py:53: FutureWarning: You are using `torch.load` with `weights_only=False` (the current default value), which uses the default pickle module implicitly. It is possible to construct malicious pickle data which will execute arbitrary code during unpickling (See https://github.com/pytorch/pytorch/blob/main/SECURITY.md#untrusted-models for more details). In a future release, the default value for `weights_only` will be flipped to `True`. This limits the functions that could be executed during unpickling. Arbitrary objects will no longer be allowed to be loaded via this mode unless they are explicitly allowlisted by the user via `torch.serialization.add_safe_globals`. We recommend you start setting `weights_only=True` for any use case where you don't have full control of the loaded file. Please open an issue on GitHub for any issues related to this experimental feature.\n",
      "  model.load_state_dict(torch.load(model_path))\n"
     ]
    },
    {
     "name": "stdout",
     "output_type": "stream",
     "text": [
      "Accuracy: 0.18\n",
      "Precision: 0.11\n",
      "Recall: 0.20\n",
      "F1-Score: 0.12\n",
      "Model 6f13a75a-cd85-453d-95b5-0bc7ca0e6569 :\n",
      "\n",
      "Final Loss: 2.0360106332724026\n",
      "Learning Rate: 4.87\n",
      "Optimizer: SGD\n",
      "Epochs: 2\n"
     ]
    },
    {
     "name": "stderr",
     "output_type": "stream",
     "text": [
      "c:\\Users\\cypri\\anaconda3\\envs\\Torch_Intro_ML\\Lib\\site-packages\\sklearn\\metrics\\_classification.py:1531: UndefinedMetricWarning: Precision is ill-defined and being set to 0.0 in labels with no predicted samples. Use `zero_division` parameter to control this behavior.\n",
      "  _warn_prf(average, modifier, f\"{metric.capitalize()} is\", len(result))\n",
      "c:\\Users\\cypri\\OneDrive - CentraleSupelec\\Bureau\\Non_Linear_Systems\\scripts\\utils.py:53: FutureWarning: You are using `torch.load` with `weights_only=False` (the current default value), which uses the default pickle module implicitly. It is possible to construct malicious pickle data which will execute arbitrary code during unpickling (See https://github.com/pytorch/pytorch/blob/main/SECURITY.md#untrusted-models for more details). In a future release, the default value for `weights_only` will be flipped to `True`. This limits the functions that could be executed during unpickling. Arbitrary objects will no longer be allowed to be loaded via this mode unless they are explicitly allowlisted by the user via `torch.serialization.add_safe_globals`. We recommend you start setting `weights_only=True` for any use case where you don't have full control of the loaded file. Please open an issue on GitHub for any issues related to this experimental feature.\n",
      "  model.load_state_dict(torch.load(model_path))\n"
     ]
    },
    {
     "name": "stdout",
     "output_type": "stream",
     "text": [
      "Accuracy: 0.19\n",
      "Precision: 0.18\n",
      "Recall: 0.20\n",
      "F1-Score: 0.13\n",
      "Model 6f1d97a7-7215-4254-be8e-70d32768abc7 :\n",
      "\n",
      "Final Loss: 1.8544050835724324\n",
      "Learning Rate: 5.23\n",
      "Optimizer: SGD\n",
      "Epochs: 1\n"
     ]
    },
    {
     "name": "stderr",
     "output_type": "stream",
     "text": [
      "c:\\Users\\cypri\\anaconda3\\envs\\Torch_Intro_ML\\Lib\\site-packages\\sklearn\\metrics\\_classification.py:1531: UndefinedMetricWarning: Precision is ill-defined and being set to 0.0 in labels with no predicted samples. Use `zero_division` parameter to control this behavior.\n",
      "  _warn_prf(average, modifier, f\"{metric.capitalize()} is\", len(result))\n",
      "c:\\Users\\cypri\\OneDrive - CentraleSupelec\\Bureau\\Non_Linear_Systems\\scripts\\utils.py:53: FutureWarning: You are using `torch.load` with `weights_only=False` (the current default value), which uses the default pickle module implicitly. It is possible to construct malicious pickle data which will execute arbitrary code during unpickling (See https://github.com/pytorch/pytorch/blob/main/SECURITY.md#untrusted-models for more details). In a future release, the default value for `weights_only` will be flipped to `True`. This limits the functions that could be executed during unpickling. Arbitrary objects will no longer be allowed to be loaded via this mode unless they are explicitly allowlisted by the user via `torch.serialization.add_safe_globals`. We recommend you start setting `weights_only=True` for any use case where you don't have full control of the loaded file. Please open an issue on GitHub for any issues related to this experimental feature.\n",
      "  model.load_state_dict(torch.load(model_path))\n"
     ]
    },
    {
     "name": "stdout",
     "output_type": "stream",
     "text": [
      "Accuracy: 0.20\n",
      "Precision: 0.11\n",
      "Recall: 0.19\n",
      "F1-Score: 0.12\n",
      "Model 6f6e55d8-d3b6-4290-9004-852efe21b482 :\n",
      "\n",
      "Final Loss: 1.7236627457317895\n",
      "Learning Rate: 4.63\n",
      "Optimizer: SGD\n",
      "Epochs: 1\n"
     ]
    },
    {
     "name": "stderr",
     "output_type": "stream",
     "text": [
      "c:\\Users\\cypri\\anaconda3\\envs\\Torch_Intro_ML\\Lib\\site-packages\\sklearn\\metrics\\_classification.py:1531: UndefinedMetricWarning: Precision is ill-defined and being set to 0.0 in labels with no predicted samples. Use `zero_division` parameter to control this behavior.\n",
      "  _warn_prf(average, modifier, f\"{metric.capitalize()} is\", len(result))\n",
      "c:\\Users\\cypri\\OneDrive - CentraleSupelec\\Bureau\\Non_Linear_Systems\\scripts\\utils.py:53: FutureWarning: You are using `torch.load` with `weights_only=False` (the current default value), which uses the default pickle module implicitly. It is possible to construct malicious pickle data which will execute arbitrary code during unpickling (See https://github.com/pytorch/pytorch/blob/main/SECURITY.md#untrusted-models for more details). In a future release, the default value for `weights_only` will be flipped to `True`. This limits the functions that could be executed during unpickling. Arbitrary objects will no longer be allowed to be loaded via this mode unless they are explicitly allowlisted by the user via `torch.serialization.add_safe_globals`. We recommend you start setting `weights_only=True` for any use case where you don't have full control of the loaded file. Please open an issue on GitHub for any issues related to this experimental feature.\n",
      "  model.load_state_dict(torch.load(model_path))\n"
     ]
    },
    {
     "name": "stdout",
     "output_type": "stream",
     "text": [
      "Accuracy: 0.44\n",
      "Precision: 0.40\n",
      "Recall: 0.43\n",
      "F1-Score: 0.32\n",
      "Model 70d18906-a99e-48b5-96e3-b59c3313485b :\n",
      "\n",
      "Final Loss: 1.8331222748324307\n",
      "Learning Rate: 5.44\n",
      "Optimizer: SGD\n",
      "Epochs: 1\n"
     ]
    },
    {
     "name": "stderr",
     "output_type": "stream",
     "text": [
      "c:\\Users\\cypri\\anaconda3\\envs\\Torch_Intro_ML\\Lib\\site-packages\\sklearn\\metrics\\_classification.py:1531: UndefinedMetricWarning: Precision is ill-defined and being set to 0.0 in labels with no predicted samples. Use `zero_division` parameter to control this behavior.\n",
      "  _warn_prf(average, modifier, f\"{metric.capitalize()} is\", len(result))\n",
      "c:\\Users\\cypri\\OneDrive - CentraleSupelec\\Bureau\\Non_Linear_Systems\\scripts\\utils.py:53: FutureWarning: You are using `torch.load` with `weights_only=False` (the current default value), which uses the default pickle module implicitly. It is possible to construct malicious pickle data which will execute arbitrary code during unpickling (See https://github.com/pytorch/pytorch/blob/main/SECURITY.md#untrusted-models for more details). In a future release, the default value for `weights_only` will be flipped to `True`. This limits the functions that could be executed during unpickling. Arbitrary objects will no longer be allowed to be loaded via this mode unless they are explicitly allowlisted by the user via `torch.serialization.add_safe_globals`. We recommend you start setting `weights_only=True` for any use case where you don't have full control of the loaded file. Please open an issue on GitHub for any issues related to this experimental feature.\n",
      "  model.load_state_dict(torch.load(model_path))\n"
     ]
    },
    {
     "name": "stdout",
     "output_type": "stream",
     "text": [
      "Accuracy: 0.21\n",
      "Precision: 0.11\n",
      "Recall: 0.20\n",
      "F1-Score: 0.12\n",
      "Model 7401aa23-e1b8-4673-9eb5-81987e7adefe :\n",
      "\n",
      "Final Loss: 0.10469451779698226\n",
      "Learning Rate: 4.58\n",
      "Optimizer: SGD\n",
      "Epochs: 2\n",
      "Accuracy: 0.98\n",
      "Precision: 0.98\n",
      "Recall: 0.98\n",
      "F1-Score: 0.98\n",
      "Model 7514e4f8-1ca3-42ea-9da4-6c311a2f4702 :\n",
      "\n",
      "Final Loss: 2.326627394537936\n",
      "Learning Rate: 5.29\n",
      "Optimizer: SGD\n",
      "Epochs: 2\n"
     ]
    },
    {
     "name": "stderr",
     "output_type": "stream",
     "text": [
      "c:\\Users\\cypri\\OneDrive - CentraleSupelec\\Bureau\\Non_Linear_Systems\\scripts\\utils.py:53: FutureWarning: You are using `torch.load` with `weights_only=False` (the current default value), which uses the default pickle module implicitly. It is possible to construct malicious pickle data which will execute arbitrary code during unpickling (See https://github.com/pytorch/pytorch/blob/main/SECURITY.md#untrusted-models for more details). In a future release, the default value for `weights_only` will be flipped to `True`. This limits the functions that could be executed during unpickling. Arbitrary objects will no longer be allowed to be loaded via this mode unless they are explicitly allowlisted by the user via `torch.serialization.add_safe_globals`. We recommend you start setting `weights_only=True` for any use case where you don't have full control of the loaded file. Please open an issue on GitHub for any issues related to this experimental feature.\n",
      "  model.load_state_dict(torch.load(model_path))\n",
      "c:\\Users\\cypri\\anaconda3\\envs\\Torch_Intro_ML\\Lib\\site-packages\\sklearn\\metrics\\_classification.py:1531: UndefinedMetricWarning: Precision is ill-defined and being set to 0.0 in labels with no predicted samples. Use `zero_division` parameter to control this behavior.\n",
      "  _warn_prf(average, modifier, f\"{metric.capitalize()} is\", len(result))\n",
      "c:\\Users\\cypri\\OneDrive - CentraleSupelec\\Bureau\\Non_Linear_Systems\\scripts\\utils.py:53: FutureWarning: You are using `torch.load` with `weights_only=False` (the current default value), which uses the default pickle module implicitly. It is possible to construct malicious pickle data which will execute arbitrary code during unpickling (See https://github.com/pytorch/pytorch/blob/main/SECURITY.md#untrusted-models for more details). In a future release, the default value for `weights_only` will be flipped to `True`. This limits the functions that could be executed during unpickling. Arbitrary objects will no longer be allowed to be loaded via this mode unless they are explicitly allowlisted by the user via `torch.serialization.add_safe_globals`. We recommend you start setting `weights_only=True` for any use case where you don't have full control of the loaded file. Please open an issue on GitHub for any issues related to this experimental feature.\n",
      "  model.load_state_dict(torch.load(model_path))\n"
     ]
    },
    {
     "name": "stdout",
     "output_type": "stream",
     "text": [
      "Accuracy: 0.11\n",
      "Precision: 0.01\n",
      "Recall: 0.10\n",
      "F1-Score: 0.02\n",
      "Model 7560f74f-2bb5-4e04-a115-92c719c3dab4 :\n",
      "\n",
      "Final Loss: 1.9262081127304005\n",
      "Learning Rate: 4.73\n",
      "Optimizer: SGD\n",
      "Epochs: 1\n"
     ]
    },
    {
     "name": "stderr",
     "output_type": "stream",
     "text": [
      "c:\\Users\\cypri\\anaconda3\\envs\\Torch_Intro_ML\\Lib\\site-packages\\sklearn\\metrics\\_classification.py:1531: UndefinedMetricWarning: Precision is ill-defined and being set to 0.0 in labels with no predicted samples. Use `zero_division` parameter to control this behavior.\n",
      "  _warn_prf(average, modifier, f\"{metric.capitalize()} is\", len(result))\n",
      "c:\\Users\\cypri\\OneDrive - CentraleSupelec\\Bureau\\Non_Linear_Systems\\scripts\\utils.py:53: FutureWarning: You are using `torch.load` with `weights_only=False` (the current default value), which uses the default pickle module implicitly. It is possible to construct malicious pickle data which will execute arbitrary code during unpickling (See https://github.com/pytorch/pytorch/blob/main/SECURITY.md#untrusted-models for more details). In a future release, the default value for `weights_only` will be flipped to `True`. This limits the functions that could be executed during unpickling. Arbitrary objects will no longer be allowed to be loaded via this mode unless they are explicitly allowlisted by the user via `torch.serialization.add_safe_globals`. We recommend you start setting `weights_only=True` for any use case where you don't have full control of the loaded file. Please open an issue on GitHub for any issues related to this experimental feature.\n",
      "  model.load_state_dict(torch.load(model_path))\n"
     ]
    },
    {
     "name": "stdout",
     "output_type": "stream",
     "text": [
      "Accuracy: 0.21\n",
      "Precision: 0.12\n",
      "Recall: 0.20\n",
      "F1-Score: 0.12\n",
      "Model 76827416-84c4-4bfc-a551-45d56ce721b3 :\n",
      "\n",
      "Final Loss: 0.0921034253701798\n",
      "Learning Rate: 4.62\n",
      "Optimizer: SGD\n",
      "Epochs: 2\n",
      "Accuracy: 0.97\n",
      "Precision: 0.97\n",
      "Recall: 0.97\n",
      "F1-Score: 0.97\n",
      "Model 77985a66-dba6-41d5-9972-bfb0ce1786b2 :\n",
      "\n",
      "Final Loss: 1.8307328132042753\n",
      "Learning Rate: 5.36\n",
      "Optimizer: SGD\n",
      "Epochs: 1\n"
     ]
    },
    {
     "name": "stderr",
     "output_type": "stream",
     "text": [
      "c:\\Users\\cypri\\OneDrive - CentraleSupelec\\Bureau\\Non_Linear_Systems\\scripts\\utils.py:53: FutureWarning: You are using `torch.load` with `weights_only=False` (the current default value), which uses the default pickle module implicitly. It is possible to construct malicious pickle data which will execute arbitrary code during unpickling (See https://github.com/pytorch/pytorch/blob/main/SECURITY.md#untrusted-models for more details). In a future release, the default value for `weights_only` will be flipped to `True`. This limits the functions that could be executed during unpickling. Arbitrary objects will no longer be allowed to be loaded via this mode unless they are explicitly allowlisted by the user via `torch.serialization.add_safe_globals`. We recommend you start setting `weights_only=True` for any use case where you don't have full control of the loaded file. Please open an issue on GitHub for any issues related to this experimental feature.\n",
      "  model.load_state_dict(torch.load(model_path))\n",
      "c:\\Users\\cypri\\anaconda3\\envs\\Torch_Intro_ML\\Lib\\site-packages\\sklearn\\metrics\\_classification.py:1531: UndefinedMetricWarning: Precision is ill-defined and being set to 0.0 in labels with no predicted samples. Use `zero_division` parameter to control this behavior.\n",
      "  _warn_prf(average, modifier, f\"{metric.capitalize()} is\", len(result))\n",
      "c:\\Users\\cypri\\OneDrive - CentraleSupelec\\Bureau\\Non_Linear_Systems\\scripts\\utils.py:53: FutureWarning: You are using `torch.load` with `weights_only=False` (the current default value), which uses the default pickle module implicitly. It is possible to construct malicious pickle data which will execute arbitrary code during unpickling (See https://github.com/pytorch/pytorch/blob/main/SECURITY.md#untrusted-models for more details). In a future release, the default value for `weights_only` will be flipped to `True`. This limits the functions that could be executed during unpickling. Arbitrary objects will no longer be allowed to be loaded via this mode unless they are explicitly allowlisted by the user via `torch.serialization.add_safe_globals`. We recommend you start setting `weights_only=True` for any use case where you don't have full control of the loaded file. Please open an issue on GitHub for any issues related to this experimental feature.\n",
      "  model.load_state_dict(torch.load(model_path))\n"
     ]
    },
    {
     "name": "stdout",
     "output_type": "stream",
     "text": [
      "Accuracy: 0.30\n",
      "Precision: 0.23\n",
      "Recall: 0.29\n",
      "F1-Score: 0.22\n",
      "Model 78a3ac76-2aad-4b15-a8ee-53a3a415abe7 :\n",
      "\n",
      "Final Loss: 1.7513157600787148\n",
      "Learning Rate: 4.6\n",
      "Optimizer: SGD\n",
      "Epochs: 2\n"
     ]
    },
    {
     "name": "stderr",
     "output_type": "stream",
     "text": [
      "c:\\Users\\cypri\\anaconda3\\envs\\Torch_Intro_ML\\Lib\\site-packages\\sklearn\\metrics\\_classification.py:1531: UndefinedMetricWarning: Precision is ill-defined and being set to 0.0 in labels with no predicted samples. Use `zero_division` parameter to control this behavior.\n",
      "  _warn_prf(average, modifier, f\"{metric.capitalize()} is\", len(result))\n",
      "c:\\Users\\cypri\\OneDrive - CentraleSupelec\\Bureau\\Non_Linear_Systems\\scripts\\utils.py:53: FutureWarning: You are using `torch.load` with `weights_only=False` (the current default value), which uses the default pickle module implicitly. It is possible to construct malicious pickle data which will execute arbitrary code during unpickling (See https://github.com/pytorch/pytorch/blob/main/SECURITY.md#untrusted-models for more details). In a future release, the default value for `weights_only` will be flipped to `True`. This limits the functions that could be executed during unpickling. Arbitrary objects will no longer be allowed to be loaded via this mode unless they are explicitly allowlisted by the user via `torch.serialization.add_safe_globals`. We recommend you start setting `weights_only=True` for any use case where you don't have full control of the loaded file. Please open an issue on GitHub for any issues related to this experimental feature.\n",
      "  model.load_state_dict(torch.load(model_path))\n"
     ]
    },
    {
     "name": "stdout",
     "output_type": "stream",
     "text": [
      "Accuracy: 0.31\n",
      "Precision: 0.22\n",
      "Recall: 0.30\n",
      "F1-Score: 0.22\n",
      "Model 79331455-4b8f-4589-9ba0-5378d6ab3f75 :\n",
      "\n",
      "Final Loss: 0.3349573372551468\n",
      "Learning Rate: 4.51\n",
      "Optimizer: SGD\n",
      "Epochs: 1\n",
      "Accuracy: 0.97\n",
      "Precision: 0.97\n",
      "Recall: 0.97\n",
      "F1-Score: 0.97\n",
      "Model 7c396fc5-29db-4822-9270-864bf579123c :\n",
      "\n",
      "Final Loss: 1.364505039222205\n",
      "Learning Rate: 4.83\n",
      "Optimizer: SGD\n",
      "Epochs: 1\n"
     ]
    },
    {
     "name": "stderr",
     "output_type": "stream",
     "text": [
      "c:\\Users\\cypri\\OneDrive - CentraleSupelec\\Bureau\\Non_Linear_Systems\\scripts\\utils.py:53: FutureWarning: You are using `torch.load` with `weights_only=False` (the current default value), which uses the default pickle module implicitly. It is possible to construct malicious pickle data which will execute arbitrary code during unpickling (See https://github.com/pytorch/pytorch/blob/main/SECURITY.md#untrusted-models for more details). In a future release, the default value for `weights_only` will be flipped to `True`. This limits the functions that could be executed during unpickling. Arbitrary objects will no longer be allowed to be loaded via this mode unless they are explicitly allowlisted by the user via `torch.serialization.add_safe_globals`. We recommend you start setting `weights_only=True` for any use case where you don't have full control of the loaded file. Please open an issue on GitHub for any issues related to this experimental feature.\n",
      "  model.load_state_dict(torch.load(model_path))\n",
      "c:\\Users\\cypri\\anaconda3\\envs\\Torch_Intro_ML\\Lib\\site-packages\\sklearn\\metrics\\_classification.py:1531: UndefinedMetricWarning: Precision is ill-defined and being set to 0.0 in labels with no predicted samples. Use `zero_division` parameter to control this behavior.\n",
      "  _warn_prf(average, modifier, f\"{metric.capitalize()} is\", len(result))\n",
      "c:\\Users\\cypri\\OneDrive - CentraleSupelec\\Bureau\\Non_Linear_Systems\\scripts\\utils.py:53: FutureWarning: You are using `torch.load` with `weights_only=False` (the current default value), which uses the default pickle module implicitly. It is possible to construct malicious pickle data which will execute arbitrary code during unpickling (See https://github.com/pytorch/pytorch/blob/main/SECURITY.md#untrusted-models for more details). In a future release, the default value for `weights_only` will be flipped to `True`. This limits the functions that could be executed during unpickling. Arbitrary objects will no longer be allowed to be loaded via this mode unless they are explicitly allowlisted by the user via `torch.serialization.add_safe_globals`. We recommend you start setting `weights_only=True` for any use case where you don't have full control of the loaded file. Please open an issue on GitHub for any issues related to this experimental feature.\n",
      "  model.load_state_dict(torch.load(model_path))\n"
     ]
    },
    {
     "name": "stdout",
     "output_type": "stream",
     "text": [
      "Accuracy: 0.31\n",
      "Precision: 0.17\n",
      "Recall: 0.30\n",
      "F1-Score: 0.19\n",
      "Model 7c827c92-be16-49a6-a830-40d7369b2cd5 :\n",
      "\n",
      "Final Loss: 0.09968417196168201\n",
      "Learning Rate: 4.7\n",
      "Optimizer: SGD\n",
      "Epochs: 2\n",
      "Accuracy: 0.98\n",
      "Precision: 0.98\n",
      "Recall: 0.98\n",
      "F1-Score: 0.98\n",
      "Model 7d4660dd-2b2c-4af9-b984-462613de7522 :\n",
      "\n",
      "Final Loss: 2.1415747264300835\n",
      "Learning Rate: 5.5\n",
      "Optimizer: SGD\n",
      "Epochs: 2\n"
     ]
    },
    {
     "name": "stderr",
     "output_type": "stream",
     "text": [
      "c:\\Users\\cypri\\OneDrive - CentraleSupelec\\Bureau\\Non_Linear_Systems\\scripts\\utils.py:53: FutureWarning: You are using `torch.load` with `weights_only=False` (the current default value), which uses the default pickle module implicitly. It is possible to construct malicious pickle data which will execute arbitrary code during unpickling (See https://github.com/pytorch/pytorch/blob/main/SECURITY.md#untrusted-models for more details). In a future release, the default value for `weights_only` will be flipped to `True`. This limits the functions that could be executed during unpickling. Arbitrary objects will no longer be allowed to be loaded via this mode unless they are explicitly allowlisted by the user via `torch.serialization.add_safe_globals`. We recommend you start setting `weights_only=True` for any use case where you don't have full control of the loaded file. Please open an issue on GitHub for any issues related to this experimental feature.\n",
      "  model.load_state_dict(torch.load(model_path))\n",
      "c:\\Users\\cypri\\anaconda3\\envs\\Torch_Intro_ML\\Lib\\site-packages\\sklearn\\metrics\\_classification.py:1531: UndefinedMetricWarning: Precision is ill-defined and being set to 0.0 in labels with no predicted samples. Use `zero_division` parameter to control this behavior.\n",
      "  _warn_prf(average, modifier, f\"{metric.capitalize()} is\", len(result))\n",
      "c:\\Users\\cypri\\OneDrive - CentraleSupelec\\Bureau\\Non_Linear_Systems\\scripts\\utils.py:53: FutureWarning: You are using `torch.load` with `weights_only=False` (the current default value), which uses the default pickle module implicitly. It is possible to construct malicious pickle data which will execute arbitrary code during unpickling (See https://github.com/pytorch/pytorch/blob/main/SECURITY.md#untrusted-models for more details). In a future release, the default value for `weights_only` will be flipped to `True`. This limits the functions that could be executed during unpickling. Arbitrary objects will no longer be allowed to be loaded via this mode unless they are explicitly allowlisted by the user via `torch.serialization.add_safe_globals`. We recommend you start setting `weights_only=True` for any use case where you don't have full control of the loaded file. Please open an issue on GitHub for any issues related to this experimental feature.\n",
      "  model.load_state_dict(torch.load(model_path))\n"
     ]
    },
    {
     "name": "stdout",
     "output_type": "stream",
     "text": [
      "Accuracy: 0.21\n",
      "Precision: 0.11\n",
      "Recall: 0.20\n",
      "F1-Score: 0.12\n",
      "Model 7e466157-d2e5-461d-8175-c68850c8cc6a :\n",
      "\n",
      "Final Loss: 2.1342562435786605\n",
      "Learning Rate: 4.69\n",
      "Optimizer: SGD\n",
      "Epochs: 2\n"
     ]
    },
    {
     "name": "stderr",
     "output_type": "stream",
     "text": [
      "c:\\Users\\cypri\\anaconda3\\envs\\Torch_Intro_ML\\Lib\\site-packages\\sklearn\\metrics\\_classification.py:1531: UndefinedMetricWarning: Precision is ill-defined and being set to 0.0 in labels with no predicted samples. Use `zero_division` parameter to control this behavior.\n",
      "  _warn_prf(average, modifier, f\"{metric.capitalize()} is\", len(result))\n",
      "c:\\Users\\cypri\\OneDrive - CentraleSupelec\\Bureau\\Non_Linear_Systems\\scripts\\utils.py:53: FutureWarning: You are using `torch.load` with `weights_only=False` (the current default value), which uses the default pickle module implicitly. It is possible to construct malicious pickle data which will execute arbitrary code during unpickling (See https://github.com/pytorch/pytorch/blob/main/SECURITY.md#untrusted-models for more details). In a future release, the default value for `weights_only` will be flipped to `True`. This limits the functions that could be executed during unpickling. Arbitrary objects will no longer be allowed to be loaded via this mode unless they are explicitly allowlisted by the user via `torch.serialization.add_safe_globals`. We recommend you start setting `weights_only=True` for any use case where you don't have full control of the loaded file. Please open an issue on GitHub for any issues related to this experimental feature.\n",
      "  model.load_state_dict(torch.load(model_path))\n"
     ]
    },
    {
     "name": "stdout",
     "output_type": "stream",
     "text": [
      "Accuracy: 0.21\n",
      "Precision: 0.10\n",
      "Recall: 0.20\n",
      "F1-Score: 0.12\n",
      "Model 7e6e175d-6668-4f78-88f9-37db96603bbe :\n",
      "\n",
      "Final Loss: 1.8895725750211458\n",
      "Learning Rate: 5.38\n",
      "Optimizer: SGD\n",
      "Epochs: 1\n"
     ]
    },
    {
     "name": "stderr",
     "output_type": "stream",
     "text": [
      "c:\\Users\\cypri\\anaconda3\\envs\\Torch_Intro_ML\\Lib\\site-packages\\sklearn\\metrics\\_classification.py:1531: UndefinedMetricWarning: Precision is ill-defined and being set to 0.0 in labels with no predicted samples. Use `zero_division` parameter to control this behavior.\n",
      "  _warn_prf(average, modifier, f\"{metric.capitalize()} is\", len(result))\n",
      "c:\\Users\\cypri\\OneDrive - CentraleSupelec\\Bureau\\Non_Linear_Systems\\scripts\\utils.py:53: FutureWarning: You are using `torch.load` with `weights_only=False` (the current default value), which uses the default pickle module implicitly. It is possible to construct malicious pickle data which will execute arbitrary code during unpickling (See https://github.com/pytorch/pytorch/blob/main/SECURITY.md#untrusted-models for more details). In a future release, the default value for `weights_only` will be flipped to `True`. This limits the functions that could be executed during unpickling. Arbitrary objects will no longer be allowed to be loaded via this mode unless they are explicitly allowlisted by the user via `torch.serialization.add_safe_globals`. We recommend you start setting `weights_only=True` for any use case where you don't have full control of the loaded file. Please open an issue on GitHub for any issues related to this experimental feature.\n",
      "  model.load_state_dict(torch.load(model_path))\n"
     ]
    },
    {
     "name": "stdout",
     "output_type": "stream",
     "text": [
      "Accuracy: 0.16\n",
      "Precision: 0.11\n",
      "Recall: 0.16\n",
      "F1-Score: 0.09\n",
      "Model 812c78e8-23e5-4700-9e3f-213a98f036ad :\n",
      "\n",
      "Final Loss: 0.26299702867131824\n",
      "Learning Rate: 4.59\n",
      "Optimizer: SGD\n",
      "Epochs: 1\n",
      "Accuracy: 0.98\n",
      "Precision: 0.98\n",
      "Recall: 0.98\n",
      "F1-Score: 0.98\n",
      "Model 81332f39-bc01-4a8d-9508-de0ec0390daa :\n",
      "\n",
      "Final Loss: 2.126628985282963\n",
      "Learning Rate: 5.12\n",
      "Optimizer: SGD\n",
      "Epochs: 2\n"
     ]
    },
    {
     "name": "stderr",
     "output_type": "stream",
     "text": [
      "c:\\Users\\cypri\\OneDrive - CentraleSupelec\\Bureau\\Non_Linear_Systems\\scripts\\utils.py:53: FutureWarning: You are using `torch.load` with `weights_only=False` (the current default value), which uses the default pickle module implicitly. It is possible to construct malicious pickle data which will execute arbitrary code during unpickling (See https://github.com/pytorch/pytorch/blob/main/SECURITY.md#untrusted-models for more details). In a future release, the default value for `weights_only` will be flipped to `True`. This limits the functions that could be executed during unpickling. Arbitrary objects will no longer be allowed to be loaded via this mode unless they are explicitly allowlisted by the user via `torch.serialization.add_safe_globals`. We recommend you start setting `weights_only=True` for any use case where you don't have full control of the loaded file. Please open an issue on GitHub for any issues related to this experimental feature.\n",
      "  model.load_state_dict(torch.load(model_path))\n",
      "c:\\Users\\cypri\\anaconda3\\envs\\Torch_Intro_ML\\Lib\\site-packages\\sklearn\\metrics\\_classification.py:1531: UndefinedMetricWarning: Precision is ill-defined and being set to 0.0 in labels with no predicted samples. Use `zero_division` parameter to control this behavior.\n",
      "  _warn_prf(average, modifier, f\"{metric.capitalize()} is\", len(result))\n",
      "c:\\Users\\cypri\\OneDrive - CentraleSupelec\\Bureau\\Non_Linear_Systems\\scripts\\utils.py:53: FutureWarning: You are using `torch.load` with `weights_only=False` (the current default value), which uses the default pickle module implicitly. It is possible to construct malicious pickle data which will execute arbitrary code during unpickling (See https://github.com/pytorch/pytorch/blob/main/SECURITY.md#untrusted-models for more details). In a future release, the default value for `weights_only` will be flipped to `True`. This limits the functions that could be executed during unpickling. Arbitrary objects will no longer be allowed to be loaded via this mode unless they are explicitly allowlisted by the user via `torch.serialization.add_safe_globals`. We recommend you start setting `weights_only=True` for any use case where you don't have full control of the loaded file. Please open an issue on GitHub for any issues related to this experimental feature.\n",
      "  model.load_state_dict(torch.load(model_path))\n"
     ]
    },
    {
     "name": "stdout",
     "output_type": "stream",
     "text": [
      "Accuracy: 0.30\n",
      "Precision: 0.14\n",
      "Recall: 0.29\n",
      "F1-Score: 0.17\n",
      "Model 8141efff-703d-4a12-aec5-9832b1d4533d :\n",
      "\n",
      "Final Loss: 2.024475816978829\n",
      "Learning Rate: 5.05\n",
      "Optimizer: SGD\n",
      "Epochs: 1\n"
     ]
    },
    {
     "name": "stderr",
     "output_type": "stream",
     "text": [
      "c:\\Users\\cypri\\anaconda3\\envs\\Torch_Intro_ML\\Lib\\site-packages\\sklearn\\metrics\\_classification.py:1531: UndefinedMetricWarning: Precision is ill-defined and being set to 0.0 in labels with no predicted samples. Use `zero_division` parameter to control this behavior.\n",
      "  _warn_prf(average, modifier, f\"{metric.capitalize()} is\", len(result))\n",
      "c:\\Users\\cypri\\OneDrive - CentraleSupelec\\Bureau\\Non_Linear_Systems\\scripts\\utils.py:53: FutureWarning: You are using `torch.load` with `weights_only=False` (the current default value), which uses the default pickle module implicitly. It is possible to construct malicious pickle data which will execute arbitrary code during unpickling (See https://github.com/pytorch/pytorch/blob/main/SECURITY.md#untrusted-models for more details). In a future release, the default value for `weights_only` will be flipped to `True`. This limits the functions that could be executed during unpickling. Arbitrary objects will no longer be allowed to be loaded via this mode unless they are explicitly allowlisted by the user via `torch.serialization.add_safe_globals`. We recommend you start setting `weights_only=True` for any use case where you don't have full control of the loaded file. Please open an issue on GitHub for any issues related to this experimental feature.\n",
      "  model.load_state_dict(torch.load(model_path))\n"
     ]
    },
    {
     "name": "stdout",
     "output_type": "stream",
     "text": [
      "Accuracy: 0.19\n",
      "Precision: 0.11\n",
      "Recall: 0.20\n",
      "F1-Score: 0.12\n",
      "Model 8243dbc7-3fe0-49da-afc5-4d3b6b4b8e0b :\n",
      "\n",
      "Final Loss: 1.345609979290984\n",
      "Learning Rate: 4.71\n",
      "Optimizer: SGD\n",
      "Epochs: 1\n"
     ]
    },
    {
     "name": "stderr",
     "output_type": "stream",
     "text": [
      "c:\\Users\\cypri\\anaconda3\\envs\\Torch_Intro_ML\\Lib\\site-packages\\sklearn\\metrics\\_classification.py:1531: UndefinedMetricWarning: Precision is ill-defined and being set to 0.0 in labels with no predicted samples. Use `zero_division` parameter to control this behavior.\n",
      "  _warn_prf(average, modifier, f\"{metric.capitalize()} is\", len(result))\n",
      "c:\\Users\\cypri\\OneDrive - CentraleSupelec\\Bureau\\Non_Linear_Systems\\scripts\\utils.py:53: FutureWarning: You are using `torch.load` with `weights_only=False` (the current default value), which uses the default pickle module implicitly. It is possible to construct malicious pickle data which will execute arbitrary code during unpickling (See https://github.com/pytorch/pytorch/blob/main/SECURITY.md#untrusted-models for more details). In a future release, the default value for `weights_only` will be flipped to `True`. This limits the functions that could be executed during unpickling. Arbitrary objects will no longer be allowed to be loaded via this mode unless they are explicitly allowlisted by the user via `torch.serialization.add_safe_globals`. We recommend you start setting `weights_only=True` for any use case where you don't have full control of the loaded file. Please open an issue on GitHub for any issues related to this experimental feature.\n",
      "  model.load_state_dict(torch.load(model_path))\n"
     ]
    },
    {
     "name": "stdout",
     "output_type": "stream",
     "text": [
      "Accuracy: 0.21\n",
      "Precision: 0.11\n",
      "Recall: 0.20\n",
      "F1-Score: 0.12\n",
      "Model 8355a5ac-09cb-4d82-b8c2-76b321aca771 :\n",
      "\n",
      "Final Loss: 0.10263266331138415\n",
      "Learning Rate: 4.83\n",
      "Optimizer: SGD\n",
      "Epochs: 2\n",
      "Accuracy: 0.98\n",
      "Precision: 0.98\n",
      "Recall: 0.98\n",
      "F1-Score: 0.98\n",
      "Model 847736e4-640a-498f-849a-e2432aeb60ad :\n",
      "\n",
      "Final Loss: 2.074200347288331\n",
      "Learning Rate: 5.1\n",
      "Optimizer: SGD\n",
      "Epochs: 1\n"
     ]
    },
    {
     "name": "stderr",
     "output_type": "stream",
     "text": [
      "c:\\Users\\cypri\\OneDrive - CentraleSupelec\\Bureau\\Non_Linear_Systems\\scripts\\utils.py:53: FutureWarning: You are using `torch.load` with `weights_only=False` (the current default value), which uses the default pickle module implicitly. It is possible to construct malicious pickle data which will execute arbitrary code during unpickling (See https://github.com/pytorch/pytorch/blob/main/SECURITY.md#untrusted-models for more details). In a future release, the default value for `weights_only` will be flipped to `True`. This limits the functions that could be executed during unpickling. Arbitrary objects will no longer be allowed to be loaded via this mode unless they are explicitly allowlisted by the user via `torch.serialization.add_safe_globals`. We recommend you start setting `weights_only=True` for any use case where you don't have full control of the loaded file. Please open an issue on GitHub for any issues related to this experimental feature.\n",
      "  model.load_state_dict(torch.load(model_path))\n",
      "c:\\Users\\cypri\\anaconda3\\envs\\Torch_Intro_ML\\Lib\\site-packages\\sklearn\\metrics\\_classification.py:1531: UndefinedMetricWarning: Precision is ill-defined and being set to 0.0 in labels with no predicted samples. Use `zero_division` parameter to control this behavior.\n",
      "  _warn_prf(average, modifier, f\"{metric.capitalize()} is\", len(result))\n",
      "c:\\Users\\cypri\\OneDrive - CentraleSupelec\\Bureau\\Non_Linear_Systems\\scripts\\utils.py:53: FutureWarning: You are using `torch.load` with `weights_only=False` (the current default value), which uses the default pickle module implicitly. It is possible to construct malicious pickle data which will execute arbitrary code during unpickling (See https://github.com/pytorch/pytorch/blob/main/SECURITY.md#untrusted-models for more details). In a future release, the default value for `weights_only` will be flipped to `True`. This limits the functions that could be executed during unpickling. Arbitrary objects will no longer be allowed to be loaded via this mode unless they are explicitly allowlisted by the user via `torch.serialization.add_safe_globals`. We recommend you start setting `weights_only=True` for any use case where you don't have full control of the loaded file. Please open an issue on GitHub for any issues related to this experimental feature.\n",
      "  model.load_state_dict(torch.load(model_path))\n"
     ]
    },
    {
     "name": "stdout",
     "output_type": "stream",
     "text": [
      "Accuracy: 0.10\n",
      "Precision: 0.01\n",
      "Recall: 0.10\n",
      "F1-Score: 0.02\n",
      "Model 854a6013-e6ae-4a75-aa89-793a09fd7841 :\n",
      "\n",
      "Final Loss: 2.3047605505121798\n",
      "Learning Rate: 4.74\n",
      "Optimizer: SGD\n",
      "Epochs: 2\n"
     ]
    },
    {
     "name": "stderr",
     "output_type": "stream",
     "text": [
      "c:\\Users\\cypri\\anaconda3\\envs\\Torch_Intro_ML\\Lib\\site-packages\\sklearn\\metrics\\_classification.py:1531: UndefinedMetricWarning: Precision is ill-defined and being set to 0.0 in labels with no predicted samples. Use `zero_division` parameter to control this behavior.\n",
      "  _warn_prf(average, modifier, f\"{metric.capitalize()} is\", len(result))\n",
      "c:\\Users\\cypri\\OneDrive - CentraleSupelec\\Bureau\\Non_Linear_Systems\\scripts\\utils.py:53: FutureWarning: You are using `torch.load` with `weights_only=False` (the current default value), which uses the default pickle module implicitly. It is possible to construct malicious pickle data which will execute arbitrary code during unpickling (See https://github.com/pytorch/pytorch/blob/main/SECURITY.md#untrusted-models for more details). In a future release, the default value for `weights_only` will be flipped to `True`. This limits the functions that could be executed during unpickling. Arbitrary objects will no longer be allowed to be loaded via this mode unless they are explicitly allowlisted by the user via `torch.serialization.add_safe_globals`. We recommend you start setting `weights_only=True` for any use case where you don't have full control of the loaded file. Please open an issue on GitHub for any issues related to this experimental feature.\n",
      "  model.load_state_dict(torch.load(model_path))\n"
     ]
    },
    {
     "name": "stdout",
     "output_type": "stream",
     "text": [
      "Accuracy: 0.10\n",
      "Precision: 0.01\n",
      "Recall: 0.10\n",
      "F1-Score: 0.02\n",
      "Model 87dbec1c-0131-4a4c-b28e-03770b980ce6 :\n",
      "\n",
      "Final Loss: 1.9636237848796316\n",
      "Learning Rate: 5.2\n",
      "Optimizer: SGD\n",
      "Epochs: 2\n"
     ]
    },
    {
     "name": "stderr",
     "output_type": "stream",
     "text": [
      "c:\\Users\\cypri\\anaconda3\\envs\\Torch_Intro_ML\\Lib\\site-packages\\sklearn\\metrics\\_classification.py:1531: UndefinedMetricWarning: Precision is ill-defined and being set to 0.0 in labels with no predicted samples. Use `zero_division` parameter to control this behavior.\n",
      "  _warn_prf(average, modifier, f\"{metric.capitalize()} is\", len(result))\n",
      "c:\\Users\\cypri\\OneDrive - CentraleSupelec\\Bureau\\Non_Linear_Systems\\scripts\\utils.py:53: FutureWarning: You are using `torch.load` with `weights_only=False` (the current default value), which uses the default pickle module implicitly. It is possible to construct malicious pickle data which will execute arbitrary code during unpickling (See https://github.com/pytorch/pytorch/blob/main/SECURITY.md#untrusted-models for more details). In a future release, the default value for `weights_only` will be flipped to `True`. This limits the functions that could be executed during unpickling. Arbitrary objects will no longer be allowed to be loaded via this mode unless they are explicitly allowlisted by the user via `torch.serialization.add_safe_globals`. We recommend you start setting `weights_only=True` for any use case where you don't have full control of the loaded file. Please open an issue on GitHub for any issues related to this experimental feature.\n",
      "  model.load_state_dict(torch.load(model_path))\n"
     ]
    },
    {
     "name": "stdout",
     "output_type": "stream",
     "text": [
      "Accuracy: 0.21\n",
      "Precision: 0.11\n",
      "Recall: 0.20\n",
      "F1-Score: 0.12\n",
      "Model 87f8f4e0-1d04-4d87-a663-4eca9564648f :\n",
      "\n",
      "Final Loss: 2.3272855291996937\n",
      "Learning Rate: 5.4\n",
      "Optimizer: SGD\n",
      "Epochs: 2\n"
     ]
    },
    {
     "name": "stderr",
     "output_type": "stream",
     "text": [
      "c:\\Users\\cypri\\anaconda3\\envs\\Torch_Intro_ML\\Lib\\site-packages\\sklearn\\metrics\\_classification.py:1531: UndefinedMetricWarning: Precision is ill-defined and being set to 0.0 in labels with no predicted samples. Use `zero_division` parameter to control this behavior.\n",
      "  _warn_prf(average, modifier, f\"{metric.capitalize()} is\", len(result))\n",
      "c:\\Users\\cypri\\OneDrive - CentraleSupelec\\Bureau\\Non_Linear_Systems\\scripts\\utils.py:53: FutureWarning: You are using `torch.load` with `weights_only=False` (the current default value), which uses the default pickle module implicitly. It is possible to construct malicious pickle data which will execute arbitrary code during unpickling (See https://github.com/pytorch/pytorch/blob/main/SECURITY.md#untrusted-models for more details). In a future release, the default value for `weights_only` will be flipped to `True`. This limits the functions that could be executed during unpickling. Arbitrary objects will no longer be allowed to be loaded via this mode unless they are explicitly allowlisted by the user via `torch.serialization.add_safe_globals`. We recommend you start setting `weights_only=True` for any use case where you don't have full control of the loaded file. Please open an issue on GitHub for any issues related to this experimental feature.\n",
      "  model.load_state_dict(torch.load(model_path))\n"
     ]
    },
    {
     "name": "stdout",
     "output_type": "stream",
     "text": [
      "Accuracy: 0.11\n",
      "Precision: 0.01\n",
      "Recall: 0.10\n",
      "F1-Score: 0.02\n",
      "Model 89c13b81-d057-4822-bd74-4e23403c7ef8 :\n",
      "\n",
      "Final Loss: 2.151255839160765\n",
      "Learning Rate: 5.11\n",
      "Optimizer: SGD\n",
      "Epochs: 1\n"
     ]
    },
    {
     "name": "stderr",
     "output_type": "stream",
     "text": [
      "c:\\Users\\cypri\\anaconda3\\envs\\Torch_Intro_ML\\Lib\\site-packages\\sklearn\\metrics\\_classification.py:1531: UndefinedMetricWarning: Precision is ill-defined and being set to 0.0 in labels with no predicted samples. Use `zero_division` parameter to control this behavior.\n",
      "  _warn_prf(average, modifier, f\"{metric.capitalize()} is\", len(result))\n",
      "c:\\Users\\cypri\\OneDrive - CentraleSupelec\\Bureau\\Non_Linear_Systems\\scripts\\utils.py:53: FutureWarning: You are using `torch.load` with `weights_only=False` (the current default value), which uses the default pickle module implicitly. It is possible to construct malicious pickle data which will execute arbitrary code during unpickling (See https://github.com/pytorch/pytorch/blob/main/SECURITY.md#untrusted-models for more details). In a future release, the default value for `weights_only` will be flipped to `True`. This limits the functions that could be executed during unpickling. Arbitrary objects will no longer be allowed to be loaded via this mode unless they are explicitly allowlisted by the user via `torch.serialization.add_safe_globals`. We recommend you start setting `weights_only=True` for any use case where you don't have full control of the loaded file. Please open an issue on GitHub for any issues related to this experimental feature.\n",
      "  model.load_state_dict(torch.load(model_path))\n"
     ]
    },
    {
     "name": "stdout",
     "output_type": "stream",
     "text": [
      "Accuracy: 0.10\n",
      "Precision: 0.01\n",
      "Recall: 0.10\n",
      "F1-Score: 0.02\n",
      "Model 8a44e29b-4023-46eb-9d01-7c89f8a3c684 :\n",
      "\n",
      "Final Loss: 1.798635933063686\n",
      "Learning Rate: 5.48\n",
      "Optimizer: SGD\n",
      "Epochs: 1\n"
     ]
    },
    {
     "name": "stderr",
     "output_type": "stream",
     "text": [
      "c:\\Users\\cypri\\anaconda3\\envs\\Torch_Intro_ML\\Lib\\site-packages\\sklearn\\metrics\\_classification.py:1531: UndefinedMetricWarning: Precision is ill-defined and being set to 0.0 in labels with no predicted samples. Use `zero_division` parameter to control this behavior.\n",
      "  _warn_prf(average, modifier, f\"{metric.capitalize()} is\", len(result))\n",
      "c:\\Users\\cypri\\OneDrive - CentraleSupelec\\Bureau\\Non_Linear_Systems\\scripts\\utils.py:53: FutureWarning: You are using `torch.load` with `weights_only=False` (the current default value), which uses the default pickle module implicitly. It is possible to construct malicious pickle data which will execute arbitrary code during unpickling (See https://github.com/pytorch/pytorch/blob/main/SECURITY.md#untrusted-models for more details). In a future release, the default value for `weights_only` will be flipped to `True`. This limits the functions that could be executed during unpickling. Arbitrary objects will no longer be allowed to be loaded via this mode unless they are explicitly allowlisted by the user via `torch.serialization.add_safe_globals`. We recommend you start setting `weights_only=True` for any use case where you don't have full control of the loaded file. Please open an issue on GitHub for any issues related to this experimental feature.\n",
      "  model.load_state_dict(torch.load(model_path))\n"
     ]
    },
    {
     "name": "stdout",
     "output_type": "stream",
     "text": [
      "Accuracy: 0.30\n",
      "Precision: 0.24\n",
      "Recall: 0.29\n",
      "F1-Score: 0.22\n",
      "Model 8ab4b23c-beb7-47d9-97db-a0b1609d241c :\n",
      "\n",
      "Final Loss: 2.1725864088230296\n",
      "Learning Rate: 4.94\n",
      "Optimizer: SGD\n",
      "Epochs: 1\n"
     ]
    },
    {
     "name": "stderr",
     "output_type": "stream",
     "text": [
      "c:\\Users\\cypri\\anaconda3\\envs\\Torch_Intro_ML\\Lib\\site-packages\\sklearn\\metrics\\_classification.py:1531: UndefinedMetricWarning: Precision is ill-defined and being set to 0.0 in labels with no predicted samples. Use `zero_division` parameter to control this behavior.\n",
      "  _warn_prf(average, modifier, f\"{metric.capitalize()} is\", len(result))\n",
      "c:\\Users\\cypri\\OneDrive - CentraleSupelec\\Bureau\\Non_Linear_Systems\\scripts\\utils.py:53: FutureWarning: You are using `torch.load` with `weights_only=False` (the current default value), which uses the default pickle module implicitly. It is possible to construct malicious pickle data which will execute arbitrary code during unpickling (See https://github.com/pytorch/pytorch/blob/main/SECURITY.md#untrusted-models for more details). In a future release, the default value for `weights_only` will be flipped to `True`. This limits the functions that could be executed during unpickling. Arbitrary objects will no longer be allowed to be loaded via this mode unless they are explicitly allowlisted by the user via `torch.serialization.add_safe_globals`. We recommend you start setting `weights_only=True` for any use case where you don't have full control of the loaded file. Please open an issue on GitHub for any issues related to this experimental feature.\n",
      "  model.load_state_dict(torch.load(model_path))\n"
     ]
    },
    {
     "name": "stdout",
     "output_type": "stream",
     "text": [
      "Accuracy: 0.10\n",
      "Precision: 0.01\n",
      "Recall: 0.10\n",
      "F1-Score: 0.02\n",
      "Model 8b9db4d7-359a-4bc7-84ae-b39ed3d16848 :\n",
      "\n",
      "Final Loss: 0.09201709375302715\n",
      "Learning Rate: 4.56\n",
      "Optimizer: SGD\n",
      "Epochs: 2\n",
      "Accuracy: 0.98\n",
      "Precision: 0.98\n",
      "Recall: 0.98\n",
      "F1-Score: 0.98\n",
      "Model 8d44be1e-3a21-464b-9e15-7680da41f6b4 :\n",
      "\n",
      "Final Loss: 0.6178772312128293\n",
      "Learning Rate: 4.68\n",
      "Optimizer: SGD\n",
      "Epochs: 1\n"
     ]
    },
    {
     "name": "stderr",
     "output_type": "stream",
     "text": [
      "c:\\Users\\cypri\\OneDrive - CentraleSupelec\\Bureau\\Non_Linear_Systems\\scripts\\utils.py:53: FutureWarning: You are using `torch.load` with `weights_only=False` (the current default value), which uses the default pickle module implicitly. It is possible to construct malicious pickle data which will execute arbitrary code during unpickling (See https://github.com/pytorch/pytorch/blob/main/SECURITY.md#untrusted-models for more details). In a future release, the default value for `weights_only` will be flipped to `True`. This limits the functions that could be executed during unpickling. Arbitrary objects will no longer be allowed to be loaded via this mode unless they are explicitly allowlisted by the user via `torch.serialization.add_safe_globals`. We recommend you start setting `weights_only=True` for any use case where you don't have full control of the loaded file. Please open an issue on GitHub for any issues related to this experimental feature.\n",
      "  model.load_state_dict(torch.load(model_path))\n",
      "c:\\Users\\cypri\\anaconda3\\envs\\Torch_Intro_ML\\Lib\\site-packages\\sklearn\\metrics\\_classification.py:1531: UndefinedMetricWarning: Precision is ill-defined and being set to 0.0 in labels with no predicted samples. Use `zero_division` parameter to control this behavior.\n",
      "  _warn_prf(average, modifier, f\"{metric.capitalize()} is\", len(result))\n",
      "c:\\Users\\cypri\\OneDrive - CentraleSupelec\\Bureau\\Non_Linear_Systems\\scripts\\utils.py:53: FutureWarning: You are using `torch.load` with `weights_only=False` (the current default value), which uses the default pickle module implicitly. It is possible to construct malicious pickle data which will execute arbitrary code during unpickling (See https://github.com/pytorch/pytorch/blob/main/SECURITY.md#untrusted-models for more details). In a future release, the default value for `weights_only` will be flipped to `True`. This limits the functions that could be executed during unpickling. Arbitrary objects will no longer be allowed to be loaded via this mode unless they are explicitly allowlisted by the user via `torch.serialization.add_safe_globals`. We recommend you start setting `weights_only=True` for any use case where you don't have full control of the loaded file. Please open an issue on GitHub for any issues related to this experimental feature.\n",
      "  model.load_state_dict(torch.load(model_path))\n"
     ]
    },
    {
     "name": "stdout",
     "output_type": "stream",
     "text": [
      "Accuracy: 0.33\n",
      "Precision: 0.32\n",
      "Recall: 0.33\n",
      "F1-Score: 0.27\n",
      "Model 8d4ea673-143e-4bc4-8fd4-eb24ffc1356a :\n",
      "\n",
      "Final Loss: 2.3115376202282367\n",
      "Learning Rate: 5.42\n",
      "Optimizer: SGD\n",
      "Epochs: 2\n"
     ]
    },
    {
     "name": "stderr",
     "output_type": "stream",
     "text": [
      "c:\\Users\\cypri\\anaconda3\\envs\\Torch_Intro_ML\\Lib\\site-packages\\sklearn\\metrics\\_classification.py:1531: UndefinedMetricWarning: Precision is ill-defined and being set to 0.0 in labels with no predicted samples. Use `zero_division` parameter to control this behavior.\n",
      "  _warn_prf(average, modifier, f\"{metric.capitalize()} is\", len(result))\n",
      "c:\\Users\\cypri\\OneDrive - CentraleSupelec\\Bureau\\Non_Linear_Systems\\scripts\\utils.py:53: FutureWarning: You are using `torch.load` with `weights_only=False` (the current default value), which uses the default pickle module implicitly. It is possible to construct malicious pickle data which will execute arbitrary code during unpickling (See https://github.com/pytorch/pytorch/blob/main/SECURITY.md#untrusted-models for more details). In a future release, the default value for `weights_only` will be flipped to `True`. This limits the functions that could be executed during unpickling. Arbitrary objects will no longer be allowed to be loaded via this mode unless they are explicitly allowlisted by the user via `torch.serialization.add_safe_globals`. We recommend you start setting `weights_only=True` for any use case where you don't have full control of the loaded file. Please open an issue on GitHub for any issues related to this experimental feature.\n",
      "  model.load_state_dict(torch.load(model_path))\n"
     ]
    },
    {
     "name": "stdout",
     "output_type": "stream",
     "text": [
      "Accuracy: 0.11\n",
      "Precision: 0.01\n",
      "Recall: 0.10\n",
      "F1-Score: 0.02\n",
      "Model 8e51cb5a-8499-4aa2-b48c-bdd8f4e6f257 :\n",
      "\n",
      "Final Loss: 0.4014803417590953\n",
      "Learning Rate: 4.57\n",
      "Optimizer: SGD\n",
      "Epochs: 1\n",
      "Accuracy: 0.97\n",
      "Precision: 0.97\n",
      "Recall: 0.97\n",
      "F1-Score: 0.97\n",
      "Model 8e899077-0485-4076-bbe4-9577eb27d795 :\n",
      "\n",
      "Final Loss: 2.2246299379670034\n",
      "Learning Rate: 5.37\n",
      "Optimizer: SGD\n",
      "Epochs: 2\n"
     ]
    },
    {
     "name": "stderr",
     "output_type": "stream",
     "text": [
      "c:\\Users\\cypri\\OneDrive - CentraleSupelec\\Bureau\\Non_Linear_Systems\\scripts\\utils.py:53: FutureWarning: You are using `torch.load` with `weights_only=False` (the current default value), which uses the default pickle module implicitly. It is possible to construct malicious pickle data which will execute arbitrary code during unpickling (See https://github.com/pytorch/pytorch/blob/main/SECURITY.md#untrusted-models for more details). In a future release, the default value for `weights_only` will be flipped to `True`. This limits the functions that could be executed during unpickling. Arbitrary objects will no longer be allowed to be loaded via this mode unless they are explicitly allowlisted by the user via `torch.serialization.add_safe_globals`. We recommend you start setting `weights_only=True` for any use case where you don't have full control of the loaded file. Please open an issue on GitHub for any issues related to this experimental feature.\n",
      "  model.load_state_dict(torch.load(model_path))\n",
      "c:\\Users\\cypri\\anaconda3\\envs\\Torch_Intro_ML\\Lib\\site-packages\\sklearn\\metrics\\_classification.py:1531: UndefinedMetricWarning: Precision is ill-defined and being set to 0.0 in labels with no predicted samples. Use `zero_division` parameter to control this behavior.\n",
      "  _warn_prf(average, modifier, f\"{metric.capitalize()} is\", len(result))\n",
      "c:\\Users\\cypri\\OneDrive - CentraleSupelec\\Bureau\\Non_Linear_Systems\\scripts\\utils.py:53: FutureWarning: You are using `torch.load` with `weights_only=False` (the current default value), which uses the default pickle module implicitly. It is possible to construct malicious pickle data which will execute arbitrary code during unpickling (See https://github.com/pytorch/pytorch/blob/main/SECURITY.md#untrusted-models for more details). In a future release, the default value for `weights_only` will be flipped to `True`. This limits the functions that could be executed during unpickling. Arbitrary objects will no longer be allowed to be loaded via this mode unless they are explicitly allowlisted by the user via `torch.serialization.add_safe_globals`. We recommend you start setting `weights_only=True` for any use case where you don't have full control of the loaded file. Please open an issue on GitHub for any issues related to this experimental feature.\n",
      "  model.load_state_dict(torch.load(model_path))\n"
     ]
    },
    {
     "name": "stdout",
     "output_type": "stream",
     "text": [
      "Accuracy: 0.20\n",
      "Precision: 0.11\n",
      "Recall: 0.20\n",
      "F1-Score: 0.12\n",
      "Model 8fa49a81-a774-49df-b41a-7f543bc28628 :\n",
      "\n",
      "Final Loss: 1.8045619907918007\n",
      "Learning Rate: 5.19\n",
      "Optimizer: SGD\n",
      "Epochs: 1\n"
     ]
    },
    {
     "name": "stderr",
     "output_type": "stream",
     "text": [
      "c:\\Users\\cypri\\anaconda3\\envs\\Torch_Intro_ML\\Lib\\site-packages\\sklearn\\metrics\\_classification.py:1531: UndefinedMetricWarning: Precision is ill-defined and being set to 0.0 in labels with no predicted samples. Use `zero_division` parameter to control this behavior.\n",
      "  _warn_prf(average, modifier, f\"{metric.capitalize()} is\", len(result))\n",
      "c:\\Users\\cypri\\OneDrive - CentraleSupelec\\Bureau\\Non_Linear_Systems\\scripts\\utils.py:53: FutureWarning: You are using `torch.load` with `weights_only=False` (the current default value), which uses the default pickle module implicitly. It is possible to construct malicious pickle data which will execute arbitrary code during unpickling (See https://github.com/pytorch/pytorch/blob/main/SECURITY.md#untrusted-models for more details). In a future release, the default value for `weights_only` will be flipped to `True`. This limits the functions that could be executed during unpickling. Arbitrary objects will no longer be allowed to be loaded via this mode unless they are explicitly allowlisted by the user via `torch.serialization.add_safe_globals`. We recommend you start setting `weights_only=True` for any use case where you don't have full control of the loaded file. Please open an issue on GitHub for any issues related to this experimental feature.\n",
      "  model.load_state_dict(torch.load(model_path))\n"
     ]
    },
    {
     "name": "stdout",
     "output_type": "stream",
     "text": [
      "Accuracy: 0.18\n",
      "Precision: 0.12\n",
      "Recall: 0.18\n",
      "F1-Score: 0.12\n",
      "Model 917179fe-9ef3-42e1-a38e-5c01d4399855 :\n",
      "\n",
      "Final Loss: 1.7794355790116894\n",
      "Learning Rate: 5.01\n",
      "Optimizer: SGD\n",
      "Epochs: 1\n"
     ]
    },
    {
     "name": "stderr",
     "output_type": "stream",
     "text": [
      "c:\\Users\\cypri\\anaconda3\\envs\\Torch_Intro_ML\\Lib\\site-packages\\sklearn\\metrics\\_classification.py:1531: UndefinedMetricWarning: Precision is ill-defined and being set to 0.0 in labels with no predicted samples. Use `zero_division` parameter to control this behavior.\n",
      "  _warn_prf(average, modifier, f\"{metric.capitalize()} is\", len(result))\n",
      "c:\\Users\\cypri\\OneDrive - CentraleSupelec\\Bureau\\Non_Linear_Systems\\scripts\\utils.py:53: FutureWarning: You are using `torch.load` with `weights_only=False` (the current default value), which uses the default pickle module implicitly. It is possible to construct malicious pickle data which will execute arbitrary code during unpickling (See https://github.com/pytorch/pytorch/blob/main/SECURITY.md#untrusted-models for more details). In a future release, the default value for `weights_only` will be flipped to `True`. This limits the functions that could be executed during unpickling. Arbitrary objects will no longer be allowed to be loaded via this mode unless they are explicitly allowlisted by the user via `torch.serialization.add_safe_globals`. We recommend you start setting `weights_only=True` for any use case where you don't have full control of the loaded file. Please open an issue on GitHub for any issues related to this experimental feature.\n",
      "  model.load_state_dict(torch.load(model_path))\n"
     ]
    },
    {
     "name": "stdout",
     "output_type": "stream",
     "text": [
      "Accuracy: 0.20\n",
      "Precision: 0.13\n",
      "Recall: 0.20\n",
      "F1-Score: 0.12\n",
      "Model 9192a060-2d55-462a-8a7c-19bf3d54b9ab :\n",
      "\n",
      "Final Loss: 1.9798032350377488\n",
      "Learning Rate: 5.03\n",
      "Optimizer: SGD\n",
      "Epochs: 2\n"
     ]
    },
    {
     "name": "stderr",
     "output_type": "stream",
     "text": [
      "c:\\Users\\cypri\\anaconda3\\envs\\Torch_Intro_ML\\Lib\\site-packages\\sklearn\\metrics\\_classification.py:1531: UndefinedMetricWarning: Precision is ill-defined and being set to 0.0 in labels with no predicted samples. Use `zero_division` parameter to control this behavior.\n",
      "  _warn_prf(average, modifier, f\"{metric.capitalize()} is\", len(result))\n",
      "c:\\Users\\cypri\\OneDrive - CentraleSupelec\\Bureau\\Non_Linear_Systems\\scripts\\utils.py:53: FutureWarning: You are using `torch.load` with `weights_only=False` (the current default value), which uses the default pickle module implicitly. It is possible to construct malicious pickle data which will execute arbitrary code during unpickling (See https://github.com/pytorch/pytorch/blob/main/SECURITY.md#untrusted-models for more details). In a future release, the default value for `weights_only` will be flipped to `True`. This limits the functions that could be executed during unpickling. Arbitrary objects will no longer be allowed to be loaded via this mode unless they are explicitly allowlisted by the user via `torch.serialization.add_safe_globals`. We recommend you start setting `weights_only=True` for any use case where you don't have full control of the loaded file. Please open an issue on GitHub for any issues related to this experimental feature.\n",
      "  model.load_state_dict(torch.load(model_path))\n"
     ]
    },
    {
     "name": "stdout",
     "output_type": "stream",
     "text": [
      "Accuracy: 0.21\n",
      "Precision: 0.06\n",
      "Recall: 0.20\n",
      "F1-Score: 0.09\n",
      "Model 919def8e-59df-43a1-a0de-e3b149bab311 :\n",
      "\n",
      "Final Loss: 1.947173327970098\n",
      "Learning Rate: 5.08\n",
      "Optimizer: SGD\n",
      "Epochs: 1\n"
     ]
    },
    {
     "name": "stderr",
     "output_type": "stream",
     "text": [
      "c:\\Users\\cypri\\anaconda3\\envs\\Torch_Intro_ML\\Lib\\site-packages\\sklearn\\metrics\\_classification.py:1531: UndefinedMetricWarning: Precision is ill-defined and being set to 0.0 in labels with no predicted samples. Use `zero_division` parameter to control this behavior.\n",
      "  _warn_prf(average, modifier, f\"{metric.capitalize()} is\", len(result))\n",
      "c:\\Users\\cypri\\OneDrive - CentraleSupelec\\Bureau\\Non_Linear_Systems\\scripts\\utils.py:53: FutureWarning: You are using `torch.load` with `weights_only=False` (the current default value), which uses the default pickle module implicitly. It is possible to construct malicious pickle data which will execute arbitrary code during unpickling (See https://github.com/pytorch/pytorch/blob/main/SECURITY.md#untrusted-models for more details). In a future release, the default value for `weights_only` will be flipped to `True`. This limits the functions that could be executed during unpickling. Arbitrary objects will no longer be allowed to be loaded via this mode unless they are explicitly allowlisted by the user via `torch.serialization.add_safe_globals`. We recommend you start setting `weights_only=True` for any use case where you don't have full control of the loaded file. Please open an issue on GitHub for any issues related to this experimental feature.\n",
      "  model.load_state_dict(torch.load(model_path))\n"
     ]
    },
    {
     "name": "stdout",
     "output_type": "stream",
     "text": [
      "Accuracy: 0.10\n",
      "Precision: 0.01\n",
      "Recall: 0.10\n",
      "F1-Score: 0.02\n",
      "Model 93190a92-b054-4f77-a672-a4afce643e1a :\n",
      "\n",
      "Final Loss: 2.16127376210715\n",
      "Learning Rate: 5.24\n",
      "Optimizer: SGD\n",
      "Epochs: 2\n"
     ]
    },
    {
     "name": "stderr",
     "output_type": "stream",
     "text": [
      "c:\\Users\\cypri\\anaconda3\\envs\\Torch_Intro_ML\\Lib\\site-packages\\sklearn\\metrics\\_classification.py:1531: UndefinedMetricWarning: Precision is ill-defined and being set to 0.0 in labels with no predicted samples. Use `zero_division` parameter to control this behavior.\n",
      "  _warn_prf(average, modifier, f\"{metric.capitalize()} is\", len(result))\n",
      "c:\\Users\\cypri\\OneDrive - CentraleSupelec\\Bureau\\Non_Linear_Systems\\scripts\\utils.py:53: FutureWarning: You are using `torch.load` with `weights_only=False` (the current default value), which uses the default pickle module implicitly. It is possible to construct malicious pickle data which will execute arbitrary code during unpickling (See https://github.com/pytorch/pytorch/blob/main/SECURITY.md#untrusted-models for more details). In a future release, the default value for `weights_only` will be flipped to `True`. This limits the functions that could be executed during unpickling. Arbitrary objects will no longer be allowed to be loaded via this mode unless they are explicitly allowlisted by the user via `torch.serialization.add_safe_globals`. We recommend you start setting `weights_only=True` for any use case where you don't have full control of the loaded file. Please open an issue on GitHub for any issues related to this experimental feature.\n",
      "  model.load_state_dict(torch.load(model_path))\n"
     ]
    },
    {
     "name": "stdout",
     "output_type": "stream",
     "text": [
      "Accuracy: 0.19\n",
      "Precision: 0.11\n",
      "Recall: 0.19\n",
      "F1-Score: 0.11\n",
      "Model 94295d5c-f900-4837-a25f-cc09f2ca8244 :\n",
      "\n",
      "Final Loss: 0.08728941979305223\n",
      "Learning Rate: 4.52\n",
      "Optimizer: SGD\n",
      "Epochs: 2\n",
      "Accuracy: 0.98\n",
      "Precision: 0.98\n",
      "Recall: 0.98\n",
      "F1-Score: 0.98\n",
      "Model 95810283-2945-409c-90f6-d373a00c98b6 :\n",
      "\n",
      "Final Loss: 1.9007333381725018\n",
      "Learning Rate: 4.78\n",
      "Optimizer: SGD\n",
      "Epochs: 1\n"
     ]
    },
    {
     "name": "stderr",
     "output_type": "stream",
     "text": [
      "c:\\Users\\cypri\\OneDrive - CentraleSupelec\\Bureau\\Non_Linear_Systems\\scripts\\utils.py:53: FutureWarning: You are using `torch.load` with `weights_only=False` (the current default value), which uses the default pickle module implicitly. It is possible to construct malicious pickle data which will execute arbitrary code during unpickling (See https://github.com/pytorch/pytorch/blob/main/SECURITY.md#untrusted-models for more details). In a future release, the default value for `weights_only` will be flipped to `True`. This limits the functions that could be executed during unpickling. Arbitrary objects will no longer be allowed to be loaded via this mode unless they are explicitly allowlisted by the user via `torch.serialization.add_safe_globals`. We recommend you start setting `weights_only=True` for any use case where you don't have full control of the loaded file. Please open an issue on GitHub for any issues related to this experimental feature.\n",
      "  model.load_state_dict(torch.load(model_path))\n",
      "c:\\Users\\cypri\\anaconda3\\envs\\Torch_Intro_ML\\Lib\\site-packages\\sklearn\\metrics\\_classification.py:1531: UndefinedMetricWarning: Precision is ill-defined and being set to 0.0 in labels with no predicted samples. Use `zero_division` parameter to control this behavior.\n",
      "  _warn_prf(average, modifier, f\"{metric.capitalize()} is\", len(result))\n",
      "c:\\Users\\cypri\\OneDrive - CentraleSupelec\\Bureau\\Non_Linear_Systems\\scripts\\utils.py:53: FutureWarning: You are using `torch.load` with `weights_only=False` (the current default value), which uses the default pickle module implicitly. It is possible to construct malicious pickle data which will execute arbitrary code during unpickling (See https://github.com/pytorch/pytorch/blob/main/SECURITY.md#untrusted-models for more details). In a future release, the default value for `weights_only` will be flipped to `True`. This limits the functions that could be executed during unpickling. Arbitrary objects will no longer be allowed to be loaded via this mode unless they are explicitly allowlisted by the user via `torch.serialization.add_safe_globals`. We recommend you start setting `weights_only=True` for any use case where you don't have full control of the loaded file. Please open an issue on GitHub for any issues related to this experimental feature.\n",
      "  model.load_state_dict(torch.load(model_path))\n"
     ]
    },
    {
     "name": "stdout",
     "output_type": "stream",
     "text": [
      "Accuracy: 0.10\n",
      "Precision: 0.01\n",
      "Recall: 0.10\n",
      "F1-Score: 0.02\n",
      "Model 960705fe-cd17-4dfa-b2e1-245246af88b8 :\n",
      "\n",
      "Final Loss: 2.0001336891196178\n",
      "Learning Rate: 4.92\n",
      "Optimizer: SGD\n",
      "Epochs: 1\n"
     ]
    },
    {
     "name": "stderr",
     "output_type": "stream",
     "text": [
      "c:\\Users\\cypri\\anaconda3\\envs\\Torch_Intro_ML\\Lib\\site-packages\\sklearn\\metrics\\_classification.py:1531: UndefinedMetricWarning: Precision is ill-defined and being set to 0.0 in labels with no predicted samples. Use `zero_division` parameter to control this behavior.\n",
      "  _warn_prf(average, modifier, f\"{metric.capitalize()} is\", len(result))\n",
      "c:\\Users\\cypri\\OneDrive - CentraleSupelec\\Bureau\\Non_Linear_Systems\\scripts\\utils.py:53: FutureWarning: You are using `torch.load` with `weights_only=False` (the current default value), which uses the default pickle module implicitly. It is possible to construct malicious pickle data which will execute arbitrary code during unpickling (See https://github.com/pytorch/pytorch/blob/main/SECURITY.md#untrusted-models for more details). In a future release, the default value for `weights_only` will be flipped to `True`. This limits the functions that could be executed during unpickling. Arbitrary objects will no longer be allowed to be loaded via this mode unless they are explicitly allowlisted by the user via `torch.serialization.add_safe_globals`. We recommend you start setting `weights_only=True` for any use case where you don't have full control of the loaded file. Please open an issue on GitHub for any issues related to this experimental feature.\n",
      "  model.load_state_dict(torch.load(model_path))\n"
     ]
    },
    {
     "name": "stdout",
     "output_type": "stream",
     "text": [
      "Accuracy: 0.15\n",
      "Precision: 0.11\n",
      "Recall: 0.15\n",
      "F1-Score: 0.09\n",
      "Model 97300587-779d-490b-90c8-b1f91a8550bd :\n",
      "\n",
      "Final Loss: 0.10129168383374529\n",
      "Learning Rate: 4.57\n",
      "Optimizer: SGD\n",
      "Epochs: 2\n",
      "Accuracy: 0.98\n",
      "Precision: 0.98\n",
      "Recall: 0.98\n",
      "F1-Score: 0.98\n",
      "Model 97f2264f-d4f9-4e62-b317-a5c26007a03f :\n",
      "\n",
      "Final Loss: 0.2737125805956421\n",
      "Learning Rate: 4.54\n",
      "Optimizer: SGD\n",
      "Epochs: 1\n"
     ]
    },
    {
     "name": "stderr",
     "output_type": "stream",
     "text": [
      "c:\\Users\\cypri\\OneDrive - CentraleSupelec\\Bureau\\Non_Linear_Systems\\scripts\\utils.py:53: FutureWarning: You are using `torch.load` with `weights_only=False` (the current default value), which uses the default pickle module implicitly. It is possible to construct malicious pickle data which will execute arbitrary code during unpickling (See https://github.com/pytorch/pytorch/blob/main/SECURITY.md#untrusted-models for more details). In a future release, the default value for `weights_only` will be flipped to `True`. This limits the functions that could be executed during unpickling. Arbitrary objects will no longer be allowed to be loaded via this mode unless they are explicitly allowlisted by the user via `torch.serialization.add_safe_globals`. We recommend you start setting `weights_only=True` for any use case where you don't have full control of the loaded file. Please open an issue on GitHub for any issues related to this experimental feature.\n",
      "  model.load_state_dict(torch.load(model_path))\n"
     ]
    },
    {
     "name": "stdout",
     "output_type": "stream",
     "text": [
      "Accuracy: 0.98\n",
      "Precision: 0.98\n",
      "Recall: 0.98\n",
      "F1-Score: 0.98\n",
      "Model 997bb9bb-908d-40fe-b1ee-7f6a9d22378b :\n",
      "\n",
      "Final Loss: 1.8381427244019153\n",
      "Learning Rate: 5.33\n",
      "Optimizer: SGD\n",
      "Epochs: 1\n"
     ]
    },
    {
     "name": "stderr",
     "output_type": "stream",
     "text": [
      "c:\\Users\\cypri\\OneDrive - CentraleSupelec\\Bureau\\Non_Linear_Systems\\scripts\\utils.py:53: FutureWarning: You are using `torch.load` with `weights_only=False` (the current default value), which uses the default pickle module implicitly. It is possible to construct malicious pickle data which will execute arbitrary code during unpickling (See https://github.com/pytorch/pytorch/blob/main/SECURITY.md#untrusted-models for more details). In a future release, the default value for `weights_only` will be flipped to `True`. This limits the functions that could be executed during unpickling. Arbitrary objects will no longer be allowed to be loaded via this mode unless they are explicitly allowlisted by the user via `torch.serialization.add_safe_globals`. We recommend you start setting `weights_only=True` for any use case where you don't have full control of the loaded file. Please open an issue on GitHub for any issues related to this experimental feature.\n",
      "  model.load_state_dict(torch.load(model_path))\n",
      "c:\\Users\\cypri\\anaconda3\\envs\\Torch_Intro_ML\\Lib\\site-packages\\sklearn\\metrics\\_classification.py:1531: UndefinedMetricWarning: Precision is ill-defined and being set to 0.0 in labels with no predicted samples. Use `zero_division` parameter to control this behavior.\n",
      "  _warn_prf(average, modifier, f\"{metric.capitalize()} is\", len(result))\n",
      "c:\\Users\\cypri\\OneDrive - CentraleSupelec\\Bureau\\Non_Linear_Systems\\scripts\\utils.py:53: FutureWarning: You are using `torch.load` with `weights_only=False` (the current default value), which uses the default pickle module implicitly. It is possible to construct malicious pickle data which will execute arbitrary code during unpickling (See https://github.com/pytorch/pytorch/blob/main/SECURITY.md#untrusted-models for more details). In a future release, the default value for `weights_only` will be flipped to `True`. This limits the functions that could be executed during unpickling. Arbitrary objects will no longer be allowed to be loaded via this mode unless they are explicitly allowlisted by the user via `torch.serialization.add_safe_globals`. We recommend you start setting `weights_only=True` for any use case where you don't have full control of the loaded file. Please open an issue on GitHub for any issues related to this experimental feature.\n",
      "  model.load_state_dict(torch.load(model_path))\n"
     ]
    },
    {
     "name": "stdout",
     "output_type": "stream",
     "text": [
      "Accuracy: 0.09\n",
      "Precision: 0.01\n",
      "Recall: 0.09\n",
      "F1-Score: 0.02\n",
      "Model 9ba980b0-28e6-4900-b1e3-9578fdb46707 :\n",
      "\n",
      "Final Loss: 2.227220400182931\n",
      "Learning Rate: 5.35\n",
      "Optimizer: SGD\n",
      "Epochs: 2\n"
     ]
    },
    {
     "name": "stderr",
     "output_type": "stream",
     "text": [
      "c:\\Users\\cypri\\anaconda3\\envs\\Torch_Intro_ML\\Lib\\site-packages\\sklearn\\metrics\\_classification.py:1531: UndefinedMetricWarning: Precision is ill-defined and being set to 0.0 in labels with no predicted samples. Use `zero_division` parameter to control this behavior.\n",
      "  _warn_prf(average, modifier, f\"{metric.capitalize()} is\", len(result))\n",
      "c:\\Users\\cypri\\OneDrive - CentraleSupelec\\Bureau\\Non_Linear_Systems\\scripts\\utils.py:53: FutureWarning: You are using `torch.load` with `weights_only=False` (the current default value), which uses the default pickle module implicitly. It is possible to construct malicious pickle data which will execute arbitrary code during unpickling (See https://github.com/pytorch/pytorch/blob/main/SECURITY.md#untrusted-models for more details). In a future release, the default value for `weights_only` will be flipped to `True`. This limits the functions that could be executed during unpickling. Arbitrary objects will no longer be allowed to be loaded via this mode unless they are explicitly allowlisted by the user via `torch.serialization.add_safe_globals`. We recommend you start setting `weights_only=True` for any use case where you don't have full control of the loaded file. Please open an issue on GitHub for any issues related to this experimental feature.\n",
      "  model.load_state_dict(torch.load(model_path))\n"
     ]
    },
    {
     "name": "stdout",
     "output_type": "stream",
     "text": [
      "Accuracy: 0.10\n",
      "Precision: 0.01\n",
      "Recall: 0.10\n",
      "F1-Score: 0.02\n",
      "Model a3923627-00b3-44a0-8448-41f79b890155 :\n",
      "\n",
      "Final Loss: 1.8885430476304566\n",
      "Learning Rate: 5.1\n",
      "Optimizer: SGD\n",
      "Epochs: 2\n"
     ]
    },
    {
     "name": "stderr",
     "output_type": "stream",
     "text": [
      "c:\\Users\\cypri\\anaconda3\\envs\\Torch_Intro_ML\\Lib\\site-packages\\sklearn\\metrics\\_classification.py:1531: UndefinedMetricWarning: Precision is ill-defined and being set to 0.0 in labels with no predicted samples. Use `zero_division` parameter to control this behavior.\n",
      "  _warn_prf(average, modifier, f\"{metric.capitalize()} is\", len(result))\n",
      "c:\\Users\\cypri\\OneDrive - CentraleSupelec\\Bureau\\Non_Linear_Systems\\scripts\\utils.py:53: FutureWarning: You are using `torch.load` with `weights_only=False` (the current default value), which uses the default pickle module implicitly. It is possible to construct malicious pickle data which will execute arbitrary code during unpickling (See https://github.com/pytorch/pytorch/blob/main/SECURITY.md#untrusted-models for more details). In a future release, the default value for `weights_only` will be flipped to `True`. This limits the functions that could be executed during unpickling. Arbitrary objects will no longer be allowed to be loaded via this mode unless they are explicitly allowlisted by the user via `torch.serialization.add_safe_globals`. We recommend you start setting `weights_only=True` for any use case where you don't have full control of the loaded file. Please open an issue on GitHub for any issues related to this experimental feature.\n",
      "  model.load_state_dict(torch.load(model_path))\n"
     ]
    },
    {
     "name": "stdout",
     "output_type": "stream",
     "text": [
      "Accuracy: 0.21\n",
      "Precision: 0.15\n",
      "Recall: 0.20\n",
      "F1-Score: 0.12\n",
      "Model a54314ad-5e6c-4a76-b5d7-151ada7ae1e4 :\n",
      "\n",
      "Final Loss: 1.9773528448808422\n",
      "Learning Rate: 5.19\n",
      "Optimizer: SGD\n",
      "Epochs: 2\n"
     ]
    },
    {
     "name": "stderr",
     "output_type": "stream",
     "text": [
      "c:\\Users\\cypri\\anaconda3\\envs\\Torch_Intro_ML\\Lib\\site-packages\\sklearn\\metrics\\_classification.py:1531: UndefinedMetricWarning: Precision is ill-defined and being set to 0.0 in labels with no predicted samples. Use `zero_division` parameter to control this behavior.\n",
      "  _warn_prf(average, modifier, f\"{metric.capitalize()} is\", len(result))\n",
      "c:\\Users\\cypri\\OneDrive - CentraleSupelec\\Bureau\\Non_Linear_Systems\\scripts\\utils.py:53: FutureWarning: You are using `torch.load` with `weights_only=False` (the current default value), which uses the default pickle module implicitly. It is possible to construct malicious pickle data which will execute arbitrary code during unpickling (See https://github.com/pytorch/pytorch/blob/main/SECURITY.md#untrusted-models for more details). In a future release, the default value for `weights_only` will be flipped to `True`. This limits the functions that could be executed during unpickling. Arbitrary objects will no longer be allowed to be loaded via this mode unless they are explicitly allowlisted by the user via `torch.serialization.add_safe_globals`. We recommend you start setting `weights_only=True` for any use case where you don't have full control of the loaded file. Please open an issue on GitHub for any issues related to this experimental feature.\n",
      "  model.load_state_dict(torch.load(model_path))\n"
     ]
    },
    {
     "name": "stdout",
     "output_type": "stream",
     "text": [
      "Accuracy: 0.10\n",
      "Precision: 0.01\n",
      "Recall: 0.10\n",
      "F1-Score: 0.02\n",
      "Model a543e76a-108a-44b0-a5eb-176d943ea3d9 :\n",
      "\n",
      "Final Loss: 0.11806526429486275\n",
      "Learning Rate: 4.85\n",
      "Optimizer: SGD\n",
      "Epochs: 2\n",
      "Accuracy: 0.98\n",
      "Precision: 0.98\n",
      "Recall: 0.98\n",
      "F1-Score: 0.98\n",
      "Model a5aa7ed4-f5ee-4123-85bf-81326e93cb38 :\n",
      "\n",
      "Final Loss: 0.33583301969536783\n",
      "Learning Rate: 4.65\n",
      "Optimizer: SGD\n",
      "Epochs: 1\n"
     ]
    },
    {
     "name": "stderr",
     "output_type": "stream",
     "text": [
      "c:\\Users\\cypri\\OneDrive - CentraleSupelec\\Bureau\\Non_Linear_Systems\\scripts\\utils.py:53: FutureWarning: You are using `torch.load` with `weights_only=False` (the current default value), which uses the default pickle module implicitly. It is possible to construct malicious pickle data which will execute arbitrary code during unpickling (See https://github.com/pytorch/pytorch/blob/main/SECURITY.md#untrusted-models for more details). In a future release, the default value for `weights_only` will be flipped to `True`. This limits the functions that could be executed during unpickling. Arbitrary objects will no longer be allowed to be loaded via this mode unless they are explicitly allowlisted by the user via `torch.serialization.add_safe_globals`. We recommend you start setting `weights_only=True` for any use case where you don't have full control of the loaded file. Please open an issue on GitHub for any issues related to this experimental feature.\n",
      "  model.load_state_dict(torch.load(model_path))\n"
     ]
    },
    {
     "name": "stdout",
     "output_type": "stream",
     "text": [
      "Accuracy: 0.96\n",
      "Precision: 0.96\n",
      "Recall: 0.95\n",
      "F1-Score: 0.96\n",
      "Model a624ddfe-96c8-440f-a044-f0a4aa7d25e2 :\n",
      "\n",
      "Final Loss: 2.1444461237011687\n",
      "Learning Rate: 4.55\n",
      "Optimizer: SGD\n",
      "Epochs: 1\n"
     ]
    },
    {
     "name": "stderr",
     "output_type": "stream",
     "text": [
      "c:\\Users\\cypri\\OneDrive - CentraleSupelec\\Bureau\\Non_Linear_Systems\\scripts\\utils.py:53: FutureWarning: You are using `torch.load` with `weights_only=False` (the current default value), which uses the default pickle module implicitly. It is possible to construct malicious pickle data which will execute arbitrary code during unpickling (See https://github.com/pytorch/pytorch/blob/main/SECURITY.md#untrusted-models for more details). In a future release, the default value for `weights_only` will be flipped to `True`. This limits the functions that could be executed during unpickling. Arbitrary objects will no longer be allowed to be loaded via this mode unless they are explicitly allowlisted by the user via `torch.serialization.add_safe_globals`. We recommend you start setting `weights_only=True` for any use case where you don't have full control of the loaded file. Please open an issue on GitHub for any issues related to this experimental feature.\n",
      "  model.load_state_dict(torch.load(model_path))\n",
      "c:\\Users\\cypri\\anaconda3\\envs\\Torch_Intro_ML\\Lib\\site-packages\\sklearn\\metrics\\_classification.py:1531: UndefinedMetricWarning: Precision is ill-defined and being set to 0.0 in labels with no predicted samples. Use `zero_division` parameter to control this behavior.\n",
      "  _warn_prf(average, modifier, f\"{metric.capitalize()} is\", len(result))\n",
      "c:\\Users\\cypri\\OneDrive - CentraleSupelec\\Bureau\\Non_Linear_Systems\\scripts\\utils.py:53: FutureWarning: You are using `torch.load` with `weights_only=False` (the current default value), which uses the default pickle module implicitly. It is possible to construct malicious pickle data which will execute arbitrary code during unpickling (See https://github.com/pytorch/pytorch/blob/main/SECURITY.md#untrusted-models for more details). In a future release, the default value for `weights_only` will be flipped to `True`. This limits the functions that could be executed during unpickling. Arbitrary objects will no longer be allowed to be loaded via this mode unless they are explicitly allowlisted by the user via `torch.serialization.add_safe_globals`. We recommend you start setting `weights_only=True` for any use case where you don't have full control of the loaded file. Please open an issue on GitHub for any issues related to this experimental feature.\n",
      "  model.load_state_dict(torch.load(model_path))\n"
     ]
    },
    {
     "name": "stdout",
     "output_type": "stream",
     "text": [
      "Accuracy: 0.10\n",
      "Precision: 0.01\n",
      "Recall: 0.10\n",
      "F1-Score: 0.02\n",
      "Model a745dfcb-cb77-4992-8f0a-f732f23f0178 :\n",
      "\n",
      "Final Loss: 1.8156468324951018\n",
      "Learning Rate: 4.91\n",
      "Optimizer: SGD\n",
      "Epochs: 1\n"
     ]
    },
    {
     "name": "stderr",
     "output_type": "stream",
     "text": [
      "c:\\Users\\cypri\\anaconda3\\envs\\Torch_Intro_ML\\Lib\\site-packages\\sklearn\\metrics\\_classification.py:1531: UndefinedMetricWarning: Precision is ill-defined and being set to 0.0 in labels with no predicted samples. Use `zero_division` parameter to control this behavior.\n",
      "  _warn_prf(average, modifier, f\"{metric.capitalize()} is\", len(result))\n",
      "c:\\Users\\cypri\\OneDrive - CentraleSupelec\\Bureau\\Non_Linear_Systems\\scripts\\utils.py:53: FutureWarning: You are using `torch.load` with `weights_only=False` (the current default value), which uses the default pickle module implicitly. It is possible to construct malicious pickle data which will execute arbitrary code during unpickling (See https://github.com/pytorch/pytorch/blob/main/SECURITY.md#untrusted-models for more details). In a future release, the default value for `weights_only` will be flipped to `True`. This limits the functions that could be executed during unpickling. Arbitrary objects will no longer be allowed to be loaded via this mode unless they are explicitly allowlisted by the user via `torch.serialization.add_safe_globals`. We recommend you start setting `weights_only=True` for any use case where you don't have full control of the loaded file. Please open an issue on GitHub for any issues related to this experimental feature.\n",
      "  model.load_state_dict(torch.load(model_path))\n"
     ]
    },
    {
     "name": "stdout",
     "output_type": "stream",
     "text": [
      "Accuracy: 0.29\n",
      "Precision: 0.21\n",
      "Recall: 0.27\n",
      "F1-Score: 0.21\n",
      "Model a85a5771-a0da-4973-bd18-c1ddb12f7bbd :\n",
      "\n",
      "Final Loss: 2.316004185788413\n",
      "Learning Rate: 4.68\n",
      "Optimizer: SGD\n",
      "Epochs: 2\n"
     ]
    },
    {
     "name": "stderr",
     "output_type": "stream",
     "text": [
      "c:\\Users\\cypri\\anaconda3\\envs\\Torch_Intro_ML\\Lib\\site-packages\\sklearn\\metrics\\_classification.py:1531: UndefinedMetricWarning: Precision is ill-defined and being set to 0.0 in labels with no predicted samples. Use `zero_division` parameter to control this behavior.\n",
      "  _warn_prf(average, modifier, f\"{metric.capitalize()} is\", len(result))\n",
      "c:\\Users\\cypri\\OneDrive - CentraleSupelec\\Bureau\\Non_Linear_Systems\\scripts\\utils.py:53: FutureWarning: You are using `torch.load` with `weights_only=False` (the current default value), which uses the default pickle module implicitly. It is possible to construct malicious pickle data which will execute arbitrary code during unpickling (See https://github.com/pytorch/pytorch/blob/main/SECURITY.md#untrusted-models for more details). In a future release, the default value for `weights_only` will be flipped to `True`. This limits the functions that could be executed during unpickling. Arbitrary objects will no longer be allowed to be loaded via this mode unless they are explicitly allowlisted by the user via `torch.serialization.add_safe_globals`. We recommend you start setting `weights_only=True` for any use case where you don't have full control of the loaded file. Please open an issue on GitHub for any issues related to this experimental feature.\n",
      "  model.load_state_dict(torch.load(model_path))\n"
     ]
    },
    {
     "name": "stdout",
     "output_type": "stream",
     "text": [
      "Accuracy: 0.10\n",
      "Precision: 0.01\n",
      "Recall: 0.10\n",
      "F1-Score: 0.02\n",
      "Model aa57c49b-85e8-4859-ac2c-9ff68e92a018 :\n",
      "\n",
      "Final Loss: 2.3261664666092474\n",
      "Learning Rate: 5.16\n",
      "Optimizer: SGD\n",
      "Epochs: 2\n"
     ]
    },
    {
     "name": "stderr",
     "output_type": "stream",
     "text": [
      "c:\\Users\\cypri\\anaconda3\\envs\\Torch_Intro_ML\\Lib\\site-packages\\sklearn\\metrics\\_classification.py:1531: UndefinedMetricWarning: Precision is ill-defined and being set to 0.0 in labels with no predicted samples. Use `zero_division` parameter to control this behavior.\n",
      "  _warn_prf(average, modifier, f\"{metric.capitalize()} is\", len(result))\n",
      "c:\\Users\\cypri\\OneDrive - CentraleSupelec\\Bureau\\Non_Linear_Systems\\scripts\\utils.py:53: FutureWarning: You are using `torch.load` with `weights_only=False` (the current default value), which uses the default pickle module implicitly. It is possible to construct malicious pickle data which will execute arbitrary code during unpickling (See https://github.com/pytorch/pytorch/blob/main/SECURITY.md#untrusted-models for more details). In a future release, the default value for `weights_only` will be flipped to `True`. This limits the functions that could be executed during unpickling. Arbitrary objects will no longer be allowed to be loaded via this mode unless they are explicitly allowlisted by the user via `torch.serialization.add_safe_globals`. We recommend you start setting `weights_only=True` for any use case where you don't have full control of the loaded file. Please open an issue on GitHub for any issues related to this experimental feature.\n",
      "  model.load_state_dict(torch.load(model_path))\n"
     ]
    },
    {
     "name": "stdout",
     "output_type": "stream",
     "text": [
      "Accuracy: 0.10\n",
      "Precision: 0.01\n",
      "Recall: 0.10\n",
      "F1-Score: 0.02\n",
      "Model ab7ca24b-92a3-4ab8-984d-bac6fe5a8b3d :\n",
      "\n",
      "Final Loss: 1.9017597652955858\n",
      "Learning Rate: 5.26\n",
      "Optimizer: SGD\n",
      "Epochs: 2\n"
     ]
    },
    {
     "name": "stderr",
     "output_type": "stream",
     "text": [
      "c:\\Users\\cypri\\anaconda3\\envs\\Torch_Intro_ML\\Lib\\site-packages\\sklearn\\metrics\\_classification.py:1531: UndefinedMetricWarning: Precision is ill-defined and being set to 0.0 in labels with no predicted samples. Use `zero_division` parameter to control this behavior.\n",
      "  _warn_prf(average, modifier, f\"{metric.capitalize()} is\", len(result))\n",
      "c:\\Users\\cypri\\OneDrive - CentraleSupelec\\Bureau\\Non_Linear_Systems\\scripts\\utils.py:53: FutureWarning: You are using `torch.load` with `weights_only=False` (the current default value), which uses the default pickle module implicitly. It is possible to construct malicious pickle data which will execute arbitrary code during unpickling (See https://github.com/pytorch/pytorch/blob/main/SECURITY.md#untrusted-models for more details). In a future release, the default value for `weights_only` will be flipped to `True`. This limits the functions that could be executed during unpickling. Arbitrary objects will no longer be allowed to be loaded via this mode unless they are explicitly allowlisted by the user via `torch.serialization.add_safe_globals`. We recommend you start setting `weights_only=True` for any use case where you don't have full control of the loaded file. Please open an issue on GitHub for any issues related to this experimental feature.\n",
      "  model.load_state_dict(torch.load(model_path))\n"
     ]
    },
    {
     "name": "stdout",
     "output_type": "stream",
     "text": [
      "Accuracy: 0.21\n",
      "Precision: 0.11\n",
      "Recall: 0.20\n",
      "F1-Score: 0.12\n",
      "Model accd9d82-503f-498f-8e30-2579d7d9f25b :\n",
      "\n",
      "Final Loss: 1.492590843495339\n",
      "Learning Rate: 4.74\n",
      "Optimizer: SGD\n",
      "Epochs: 1\n"
     ]
    },
    {
     "name": "stderr",
     "output_type": "stream",
     "text": [
      "c:\\Users\\cypri\\anaconda3\\envs\\Torch_Intro_ML\\Lib\\site-packages\\sklearn\\metrics\\_classification.py:1531: UndefinedMetricWarning: Precision is ill-defined and being set to 0.0 in labels with no predicted samples. Use `zero_division` parameter to control this behavior.\n",
      "  _warn_prf(average, modifier, f\"{metric.capitalize()} is\", len(result))\n",
      "c:\\Users\\cypri\\OneDrive - CentraleSupelec\\Bureau\\Non_Linear_Systems\\scripts\\utils.py:53: FutureWarning: You are using `torch.load` with `weights_only=False` (the current default value), which uses the default pickle module implicitly. It is possible to construct malicious pickle data which will execute arbitrary code during unpickling (See https://github.com/pytorch/pytorch/blob/main/SECURITY.md#untrusted-models for more details). In a future release, the default value for `weights_only` will be flipped to `True`. This limits the functions that could be executed during unpickling. Arbitrary objects will no longer be allowed to be loaded via this mode unless they are explicitly allowlisted by the user via `torch.serialization.add_safe_globals`. We recommend you start setting `weights_only=True` for any use case where you don't have full control of the loaded file. Please open an issue on GitHub for any issues related to this experimental feature.\n",
      "  model.load_state_dict(torch.load(model_path))\n"
     ]
    },
    {
     "name": "stdout",
     "output_type": "stream",
     "text": [
      "Accuracy: 0.19\n",
      "Precision: 0.11\n",
      "Recall: 0.20\n",
      "F1-Score: 0.12\n",
      "Model ae4cf82b-456e-4964-8c20-b12d32f41844 :\n",
      "\n",
      "Final Loss: 0.3572014273540961\n",
      "Learning Rate: 4.84\n",
      "Optimizer: SGD\n",
      "Epochs: 1\n",
      "Accuracy: 0.95\n",
      "Precision: 0.95\n",
      "Recall: 0.95\n",
      "F1-Score: 0.95\n",
      "Model b5228f9d-6f8f-40c7-811e-618176f43712 :\n",
      "\n",
      "Final Loss: 2.230440073430157\n",
      "Learning Rate: 5.21\n",
      "Optimizer: SGD\n",
      "Epochs: 2\n"
     ]
    },
    {
     "name": "stderr",
     "output_type": "stream",
     "text": [
      "c:\\Users\\cypri\\OneDrive - CentraleSupelec\\Bureau\\Non_Linear_Systems\\scripts\\utils.py:53: FutureWarning: You are using `torch.load` with `weights_only=False` (the current default value), which uses the default pickle module implicitly. It is possible to construct malicious pickle data which will execute arbitrary code during unpickling (See https://github.com/pytorch/pytorch/blob/main/SECURITY.md#untrusted-models for more details). In a future release, the default value for `weights_only` will be flipped to `True`. This limits the functions that could be executed during unpickling. Arbitrary objects will no longer be allowed to be loaded via this mode unless they are explicitly allowlisted by the user via `torch.serialization.add_safe_globals`. We recommend you start setting `weights_only=True` for any use case where you don't have full control of the loaded file. Please open an issue on GitHub for any issues related to this experimental feature.\n",
      "  model.load_state_dict(torch.load(model_path))\n",
      "c:\\Users\\cypri\\anaconda3\\envs\\Torch_Intro_ML\\Lib\\site-packages\\sklearn\\metrics\\_classification.py:1531: UndefinedMetricWarning: Precision is ill-defined and being set to 0.0 in labels with no predicted samples. Use `zero_division` parameter to control this behavior.\n",
      "  _warn_prf(average, modifier, f\"{metric.capitalize()} is\", len(result))\n",
      "c:\\Users\\cypri\\OneDrive - CentraleSupelec\\Bureau\\Non_Linear_Systems\\scripts\\utils.py:53: FutureWarning: You are using `torch.load` with `weights_only=False` (the current default value), which uses the default pickle module implicitly. It is possible to construct malicious pickle data which will execute arbitrary code during unpickling (See https://github.com/pytorch/pytorch/blob/main/SECURITY.md#untrusted-models for more details). In a future release, the default value for `weights_only` will be flipped to `True`. This limits the functions that could be executed during unpickling. Arbitrary objects will no longer be allowed to be loaded via this mode unless they are explicitly allowlisted by the user via `torch.serialization.add_safe_globals`. We recommend you start setting `weights_only=True` for any use case where you don't have full control of the loaded file. Please open an issue on GitHub for any issues related to this experimental feature.\n",
      "  model.load_state_dict(torch.load(model_path))\n"
     ]
    },
    {
     "name": "stdout",
     "output_type": "stream",
     "text": [
      "Accuracy: 0.10\n",
      "Precision: 0.01\n",
      "Recall: 0.10\n",
      "F1-Score: 0.02\n",
      "Model b77adef7-8ab3-4f29-8df9-6e9a8d8e8537 :\n",
      "\n",
      "Final Loss: 1.8690252543004082\n",
      "Learning Rate: 4.82\n",
      "Optimizer: SGD\n",
      "Epochs: 1\n"
     ]
    },
    {
     "name": "stderr",
     "output_type": "stream",
     "text": [
      "c:\\Users\\cypri\\anaconda3\\envs\\Torch_Intro_ML\\Lib\\site-packages\\sklearn\\metrics\\_classification.py:1531: UndefinedMetricWarning: Precision is ill-defined and being set to 0.0 in labels with no predicted samples. Use `zero_division` parameter to control this behavior.\n",
      "  _warn_prf(average, modifier, f\"{metric.capitalize()} is\", len(result))\n",
      "c:\\Users\\cypri\\OneDrive - CentraleSupelec\\Bureau\\Non_Linear_Systems\\scripts\\utils.py:53: FutureWarning: You are using `torch.load` with `weights_only=False` (the current default value), which uses the default pickle module implicitly. It is possible to construct malicious pickle data which will execute arbitrary code during unpickling (See https://github.com/pytorch/pytorch/blob/main/SECURITY.md#untrusted-models for more details). In a future release, the default value for `weights_only` will be flipped to `True`. This limits the functions that could be executed during unpickling. Arbitrary objects will no longer be allowed to be loaded via this mode unless they are explicitly allowlisted by the user via `torch.serialization.add_safe_globals`. We recommend you start setting `weights_only=True` for any use case where you don't have full control of the loaded file. Please open an issue on GitHub for any issues related to this experimental feature.\n",
      "  model.load_state_dict(torch.load(model_path))\n"
     ]
    },
    {
     "name": "stdout",
     "output_type": "stream",
     "text": [
      "Accuracy: 0.20\n",
      "Precision: 0.10\n",
      "Recall: 0.20\n",
      "F1-Score: 0.11\n",
      "Model b94e7bf0-38fc-4424-bb67-2bece74c5903 :\n",
      "\n",
      "Final Loss: 0.11243340551981261\n",
      "Learning Rate: 5.06\n",
      "Optimizer: SGD\n",
      "Epochs: 2\n",
      "Accuracy: 0.89\n",
      "Precision: 0.93\n",
      "Recall: 0.88\n",
      "F1-Score: 0.86\n",
      "Model bb2047ad-d1e3-49e6-b4c5-fb54d07fcc0e :\n",
      "\n",
      "Final Loss: 2.0410234549406496\n",
      "Learning Rate: 4.98\n",
      "Optimizer: SGD\n",
      "Epochs: 2\n"
     ]
    },
    {
     "name": "stderr",
     "output_type": "stream",
     "text": [
      "c:\\Users\\cypri\\OneDrive - CentraleSupelec\\Bureau\\Non_Linear_Systems\\scripts\\utils.py:53: FutureWarning: You are using `torch.load` with `weights_only=False` (the current default value), which uses the default pickle module implicitly. It is possible to construct malicious pickle data which will execute arbitrary code during unpickling (See https://github.com/pytorch/pytorch/blob/main/SECURITY.md#untrusted-models for more details). In a future release, the default value for `weights_only` will be flipped to `True`. This limits the functions that could be executed during unpickling. Arbitrary objects will no longer be allowed to be loaded via this mode unless they are explicitly allowlisted by the user via `torch.serialization.add_safe_globals`. We recommend you start setting `weights_only=True` for any use case where you don't have full control of the loaded file. Please open an issue on GitHub for any issues related to this experimental feature.\n",
      "  model.load_state_dict(torch.load(model_path))\n",
      "c:\\Users\\cypri\\anaconda3\\envs\\Torch_Intro_ML\\Lib\\site-packages\\sklearn\\metrics\\_classification.py:1531: UndefinedMetricWarning: Precision is ill-defined and being set to 0.0 in labels with no predicted samples. Use `zero_division` parameter to control this behavior.\n",
      "  _warn_prf(average, modifier, f\"{metric.capitalize()} is\", len(result))\n",
      "c:\\Users\\cypri\\OneDrive - CentraleSupelec\\Bureau\\Non_Linear_Systems\\scripts\\utils.py:53: FutureWarning: You are using `torch.load` with `weights_only=False` (the current default value), which uses the default pickle module implicitly. It is possible to construct malicious pickle data which will execute arbitrary code during unpickling (See https://github.com/pytorch/pytorch/blob/main/SECURITY.md#untrusted-models for more details). In a future release, the default value for `weights_only` will be flipped to `True`. This limits the functions that could be executed during unpickling. Arbitrary objects will no longer be allowed to be loaded via this mode unless they are explicitly allowlisted by the user via `torch.serialization.add_safe_globals`. We recommend you start setting `weights_only=True` for any use case where you don't have full control of the loaded file. Please open an issue on GitHub for any issues related to this experimental feature.\n",
      "  model.load_state_dict(torch.load(model_path))\n"
     ]
    },
    {
     "name": "stdout",
     "output_type": "stream",
     "text": [
      "Accuracy: 0.20\n",
      "Precision: 0.11\n",
      "Recall: 0.20\n",
      "F1-Score: 0.12\n",
      "Model bc1f3d60-2de1-426e-9784-23051119f651 :\n",
      "\n",
      "Final Loss: 1.815098946536782\n",
      "Learning Rate: 4.76\n",
      "Optimizer: SGD\n",
      "Epochs: 2\n"
     ]
    },
    {
     "name": "stderr",
     "output_type": "stream",
     "text": [
      "c:\\Users\\cypri\\anaconda3\\envs\\Torch_Intro_ML\\Lib\\site-packages\\sklearn\\metrics\\_classification.py:1531: UndefinedMetricWarning: Precision is ill-defined and being set to 0.0 in labels with no predicted samples. Use `zero_division` parameter to control this behavior.\n",
      "  _warn_prf(average, modifier, f\"{metric.capitalize()} is\", len(result))\n",
      "c:\\Users\\cypri\\OneDrive - CentraleSupelec\\Bureau\\Non_Linear_Systems\\scripts\\utils.py:53: FutureWarning: You are using `torch.load` with `weights_only=False` (the current default value), which uses the default pickle module implicitly. It is possible to construct malicious pickle data which will execute arbitrary code during unpickling (See https://github.com/pytorch/pytorch/blob/main/SECURITY.md#untrusted-models for more details). In a future release, the default value for `weights_only` will be flipped to `True`. This limits the functions that could be executed during unpickling. Arbitrary objects will no longer be allowed to be loaded via this mode unless they are explicitly allowlisted by the user via `torch.serialization.add_safe_globals`. We recommend you start setting `weights_only=True` for any use case where you don't have full control of the loaded file. Please open an issue on GitHub for any issues related to this experimental feature.\n",
      "  model.load_state_dict(torch.load(model_path))\n"
     ]
    },
    {
     "name": "stdout",
     "output_type": "stream",
     "text": [
      "Accuracy: 0.37\n",
      "Precision: 0.36\n",
      "Recall: 0.36\n",
      "F1-Score: 0.30\n",
      "Model bf0db4f7-b459-4beb-9731-4f273f623a7d :\n",
      "\n",
      "Final Loss: 2.2960276488047926\n",
      "Learning Rate: 5.3\n",
      "Optimizer: SGD\n",
      "Epochs: 2\n"
     ]
    },
    {
     "name": "stderr",
     "output_type": "stream",
     "text": [
      "c:\\Users\\cypri\\anaconda3\\envs\\Torch_Intro_ML\\Lib\\site-packages\\sklearn\\metrics\\_classification.py:1531: UndefinedMetricWarning: Precision is ill-defined and being set to 0.0 in labels with no predicted samples. Use `zero_division` parameter to control this behavior.\n",
      "  _warn_prf(average, modifier, f\"{metric.capitalize()} is\", len(result))\n",
      "c:\\Users\\cypri\\OneDrive - CentraleSupelec\\Bureau\\Non_Linear_Systems\\scripts\\utils.py:53: FutureWarning: You are using `torch.load` with `weights_only=False` (the current default value), which uses the default pickle module implicitly. It is possible to construct malicious pickle data which will execute arbitrary code during unpickling (See https://github.com/pytorch/pytorch/blob/main/SECURITY.md#untrusted-models for more details). In a future release, the default value for `weights_only` will be flipped to `True`. This limits the functions that could be executed during unpickling. Arbitrary objects will no longer be allowed to be loaded via this mode unless they are explicitly allowlisted by the user via `torch.serialization.add_safe_globals`. We recommend you start setting `weights_only=True` for any use case where you don't have full control of the loaded file. Please open an issue on GitHub for any issues related to this experimental feature.\n",
      "  model.load_state_dict(torch.load(model_path))\n"
     ]
    },
    {
     "name": "stdout",
     "output_type": "stream",
     "text": [
      "Accuracy: 0.10\n",
      "Precision: 0.01\n",
      "Recall: 0.10\n",
      "F1-Score: 0.02\n",
      "Model c1a944b8-fea3-43df-9dd8-1f624a8e4fc2 :\n",
      "\n",
      "Final Loss: 0.09566888358019023\n",
      "Learning Rate: 4.8\n",
      "Optimizer: SGD\n",
      "Epochs: 2\n",
      "Accuracy: 0.99\n",
      "Precision: 0.99\n",
      "Recall: 0.99\n",
      "F1-Score: 0.99\n",
      "Model c3673672-9de8-40c8-bcab-ddf1e4a75a95 :\n",
      "\n",
      "Final Loss: 1.7456832503332005\n",
      "Learning Rate: 5.35\n",
      "Optimizer: SGD\n",
      "Epochs: 1\n"
     ]
    },
    {
     "name": "stderr",
     "output_type": "stream",
     "text": [
      "c:\\Users\\cypri\\OneDrive - CentraleSupelec\\Bureau\\Non_Linear_Systems\\scripts\\utils.py:53: FutureWarning: You are using `torch.load` with `weights_only=False` (the current default value), which uses the default pickle module implicitly. It is possible to construct malicious pickle data which will execute arbitrary code during unpickling (See https://github.com/pytorch/pytorch/blob/main/SECURITY.md#untrusted-models for more details). In a future release, the default value for `weights_only` will be flipped to `True`. This limits the functions that could be executed during unpickling. Arbitrary objects will no longer be allowed to be loaded via this mode unless they are explicitly allowlisted by the user via `torch.serialization.add_safe_globals`. We recommend you start setting `weights_only=True` for any use case where you don't have full control of the loaded file. Please open an issue on GitHub for any issues related to this experimental feature.\n",
      "  model.load_state_dict(torch.load(model_path))\n",
      "c:\\Users\\cypri\\anaconda3\\envs\\Torch_Intro_ML\\Lib\\site-packages\\sklearn\\metrics\\_classification.py:1531: UndefinedMetricWarning: Precision is ill-defined and being set to 0.0 in labels with no predicted samples. Use `zero_division` parameter to control this behavior.\n",
      "  _warn_prf(average, modifier, f\"{metric.capitalize()} is\", len(result))\n",
      "c:\\Users\\cypri\\OneDrive - CentraleSupelec\\Bureau\\Non_Linear_Systems\\scripts\\utils.py:53: FutureWarning: You are using `torch.load` with `weights_only=False` (the current default value), which uses the default pickle module implicitly. It is possible to construct malicious pickle data which will execute arbitrary code during unpickling (See https://github.com/pytorch/pytorch/blob/main/SECURITY.md#untrusted-models for more details). In a future release, the default value for `weights_only` will be flipped to `True`. This limits the functions that could be executed during unpickling. Arbitrary objects will no longer be allowed to be loaded via this mode unless they are explicitly allowlisted by the user via `torch.serialization.add_safe_globals`. We recommend you start setting `weights_only=True` for any use case where you don't have full control of the loaded file. Please open an issue on GitHub for any issues related to this experimental feature.\n",
      "  model.load_state_dict(torch.load(model_path))\n"
     ]
    },
    {
     "name": "stdout",
     "output_type": "stream",
     "text": [
      "Accuracy: 0.30\n",
      "Precision: 0.21\n",
      "Recall: 0.28\n",
      "F1-Score: 0.21\n",
      "Model c45272d0-f11a-46c6-839a-f225ab716648 :\n",
      "\n",
      "Final Loss: 2.058587556963028\n",
      "Learning Rate: 5.13\n",
      "Optimizer: SGD\n",
      "Epochs: 2\n"
     ]
    },
    {
     "name": "stderr",
     "output_type": "stream",
     "text": [
      "c:\\Users\\cypri\\anaconda3\\envs\\Torch_Intro_ML\\Lib\\site-packages\\sklearn\\metrics\\_classification.py:1531: UndefinedMetricWarning: Precision is ill-defined and being set to 0.0 in labels with no predicted samples. Use `zero_division` parameter to control this behavior.\n",
      "  _warn_prf(average, modifier, f\"{metric.capitalize()} is\", len(result))\n",
      "c:\\Users\\cypri\\OneDrive - CentraleSupelec\\Bureau\\Non_Linear_Systems\\scripts\\utils.py:53: FutureWarning: You are using `torch.load` with `weights_only=False` (the current default value), which uses the default pickle module implicitly. It is possible to construct malicious pickle data which will execute arbitrary code during unpickling (See https://github.com/pytorch/pytorch/blob/main/SECURITY.md#untrusted-models for more details). In a future release, the default value for `weights_only` will be flipped to `True`. This limits the functions that could be executed during unpickling. Arbitrary objects will no longer be allowed to be loaded via this mode unless they are explicitly allowlisted by the user via `torch.serialization.add_safe_globals`. We recommend you start setting `weights_only=True` for any use case where you don't have full control of the loaded file. Please open an issue on GitHub for any issues related to this experimental feature.\n",
      "  model.load_state_dict(torch.load(model_path))\n"
     ]
    },
    {
     "name": "stdout",
     "output_type": "stream",
     "text": [
      "Accuracy: 0.22\n",
      "Precision: 0.27\n",
      "Recall: 0.23\n",
      "F1-Score: 0.16\n",
      "Model c7463455-2511-40b3-ba7c-9f8f725ab392 :\n",
      "\n",
      "Final Loss: 2.217392672226627\n",
      "Learning Rate: 5.16\n",
      "Optimizer: SGD\n",
      "Epochs: 1\n"
     ]
    },
    {
     "name": "stderr",
     "output_type": "stream",
     "text": [
      "c:\\Users\\cypri\\anaconda3\\envs\\Torch_Intro_ML\\Lib\\site-packages\\sklearn\\metrics\\_classification.py:1531: UndefinedMetricWarning: Precision is ill-defined and being set to 0.0 in labels with no predicted samples. Use `zero_division` parameter to control this behavior.\n",
      "  _warn_prf(average, modifier, f\"{metric.capitalize()} is\", len(result))\n",
      "c:\\Users\\cypri\\OneDrive - CentraleSupelec\\Bureau\\Non_Linear_Systems\\scripts\\utils.py:53: FutureWarning: You are using `torch.load` with `weights_only=False` (the current default value), which uses the default pickle module implicitly. It is possible to construct malicious pickle data which will execute arbitrary code during unpickling (See https://github.com/pytorch/pytorch/blob/main/SECURITY.md#untrusted-models for more details). In a future release, the default value for `weights_only` will be flipped to `True`. This limits the functions that could be executed during unpickling. Arbitrary objects will no longer be allowed to be loaded via this mode unless they are explicitly allowlisted by the user via `torch.serialization.add_safe_globals`. We recommend you start setting `weights_only=True` for any use case where you don't have full control of the loaded file. Please open an issue on GitHub for any issues related to this experimental feature.\n",
      "  model.load_state_dict(torch.load(model_path))\n"
     ]
    },
    {
     "name": "stdout",
     "output_type": "stream",
     "text": [
      "Accuracy: 0.10\n",
      "Precision: 0.01\n",
      "Recall: 0.10\n",
      "F1-Score: 0.02\n",
      "Model c7b7e3b1-5376-4c20-a291-0f070f773388 :\n",
      "\n",
      "Final Loss: 2.0209187781378657\n",
      "Learning Rate: 4.79\n",
      "Optimizer: SGD\n",
      "Epochs: 1\n"
     ]
    },
    {
     "name": "stderr",
     "output_type": "stream",
     "text": [
      "c:\\Users\\cypri\\anaconda3\\envs\\Torch_Intro_ML\\Lib\\site-packages\\sklearn\\metrics\\_classification.py:1531: UndefinedMetricWarning: Precision is ill-defined and being set to 0.0 in labels with no predicted samples. Use `zero_division` parameter to control this behavior.\n",
      "  _warn_prf(average, modifier, f\"{metric.capitalize()} is\", len(result))\n",
      "c:\\Users\\cypri\\OneDrive - CentraleSupelec\\Bureau\\Non_Linear_Systems\\scripts\\utils.py:53: FutureWarning: You are using `torch.load` with `weights_only=False` (the current default value), which uses the default pickle module implicitly. It is possible to construct malicious pickle data which will execute arbitrary code during unpickling (See https://github.com/pytorch/pytorch/blob/main/SECURITY.md#untrusted-models for more details). In a future release, the default value for `weights_only` will be flipped to `True`. This limits the functions that could be executed during unpickling. Arbitrary objects will no longer be allowed to be loaded via this mode unless they are explicitly allowlisted by the user via `torch.serialization.add_safe_globals`. We recommend you start setting `weights_only=True` for any use case where you don't have full control of the loaded file. Please open an issue on GitHub for any issues related to this experimental feature.\n",
      "  model.load_state_dict(torch.load(model_path))\n"
     ]
    },
    {
     "name": "stdout",
     "output_type": "stream",
     "text": [
      "Accuracy: 0.09\n",
      "Precision: 0.01\n",
      "Recall: 0.10\n",
      "F1-Score: 0.02\n",
      "Model c9f47afc-b33c-4cc1-914c-17434d6e0802 :\n",
      "\n",
      "Final Loss: 1.6516272313813412\n",
      "Learning Rate: 5.15\n",
      "Optimizer: SGD\n",
      "Epochs: 1\n"
     ]
    },
    {
     "name": "stderr",
     "output_type": "stream",
     "text": [
      "c:\\Users\\cypri\\anaconda3\\envs\\Torch_Intro_ML\\Lib\\site-packages\\sklearn\\metrics\\_classification.py:1531: UndefinedMetricWarning: Precision is ill-defined and being set to 0.0 in labels with no predicted samples. Use `zero_division` parameter to control this behavior.\n",
      "  _warn_prf(average, modifier, f\"{metric.capitalize()} is\", len(result))\n",
      "c:\\Users\\cypri\\OneDrive - CentraleSupelec\\Bureau\\Non_Linear_Systems\\scripts\\utils.py:53: FutureWarning: You are using `torch.load` with `weights_only=False` (the current default value), which uses the default pickle module implicitly. It is possible to construct malicious pickle data which will execute arbitrary code during unpickling (See https://github.com/pytorch/pytorch/blob/main/SECURITY.md#untrusted-models for more details). In a future release, the default value for `weights_only` will be flipped to `True`. This limits the functions that could be executed during unpickling. Arbitrary objects will no longer be allowed to be loaded via this mode unless they are explicitly allowlisted by the user via `torch.serialization.add_safe_globals`. We recommend you start setting `weights_only=True` for any use case where you don't have full control of the loaded file. Please open an issue on GitHub for any issues related to this experimental feature.\n",
      "  model.load_state_dict(torch.load(model_path))\n"
     ]
    },
    {
     "name": "stdout",
     "output_type": "stream",
     "text": [
      "Accuracy: 0.21\n",
      "Precision: 0.14\n",
      "Recall: 0.20\n",
      "F1-Score: 0.12\n",
      "Model cc637e2b-e65c-47de-a9b7-5b33d21ec0a9 :\n",
      "\n",
      "Final Loss: 1.8200207099731542\n",
      "Learning Rate: 5.04\n",
      "Optimizer: SGD\n",
      "Epochs: 2\n"
     ]
    },
    {
     "name": "stderr",
     "output_type": "stream",
     "text": [
      "c:\\Users\\cypri\\anaconda3\\envs\\Torch_Intro_ML\\Lib\\site-packages\\sklearn\\metrics\\_classification.py:1531: UndefinedMetricWarning: Precision is ill-defined and being set to 0.0 in labels with no predicted samples. Use `zero_division` parameter to control this behavior.\n",
      "  _warn_prf(average, modifier, f\"{metric.capitalize()} is\", len(result))\n",
      "c:\\Users\\cypri\\OneDrive - CentraleSupelec\\Bureau\\Non_Linear_Systems\\scripts\\utils.py:53: FutureWarning: You are using `torch.load` with `weights_only=False` (the current default value), which uses the default pickle module implicitly. It is possible to construct malicious pickle data which will execute arbitrary code during unpickling (See https://github.com/pytorch/pytorch/blob/main/SECURITY.md#untrusted-models for more details). In a future release, the default value for `weights_only` will be flipped to `True`. This limits the functions that could be executed during unpickling. Arbitrary objects will no longer be allowed to be loaded via this mode unless they are explicitly allowlisted by the user via `torch.serialization.add_safe_globals`. We recommend you start setting `weights_only=True` for any use case where you don't have full control of the loaded file. Please open an issue on GitHub for any issues related to this experimental feature.\n",
      "  model.load_state_dict(torch.load(model_path))\n"
     ]
    },
    {
     "name": "stdout",
     "output_type": "stream",
     "text": [
      "Accuracy: 0.21\n",
      "Precision: 0.13\n",
      "Recall: 0.20\n",
      "F1-Score: 0.15\n",
      "Model d090002d-f533-4c91-9a15-d1f7e279ea4c :\n",
      "\n",
      "Final Loss: 0.2894735707700856\n",
      "Learning Rate: 4.7\n",
      "Optimizer: SGD\n",
      "Epochs: 1\n",
      "Accuracy: 0.98\n",
      "Precision: 0.98\n",
      "Recall: 0.98\n",
      "F1-Score: 0.98\n",
      "Model d181bf96-2236-4095-9599-b655d8252357 :\n",
      "\n",
      "Final Loss: 2.0040245372603445\n",
      "Learning Rate: 5.41\n",
      "Optimizer: SGD\n",
      "Epochs: 2\n"
     ]
    },
    {
     "name": "stderr",
     "output_type": "stream",
     "text": [
      "c:\\Users\\cypri\\OneDrive - CentraleSupelec\\Bureau\\Non_Linear_Systems\\scripts\\utils.py:53: FutureWarning: You are using `torch.load` with `weights_only=False` (the current default value), which uses the default pickle module implicitly. It is possible to construct malicious pickle data which will execute arbitrary code during unpickling (See https://github.com/pytorch/pytorch/blob/main/SECURITY.md#untrusted-models for more details). In a future release, the default value for `weights_only` will be flipped to `True`. This limits the functions that could be executed during unpickling. Arbitrary objects will no longer be allowed to be loaded via this mode unless they are explicitly allowlisted by the user via `torch.serialization.add_safe_globals`. We recommend you start setting `weights_only=True` for any use case where you don't have full control of the loaded file. Please open an issue on GitHub for any issues related to this experimental feature.\n",
      "  model.load_state_dict(torch.load(model_path))\n",
      "c:\\Users\\cypri\\anaconda3\\envs\\Torch_Intro_ML\\Lib\\site-packages\\sklearn\\metrics\\_classification.py:1531: UndefinedMetricWarning: Precision is ill-defined and being set to 0.0 in labels with no predicted samples. Use `zero_division` parameter to control this behavior.\n",
      "  _warn_prf(average, modifier, f\"{metric.capitalize()} is\", len(result))\n",
      "c:\\Users\\cypri\\OneDrive - CentraleSupelec\\Bureau\\Non_Linear_Systems\\scripts\\utils.py:53: FutureWarning: You are using `torch.load` with `weights_only=False` (the current default value), which uses the default pickle module implicitly. It is possible to construct malicious pickle data which will execute arbitrary code during unpickling (See https://github.com/pytorch/pytorch/blob/main/SECURITY.md#untrusted-models for more details). In a future release, the default value for `weights_only` will be flipped to `True`. This limits the functions that could be executed during unpickling. Arbitrary objects will no longer be allowed to be loaded via this mode unless they are explicitly allowlisted by the user via `torch.serialization.add_safe_globals`. We recommend you start setting `weights_only=True` for any use case where you don't have full control of the loaded file. Please open an issue on GitHub for any issues related to this experimental feature.\n",
      "  model.load_state_dict(torch.load(model_path))\n"
     ]
    },
    {
     "name": "stdout",
     "output_type": "stream",
     "text": [
      "Accuracy: 0.10\n",
      "Precision: 0.01\n",
      "Recall: 0.10\n",
      "F1-Score: 0.02\n",
      "Model d34d3efe-0195-43dc-926a-0ebf03fad5c0 :\n",
      "\n",
      "Final Loss: 2.225620843072944\n",
      "Learning Rate: 4.96\n",
      "Optimizer: SGD\n",
      "Epochs: 2\n"
     ]
    },
    {
     "name": "stderr",
     "output_type": "stream",
     "text": [
      "c:\\Users\\cypri\\anaconda3\\envs\\Torch_Intro_ML\\Lib\\site-packages\\sklearn\\metrics\\_classification.py:1531: UndefinedMetricWarning: Precision is ill-defined and being set to 0.0 in labels with no predicted samples. Use `zero_division` parameter to control this behavior.\n",
      "  _warn_prf(average, modifier, f\"{metric.capitalize()} is\", len(result))\n",
      "c:\\Users\\cypri\\OneDrive - CentraleSupelec\\Bureau\\Non_Linear_Systems\\scripts\\utils.py:53: FutureWarning: You are using `torch.load` with `weights_only=False` (the current default value), which uses the default pickle module implicitly. It is possible to construct malicious pickle data which will execute arbitrary code during unpickling (See https://github.com/pytorch/pytorch/blob/main/SECURITY.md#untrusted-models for more details). In a future release, the default value for `weights_only` will be flipped to `True`. This limits the functions that could be executed during unpickling. Arbitrary objects will no longer be allowed to be loaded via this mode unless they are explicitly allowlisted by the user via `torch.serialization.add_safe_globals`. We recommend you start setting `weights_only=True` for any use case where you don't have full control of the loaded file. Please open an issue on GitHub for any issues related to this experimental feature.\n",
      "  model.load_state_dict(torch.load(model_path))\n"
     ]
    },
    {
     "name": "stdout",
     "output_type": "stream",
     "text": [
      "Accuracy: 0.11\n",
      "Precision: 0.01\n",
      "Recall: 0.10\n",
      "F1-Score: 0.02\n",
      "Model d40e1ad1-54d4-495d-a6b4-7f955bb63f91 :\n",
      "\n",
      "Final Loss: 2.0995586689855497\n",
      "Learning Rate: 5.17\n",
      "Optimizer: SGD\n",
      "Epochs: 2\n"
     ]
    },
    {
     "name": "stderr",
     "output_type": "stream",
     "text": [
      "c:\\Users\\cypri\\anaconda3\\envs\\Torch_Intro_ML\\Lib\\site-packages\\sklearn\\metrics\\_classification.py:1531: UndefinedMetricWarning: Precision is ill-defined and being set to 0.0 in labels with no predicted samples. Use `zero_division` parameter to control this behavior.\n",
      "  _warn_prf(average, modifier, f\"{metric.capitalize()} is\", len(result))\n",
      "c:\\Users\\cypri\\OneDrive - CentraleSupelec\\Bureau\\Non_Linear_Systems\\scripts\\utils.py:53: FutureWarning: You are using `torch.load` with `weights_only=False` (the current default value), which uses the default pickle module implicitly. It is possible to construct malicious pickle data which will execute arbitrary code during unpickling (See https://github.com/pytorch/pytorch/blob/main/SECURITY.md#untrusted-models for more details). In a future release, the default value for `weights_only` will be flipped to `True`. This limits the functions that could be executed during unpickling. Arbitrary objects will no longer be allowed to be loaded via this mode unless they are explicitly allowlisted by the user via `torch.serialization.add_safe_globals`. We recommend you start setting `weights_only=True` for any use case where you don't have full control of the loaded file. Please open an issue on GitHub for any issues related to this experimental feature.\n",
      "  model.load_state_dict(torch.load(model_path))\n"
     ]
    },
    {
     "name": "stdout",
     "output_type": "stream",
     "text": [
      "Accuracy: 0.20\n",
      "Precision: 0.17\n",
      "Recall: 0.20\n",
      "F1-Score: 0.13\n",
      "Model d5f6303d-4c19-4ef7-a121-ac65b9648d81 :\n",
      "\n",
      "Final Loss: 2.32281763467199\n",
      "Learning Rate: 4.64\n",
      "Optimizer: SGD\n",
      "Epochs: 2\n"
     ]
    },
    {
     "name": "stderr",
     "output_type": "stream",
     "text": [
      "c:\\Users\\cypri\\anaconda3\\envs\\Torch_Intro_ML\\Lib\\site-packages\\sklearn\\metrics\\_classification.py:1531: UndefinedMetricWarning: Precision is ill-defined and being set to 0.0 in labels with no predicted samples. Use `zero_division` parameter to control this behavior.\n",
      "  _warn_prf(average, modifier, f\"{metric.capitalize()} is\", len(result))\n",
      "c:\\Users\\cypri\\OneDrive - CentraleSupelec\\Bureau\\Non_Linear_Systems\\scripts\\utils.py:53: FutureWarning: You are using `torch.load` with `weights_only=False` (the current default value), which uses the default pickle module implicitly. It is possible to construct malicious pickle data which will execute arbitrary code during unpickling (See https://github.com/pytorch/pytorch/blob/main/SECURITY.md#untrusted-models for more details). In a future release, the default value for `weights_only` will be flipped to `True`. This limits the functions that could be executed during unpickling. Arbitrary objects will no longer be allowed to be loaded via this mode unless they are explicitly allowlisted by the user via `torch.serialization.add_safe_globals`. We recommend you start setting `weights_only=True` for any use case where you don't have full control of the loaded file. Please open an issue on GitHub for any issues related to this experimental feature.\n",
      "  model.load_state_dict(torch.load(model_path))\n"
     ]
    },
    {
     "name": "stdout",
     "output_type": "stream",
     "text": [
      "Accuracy: 0.10\n",
      "Precision: 0.01\n",
      "Recall: 0.10\n",
      "F1-Score: 0.02\n",
      "Model d5ff7c51-a3f4-4b2a-a671-9209ae5abb4a :\n",
      "\n",
      "Final Loss: 2.2648067939510224\n",
      "Learning Rate: 4.95\n",
      "Optimizer: SGD\n",
      "Epochs: 2\n"
     ]
    },
    {
     "name": "stderr",
     "output_type": "stream",
     "text": [
      "c:\\Users\\cypri\\anaconda3\\envs\\Torch_Intro_ML\\Lib\\site-packages\\sklearn\\metrics\\_classification.py:1531: UndefinedMetricWarning: Precision is ill-defined and being set to 0.0 in labels with no predicted samples. Use `zero_division` parameter to control this behavior.\n",
      "  _warn_prf(average, modifier, f\"{metric.capitalize()} is\", len(result))\n",
      "c:\\Users\\cypri\\OneDrive - CentraleSupelec\\Bureau\\Non_Linear_Systems\\scripts\\utils.py:53: FutureWarning: You are using `torch.load` with `weights_only=False` (the current default value), which uses the default pickle module implicitly. It is possible to construct malicious pickle data which will execute arbitrary code during unpickling (See https://github.com/pytorch/pytorch/blob/main/SECURITY.md#untrusted-models for more details). In a future release, the default value for `weights_only` will be flipped to `True`. This limits the functions that could be executed during unpickling. Arbitrary objects will no longer be allowed to be loaded via this mode unless they are explicitly allowlisted by the user via `torch.serialization.add_safe_globals`. We recommend you start setting `weights_only=True` for any use case where you don't have full control of the loaded file. Please open an issue on GitHub for any issues related to this experimental feature.\n",
      "  model.load_state_dict(torch.load(model_path))\n"
     ]
    },
    {
     "name": "stdout",
     "output_type": "stream",
     "text": [
      "Accuracy: 0.10\n",
      "Precision: 0.01\n",
      "Recall: 0.10\n",
      "F1-Score: 0.02\n",
      "Model d645e6ca-aa9d-458e-b7f3-4170a3c25008 :\n",
      "\n",
      "Final Loss: 1.672988407838065\n",
      "Learning Rate: 5.24\n",
      "Optimizer: SGD\n",
      "Epochs: 1\n"
     ]
    },
    {
     "name": "stderr",
     "output_type": "stream",
     "text": [
      "c:\\Users\\cypri\\anaconda3\\envs\\Torch_Intro_ML\\Lib\\site-packages\\sklearn\\metrics\\_classification.py:1531: UndefinedMetricWarning: Precision is ill-defined and being set to 0.0 in labels with no predicted samples. Use `zero_division` parameter to control this behavior.\n",
      "  _warn_prf(average, modifier, f\"{metric.capitalize()} is\", len(result))\n",
      "c:\\Users\\cypri\\OneDrive - CentraleSupelec\\Bureau\\Non_Linear_Systems\\scripts\\utils.py:53: FutureWarning: You are using `torch.load` with `weights_only=False` (the current default value), which uses the default pickle module implicitly. It is possible to construct malicious pickle data which will execute arbitrary code during unpickling (See https://github.com/pytorch/pytorch/blob/main/SECURITY.md#untrusted-models for more details). In a future release, the default value for `weights_only` will be flipped to `True`. This limits the functions that could be executed during unpickling. Arbitrary objects will no longer be allowed to be loaded via this mode unless they are explicitly allowlisted by the user via `torch.serialization.add_safe_globals`. We recommend you start setting `weights_only=True` for any use case where you don't have full control of the loaded file. Please open an issue on GitHub for any issues related to this experimental feature.\n",
      "  model.load_state_dict(torch.load(model_path))\n"
     ]
    },
    {
     "name": "stdout",
     "output_type": "stream",
     "text": [
      "Accuracy: 0.20\n",
      "Precision: 0.10\n",
      "Recall: 0.20\n",
      "F1-Score: 0.11\n",
      "Model d67dde3b-1980-43fb-8fde-f53096caa6ec :\n",
      "\n",
      "Final Loss: 1.8332577250850226\n",
      "Learning Rate: 5.18\n",
      "Optimizer: SGD\n",
      "Epochs: 1\n"
     ]
    },
    {
     "name": "stderr",
     "output_type": "stream",
     "text": [
      "c:\\Users\\cypri\\anaconda3\\envs\\Torch_Intro_ML\\Lib\\site-packages\\sklearn\\metrics\\_classification.py:1531: UndefinedMetricWarning: Precision is ill-defined and being set to 0.0 in labels with no predicted samples. Use `zero_division` parameter to control this behavior.\n",
      "  _warn_prf(average, modifier, f\"{metric.capitalize()} is\", len(result))\n",
      "c:\\Users\\cypri\\OneDrive - CentraleSupelec\\Bureau\\Non_Linear_Systems\\scripts\\utils.py:53: FutureWarning: You are using `torch.load` with `weights_only=False` (the current default value), which uses the default pickle module implicitly. It is possible to construct malicious pickle data which will execute arbitrary code during unpickling (See https://github.com/pytorch/pytorch/blob/main/SECURITY.md#untrusted-models for more details). In a future release, the default value for `weights_only` will be flipped to `True`. This limits the functions that could be executed during unpickling. Arbitrary objects will no longer be allowed to be loaded via this mode unless they are explicitly allowlisted by the user via `torch.serialization.add_safe_globals`. We recommend you start setting `weights_only=True` for any use case where you don't have full control of the loaded file. Please open an issue on GitHub for any issues related to this experimental feature.\n",
      "  model.load_state_dict(torch.load(model_path))\n"
     ]
    },
    {
     "name": "stdout",
     "output_type": "stream",
     "text": [
      "Accuracy: 0.19\n",
      "Precision: 0.12\n",
      "Recall: 0.20\n",
      "F1-Score: 0.12\n",
      "Model d869ebaa-f50a-4725-91a3-c08a3b124981 :\n",
      "\n",
      "Final Loss: 0.09727458005102955\n",
      "Learning Rate: 4.93\n",
      "Optimizer: SGD\n",
      "Epochs: 2\n",
      "Accuracy: 0.98\n",
      "Precision: 0.98\n",
      "Recall: 0.98\n",
      "F1-Score: 0.98\n",
      "Model da8f416c-8963-41f2-812a-d5999fd38000 :\n",
      "\n",
      "Final Loss: 1.9745585943844273\n",
      "Learning Rate: 5.39\n",
      "Optimizer: SGD\n",
      "Epochs: 1\n"
     ]
    },
    {
     "name": "stderr",
     "output_type": "stream",
     "text": [
      "c:\\Users\\cypri\\OneDrive - CentraleSupelec\\Bureau\\Non_Linear_Systems\\scripts\\utils.py:53: FutureWarning: You are using `torch.load` with `weights_only=False` (the current default value), which uses the default pickle module implicitly. It is possible to construct malicious pickle data which will execute arbitrary code during unpickling (See https://github.com/pytorch/pytorch/blob/main/SECURITY.md#untrusted-models for more details). In a future release, the default value for `weights_only` will be flipped to `True`. This limits the functions that could be executed during unpickling. Arbitrary objects will no longer be allowed to be loaded via this mode unless they are explicitly allowlisted by the user via `torch.serialization.add_safe_globals`. We recommend you start setting `weights_only=True` for any use case where you don't have full control of the loaded file. Please open an issue on GitHub for any issues related to this experimental feature.\n",
      "  model.load_state_dict(torch.load(model_path))\n",
      "c:\\Users\\cypri\\anaconda3\\envs\\Torch_Intro_ML\\Lib\\site-packages\\sklearn\\metrics\\_classification.py:1531: UndefinedMetricWarning: Precision is ill-defined and being set to 0.0 in labels with no predicted samples. Use `zero_division` parameter to control this behavior.\n",
      "  _warn_prf(average, modifier, f\"{metric.capitalize()} is\", len(result))\n",
      "c:\\Users\\cypri\\OneDrive - CentraleSupelec\\Bureau\\Non_Linear_Systems\\scripts\\utils.py:53: FutureWarning: You are using `torch.load` with `weights_only=False` (the current default value), which uses the default pickle module implicitly. It is possible to construct malicious pickle data which will execute arbitrary code during unpickling (See https://github.com/pytorch/pytorch/blob/main/SECURITY.md#untrusted-models for more details). In a future release, the default value for `weights_only` will be flipped to `True`. This limits the functions that could be executed during unpickling. Arbitrary objects will no longer be allowed to be loaded via this mode unless they are explicitly allowlisted by the user via `torch.serialization.add_safe_globals`. We recommend you start setting `weights_only=True` for any use case where you don't have full control of the loaded file. Please open an issue on GitHub for any issues related to this experimental feature.\n",
      "  model.load_state_dict(torch.load(model_path))\n"
     ]
    },
    {
     "name": "stdout",
     "output_type": "stream",
     "text": [
      "Accuracy: 0.22\n",
      "Precision: 0.10\n",
      "Recall: 0.20\n",
      "F1-Score: 0.11\n",
      "Model dc86709f-bd9d-4081-bb17-c3e36b3e5cee :\n",
      "\n",
      "Final Loss: 0.09872627614869246\n",
      "Learning Rate: 4.89\n",
      "Optimizer: SGD\n",
      "Epochs: 2\n",
      "Accuracy: 0.97\n",
      "Precision: 0.97\n",
      "Recall: 0.97\n",
      "F1-Score: 0.97\n",
      "Model ded20469-9489-48d6-8116-645aef4906d8 :\n",
      "\n",
      "Final Loss: 1.938063792582514\n",
      "Learning Rate: 4.9\n",
      "Optimizer: SGD\n",
      "Epochs: 1\n"
     ]
    },
    {
     "name": "stderr",
     "output_type": "stream",
     "text": [
      "c:\\Users\\cypri\\OneDrive - CentraleSupelec\\Bureau\\Non_Linear_Systems\\scripts\\utils.py:53: FutureWarning: You are using `torch.load` with `weights_only=False` (the current default value), which uses the default pickle module implicitly. It is possible to construct malicious pickle data which will execute arbitrary code during unpickling (See https://github.com/pytorch/pytorch/blob/main/SECURITY.md#untrusted-models for more details). In a future release, the default value for `weights_only` will be flipped to `True`. This limits the functions that could be executed during unpickling. Arbitrary objects will no longer be allowed to be loaded via this mode unless they are explicitly allowlisted by the user via `torch.serialization.add_safe_globals`. We recommend you start setting `weights_only=True` for any use case where you don't have full control of the loaded file. Please open an issue on GitHub for any issues related to this experimental feature.\n",
      "  model.load_state_dict(torch.load(model_path))\n",
      "c:\\Users\\cypri\\anaconda3\\envs\\Torch_Intro_ML\\Lib\\site-packages\\sklearn\\metrics\\_classification.py:1531: UndefinedMetricWarning: Precision is ill-defined and being set to 0.0 in labels with no predicted samples. Use `zero_division` parameter to control this behavior.\n",
      "  _warn_prf(average, modifier, f\"{metric.capitalize()} is\", len(result))\n",
      "c:\\Users\\cypri\\OneDrive - CentraleSupelec\\Bureau\\Non_Linear_Systems\\scripts\\utils.py:53: FutureWarning: You are using `torch.load` with `weights_only=False` (the current default value), which uses the default pickle module implicitly. It is possible to construct malicious pickle data which will execute arbitrary code during unpickling (See https://github.com/pytorch/pytorch/blob/main/SECURITY.md#untrusted-models for more details). In a future release, the default value for `weights_only` will be flipped to `True`. This limits the functions that could be executed during unpickling. Arbitrary objects will no longer be allowed to be loaded via this mode unless they are explicitly allowlisted by the user via `torch.serialization.add_safe_globals`. We recommend you start setting `weights_only=True` for any use case where you don't have full control of the loaded file. Please open an issue on GitHub for any issues related to this experimental feature.\n",
      "  model.load_state_dict(torch.load(model_path))\n"
     ]
    },
    {
     "name": "stdout",
     "output_type": "stream",
     "text": [
      "Accuracy: 0.19\n",
      "Precision: 0.10\n",
      "Recall: 0.19\n",
      "F1-Score: 0.11\n",
      "Model e0546f02-de5e-448f-911b-c7f45508a4c2 :\n",
      "\n",
      "Final Loss: 2.3228637973891137\n",
      "Learning Rate: 4.81\n",
      "Optimizer: SGD\n",
      "Epochs: 2\n"
     ]
    },
    {
     "name": "stderr",
     "output_type": "stream",
     "text": [
      "c:\\Users\\cypri\\anaconda3\\envs\\Torch_Intro_ML\\Lib\\site-packages\\sklearn\\metrics\\_classification.py:1531: UndefinedMetricWarning: Precision is ill-defined and being set to 0.0 in labels with no predicted samples. Use `zero_division` parameter to control this behavior.\n",
      "  _warn_prf(average, modifier, f\"{metric.capitalize()} is\", len(result))\n",
      "c:\\Users\\cypri\\OneDrive - CentraleSupelec\\Bureau\\Non_Linear_Systems\\scripts\\utils.py:53: FutureWarning: You are using `torch.load` with `weights_only=False` (the current default value), which uses the default pickle module implicitly. It is possible to construct malicious pickle data which will execute arbitrary code during unpickling (See https://github.com/pytorch/pytorch/blob/main/SECURITY.md#untrusted-models for more details). In a future release, the default value for `weights_only` will be flipped to `True`. This limits the functions that could be executed during unpickling. Arbitrary objects will no longer be allowed to be loaded via this mode unless they are explicitly allowlisted by the user via `torch.serialization.add_safe_globals`. We recommend you start setting `weights_only=True` for any use case where you don't have full control of the loaded file. Please open an issue on GitHub for any issues related to this experimental feature.\n",
      "  model.load_state_dict(torch.load(model_path))\n"
     ]
    },
    {
     "name": "stdout",
     "output_type": "stream",
     "text": [
      "Accuracy: 0.10\n",
      "Precision: 0.01\n",
      "Recall: 0.10\n",
      "F1-Score: 0.02\n",
      "Model e228b4be-804f-42ea-bd75-e064f6a15b18 :\n",
      "\n",
      "Final Loss: 0.3016733800553516\n",
      "Learning Rate: 4.58\n",
      "Optimizer: SGD\n",
      "Epochs: 1\n",
      "Accuracy: 0.97\n",
      "Precision: 0.97\n",
      "Recall: 0.97\n",
      "F1-Score: 0.97\n",
      "Model e46e8b1e-72ce-48eb-8ca1-fcd266120a10 :\n",
      "\n",
      "Final Loss: 2.2458396468843733\n",
      "Learning Rate: 5.31\n",
      "Optimizer: SGD\n",
      "Epochs: 1\n"
     ]
    },
    {
     "name": "stderr",
     "output_type": "stream",
     "text": [
      "c:\\Users\\cypri\\OneDrive - CentraleSupelec\\Bureau\\Non_Linear_Systems\\scripts\\utils.py:53: FutureWarning: You are using `torch.load` with `weights_only=False` (the current default value), which uses the default pickle module implicitly. It is possible to construct malicious pickle data which will execute arbitrary code during unpickling (See https://github.com/pytorch/pytorch/blob/main/SECURITY.md#untrusted-models for more details). In a future release, the default value for `weights_only` will be flipped to `True`. This limits the functions that could be executed during unpickling. Arbitrary objects will no longer be allowed to be loaded via this mode unless they are explicitly allowlisted by the user via `torch.serialization.add_safe_globals`. We recommend you start setting `weights_only=True` for any use case where you don't have full control of the loaded file. Please open an issue on GitHub for any issues related to this experimental feature.\n",
      "  model.load_state_dict(torch.load(model_path))\n",
      "c:\\Users\\cypri\\anaconda3\\envs\\Torch_Intro_ML\\Lib\\site-packages\\sklearn\\metrics\\_classification.py:1531: UndefinedMetricWarning: Precision is ill-defined and being set to 0.0 in labels with no predicted samples. Use `zero_division` parameter to control this behavior.\n",
      "  _warn_prf(average, modifier, f\"{metric.capitalize()} is\", len(result))\n",
      "c:\\Users\\cypri\\OneDrive - CentraleSupelec\\Bureau\\Non_Linear_Systems\\scripts\\utils.py:53: FutureWarning: You are using `torch.load` with `weights_only=False` (the current default value), which uses the default pickle module implicitly. It is possible to construct malicious pickle data which will execute arbitrary code during unpickling (See https://github.com/pytorch/pytorch/blob/main/SECURITY.md#untrusted-models for more details). In a future release, the default value for `weights_only` will be flipped to `True`. This limits the functions that could be executed during unpickling. Arbitrary objects will no longer be allowed to be loaded via this mode unless they are explicitly allowlisted by the user via `torch.serialization.add_safe_globals`. We recommend you start setting `weights_only=True` for any use case where you don't have full control of the loaded file. Please open an issue on GitHub for any issues related to this experimental feature.\n",
      "  model.load_state_dict(torch.load(model_path))\n"
     ]
    },
    {
     "name": "stdout",
     "output_type": "stream",
     "text": [
      "Accuracy: 0.10\n",
      "Precision: 0.01\n",
      "Recall: 0.10\n",
      "F1-Score: 0.02\n",
      "Model e49bc0da-d559-4a46-a514-381af92af8ca :\n",
      "\n",
      "Final Loss: 2.096637802083355\n",
      "Learning Rate: 5.46\n",
      "Optimizer: SGD\n",
      "Epochs: 1\n"
     ]
    },
    {
     "name": "stderr",
     "output_type": "stream",
     "text": [
      "c:\\Users\\cypri\\anaconda3\\envs\\Torch_Intro_ML\\Lib\\site-packages\\sklearn\\metrics\\_classification.py:1531: UndefinedMetricWarning: Precision is ill-defined and being set to 0.0 in labels with no predicted samples. Use `zero_division` parameter to control this behavior.\n",
      "  _warn_prf(average, modifier, f\"{metric.capitalize()} is\", len(result))\n",
      "c:\\Users\\cypri\\OneDrive - CentraleSupelec\\Bureau\\Non_Linear_Systems\\scripts\\utils.py:53: FutureWarning: You are using `torch.load` with `weights_only=False` (the current default value), which uses the default pickle module implicitly. It is possible to construct malicious pickle data which will execute arbitrary code during unpickling (See https://github.com/pytorch/pytorch/blob/main/SECURITY.md#untrusted-models for more details). In a future release, the default value for `weights_only` will be flipped to `True`. This limits the functions that could be executed during unpickling. Arbitrary objects will no longer be allowed to be loaded via this mode unless they are explicitly allowlisted by the user via `torch.serialization.add_safe_globals`. We recommend you start setting `weights_only=True` for any use case where you don't have full control of the loaded file. Please open an issue on GitHub for any issues related to this experimental feature.\n",
      "  model.load_state_dict(torch.load(model_path))\n"
     ]
    },
    {
     "name": "stdout",
     "output_type": "stream",
     "text": [
      "Accuracy: 0.10\n",
      "Precision: 0.01\n",
      "Recall: 0.10\n",
      "F1-Score: 0.02\n",
      "Model e643031e-f235-426a-8564-367c110e9246 :\n",
      "\n",
      "Final Loss: 1.8548921131884366\n",
      "Learning Rate: 4.96\n",
      "Optimizer: SGD\n",
      "Epochs: 1\n"
     ]
    },
    {
     "name": "stderr",
     "output_type": "stream",
     "text": [
      "c:\\Users\\cypri\\anaconda3\\envs\\Torch_Intro_ML\\Lib\\site-packages\\sklearn\\metrics\\_classification.py:1531: UndefinedMetricWarning: Precision is ill-defined and being set to 0.0 in labels with no predicted samples. Use `zero_division` parameter to control this behavior.\n",
      "  _warn_prf(average, modifier, f\"{metric.capitalize()} is\", len(result))\n",
      "c:\\Users\\cypri\\OneDrive - CentraleSupelec\\Bureau\\Non_Linear_Systems\\scripts\\utils.py:53: FutureWarning: You are using `torch.load` with `weights_only=False` (the current default value), which uses the default pickle module implicitly. It is possible to construct malicious pickle data which will execute arbitrary code during unpickling (See https://github.com/pytorch/pytorch/blob/main/SECURITY.md#untrusted-models for more details). In a future release, the default value for `weights_only` will be flipped to `True`. This limits the functions that could be executed during unpickling. Arbitrary objects will no longer be allowed to be loaded via this mode unless they are explicitly allowlisted by the user via `torch.serialization.add_safe_globals`. We recommend you start setting `weights_only=True` for any use case where you don't have full control of the loaded file. Please open an issue on GitHub for any issues related to this experimental feature.\n",
      "  model.load_state_dict(torch.load(model_path))\n"
     ]
    },
    {
     "name": "stdout",
     "output_type": "stream",
     "text": [
      "Accuracy: 0.10\n",
      "Precision: 0.11\n",
      "Recall: 0.10\n",
      "F1-Score: 0.03\n",
      "Model e7e7fd49-1d97-4a53-926f-c36da5ce4a2d :\n",
      "\n",
      "Final Loss: 0.34899583332556317\n",
      "Learning Rate: 4.66\n",
      "Optimizer: SGD\n",
      "Epochs: 1\n",
      "Accuracy: 0.92\n",
      "Precision: 0.93\n",
      "Recall: 0.92\n",
      "F1-Score: 0.92\n",
      "Model eacc3e1b-2afc-45aa-9ecb-36d0c0c98141 :\n",
      "\n",
      "Final Loss: 2.140343005342016\n",
      "Learning Rate: 5.28\n",
      "Optimizer: SGD\n",
      "Epochs: 2\n"
     ]
    },
    {
     "name": "stderr",
     "output_type": "stream",
     "text": [
      "c:\\Users\\cypri\\OneDrive - CentraleSupelec\\Bureau\\Non_Linear_Systems\\scripts\\utils.py:53: FutureWarning: You are using `torch.load` with `weights_only=False` (the current default value), which uses the default pickle module implicitly. It is possible to construct malicious pickle data which will execute arbitrary code during unpickling (See https://github.com/pytorch/pytorch/blob/main/SECURITY.md#untrusted-models for more details). In a future release, the default value for `weights_only` will be flipped to `True`. This limits the functions that could be executed during unpickling. Arbitrary objects will no longer be allowed to be loaded via this mode unless they are explicitly allowlisted by the user via `torch.serialization.add_safe_globals`. We recommend you start setting `weights_only=True` for any use case where you don't have full control of the loaded file. Please open an issue on GitHub for any issues related to this experimental feature.\n",
      "  model.load_state_dict(torch.load(model_path))\n",
      "c:\\Users\\cypri\\anaconda3\\envs\\Torch_Intro_ML\\Lib\\site-packages\\sklearn\\metrics\\_classification.py:1531: UndefinedMetricWarning: Precision is ill-defined and being set to 0.0 in labels with no predicted samples. Use `zero_division` parameter to control this behavior.\n",
      "  _warn_prf(average, modifier, f\"{metric.capitalize()} is\", len(result))\n",
      "c:\\Users\\cypri\\OneDrive - CentraleSupelec\\Bureau\\Non_Linear_Systems\\scripts\\utils.py:53: FutureWarning: You are using `torch.load` with `weights_only=False` (the current default value), which uses the default pickle module implicitly. It is possible to construct malicious pickle data which will execute arbitrary code during unpickling (See https://github.com/pytorch/pytorch/blob/main/SECURITY.md#untrusted-models for more details). In a future release, the default value for `weights_only` will be flipped to `True`. This limits the functions that could be executed during unpickling. Arbitrary objects will no longer be allowed to be loaded via this mode unless they are explicitly allowlisted by the user via `torch.serialization.add_safe_globals`. We recommend you start setting `weights_only=True` for any use case where you don't have full control of the loaded file. Please open an issue on GitHub for any issues related to this experimental feature.\n",
      "  model.load_state_dict(torch.load(model_path))\n"
     ]
    },
    {
     "name": "stdout",
     "output_type": "stream",
     "text": [
      "Accuracy: 0.10\n",
      "Precision: 0.01\n",
      "Recall: 0.10\n",
      "F1-Score: 0.02\n",
      "Model eb1b7ed3-f072-4629-8e31-7e5f1b6efa6f :\n",
      "\n",
      "Final Loss: 2.1836951988846507\n",
      "Learning Rate: 5.09\n",
      "Optimizer: SGD\n",
      "Epochs: 2\n"
     ]
    },
    {
     "name": "stderr",
     "output_type": "stream",
     "text": [
      "c:\\Users\\cypri\\anaconda3\\envs\\Torch_Intro_ML\\Lib\\site-packages\\sklearn\\metrics\\_classification.py:1531: UndefinedMetricWarning: Precision is ill-defined and being set to 0.0 in labels with no predicted samples. Use `zero_division` parameter to control this behavior.\n",
      "  _warn_prf(average, modifier, f\"{metric.capitalize()} is\", len(result))\n",
      "c:\\Users\\cypri\\OneDrive - CentraleSupelec\\Bureau\\Non_Linear_Systems\\scripts\\utils.py:53: FutureWarning: You are using `torch.load` with `weights_only=False` (the current default value), which uses the default pickle module implicitly. It is possible to construct malicious pickle data which will execute arbitrary code during unpickling (See https://github.com/pytorch/pytorch/blob/main/SECURITY.md#untrusted-models for more details). In a future release, the default value for `weights_only` will be flipped to `True`. This limits the functions that could be executed during unpickling. Arbitrary objects will no longer be allowed to be loaded via this mode unless they are explicitly allowlisted by the user via `torch.serialization.add_safe_globals`. We recommend you start setting `weights_only=True` for any use case where you don't have full control of the loaded file. Please open an issue on GitHub for any issues related to this experimental feature.\n",
      "  model.load_state_dict(torch.load(model_path))\n"
     ]
    },
    {
     "name": "stdout",
     "output_type": "stream",
     "text": [
      "Accuracy: 0.19\n",
      "Precision: 0.11\n",
      "Recall: 0.19\n",
      "F1-Score: 0.11\n",
      "Model ed0fd7fd-15e5-45b5-bc3c-3b477fb65843 :\n",
      "\n",
      "Final Loss: 0.3861150606942456\n",
      "Learning Rate: 4.8\n",
      "Optimizer: SGD\n",
      "Epochs: 1\n",
      "Accuracy: 0.98\n",
      "Precision: 0.98\n",
      "Recall: 0.98\n",
      "F1-Score: 0.98\n",
      "Model ede26001-c15d-44b5-a58a-7d63e5fb0f97 :\n",
      "\n",
      "Final Loss: 2.2155249328501445\n",
      "Learning Rate: 5.49\n",
      "Optimizer: SGD\n",
      "Epochs: 1\n"
     ]
    },
    {
     "name": "stderr",
     "output_type": "stream",
     "text": [
      "c:\\Users\\cypri\\OneDrive - CentraleSupelec\\Bureau\\Non_Linear_Systems\\scripts\\utils.py:53: FutureWarning: You are using `torch.load` with `weights_only=False` (the current default value), which uses the default pickle module implicitly. It is possible to construct malicious pickle data which will execute arbitrary code during unpickling (See https://github.com/pytorch/pytorch/blob/main/SECURITY.md#untrusted-models for more details). In a future release, the default value for `weights_only` will be flipped to `True`. This limits the functions that could be executed during unpickling. Arbitrary objects will no longer be allowed to be loaded via this mode unless they are explicitly allowlisted by the user via `torch.serialization.add_safe_globals`. We recommend you start setting `weights_only=True` for any use case where you don't have full control of the loaded file. Please open an issue on GitHub for any issues related to this experimental feature.\n",
      "  model.load_state_dict(torch.load(model_path))\n",
      "c:\\Users\\cypri\\anaconda3\\envs\\Torch_Intro_ML\\Lib\\site-packages\\sklearn\\metrics\\_classification.py:1531: UndefinedMetricWarning: Precision is ill-defined and being set to 0.0 in labels with no predicted samples. Use `zero_division` parameter to control this behavior.\n",
      "  _warn_prf(average, modifier, f\"{metric.capitalize()} is\", len(result))\n",
      "c:\\Users\\cypri\\OneDrive - CentraleSupelec\\Bureau\\Non_Linear_Systems\\scripts\\utils.py:53: FutureWarning: You are using `torch.load` with `weights_only=False` (the current default value), which uses the default pickle module implicitly. It is possible to construct malicious pickle data which will execute arbitrary code during unpickling (See https://github.com/pytorch/pytorch/blob/main/SECURITY.md#untrusted-models for more details). In a future release, the default value for `weights_only` will be flipped to `True`. This limits the functions that could be executed during unpickling. Arbitrary objects will no longer be allowed to be loaded via this mode unless they are explicitly allowlisted by the user via `torch.serialization.add_safe_globals`. We recommend you start setting `weights_only=True` for any use case where you don't have full control of the loaded file. Please open an issue on GitHub for any issues related to this experimental feature.\n",
      "  model.load_state_dict(torch.load(model_path))\n"
     ]
    },
    {
     "name": "stdout",
     "output_type": "stream",
     "text": [
      "Accuracy: 0.11\n",
      "Precision: 0.01\n",
      "Recall: 0.10\n",
      "F1-Score: 0.02\n",
      "Model ede57716-1034-4438-896a-241e0e97090c :\n",
      "\n",
      "Final Loss: 0.09703721872171951\n",
      "Learning Rate: 4.73\n",
      "Optimizer: SGD\n",
      "Epochs: 2\n",
      "Accuracy: 0.98\n",
      "Precision: 0.98\n",
      "Recall: 0.98\n",
      "F1-Score: 0.98\n",
      "Model edeb9f33-67e3-4045-a497-b5ada52b9acf :\n",
      "\n",
      "Final Loss: 2.2637811277720976\n",
      "Learning Rate: 5.38\n",
      "Optimizer: SGD\n",
      "Epochs: 2\n"
     ]
    },
    {
     "name": "stderr",
     "output_type": "stream",
     "text": [
      "c:\\Users\\cypri\\OneDrive - CentraleSupelec\\Bureau\\Non_Linear_Systems\\scripts\\utils.py:53: FutureWarning: You are using `torch.load` with `weights_only=False` (the current default value), which uses the default pickle module implicitly. It is possible to construct malicious pickle data which will execute arbitrary code during unpickling (See https://github.com/pytorch/pytorch/blob/main/SECURITY.md#untrusted-models for more details). In a future release, the default value for `weights_only` will be flipped to `True`. This limits the functions that could be executed during unpickling. Arbitrary objects will no longer be allowed to be loaded via this mode unless they are explicitly allowlisted by the user via `torch.serialization.add_safe_globals`. We recommend you start setting `weights_only=True` for any use case where you don't have full control of the loaded file. Please open an issue on GitHub for any issues related to this experimental feature.\n",
      "  model.load_state_dict(torch.load(model_path))\n",
      "c:\\Users\\cypri\\anaconda3\\envs\\Torch_Intro_ML\\Lib\\site-packages\\sklearn\\metrics\\_classification.py:1531: UndefinedMetricWarning: Precision is ill-defined and being set to 0.0 in labels with no predicted samples. Use `zero_division` parameter to control this behavior.\n",
      "  _warn_prf(average, modifier, f\"{metric.capitalize()} is\", len(result))\n",
      "c:\\Users\\cypri\\OneDrive - CentraleSupelec\\Bureau\\Non_Linear_Systems\\scripts\\utils.py:53: FutureWarning: You are using `torch.load` with `weights_only=False` (the current default value), which uses the default pickle module implicitly. It is possible to construct malicious pickle data which will execute arbitrary code during unpickling (See https://github.com/pytorch/pytorch/blob/main/SECURITY.md#untrusted-models for more details). In a future release, the default value for `weights_only` will be flipped to `True`. This limits the functions that could be executed during unpickling. Arbitrary objects will no longer be allowed to be loaded via this mode unless they are explicitly allowlisted by the user via `torch.serialization.add_safe_globals`. We recommend you start setting `weights_only=True` for any use case where you don't have full control of the loaded file. Please open an issue on GitHub for any issues related to this experimental feature.\n",
      "  model.load_state_dict(torch.load(model_path))\n"
     ]
    },
    {
     "name": "stdout",
     "output_type": "stream",
     "text": [
      "Accuracy: 0.10\n",
      "Precision: 0.01\n",
      "Recall: 0.10\n",
      "F1-Score: 0.02\n",
      "Model ef54718f-b941-4da2-95e3-ed8275013822 :\n",
      "\n",
      "Final Loss: 1.6708307707868915\n",
      "Learning Rate: 4.99\n",
      "Optimizer: SGD\n",
      "Epochs: 1\n"
     ]
    },
    {
     "name": "stderr",
     "output_type": "stream",
     "text": [
      "c:\\Users\\cypri\\anaconda3\\envs\\Torch_Intro_ML\\Lib\\site-packages\\sklearn\\metrics\\_classification.py:1531: UndefinedMetricWarning: Precision is ill-defined and being set to 0.0 in labels with no predicted samples. Use `zero_division` parameter to control this behavior.\n",
      "  _warn_prf(average, modifier, f\"{metric.capitalize()} is\", len(result))\n",
      "c:\\Users\\cypri\\OneDrive - CentraleSupelec\\Bureau\\Non_Linear_Systems\\scripts\\utils.py:53: FutureWarning: You are using `torch.load` with `weights_only=False` (the current default value), which uses the default pickle module implicitly. It is possible to construct malicious pickle data which will execute arbitrary code during unpickling (See https://github.com/pytorch/pytorch/blob/main/SECURITY.md#untrusted-models for more details). In a future release, the default value for `weights_only` will be flipped to `True`. This limits the functions that could be executed during unpickling. Arbitrary objects will no longer be allowed to be loaded via this mode unless they are explicitly allowlisted by the user via `torch.serialization.add_safe_globals`. We recommend you start setting `weights_only=True` for any use case where you don't have full control of the loaded file. Please open an issue on GitHub for any issues related to this experimental feature.\n",
      "  model.load_state_dict(torch.load(model_path))\n"
     ]
    },
    {
     "name": "stdout",
     "output_type": "stream",
     "text": [
      "Accuracy: 0.40\n",
      "Precision: 0.31\n",
      "Recall: 0.38\n",
      "F1-Score: 0.31\n",
      "Model efa0792d-f3fe-437e-99c3-07a9adf682ba :\n",
      "\n",
      "Final Loss: 2.096271461261107\n",
      "Learning Rate: 4.97\n",
      "Optimizer: SGD\n",
      "Epochs: 1\n"
     ]
    },
    {
     "name": "stderr",
     "output_type": "stream",
     "text": [
      "c:\\Users\\cypri\\anaconda3\\envs\\Torch_Intro_ML\\Lib\\site-packages\\sklearn\\metrics\\_classification.py:1531: UndefinedMetricWarning: Precision is ill-defined and being set to 0.0 in labels with no predicted samples. Use `zero_division` parameter to control this behavior.\n",
      "  _warn_prf(average, modifier, f\"{metric.capitalize()} is\", len(result))\n",
      "c:\\Users\\cypri\\OneDrive - CentraleSupelec\\Bureau\\Non_Linear_Systems\\scripts\\utils.py:53: FutureWarning: You are using `torch.load` with `weights_only=False` (the current default value), which uses the default pickle module implicitly. It is possible to construct malicious pickle data which will execute arbitrary code during unpickling (See https://github.com/pytorch/pytorch/blob/main/SECURITY.md#untrusted-models for more details). In a future release, the default value for `weights_only` will be flipped to `True`. This limits the functions that could be executed during unpickling. Arbitrary objects will no longer be allowed to be loaded via this mode unless they are explicitly allowlisted by the user via `torch.serialization.add_safe_globals`. We recommend you start setting `weights_only=True` for any use case where you don't have full control of the loaded file. Please open an issue on GitHub for any issues related to this experimental feature.\n",
      "  model.load_state_dict(torch.load(model_path))\n"
     ]
    },
    {
     "name": "stdout",
     "output_type": "stream",
     "text": [
      "Accuracy: 0.20\n",
      "Precision: 0.11\n",
      "Recall: 0.20\n",
      "F1-Score: 0.11\n",
      "Model f3bc6f5a-dd19-4feb-baa5-0879f56af039 :\n",
      "\n",
      "Final Loss: 2.1256385571412695\n",
      "Learning Rate: 5.28\n",
      "Optimizer: SGD\n",
      "Epochs: 1\n"
     ]
    },
    {
     "name": "stderr",
     "output_type": "stream",
     "text": [
      "c:\\Users\\cypri\\anaconda3\\envs\\Torch_Intro_ML\\Lib\\site-packages\\sklearn\\metrics\\_classification.py:1531: UndefinedMetricWarning: Precision is ill-defined and being set to 0.0 in labels with no predicted samples. Use `zero_division` parameter to control this behavior.\n",
      "  _warn_prf(average, modifier, f\"{metric.capitalize()} is\", len(result))\n",
      "c:\\Users\\cypri\\OneDrive - CentraleSupelec\\Bureau\\Non_Linear_Systems\\scripts\\utils.py:53: FutureWarning: You are using `torch.load` with `weights_only=False` (the current default value), which uses the default pickle module implicitly. It is possible to construct malicious pickle data which will execute arbitrary code during unpickling (See https://github.com/pytorch/pytorch/blob/main/SECURITY.md#untrusted-models for more details). In a future release, the default value for `weights_only` will be flipped to `True`. This limits the functions that could be executed during unpickling. Arbitrary objects will no longer be allowed to be loaded via this mode unless they are explicitly allowlisted by the user via `torch.serialization.add_safe_globals`. We recommend you start setting `weights_only=True` for any use case where you don't have full control of the loaded file. Please open an issue on GitHub for any issues related to this experimental feature.\n",
      "  model.load_state_dict(torch.load(model_path))\n"
     ]
    },
    {
     "name": "stdout",
     "output_type": "stream",
     "text": [
      "Accuracy: 0.10\n",
      "Precision: 0.14\n",
      "Recall: 0.10\n",
      "F1-Score: 0.02\n",
      "Model f5476637-8eac-4655-9798-37a7ef624eea :\n",
      "\n",
      "Final Loss: 2.003724981091424\n",
      "Learning Rate: 5.15\n",
      "Optimizer: SGD\n",
      "Epochs: 2\n"
     ]
    },
    {
     "name": "stderr",
     "output_type": "stream",
     "text": [
      "c:\\Users\\cypri\\anaconda3\\envs\\Torch_Intro_ML\\Lib\\site-packages\\sklearn\\metrics\\_classification.py:1531: UndefinedMetricWarning: Precision is ill-defined and being set to 0.0 in labels with no predicted samples. Use `zero_division` parameter to control this behavior.\n",
      "  _warn_prf(average, modifier, f\"{metric.capitalize()} is\", len(result))\n",
      "c:\\Users\\cypri\\OneDrive - CentraleSupelec\\Bureau\\Non_Linear_Systems\\scripts\\utils.py:53: FutureWarning: You are using `torch.load` with `weights_only=False` (the current default value), which uses the default pickle module implicitly. It is possible to construct malicious pickle data which will execute arbitrary code during unpickling (See https://github.com/pytorch/pytorch/blob/main/SECURITY.md#untrusted-models for more details). In a future release, the default value for `weights_only` will be flipped to `True`. This limits the functions that could be executed during unpickling. Arbitrary objects will no longer be allowed to be loaded via this mode unless they are explicitly allowlisted by the user via `torch.serialization.add_safe_globals`. We recommend you start setting `weights_only=True` for any use case where you don't have full control of the loaded file. Please open an issue on GitHub for any issues related to this experimental feature.\n",
      "  model.load_state_dict(torch.load(model_path))\n"
     ]
    },
    {
     "name": "stdout",
     "output_type": "stream",
     "text": [
      "Accuracy: 0.20\n",
      "Precision: 0.11\n",
      "Recall: 0.19\n",
      "F1-Score: 0.11\n",
      "Model f6eea63e-f126-4d21-9003-9fd6f318df4a :\n",
      "\n",
      "Final Loss: 1.9138079426690204\n",
      "Learning Rate: 5.02\n",
      "Optimizer: SGD\n",
      "Epochs: 2\n"
     ]
    },
    {
     "name": "stderr",
     "output_type": "stream",
     "text": [
      "c:\\Users\\cypri\\anaconda3\\envs\\Torch_Intro_ML\\Lib\\site-packages\\sklearn\\metrics\\_classification.py:1531: UndefinedMetricWarning: Precision is ill-defined and being set to 0.0 in labels with no predicted samples. Use `zero_division` parameter to control this behavior.\n",
      "  _warn_prf(average, modifier, f\"{metric.capitalize()} is\", len(result))\n",
      "c:\\Users\\cypri\\OneDrive - CentraleSupelec\\Bureau\\Non_Linear_Systems\\scripts\\utils.py:53: FutureWarning: You are using `torch.load` with `weights_only=False` (the current default value), which uses the default pickle module implicitly. It is possible to construct malicious pickle data which will execute arbitrary code during unpickling (See https://github.com/pytorch/pytorch/blob/main/SECURITY.md#untrusted-models for more details). In a future release, the default value for `weights_only` will be flipped to `True`. This limits the functions that could be executed during unpickling. Arbitrary objects will no longer be allowed to be loaded via this mode unless they are explicitly allowlisted by the user via `torch.serialization.add_safe_globals`. We recommend you start setting `weights_only=True` for any use case where you don't have full control of the loaded file. Please open an issue on GitHub for any issues related to this experimental feature.\n",
      "  model.load_state_dict(torch.load(model_path))\n"
     ]
    },
    {
     "name": "stdout",
     "output_type": "stream",
     "text": [
      "Accuracy: 0.10\n",
      "Precision: 0.01\n",
      "Recall: 0.10\n",
      "F1-Score: 0.02\n",
      "Model f72ddd09-703b-45fd-a82a-5ec1ce430c7e :\n",
      "\n",
      "Final Loss: 2.006208313045217\n",
      "Learning Rate: 4.9\n",
      "Optimizer: SGD\n",
      "Epochs: 2\n"
     ]
    },
    {
     "name": "stderr",
     "output_type": "stream",
     "text": [
      "c:\\Users\\cypri\\anaconda3\\envs\\Torch_Intro_ML\\Lib\\site-packages\\sklearn\\metrics\\_classification.py:1531: UndefinedMetricWarning: Precision is ill-defined and being set to 0.0 in labels with no predicted samples. Use `zero_division` parameter to control this behavior.\n",
      "  _warn_prf(average, modifier, f\"{metric.capitalize()} is\", len(result))\n",
      "c:\\Users\\cypri\\OneDrive - CentraleSupelec\\Bureau\\Non_Linear_Systems\\scripts\\utils.py:53: FutureWarning: You are using `torch.load` with `weights_only=False` (the current default value), which uses the default pickle module implicitly. It is possible to construct malicious pickle data which will execute arbitrary code during unpickling (See https://github.com/pytorch/pytorch/blob/main/SECURITY.md#untrusted-models for more details). In a future release, the default value for `weights_only` will be flipped to `True`. This limits the functions that could be executed during unpickling. Arbitrary objects will no longer be allowed to be loaded via this mode unless they are explicitly allowlisted by the user via `torch.serialization.add_safe_globals`. We recommend you start setting `weights_only=True` for any use case where you don't have full control of the loaded file. Please open an issue on GitHub for any issues related to this experimental feature.\n",
      "  model.load_state_dict(torch.load(model_path))\n"
     ]
    },
    {
     "name": "stdout",
     "output_type": "stream",
     "text": [
      "Accuracy: 0.21\n",
      "Precision: 0.12\n",
      "Recall: 0.20\n",
      "F1-Score: 0.12\n",
      "Model f8f76cee-4590-46d5-86d2-8e0fb317fcd7 :\n",
      "\n",
      "Final Loss: 2.3293706305753954\n",
      "Learning Rate: 5.47\n",
      "Optimizer: SGD\n",
      "Epochs: 2\n"
     ]
    },
    {
     "name": "stderr",
     "output_type": "stream",
     "text": [
      "c:\\Users\\cypri\\anaconda3\\envs\\Torch_Intro_ML\\Lib\\site-packages\\sklearn\\metrics\\_classification.py:1531: UndefinedMetricWarning: Precision is ill-defined and being set to 0.0 in labels with no predicted samples. Use `zero_division` parameter to control this behavior.\n",
      "  _warn_prf(average, modifier, f\"{metric.capitalize()} is\", len(result))\n",
      "c:\\Users\\cypri\\OneDrive - CentraleSupelec\\Bureau\\Non_Linear_Systems\\scripts\\utils.py:53: FutureWarning: You are using `torch.load` with `weights_only=False` (the current default value), which uses the default pickle module implicitly. It is possible to construct malicious pickle data which will execute arbitrary code during unpickling (See https://github.com/pytorch/pytorch/blob/main/SECURITY.md#untrusted-models for more details). In a future release, the default value for `weights_only` will be flipped to `True`. This limits the functions that could be executed during unpickling. Arbitrary objects will no longer be allowed to be loaded via this mode unless they are explicitly allowlisted by the user via `torch.serialization.add_safe_globals`. We recommend you start setting `weights_only=True` for any use case where you don't have full control of the loaded file. Please open an issue on GitHub for any issues related to this experimental feature.\n",
      "  model.load_state_dict(torch.load(model_path))\n"
     ]
    },
    {
     "name": "stdout",
     "output_type": "stream",
     "text": [
      "Accuracy: 0.10\n",
      "Precision: 0.01\n",
      "Recall: 0.10\n",
      "F1-Score: 0.02\n",
      "Model f953fdf0-7370-4c45-a81e-644919f2c59a :\n",
      "\n",
      "Final Loss: 1.5878069583159775\n",
      "Learning Rate: 4.98\n",
      "Optimizer: SGD\n",
      "Epochs: 1\n"
     ]
    },
    {
     "name": "stderr",
     "output_type": "stream",
     "text": [
      "c:\\Users\\cypri\\anaconda3\\envs\\Torch_Intro_ML\\Lib\\site-packages\\sklearn\\metrics\\_classification.py:1531: UndefinedMetricWarning: Precision is ill-defined and being set to 0.0 in labels with no predicted samples. Use `zero_division` parameter to control this behavior.\n",
      "  _warn_prf(average, modifier, f\"{metric.capitalize()} is\", len(result))\n",
      "c:\\Users\\cypri\\OneDrive - CentraleSupelec\\Bureau\\Non_Linear_Systems\\scripts\\utils.py:53: FutureWarning: You are using `torch.load` with `weights_only=False` (the current default value), which uses the default pickle module implicitly. It is possible to construct malicious pickle data which will execute arbitrary code during unpickling (See https://github.com/pytorch/pytorch/blob/main/SECURITY.md#untrusted-models for more details). In a future release, the default value for `weights_only` will be flipped to `True`. This limits the functions that could be executed during unpickling. Arbitrary objects will no longer be allowed to be loaded via this mode unless they are explicitly allowlisted by the user via `torch.serialization.add_safe_globals`. We recommend you start setting `weights_only=True` for any use case where you don't have full control of the loaded file. Please open an issue on GitHub for any issues related to this experimental feature.\n",
      "  model.load_state_dict(torch.load(model_path))\n"
     ]
    },
    {
     "name": "stdout",
     "output_type": "stream",
     "text": [
      "Accuracy: 0.19\n",
      "Precision: 0.23\n",
      "Recall: 0.20\n",
      "F1-Score: 0.12\n",
      "Model f98a7d95-290a-4020-95dd-6d5f089d523c :\n",
      "\n",
      "Final Loss: 1.9265892987947728\n",
      "Learning Rate: 5.5\n",
      "Optimizer: SGD\n",
      "Epochs: 1\n"
     ]
    },
    {
     "name": "stderr",
     "output_type": "stream",
     "text": [
      "c:\\Users\\cypri\\anaconda3\\envs\\Torch_Intro_ML\\Lib\\site-packages\\sklearn\\metrics\\_classification.py:1531: UndefinedMetricWarning: Precision is ill-defined and being set to 0.0 in labels with no predicted samples. Use `zero_division` parameter to control this behavior.\n",
      "  _warn_prf(average, modifier, f\"{metric.capitalize()} is\", len(result))\n",
      "c:\\Users\\cypri\\OneDrive - CentraleSupelec\\Bureau\\Non_Linear_Systems\\scripts\\utils.py:53: FutureWarning: You are using `torch.load` with `weights_only=False` (the current default value), which uses the default pickle module implicitly. It is possible to construct malicious pickle data which will execute arbitrary code during unpickling (See https://github.com/pytorch/pytorch/blob/main/SECURITY.md#untrusted-models for more details). In a future release, the default value for `weights_only` will be flipped to `True`. This limits the functions that could be executed during unpickling. Arbitrary objects will no longer be allowed to be loaded via this mode unless they are explicitly allowlisted by the user via `torch.serialization.add_safe_globals`. We recommend you start setting `weights_only=True` for any use case where you don't have full control of the loaded file. Please open an issue on GitHub for any issues related to this experimental feature.\n",
      "  model.load_state_dict(torch.load(model_path))\n"
     ]
    },
    {
     "name": "stdout",
     "output_type": "stream",
     "text": [
      "Accuracy: 0.30\n",
      "Precision: 0.18\n",
      "Recall: 0.31\n",
      "F1-Score: 0.20\n",
      "Model fc464854-d0ee-42c4-8aed-89bc2e77f92c :\n",
      "\n",
      "Final Loss: 1.9778211665814365\n",
      "Learning Rate: 5.22\n",
      "Optimizer: SGD\n",
      "Epochs: 2\n"
     ]
    },
    {
     "name": "stderr",
     "output_type": "stream",
     "text": [
      "c:\\Users\\cypri\\anaconda3\\envs\\Torch_Intro_ML\\Lib\\site-packages\\sklearn\\metrics\\_classification.py:1531: UndefinedMetricWarning: Precision is ill-defined and being set to 0.0 in labels with no predicted samples. Use `zero_division` parameter to control this behavior.\n",
      "  _warn_prf(average, modifier, f\"{metric.capitalize()} is\", len(result))\n",
      "c:\\Users\\cypri\\OneDrive - CentraleSupelec\\Bureau\\Non_Linear_Systems\\scripts\\utils.py:53: FutureWarning: You are using `torch.load` with `weights_only=False` (the current default value), which uses the default pickle module implicitly. It is possible to construct malicious pickle data which will execute arbitrary code during unpickling (See https://github.com/pytorch/pytorch/blob/main/SECURITY.md#untrusted-models for more details). In a future release, the default value for `weights_only` will be flipped to `True`. This limits the functions that could be executed during unpickling. Arbitrary objects will no longer be allowed to be loaded via this mode unless they are explicitly allowlisted by the user via `torch.serialization.add_safe_globals`. We recommend you start setting `weights_only=True` for any use case where you don't have full control of the loaded file. Please open an issue on GitHub for any issues related to this experimental feature.\n",
      "  model.load_state_dict(torch.load(model_path))\n"
     ]
    },
    {
     "name": "stdout",
     "output_type": "stream",
     "text": [
      "Accuracy: 0.19\n",
      "Precision: 0.11\n",
      "Recall: 0.20\n",
      "F1-Score: 0.12\n",
      "Model fc80bef4-d64f-4594-9198-48ad85477dcd :\n",
      "\n",
      "Final Loss: 2.0520744702455076\n",
      "Learning Rate: 5.04\n",
      "Optimizer: SGD\n",
      "Epochs: 1\n"
     ]
    },
    {
     "name": "stderr",
     "output_type": "stream",
     "text": [
      "c:\\Users\\cypri\\anaconda3\\envs\\Torch_Intro_ML\\Lib\\site-packages\\sklearn\\metrics\\_classification.py:1531: UndefinedMetricWarning: Precision is ill-defined and being set to 0.0 in labels with no predicted samples. Use `zero_division` parameter to control this behavior.\n",
      "  _warn_prf(average, modifier, f\"{metric.capitalize()} is\", len(result))\n",
      "c:\\Users\\cypri\\OneDrive - CentraleSupelec\\Bureau\\Non_Linear_Systems\\scripts\\utils.py:53: FutureWarning: You are using `torch.load` with `weights_only=False` (the current default value), which uses the default pickle module implicitly. It is possible to construct malicious pickle data which will execute arbitrary code during unpickling (See https://github.com/pytorch/pytorch/blob/main/SECURITY.md#untrusted-models for more details). In a future release, the default value for `weights_only` will be flipped to `True`. This limits the functions that could be executed during unpickling. Arbitrary objects will no longer be allowed to be loaded via this mode unless they are explicitly allowlisted by the user via `torch.serialization.add_safe_globals`. We recommend you start setting `weights_only=True` for any use case where you don't have full control of the loaded file. Please open an issue on GitHub for any issues related to this experimental feature.\n",
      "  model.load_state_dict(torch.load(model_path))\n"
     ]
    },
    {
     "name": "stdout",
     "output_type": "stream",
     "text": [
      "Accuracy: 0.09\n",
      "Precision: 0.01\n",
      "Recall: 0.10\n",
      "F1-Score: 0.02\n",
      "Model fc830981-7c8c-4c1f-8565-c25a61e3bcf2 :\n",
      "\n",
      "Final Loss: 0.2367014888232685\n",
      "Learning Rate: 4.61\n",
      "Optimizer: SGD\n",
      "Epochs: 1\n",
      "Accuracy: 0.86\n",
      "Precision: 0.90\n",
      "Recall: 0.87\n",
      "F1-Score: 0.83\n",
      "Model fcbf9851-13b5-4043-9181-dd9e51ba18c5 :\n",
      "\n",
      "Final Loss: 2.0215538958115364\n",
      "Learning Rate: 5.45\n",
      "Optimizer: SGD\n",
      "Epochs: 1\n"
     ]
    },
    {
     "name": "stderr",
     "output_type": "stream",
     "text": [
      "c:\\Users\\cypri\\OneDrive - CentraleSupelec\\Bureau\\Non_Linear_Systems\\scripts\\utils.py:53: FutureWarning: You are using `torch.load` with `weights_only=False` (the current default value), which uses the default pickle module implicitly. It is possible to construct malicious pickle data which will execute arbitrary code during unpickling (See https://github.com/pytorch/pytorch/blob/main/SECURITY.md#untrusted-models for more details). In a future release, the default value for `weights_only` will be flipped to `True`. This limits the functions that could be executed during unpickling. Arbitrary objects will no longer be allowed to be loaded via this mode unless they are explicitly allowlisted by the user via `torch.serialization.add_safe_globals`. We recommend you start setting `weights_only=True` for any use case where you don't have full control of the loaded file. Please open an issue on GitHub for any issues related to this experimental feature.\n",
      "  model.load_state_dict(torch.load(model_path))\n",
      "c:\\Users\\cypri\\anaconda3\\envs\\Torch_Intro_ML\\Lib\\site-packages\\sklearn\\metrics\\_classification.py:1531: UndefinedMetricWarning: Precision is ill-defined and being set to 0.0 in labels with no predicted samples. Use `zero_division` parameter to control this behavior.\n",
      "  _warn_prf(average, modifier, f\"{metric.capitalize()} is\", len(result))\n",
      "c:\\Users\\cypri\\OneDrive - CentraleSupelec\\Bureau\\Non_Linear_Systems\\scripts\\utils.py:53: FutureWarning: You are using `torch.load` with `weights_only=False` (the current default value), which uses the default pickle module implicitly. It is possible to construct malicious pickle data which will execute arbitrary code during unpickling (See https://github.com/pytorch/pytorch/blob/main/SECURITY.md#untrusted-models for more details). In a future release, the default value for `weights_only` will be flipped to `True`. This limits the functions that could be executed during unpickling. Arbitrary objects will no longer be allowed to be loaded via this mode unless they are explicitly allowlisted by the user via `torch.serialization.add_safe_globals`. We recommend you start setting `weights_only=True` for any use case where you don't have full control of the loaded file. Please open an issue on GitHub for any issues related to this experimental feature.\n",
      "  model.load_state_dict(torch.load(model_path))\n"
     ]
    },
    {
     "name": "stdout",
     "output_type": "stream",
     "text": [
      "Accuracy: 0.10\n",
      "Precision: 0.11\n",
      "Recall: 0.11\n",
      "F1-Score: 0.03\n",
      "Model fd75b41a-4097-4f80-a1c0-69e1f12ce263 :\n",
      "\n",
      "Final Loss: 2.0955936156356256\n",
      "Learning Rate: 5.45\n",
      "Optimizer: SGD\n",
      "Epochs: 2\n"
     ]
    },
    {
     "name": "stderr",
     "output_type": "stream",
     "text": [
      "c:\\Users\\cypri\\anaconda3\\envs\\Torch_Intro_ML\\Lib\\site-packages\\sklearn\\metrics\\_classification.py:1531: UndefinedMetricWarning: Precision is ill-defined and being set to 0.0 in labels with no predicted samples. Use `zero_division` parameter to control this behavior.\n",
      "  _warn_prf(average, modifier, f\"{metric.capitalize()} is\", len(result))\n",
      "c:\\Users\\cypri\\OneDrive - CentraleSupelec\\Bureau\\Non_Linear_Systems\\scripts\\utils.py:53: FutureWarning: You are using `torch.load` with `weights_only=False` (the current default value), which uses the default pickle module implicitly. It is possible to construct malicious pickle data which will execute arbitrary code during unpickling (See https://github.com/pytorch/pytorch/blob/main/SECURITY.md#untrusted-models for more details). In a future release, the default value for `weights_only` will be flipped to `True`. This limits the functions that could be executed during unpickling. Arbitrary objects will no longer be allowed to be loaded via this mode unless they are explicitly allowlisted by the user via `torch.serialization.add_safe_globals`. We recommend you start setting `weights_only=True` for any use case where you don't have full control of the loaded file. Please open an issue on GitHub for any issues related to this experimental feature.\n",
      "  model.load_state_dict(torch.load(model_path))\n"
     ]
    },
    {
     "name": "stdout",
     "output_type": "stream",
     "text": [
      "Accuracy: 0.10\n",
      "Precision: 0.01\n",
      "Recall: 0.10\n",
      "F1-Score: 0.02\n",
      "Model fd86cadc-a704-45bc-b5b7-40b631e4ba20 :\n",
      "\n",
      "Final Loss: 2.009357518224574\n",
      "Learning Rate: 5.44\n",
      "Optimizer: SGD\n",
      "Epochs: 2\n"
     ]
    },
    {
     "name": "stderr",
     "output_type": "stream",
     "text": [
      "c:\\Users\\cypri\\anaconda3\\envs\\Torch_Intro_ML\\Lib\\site-packages\\sklearn\\metrics\\_classification.py:1531: UndefinedMetricWarning: Precision is ill-defined and being set to 0.0 in labels with no predicted samples. Use `zero_division` parameter to control this behavior.\n",
      "  _warn_prf(average, modifier, f\"{metric.capitalize()} is\", len(result))\n",
      "c:\\Users\\cypri\\OneDrive - CentraleSupelec\\Bureau\\Non_Linear_Systems\\scripts\\utils.py:53: FutureWarning: You are using `torch.load` with `weights_only=False` (the current default value), which uses the default pickle module implicitly. It is possible to construct malicious pickle data which will execute arbitrary code during unpickling (See https://github.com/pytorch/pytorch/blob/main/SECURITY.md#untrusted-models for more details). In a future release, the default value for `weights_only` will be flipped to `True`. This limits the functions that could be executed during unpickling. Arbitrary objects will no longer be allowed to be loaded via this mode unless they are explicitly allowlisted by the user via `torch.serialization.add_safe_globals`. We recommend you start setting `weights_only=True` for any use case where you don't have full control of the loaded file. Please open an issue on GitHub for any issues related to this experimental feature.\n",
      "  model.load_state_dict(torch.load(model_path))\n"
     ]
    },
    {
     "name": "stdout",
     "output_type": "stream",
     "text": [
      "Accuracy: 0.20\n",
      "Precision: 0.14\n",
      "Recall: 0.20\n",
      "F1-Score: 0.12\n",
      "Model fd910e44-d3d2-4d5c-bd29-15a2e35c3831 :\n",
      "\n",
      "Final Loss: 1.858538196920586\n",
      "Learning Rate: 5.34\n",
      "Optimizer: SGD\n",
      "Epochs: 1\n"
     ]
    },
    {
     "name": "stderr",
     "output_type": "stream",
     "text": [
      "c:\\Users\\cypri\\anaconda3\\envs\\Torch_Intro_ML\\Lib\\site-packages\\sklearn\\metrics\\_classification.py:1531: UndefinedMetricWarning: Precision is ill-defined and being set to 0.0 in labels with no predicted samples. Use `zero_division` parameter to control this behavior.\n",
      "  _warn_prf(average, modifier, f\"{metric.capitalize()} is\", len(result))\n",
      "c:\\Users\\cypri\\OneDrive - CentraleSupelec\\Bureau\\Non_Linear_Systems\\scripts\\utils.py:53: FutureWarning: You are using `torch.load` with `weights_only=False` (the current default value), which uses the default pickle module implicitly. It is possible to construct malicious pickle data which will execute arbitrary code during unpickling (See https://github.com/pytorch/pytorch/blob/main/SECURITY.md#untrusted-models for more details). In a future release, the default value for `weights_only` will be flipped to `True`. This limits the functions that could be executed during unpickling. Arbitrary objects will no longer be allowed to be loaded via this mode unless they are explicitly allowlisted by the user via `torch.serialization.add_safe_globals`. We recommend you start setting `weights_only=True` for any use case where you don't have full control of the loaded file. Please open an issue on GitHub for any issues related to this experimental feature.\n",
      "  model.load_state_dict(torch.load(model_path))\n"
     ]
    },
    {
     "name": "stdout",
     "output_type": "stream",
     "text": [
      "Accuracy: 0.20\n",
      "Precision: 0.11\n",
      "Recall: 0.20\n",
      "F1-Score: 0.12\n",
      "Model fe042a81-38d8-4a18-8e64-3cdb8b0a87fc :\n",
      "\n",
      "Final Loss: 0.34006404092034964\n",
      "Learning Rate: 4.72\n",
      "Optimizer: SGD\n",
      "Epochs: 1\n",
      "Accuracy: 0.96\n",
      "Precision: 0.96\n",
      "Recall: 0.96\n",
      "F1-Score: 0.96\n",
      "Model fe3fdc73-81f7-4fb8-b1bb-84a8b713aa1d :\n",
      "\n",
      "Final Loss: 2.1399576160063876\n",
      "Learning Rate: 5.4\n",
      "Optimizer: SGD\n",
      "Epochs: 1\n"
     ]
    },
    {
     "name": "stderr",
     "output_type": "stream",
     "text": [
      "c:\\Users\\cypri\\OneDrive - CentraleSupelec\\Bureau\\Non_Linear_Systems\\scripts\\utils.py:53: FutureWarning: You are using `torch.load` with `weights_only=False` (the current default value), which uses the default pickle module implicitly. It is possible to construct malicious pickle data which will execute arbitrary code during unpickling (See https://github.com/pytorch/pytorch/blob/main/SECURITY.md#untrusted-models for more details). In a future release, the default value for `weights_only` will be flipped to `True`. This limits the functions that could be executed during unpickling. Arbitrary objects will no longer be allowed to be loaded via this mode unless they are explicitly allowlisted by the user via `torch.serialization.add_safe_globals`. We recommend you start setting `weights_only=True` for any use case where you don't have full control of the loaded file. Please open an issue on GitHub for any issues related to this experimental feature.\n",
      "  model.load_state_dict(torch.load(model_path))\n",
      "c:\\Users\\cypri\\anaconda3\\envs\\Torch_Intro_ML\\Lib\\site-packages\\sklearn\\metrics\\_classification.py:1531: UndefinedMetricWarning: Precision is ill-defined and being set to 0.0 in labels with no predicted samples. Use `zero_division` parameter to control this behavior.\n",
      "  _warn_prf(average, modifier, f\"{metric.capitalize()} is\", len(result))\n",
      "c:\\Users\\cypri\\OneDrive - CentraleSupelec\\Bureau\\Non_Linear_Systems\\scripts\\utils.py:53: FutureWarning: You are using `torch.load` with `weights_only=False` (the current default value), which uses the default pickle module implicitly. It is possible to construct malicious pickle data which will execute arbitrary code during unpickling (See https://github.com/pytorch/pytorch/blob/main/SECURITY.md#untrusted-models for more details). In a future release, the default value for `weights_only` will be flipped to `True`. This limits the functions that could be executed during unpickling. Arbitrary objects will no longer be allowed to be loaded via this mode unless they are explicitly allowlisted by the user via `torch.serialization.add_safe_globals`. We recommend you start setting `weights_only=True` for any use case where you don't have full control of the loaded file. Please open an issue on GitHub for any issues related to this experimental feature.\n",
      "  model.load_state_dict(torch.load(model_path))\n"
     ]
    },
    {
     "name": "stdout",
     "output_type": "stream",
     "text": [
      "Accuracy: 0.31\n",
      "Precision: 0.19\n",
      "Recall: 0.29\n",
      "F1-Score: 0.21\n",
      "Model febd0af1-a3f8-4b4f-a9a3-48586f32d7f5 :\n",
      "\n",
      "Final Loss: 2.324412568037444\n",
      "Learning Rate: 4.91\n",
      "Optimizer: SGD\n",
      "Epochs: 2\n",
      "Accuracy: 0.11\n",
      "Precision: 0.01\n",
      "Recall: 0.10\n",
      "F1-Score: 0.02\n"
     ]
    },
    {
     "name": "stderr",
     "output_type": "stream",
     "text": [
      "c:\\Users\\cypri\\anaconda3\\envs\\Torch_Intro_ML\\Lib\\site-packages\\sklearn\\metrics\\_classification.py:1531: UndefinedMetricWarning: Precision is ill-defined and being set to 0.0 in labels with no predicted samples. Use `zero_division` parameter to control this behavior.\n",
      "  _warn_prf(average, modifier, f\"{metric.capitalize()} is\", len(result))\n"
     ]
    }
   ],
   "source": [
    "import os\n",
    "from scripts import evaluate_model_v2, load_metadata, add_metadata, check_if_metadata_has_results\n",
    "import torch\n",
    "import json \n",
    "\n",
    "from scripts import load_model\n",
    "from models import LeNet5\n",
    "\n",
    "model_class = LeNet5\n",
    "\n",
    "device = torch.device(\"cuda\" if torch.cuda.is_available() else \"cpu\")\n",
    "\n",
    "folder_path = \"models/saved_models\"\n",
    "folder_path_meta = \"models/saved_models_metadata\"\n",
    "\n",
    "file_names = os.listdir(folder_path)\n",
    "\n",
    "metadata_file_names = os.listdir(folder_path_meta)\n",
    "\n",
    "print(\"Files in the folder:\")\n",
    "for file_name in file_names:\n",
    "    model = load_model(os.path.join(folder_path, file_name), model_class)\n",
    "\n",
    "    uiid = find_uuid(file_name)\n",
    "    target_file = f\"metadata_{uiid}.json\"\n",
    "    metadata_path = os.path.join(folder_path_meta, target_file)\n",
    "    metadata = load_metadata(metadata_path)\n",
    "\n",
    "    final_loss = metadata.get(\"final_loss\", \"N/A\")\n",
    "    learning_rate = metadata.get(\"learning_rate\", \"N/A\")\n",
    "    optimizer = metadata.get(\"optimizer\", \"N/A\")\n",
    "    epochs = metadata.get(\"epochs\", \"N/A\")\n",
    "\n",
    "    print(f\"Model {uiid} :\\n\")\n",
    "    print(f\"Final Loss: {final_loss}\")\n",
    "    print(f\"Learning Rate: {learning_rate}\")\n",
    "    print(f\"Optimizer: {optimizer}\")\n",
    "    print(f\"Epochs: {epochs}\")\n",
    "\n",
    "    if check_if_metadata_has_results(metadata_path):\n",
    "        pass \n",
    "\n",
    "    else :\n",
    "        results = evaluate_model_v2(model, test_loader, device)\n",
    "        metadata = add_metadata(metadata_path, results)"
   ]
  },
  {
   "cell_type": "code",
   "execution_count": null,
   "metadata": {},
   "outputs": [],
   "source": []
  },
  {
   "cell_type": "code",
   "execution_count": null,
   "metadata": {},
   "outputs": [],
   "source": []
  },
  {
   "cell_type": "code",
   "execution_count": null,
   "metadata": {},
   "outputs": [],
   "source": [
    "import os\n",
    "from scripts import (\n",
    "    evaluate_model_v2,\n",
    "    load_metadata,\n",
    "    add_metadata,\n",
    "    check_if_metadata_has_results,\n",
    ")\n",
    "import torch\n",
    "import json\n",
    "\n",
    "from scripts import load_model\n",
    "from models import LeNet5\n",
    "\n",
    "model_class = LeNet5\n",
    "\n",
    "device = torch.device(\"cuda\" if torch.cuda.is_available() else \"cpu\")\n",
    "\n",
    "folder_path = \"models/saved_models\"\n",
    "folder_path_meta = \"models/saved_models_metadata\"\n",
    "\n",
    "file_names = os.listdir(folder_path)\n",
    "\n",
    "metadata_file_names = os.listdir(folder_path_meta)\n",
    "\n",
    "print(\"Files in the folder:\")\n",
    "for file_name in file_names:\n",
    "    model = load_model(os.path.join(folder_path, file_name), model_class)\n",
    "\n",
    "    uiid = find_uuid(file_name)\n",
    "    target_file = f\"metadata_{uiid}.json\"\n",
    "    metadata_path = os.path.join(folder_path_meta, target_file)\n",
    "    metadata = load_metadata(metadata_path)\n",
    "\n",
    "    final_loss = metadata.get(\"final_loss\", \"N/A\")\n",
    "    learning_rate = metadata.get(\"learning_rate\", \"N/A\")\n",
    "    optimizer = metadata.get(\"optimizer\", \"N/A\")\n",
    "    epochs = metadata.get(\"epochs\", \"N/A\")\n",
    "\n",
    "    print(f\"Model {uiid} :\\n\")\n",
    "    print(f\"Final Loss: {final_loss}\")\n",
    "    print(f\"Learning Rate: {learning_rate}\")\n",
    "    print(f\"Optimizer: {optimizer}\")\n",
    "    print(f\"Epochs: {epochs}\")\n",
    "\n",
    "    if check_if_metadata_has_results(metadata_path):\n",
    "        pass\n",
    "\n",
    "    else:\n",
    "        results = evaluate_model_v2(model, test_loader, device)\n",
    "        metadata = add_metadata(metadata_path, results)"
   ]
  }
 ],
 "metadata": {
  "kernelspec": {
   "display_name": "Torch_Intro_ML",
   "language": "python",
   "name": "python3"
  },
  "language_info": {
   "codemirror_mode": {
    "name": "ipython",
    "version": 3
   },
   "file_extension": ".py",
   "mimetype": "text/x-python",
   "name": "python",
   "nbconvert_exporter": "python",
   "pygments_lexer": "ipython3",
   "version": "3.12.7"
  }
 },
 "nbformat": 4,
 "nbformat_minor": 2
}
