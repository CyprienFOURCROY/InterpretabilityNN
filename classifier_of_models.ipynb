{
 "cells": [
  {
   "cell_type": "markdown",
   "metadata": {},
   "source": [
    "### Build the dataset for classifier of classifiers"
   ]
  },
  {
   "cell_type": "code",
   "execution_count": 12,
   "metadata": {},
   "outputs": [
    {
     "name": "stdout",
     "output_type": "stream",
     "text": [
      "models/saved_models\\model_02c4e111-5995-45df-8d6a-165cc07ed7d0.pth\n"
     ]
    },
    {
     "name": "stderr",
     "output_type": "stream",
     "text": [
      "c:\\Users\\cypri\\OneDrive - CentraleSupelec\\Bureau\\Non_Linear_Systems\\scripts\\utils.py:53: FutureWarning: You are using `torch.load` with `weights_only=False` (the current default value), which uses the default pickle module implicitly. It is possible to construct malicious pickle data which will execute arbitrary code during unpickling (See https://github.com/pytorch/pytorch/blob/main/SECURITY.md#untrusted-models for more details). In a future release, the default value for `weights_only` will be flipped to `True`. This limits the functions that could be executed during unpickling. Arbitrary objects will no longer be allowed to be loaded via this mode unless they are explicitly allowlisted by the user via `torch.serialization.add_safe_globals`. We recommend you start setting `weights_only=True` for any use case where you don't have full control of the loaded file. Please open an issue on GitHub for any issues related to this experimental feature.\n",
      "  model.load_state_dict(torch.load(model_path))\n"
     ]
    }
   ],
   "source": [
    "import matplotlib.pyplot as plt\n",
    "import os\n",
    "from models import LeNet5 \n",
    "\n",
    "from scripts import load_metadata, load_model, evaluate_model\n",
    "\n",
    "model_class = LeNet5\n",
    "\n",
    "\n",
    "models_folder = \"models/saved_models\"\n",
    "\n",
    "\n",
    "models_folder_files = os.listdir(models_folder)\n",
    "accuracy_list = []\n",
    "\n",
    "compteur = 0\n",
    "for models in models_folder_files:\n",
    "    m = os.path.join( models_folder, models)\n",
    "    print(m)\n",
    "\n",
    "    model = load_model(m, model_class)\n",
    "\n",
    "    compteur += 1\n",
    "\n",
    "    if compteur == 1:\n",
    "        break"
   ]
  },
  {
   "cell_type": "code",
   "execution_count": 7,
   "metadata": {},
   "outputs": [],
   "source": [
    "\n",
    "fc3_weights = model.fc3.weight.data.tolist()"
   ]
  },
  {
   "cell_type": "code",
   "execution_count": 10,
   "metadata": {},
   "outputs": [
    {
     "data": {
      "text/plain": [
       "[-0.9798188805580139,\n",
       " -0.5808926224708557,\n",
       " -1.3734532594680786,\n",
       " -0.8711899518966675,\n",
       " -0.3769783079624176,\n",
       " -1.280401587486267,\n",
       " -0.9066067934036255,\n",
       " -0.6652551889419556,\n",
       " -1.2736999988555908,\n",
       " -0.6156110763549805,\n",
       " -0.8594830632209778,\n",
       " -0.5099238753318787,\n",
       " -0.3241213858127594,\n",
       " -1.188486933708191,\n",
       " -1.1798397302627563,\n",
       " -0.9592795968055725,\n",
       " -0.7533946633338928,\n",
       " -0.8398412466049194,\n",
       " -1.107359766960144,\n",
       " -0.45619070529937744,\n",
       " -0.6852005124092102,\n",
       " -1.0519565343856812,\n",
       " -1.216428279876709,\n",
       " -0.6129115223884583,\n",
       " -1.1399154663085938,\n",
       " -2.0167531967163086,\n",
       " -0.8820861577987671,\n",
       " -1.0190274715423584,\n",
       " -0.917317807674408,\n",
       " -1.225805401802063,\n",
       " -0.7744067907333374,\n",
       " -1.270325779914856,\n",
       " -1.0625067949295044,\n",
       " -1.3668638467788696,\n",
       " -0.766871988773346,\n",
       " -1.0832451581954956,\n",
       " -0.7314940094947815,\n",
       " -0.9462666511535645,\n",
       " -0.5128911137580872,\n",
       " -1.5291597843170166,\n",
       " -1.4422358274459839,\n",
       " -1.6025588512420654,\n",
       " -1.0602425336837769,\n",
       " -0.9227118492126465,\n",
       " -0.9073832035064697,\n",
       " -0.5513935089111328,\n",
       " -1.3089178800582886,\n",
       " -0.6560245752334595,\n",
       " -1.382782220840454,\n",
       " -1.2339586019515991,\n",
       " -1.5733550786972046,\n",
       " -0.8726692199707031,\n",
       " -0.8017957210540771,\n",
       " -0.7347282767295837,\n",
       " -0.873438835144043,\n",
       " -1.344455361366272,\n",
       " -0.772206723690033,\n",
       " -0.8193954229354858,\n",
       " -1.882240653038025,\n",
       " -1.0951915979385376,\n",
       " -0.9292136430740356,\n",
       " -1.049020767211914,\n",
       " -1.299598217010498,\n",
       " -1.6034226417541504,\n",
       " -1.5343437194824219,\n",
       " -0.6912904381752014,\n",
       " -1.4287313222885132,\n",
       " -0.9357330799102783,\n",
       " -0.7768211364746094,\n",
       " -1.083876132965088,\n",
       " -0.8985885381698608,\n",
       " -1.1460275650024414,\n",
       " -1.361232876777649,\n",
       " -0.6519305109977722,\n",
       " -0.9708961248397827,\n",
       " -0.6474865674972534,\n",
       " -1.254857063293457,\n",
       " -1.3322293758392334,\n",
       " -0.46338990330696106,\n",
       " -0.7431313395500183,\n",
       " -0.8779781460762024,\n",
       " -0.624934732913971,\n",
       " -0.8801566958427429,\n",
       " -0.9139024615287781]"
      ]
     },
     "execution_count": 10,
     "metadata": {},
     "output_type": "execute_result"
    }
   ],
   "source": [
    "fc3_weights[0]\n"
   ]
  },
  {
   "cell_type": "code",
   "execution_count": null,
   "metadata": {},
   "outputs": [],
   "source": []
  }
 ],
 "metadata": {
  "kernelspec": {
   "display_name": "Torch_Intro_ML",
   "language": "python",
   "name": "python3"
  },
  "language_info": {
   "codemirror_mode": {
    "name": "ipython",
    "version": 3
   },
   "file_extension": ".py",
   "mimetype": "text/x-python",
   "name": "python",
   "nbconvert_exporter": "python",
   "pygments_lexer": "ipython3",
   "version": "3.12.7"
  }
 },
 "nbformat": 4,
 "nbformat_minor": 2
}
